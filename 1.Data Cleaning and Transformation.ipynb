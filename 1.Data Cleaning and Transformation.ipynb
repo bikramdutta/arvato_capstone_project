{
 "cells": [
  {
   "cell_type": "markdown",
   "metadata": {},
   "source": [
    "# Data Cleaning and Transformation"
   ]
  },
  {
   "cell_type": "markdown",
   "metadata": {},
   "source": [
    "In this notebook we analyze the demographics data for the general population of Germany dataset **Udacity_AZDIAS_052018.csv**"
   ]
  },
  {
   "cell_type": "markdown",
   "metadata": {},
   "source": [
    "## Import libraries"
   ]
  },
  {
   "cell_type": "code",
   "execution_count": 1,
   "metadata": {
    "ExecuteTime": {
     "end_time": "2019-08-11T20:37:14.705583Z",
     "start_time": "2019-08-11T20:37:13.516877Z"
    }
   },
   "outputs": [],
   "source": [
    "import numpy as np\n",
    "import pandas as pd\n",
    "\n",
    "from joblib import dump, load\n",
    "\n",
    "import missingno as msno\n",
    "\n",
    "from time import time\n",
    "from collections import OrderedDict, Counter\n",
    "\n",
    "from tqdm.auto import tqdm, trange\n",
    "tqdm.pandas()\n",
    "\n",
    "from utils.transformers import *\n",
    "from utils.functions import *\n",
    "\n",
    "from sklearn.base import BaseEstimator, TransformerMixin\n",
    "from sklearn.preprocessing import OneHotEncoder, StandardScaler\n",
    "from sklearn.impute import SimpleImputer\n",
    "from sklearn.pipeline import FeatureUnion, Pipeline \n",
    "from sklearn.compose import ColumnTransformer\n",
    "\n",
    "import matplotlib.pyplot as plt\n",
    "import seaborn as sns\n",
    "sns.set(style=\"darkgrid\")\n",
    "\n",
    "# magic word for producing visualizations in notebook\n",
    "%matplotlib inline"
   ]
  },
  {
   "cell_type": "markdown",
   "metadata": {},
   "source": [
    "## Load the Data"
   ]
  },
  {
   "cell_type": "markdown",
   "metadata": {},
   "source": [
    "### General Population"
   ]
  },
  {
   "cell_type": "code",
   "execution_count": 2,
   "metadata": {
    "ExecuteTime": {
     "end_time": "2019-08-11T20:38:04.908807Z",
     "start_time": "2019-08-11T20:37:17.009472Z"
    }
   },
   "outputs": [
    {
     "data": {
      "text/html": [
       "<div>\n",
       "<style scoped>\n",
       "    .dataframe tbody tr th:only-of-type {\n",
       "        vertical-align: middle;\n",
       "    }\n",
       "\n",
       "    .dataframe tbody tr th {\n",
       "        vertical-align: top;\n",
       "    }\n",
       "\n",
       "    .dataframe thead th {\n",
       "        text-align: right;\n",
       "    }\n",
       "</style>\n",
       "<table border=\"1\" class=\"dataframe\">\n",
       "  <thead>\n",
       "    <tr style=\"text-align: right;\">\n",
       "      <th></th>\n",
       "      <th>LNR</th>\n",
       "      <th>AGER_TYP</th>\n",
       "      <th>AKT_DAT_KL</th>\n",
       "      <th>ALTER_HH</th>\n",
       "      <th>ALTER_KIND1</th>\n",
       "      <th>ALTER_KIND2</th>\n",
       "      <th>ALTER_KIND3</th>\n",
       "      <th>ALTER_KIND4</th>\n",
       "      <th>ALTERSKATEGORIE_FEIN</th>\n",
       "      <th>ANZ_HAUSHALTE_AKTIV</th>\n",
       "      <th>...</th>\n",
       "      <th>VHN</th>\n",
       "      <th>VK_DHT4A</th>\n",
       "      <th>VK_DISTANZ</th>\n",
       "      <th>VK_ZG11</th>\n",
       "      <th>W_KEIT_KIND_HH</th>\n",
       "      <th>WOHNDAUER_2008</th>\n",
       "      <th>WOHNLAGE</th>\n",
       "      <th>ZABEOTYP</th>\n",
       "      <th>ANREDE_KZ</th>\n",
       "      <th>ALTERSKATEGORIE_GROB</th>\n",
       "    </tr>\n",
       "  </thead>\n",
       "  <tbody>\n",
       "    <tr>\n",
       "      <th>0</th>\n",
       "      <td>910215</td>\n",
       "      <td>-1</td>\n",
       "      <td>NaN</td>\n",
       "      <td>NaN</td>\n",
       "      <td>NaN</td>\n",
       "      <td>NaN</td>\n",
       "      <td>NaN</td>\n",
       "      <td>NaN</td>\n",
       "      <td>NaN</td>\n",
       "      <td>NaN</td>\n",
       "      <td>...</td>\n",
       "      <td>NaN</td>\n",
       "      <td>NaN</td>\n",
       "      <td>NaN</td>\n",
       "      <td>NaN</td>\n",
       "      <td>NaN</td>\n",
       "      <td>NaN</td>\n",
       "      <td>NaN</td>\n",
       "      <td>3</td>\n",
       "      <td>1</td>\n",
       "      <td>2</td>\n",
       "    </tr>\n",
       "    <tr>\n",
       "      <th>1</th>\n",
       "      <td>910220</td>\n",
       "      <td>-1</td>\n",
       "      <td>9.0</td>\n",
       "      <td>0.0</td>\n",
       "      <td>NaN</td>\n",
       "      <td>NaN</td>\n",
       "      <td>NaN</td>\n",
       "      <td>NaN</td>\n",
       "      <td>21.0</td>\n",
       "      <td>11.0</td>\n",
       "      <td>...</td>\n",
       "      <td>4.0</td>\n",
       "      <td>8.0</td>\n",
       "      <td>11.0</td>\n",
       "      <td>10.0</td>\n",
       "      <td>3.0</td>\n",
       "      <td>9.0</td>\n",
       "      <td>4.0</td>\n",
       "      <td>5</td>\n",
       "      <td>2</td>\n",
       "      <td>1</td>\n",
       "    </tr>\n",
       "    <tr>\n",
       "      <th>2</th>\n",
       "      <td>910225</td>\n",
       "      <td>-1</td>\n",
       "      <td>9.0</td>\n",
       "      <td>17.0</td>\n",
       "      <td>NaN</td>\n",
       "      <td>NaN</td>\n",
       "      <td>NaN</td>\n",
       "      <td>NaN</td>\n",
       "      <td>17.0</td>\n",
       "      <td>10.0</td>\n",
       "      <td>...</td>\n",
       "      <td>2.0</td>\n",
       "      <td>9.0</td>\n",
       "      <td>9.0</td>\n",
       "      <td>6.0</td>\n",
       "      <td>3.0</td>\n",
       "      <td>9.0</td>\n",
       "      <td>2.0</td>\n",
       "      <td>5</td>\n",
       "      <td>2</td>\n",
       "      <td>3</td>\n",
       "    </tr>\n",
       "    <tr>\n",
       "      <th>3</th>\n",
       "      <td>910226</td>\n",
       "      <td>2</td>\n",
       "      <td>1.0</td>\n",
       "      <td>13.0</td>\n",
       "      <td>NaN</td>\n",
       "      <td>NaN</td>\n",
       "      <td>NaN</td>\n",
       "      <td>NaN</td>\n",
       "      <td>13.0</td>\n",
       "      <td>1.0</td>\n",
       "      <td>...</td>\n",
       "      <td>0.0</td>\n",
       "      <td>7.0</td>\n",
       "      <td>10.0</td>\n",
       "      <td>11.0</td>\n",
       "      <td>NaN</td>\n",
       "      <td>9.0</td>\n",
       "      <td>7.0</td>\n",
       "      <td>3</td>\n",
       "      <td>2</td>\n",
       "      <td>4</td>\n",
       "    </tr>\n",
       "    <tr>\n",
       "      <th>4</th>\n",
       "      <td>910241</td>\n",
       "      <td>-1</td>\n",
       "      <td>1.0</td>\n",
       "      <td>20.0</td>\n",
       "      <td>NaN</td>\n",
       "      <td>NaN</td>\n",
       "      <td>NaN</td>\n",
       "      <td>NaN</td>\n",
       "      <td>14.0</td>\n",
       "      <td>3.0</td>\n",
       "      <td>...</td>\n",
       "      <td>2.0</td>\n",
       "      <td>3.0</td>\n",
       "      <td>5.0</td>\n",
       "      <td>4.0</td>\n",
       "      <td>2.0</td>\n",
       "      <td>9.0</td>\n",
       "      <td>3.0</td>\n",
       "      <td>4</td>\n",
       "      <td>1</td>\n",
       "      <td>3</td>\n",
       "    </tr>\n",
       "  </tbody>\n",
       "</table>\n",
       "<p>5 rows × 366 columns</p>\n",
       "</div>"
      ],
      "text/plain": [
       "      LNR  AGER_TYP  AKT_DAT_KL  ALTER_HH  ALTER_KIND1  ALTER_KIND2  \\\n",
       "0  910215        -1         NaN       NaN          NaN          NaN   \n",
       "1  910220        -1         9.0       0.0          NaN          NaN   \n",
       "2  910225        -1         9.0      17.0          NaN          NaN   \n",
       "3  910226         2         1.0      13.0          NaN          NaN   \n",
       "4  910241        -1         1.0      20.0          NaN          NaN   \n",
       "\n",
       "   ALTER_KIND3  ALTER_KIND4  ALTERSKATEGORIE_FEIN  ANZ_HAUSHALTE_AKTIV  ...  \\\n",
       "0          NaN          NaN                   NaN                  NaN  ...   \n",
       "1          NaN          NaN                  21.0                 11.0  ...   \n",
       "2          NaN          NaN                  17.0                 10.0  ...   \n",
       "3          NaN          NaN                  13.0                  1.0  ...   \n",
       "4          NaN          NaN                  14.0                  3.0  ...   \n",
       "\n",
       "   VHN  VK_DHT4A  VK_DISTANZ  VK_ZG11  W_KEIT_KIND_HH  WOHNDAUER_2008  \\\n",
       "0  NaN       NaN         NaN      NaN             NaN             NaN   \n",
       "1  4.0       8.0        11.0     10.0             3.0             9.0   \n",
       "2  2.0       9.0         9.0      6.0             3.0             9.0   \n",
       "3  0.0       7.0        10.0     11.0             NaN             9.0   \n",
       "4  2.0       3.0         5.0      4.0             2.0             9.0   \n",
       "\n",
       "   WOHNLAGE ZABEOTYP ANREDE_KZ ALTERSKATEGORIE_GROB  \n",
       "0       NaN        3         1                    2  \n",
       "1       4.0        5         2                    1  \n",
       "2       2.0        5         2                    3  \n",
       "3       7.0        3         2                    4  \n",
       "4       3.0        4         1                    3  \n",
       "\n",
       "[5 rows x 366 columns]"
      ]
     },
     "execution_count": 2,
     "metadata": {},
     "output_type": "execute_result"
    }
   ],
   "source": [
    "azdias = pd.read_csv('data/Udacity_AZDIAS_052018.csv', sep=';', low_memory=False)\n",
    "azdias.head()"
   ]
  },
  {
   "cell_type": "markdown",
   "metadata": {},
   "source": [
    "The feature names are not very explanatory but fortunately for us along with the datasets, two other files were provided:\n",
    "\n",
    "* *DIAS Information Levels - Attributes 2017.xlsx*: Describes each feature.\n",
    "* *DIAS Attributes - Values 2017.xlsx*: Describes the type of each feature along with possible values along with values that represent missing or unknow information."
   ]
  },
  {
   "cell_type": "markdown",
   "metadata": {},
   "source": [
    "### Feature Info"
   ]
  },
  {
   "cell_type": "markdown",
   "metadata": {},
   "source": [
    "As we can see the dataset contains a lot of missing values (represented by NAN in table above) and some of the values, like (-1, 0 or 9) also indicate missing or unknown information. In order to replace the missing values automatically we've built a csv file to hold this information"
   ]
  },
  {
   "cell_type": "code",
   "execution_count": 3,
   "metadata": {
    "ExecuteTime": {
     "end_time": "2019-08-11T20:38:07.554717Z",
     "start_time": "2019-08-11T20:38:07.530875Z"
    },
    "scrolled": true
   },
   "outputs": [
    {
     "data": {
      "text/html": [
       "<div>\n",
       "<style scoped>\n",
       "    .dataframe tbody tr th:only-of-type {\n",
       "        vertical-align: middle;\n",
       "    }\n",
       "\n",
       "    .dataframe tbody tr th {\n",
       "        vertical-align: top;\n",
       "    }\n",
       "\n",
       "    .dataframe thead th {\n",
       "        text-align: right;\n",
       "    }\n",
       "</style>\n",
       "<table border=\"1\" class=\"dataframe\">\n",
       "  <thead>\n",
       "    <tr style=\"text-align: right;\">\n",
       "      <th></th>\n",
       "      <th>attribute</th>\n",
       "      <th>type</th>\n",
       "      <th>missing_or_unknown</th>\n",
       "      <th>information_level</th>\n",
       "    </tr>\n",
       "  </thead>\n",
       "  <tbody>\n",
       "    <tr>\n",
       "      <th>0</th>\n",
       "      <td>AGER_TYP</td>\n",
       "      <td>categorical</td>\n",
       "      <td>[-1,0]</td>\n",
       "      <td>person</td>\n",
       "    </tr>\n",
       "    <tr>\n",
       "      <th>1</th>\n",
       "      <td>ALTERSKATEGORIE_GROB</td>\n",
       "      <td>ordinal</td>\n",
       "      <td>[-1,0,9]</td>\n",
       "      <td>person</td>\n",
       "    </tr>\n",
       "    <tr>\n",
       "      <th>2</th>\n",
       "      <td>ALTER_HH</td>\n",
       "      <td>interval</td>\n",
       "      <td>[0]</td>\n",
       "      <td>household</td>\n",
       "    </tr>\n",
       "    <tr>\n",
       "      <th>3</th>\n",
       "      <td>ANREDE_KZ</td>\n",
       "      <td>categorical</td>\n",
       "      <td>[-1,0]</td>\n",
       "      <td>person</td>\n",
       "    </tr>\n",
       "    <tr>\n",
       "      <th>4</th>\n",
       "      <td>ANZ_HAUSHALTE_AKTIV</td>\n",
       "      <td>numeric</td>\n",
       "      <td>[]</td>\n",
       "      <td>building</td>\n",
       "    </tr>\n",
       "    <tr>\n",
       "      <th>5</th>\n",
       "      <td>ANZ_HH_TITEL</td>\n",
       "      <td>numeric</td>\n",
       "      <td>[]</td>\n",
       "      <td>building</td>\n",
       "    </tr>\n",
       "    <tr>\n",
       "      <th>6</th>\n",
       "      <td>ANZ_PERSONEN</td>\n",
       "      <td>numeric</td>\n",
       "      <td>[]</td>\n",
       "      <td>household</td>\n",
       "    </tr>\n",
       "    <tr>\n",
       "      <th>7</th>\n",
       "      <td>ANZ_TITEL</td>\n",
       "      <td>numeric</td>\n",
       "      <td>[]</td>\n",
       "      <td>household</td>\n",
       "    </tr>\n",
       "    <tr>\n",
       "      <th>8</th>\n",
       "      <td>BALLRAUM</td>\n",
       "      <td>ordinal</td>\n",
       "      <td>[-1]</td>\n",
       "      <td>postcode</td>\n",
       "    </tr>\n",
       "    <tr>\n",
       "      <th>9</th>\n",
       "      <td>CAMEO_DEUG_2015</td>\n",
       "      <td>categorical</td>\n",
       "      <td>[-1,X]</td>\n",
       "      <td>microcell_rr4</td>\n",
       "    </tr>\n",
       "    <tr>\n",
       "      <th>10</th>\n",
       "      <td>CAMEO_DEU_2015</td>\n",
       "      <td>categorical</td>\n",
       "      <td>[XX]</td>\n",
       "      <td>microcell_rr4</td>\n",
       "    </tr>\n",
       "    <tr>\n",
       "      <th>11</th>\n",
       "      <td>CAMEO_INTL_2015</td>\n",
       "      <td>mixed</td>\n",
       "      <td>[-1,XX]</td>\n",
       "      <td>microcell_rr4</td>\n",
       "    </tr>\n",
       "    <tr>\n",
       "      <th>12</th>\n",
       "      <td>CJT_GESAMTTYP</td>\n",
       "      <td>categorical</td>\n",
       "      <td>[0]</td>\n",
       "      <td>person</td>\n",
       "    </tr>\n",
       "    <tr>\n",
       "      <th>13</th>\n",
       "      <td>D19_BANKEN_ANZ_12</td>\n",
       "      <td>ordinal</td>\n",
       "      <td>[0]</td>\n",
       "      <td>household</td>\n",
       "    </tr>\n",
       "    <tr>\n",
       "      <th>14</th>\n",
       "      <td>D19_BANKEN_ANZ_24</td>\n",
       "      <td>ordinal</td>\n",
       "      <td>[0]</td>\n",
       "      <td>household</td>\n",
       "    </tr>\n",
       "    <tr>\n",
       "      <th>15</th>\n",
       "      <td>D19_BANKEN_DATUM</td>\n",
       "      <td>ordinal</td>\n",
       "      <td>[10]</td>\n",
       "      <td>household</td>\n",
       "    </tr>\n",
       "    <tr>\n",
       "      <th>16</th>\n",
       "      <td>D19_BANKEN_DIREKT</td>\n",
       "      <td>categorical</td>\n",
       "      <td>[0]</td>\n",
       "      <td>grid_125_125</td>\n",
       "    </tr>\n",
       "    <tr>\n",
       "      <th>17</th>\n",
       "      <td>D19_BANKEN_GROSS</td>\n",
       "      <td>categorical</td>\n",
       "      <td>[0]</td>\n",
       "      <td>grid_125_125</td>\n",
       "    </tr>\n",
       "    <tr>\n",
       "      <th>18</th>\n",
       "      <td>D19_BANKEN_LOKAL</td>\n",
       "      <td>categorical</td>\n",
       "      <td>[0]</td>\n",
       "      <td>grid_125_125</td>\n",
       "    </tr>\n",
       "    <tr>\n",
       "      <th>19</th>\n",
       "      <td>D19_BANKEN_OFFLINE_DATUM</td>\n",
       "      <td>ordinal</td>\n",
       "      <td>[10]</td>\n",
       "      <td>household</td>\n",
       "    </tr>\n",
       "    <tr>\n",
       "      <th>20</th>\n",
       "      <td>D19_BANKEN_ONLINE_DATUM</td>\n",
       "      <td>ordinal</td>\n",
       "      <td>[10]</td>\n",
       "      <td>household</td>\n",
       "    </tr>\n",
       "    <tr>\n",
       "      <th>21</th>\n",
       "      <td>D19_BANKEN_ONLINE_QUOTE_12</td>\n",
       "      <td>ordinal</td>\n",
       "      <td>[]</td>\n",
       "      <td>household</td>\n",
       "    </tr>\n",
       "    <tr>\n",
       "      <th>22</th>\n",
       "      <td>D19_BANKEN_REST</td>\n",
       "      <td>categorical</td>\n",
       "      <td>[0]</td>\n",
       "      <td>grid_125_125</td>\n",
       "    </tr>\n",
       "    <tr>\n",
       "      <th>23</th>\n",
       "      <td>D19_BEKLEIDUNG_GEH</td>\n",
       "      <td>categorical</td>\n",
       "      <td>[0]</td>\n",
       "      <td>grid_125_125</td>\n",
       "    </tr>\n",
       "    <tr>\n",
       "      <th>24</th>\n",
       "      <td>D19_BEKLEIDUNG_REST</td>\n",
       "      <td>categorical</td>\n",
       "      <td>[0]</td>\n",
       "      <td>grid_125_125</td>\n",
       "    </tr>\n",
       "    <tr>\n",
       "      <th>25</th>\n",
       "      <td>D19_BILDUNG</td>\n",
       "      <td>categorical</td>\n",
       "      <td>[0]</td>\n",
       "      <td>grid_125_125</td>\n",
       "    </tr>\n",
       "    <tr>\n",
       "      <th>26</th>\n",
       "      <td>D19_BIO_OEKO</td>\n",
       "      <td>categorical</td>\n",
       "      <td>[0]</td>\n",
       "      <td>grid_125_125</td>\n",
       "    </tr>\n",
       "    <tr>\n",
       "      <th>27</th>\n",
       "      <td>D19_BUCH_CD</td>\n",
       "      <td>categorical</td>\n",
       "      <td>[0]</td>\n",
       "      <td>grid_125_125</td>\n",
       "    </tr>\n",
       "    <tr>\n",
       "      <th>28</th>\n",
       "      <td>D19_DIGIT_SERV</td>\n",
       "      <td>categorical</td>\n",
       "      <td>[0]</td>\n",
       "      <td>grid_125_125</td>\n",
       "    </tr>\n",
       "    <tr>\n",
       "      <th>29</th>\n",
       "      <td>D19_DROGERIEARTIKEL</td>\n",
       "      <td>categorical</td>\n",
       "      <td>[0]</td>\n",
       "      <td>grid_125_125</td>\n",
       "    </tr>\n",
       "    <tr>\n",
       "      <th>...</th>\n",
       "      <td>...</td>\n",
       "      <td>...</td>\n",
       "      <td>...</td>\n",
       "      <td>...</td>\n",
       "    </tr>\n",
       "    <tr>\n",
       "      <th>333</th>\n",
       "      <td>EXTSEL992</td>\n",
       "      <td>numeric</td>\n",
       "      <td>[]</td>\n",
       "      <td>unknown</td>\n",
       "    </tr>\n",
       "    <tr>\n",
       "      <th>334</th>\n",
       "      <td>FIRMENDICHTE</td>\n",
       "      <td>categorical</td>\n",
       "      <td>[]</td>\n",
       "      <td>unknown</td>\n",
       "    </tr>\n",
       "    <tr>\n",
       "      <th>335</th>\n",
       "      <td>HH_DELTA_FLAG</td>\n",
       "      <td>categorical</td>\n",
       "      <td>[]</td>\n",
       "      <td>unknown</td>\n",
       "    </tr>\n",
       "    <tr>\n",
       "      <th>336</th>\n",
       "      <td>KBA13_ANTG1</td>\n",
       "      <td>ordinal</td>\n",
       "      <td>[-1]</td>\n",
       "      <td>plz8</td>\n",
       "    </tr>\n",
       "    <tr>\n",
       "      <th>337</th>\n",
       "      <td>KBA13_ANTG2</td>\n",
       "      <td>ordinal</td>\n",
       "      <td>[-1]</td>\n",
       "      <td>plz8</td>\n",
       "    </tr>\n",
       "    <tr>\n",
       "      <th>338</th>\n",
       "      <td>KBA13_ANTG3</td>\n",
       "      <td>ordinal</td>\n",
       "      <td>[-1]</td>\n",
       "      <td>plz8</td>\n",
       "    </tr>\n",
       "    <tr>\n",
       "      <th>339</th>\n",
       "      <td>KBA13_ANTG4</td>\n",
       "      <td>ordinal</td>\n",
       "      <td>[-1]</td>\n",
       "      <td>plz8</td>\n",
       "    </tr>\n",
       "    <tr>\n",
       "      <th>340</th>\n",
       "      <td>KBA13_CCM_1401_2500</td>\n",
       "      <td>ordinal</td>\n",
       "      <td>[-1]</td>\n",
       "      <td>plz8</td>\n",
       "    </tr>\n",
       "    <tr>\n",
       "      <th>341</th>\n",
       "      <td>KBA13_GBZ</td>\n",
       "      <td>ordinal</td>\n",
       "      <td>[-1,0]</td>\n",
       "      <td>unknown</td>\n",
       "    </tr>\n",
       "    <tr>\n",
       "      <th>342</th>\n",
       "      <td>KBA13_HHZ</td>\n",
       "      <td>ordinal</td>\n",
       "      <td>[-1]</td>\n",
       "      <td>unknown</td>\n",
       "    </tr>\n",
       "    <tr>\n",
       "      <th>343</th>\n",
       "      <td>KBA13_KMH_210</td>\n",
       "      <td>ordinal</td>\n",
       "      <td>[-1]</td>\n",
       "      <td>plz8</td>\n",
       "    </tr>\n",
       "    <tr>\n",
       "      <th>344</th>\n",
       "      <td>KOMBIALTER</td>\n",
       "      <td>categorical</td>\n",
       "      <td>[9]</td>\n",
       "      <td>unknown</td>\n",
       "    </tr>\n",
       "    <tr>\n",
       "      <th>345</th>\n",
       "      <td>KONSUMZELLE</td>\n",
       "      <td>categorical</td>\n",
       "      <td>[]</td>\n",
       "      <td>unknown</td>\n",
       "    </tr>\n",
       "    <tr>\n",
       "      <th>346</th>\n",
       "      <td>MOBI_RASTER</td>\n",
       "      <td>categorical</td>\n",
       "      <td>[]</td>\n",
       "      <td>unknown</td>\n",
       "    </tr>\n",
       "    <tr>\n",
       "      <th>347</th>\n",
       "      <td>RT_KEIN_ANREIZ</td>\n",
       "      <td>categorical</td>\n",
       "      <td>[]</td>\n",
       "      <td>unknown</td>\n",
       "    </tr>\n",
       "    <tr>\n",
       "      <th>348</th>\n",
       "      <td>RT_SCHNAEPPCHEN</td>\n",
       "      <td>categorical</td>\n",
       "      <td>[]</td>\n",
       "      <td>unknown</td>\n",
       "    </tr>\n",
       "    <tr>\n",
       "      <th>349</th>\n",
       "      <td>RT_UEBERGROESSE</td>\n",
       "      <td>categorical</td>\n",
       "      <td>[]</td>\n",
       "      <td>unknown</td>\n",
       "    </tr>\n",
       "    <tr>\n",
       "      <th>350</th>\n",
       "      <td>SOHO_KZ</td>\n",
       "      <td>categorical</td>\n",
       "      <td>[]</td>\n",
       "      <td>person</td>\n",
       "    </tr>\n",
       "    <tr>\n",
       "      <th>351</th>\n",
       "      <td>STRUKTURTYP</td>\n",
       "      <td>categorical</td>\n",
       "      <td>[]</td>\n",
       "      <td>household</td>\n",
       "    </tr>\n",
       "    <tr>\n",
       "      <th>352</th>\n",
       "      <td>UMFELD_ALT</td>\n",
       "      <td>categorical</td>\n",
       "      <td>[]</td>\n",
       "      <td>unknown</td>\n",
       "    </tr>\n",
       "    <tr>\n",
       "      <th>353</th>\n",
       "      <td>UMFELD_JUNG</td>\n",
       "      <td>categorical</td>\n",
       "      <td>[]</td>\n",
       "      <td>unknown</td>\n",
       "    </tr>\n",
       "    <tr>\n",
       "      <th>354</th>\n",
       "      <td>UNGLEICHENN_FLAG</td>\n",
       "      <td>categorical</td>\n",
       "      <td>[]</td>\n",
       "      <td>unknown</td>\n",
       "    </tr>\n",
       "    <tr>\n",
       "      <th>355</th>\n",
       "      <td>VERDICHTUNGSRAUM</td>\n",
       "      <td>numeric</td>\n",
       "      <td>[]</td>\n",
       "      <td>unknown</td>\n",
       "    </tr>\n",
       "    <tr>\n",
       "      <th>356</th>\n",
       "      <td>VHA</td>\n",
       "      <td>categorical</td>\n",
       "      <td>[]</td>\n",
       "      <td>unknown</td>\n",
       "    </tr>\n",
       "    <tr>\n",
       "      <th>357</th>\n",
       "      <td>VHN</td>\n",
       "      <td>categorical</td>\n",
       "      <td>[]</td>\n",
       "      <td>unknown</td>\n",
       "    </tr>\n",
       "    <tr>\n",
       "      <th>358</th>\n",
       "      <td>VK_DHT4A</td>\n",
       "      <td>numeric</td>\n",
       "      <td>[]</td>\n",
       "      <td>unknown</td>\n",
       "    </tr>\n",
       "    <tr>\n",
       "      <th>359</th>\n",
       "      <td>VK_DISTANZ</td>\n",
       "      <td>numeric</td>\n",
       "      <td>[]</td>\n",
       "      <td>unknown</td>\n",
       "    </tr>\n",
       "    <tr>\n",
       "      <th>360</th>\n",
       "      <td>VK_ZG11</td>\n",
       "      <td>numeric</td>\n",
       "      <td>[]</td>\n",
       "      <td>unknown</td>\n",
       "    </tr>\n",
       "    <tr>\n",
       "      <th>361</th>\n",
       "      <td>KBA13_BAUMAX</td>\n",
       "      <td>mixed</td>\n",
       "      <td>[-1,0]</td>\n",
       "      <td>plz8</td>\n",
       "    </tr>\n",
       "    <tr>\n",
       "      <th>362</th>\n",
       "      <td>GEMEINDETYP</td>\n",
       "      <td>categorical</td>\n",
       "      <td>[]</td>\n",
       "      <td>unknown</td>\n",
       "    </tr>\n",
       "  </tbody>\n",
       "</table>\n",
       "<p>363 rows × 4 columns</p>\n",
       "</div>"
      ],
      "text/plain": [
       "                      attribute         type missing_or_unknown  \\\n",
       "0                      AGER_TYP  categorical             [-1,0]   \n",
       "1          ALTERSKATEGORIE_GROB      ordinal           [-1,0,9]   \n",
       "2                      ALTER_HH     interval                [0]   \n",
       "3                     ANREDE_KZ  categorical             [-1,0]   \n",
       "4           ANZ_HAUSHALTE_AKTIV      numeric                 []   \n",
       "5                  ANZ_HH_TITEL      numeric                 []   \n",
       "6                  ANZ_PERSONEN      numeric                 []   \n",
       "7                     ANZ_TITEL      numeric                 []   \n",
       "8                      BALLRAUM      ordinal               [-1]   \n",
       "9               CAMEO_DEUG_2015  categorical             [-1,X]   \n",
       "10               CAMEO_DEU_2015  categorical               [XX]   \n",
       "11              CAMEO_INTL_2015        mixed            [-1,XX]   \n",
       "12                CJT_GESAMTTYP  categorical                [0]   \n",
       "13            D19_BANKEN_ANZ_12      ordinal                [0]   \n",
       "14            D19_BANKEN_ANZ_24      ordinal                [0]   \n",
       "15             D19_BANKEN_DATUM      ordinal               [10]   \n",
       "16            D19_BANKEN_DIREKT  categorical                [0]   \n",
       "17             D19_BANKEN_GROSS  categorical                [0]   \n",
       "18             D19_BANKEN_LOKAL  categorical                [0]   \n",
       "19     D19_BANKEN_OFFLINE_DATUM      ordinal               [10]   \n",
       "20      D19_BANKEN_ONLINE_DATUM      ordinal               [10]   \n",
       "21   D19_BANKEN_ONLINE_QUOTE_12      ordinal                 []   \n",
       "22              D19_BANKEN_REST  categorical                [0]   \n",
       "23           D19_BEKLEIDUNG_GEH  categorical                [0]   \n",
       "24          D19_BEKLEIDUNG_REST  categorical                [0]   \n",
       "25                  D19_BILDUNG  categorical                [0]   \n",
       "26                 D19_BIO_OEKO  categorical                [0]   \n",
       "27                  D19_BUCH_CD  categorical                [0]   \n",
       "28               D19_DIGIT_SERV  categorical                [0]   \n",
       "29          D19_DROGERIEARTIKEL  categorical                [0]   \n",
       "..                          ...          ...                ...   \n",
       "333                   EXTSEL992      numeric                 []   \n",
       "334                FIRMENDICHTE  categorical                 []   \n",
       "335               HH_DELTA_FLAG  categorical                 []   \n",
       "336                 KBA13_ANTG1      ordinal               [-1]   \n",
       "337                 KBA13_ANTG2      ordinal               [-1]   \n",
       "338                 KBA13_ANTG3      ordinal               [-1]   \n",
       "339                 KBA13_ANTG4      ordinal               [-1]   \n",
       "340         KBA13_CCM_1401_2500      ordinal               [-1]   \n",
       "341                   KBA13_GBZ      ordinal             [-1,0]   \n",
       "342                   KBA13_HHZ      ordinal               [-1]   \n",
       "343               KBA13_KMH_210      ordinal               [-1]   \n",
       "344                  KOMBIALTER  categorical                [9]   \n",
       "345                 KONSUMZELLE  categorical                 []   \n",
       "346                 MOBI_RASTER  categorical                 []   \n",
       "347              RT_KEIN_ANREIZ  categorical                 []   \n",
       "348             RT_SCHNAEPPCHEN  categorical                 []   \n",
       "349             RT_UEBERGROESSE  categorical                 []   \n",
       "350                     SOHO_KZ  categorical                 []   \n",
       "351                 STRUKTURTYP  categorical                 []   \n",
       "352                  UMFELD_ALT  categorical                 []   \n",
       "353                 UMFELD_JUNG  categorical                 []   \n",
       "354            UNGLEICHENN_FLAG  categorical                 []   \n",
       "355            VERDICHTUNGSRAUM      numeric                 []   \n",
       "356                         VHA  categorical                 []   \n",
       "357                         VHN  categorical                 []   \n",
       "358                    VK_DHT4A      numeric                 []   \n",
       "359                  VK_DISTANZ      numeric                 []   \n",
       "360                     VK_ZG11      numeric                 []   \n",
       "361                KBA13_BAUMAX        mixed             [-1,0]   \n",
       "362                 GEMEINDETYP  categorical                 []   \n",
       "\n",
       "    information_level  \n",
       "0              person  \n",
       "1              person  \n",
       "2           household  \n",
       "3              person  \n",
       "4            building  \n",
       "5            building  \n",
       "6           household  \n",
       "7           household  \n",
       "8            postcode  \n",
       "9       microcell_rr4  \n",
       "10      microcell_rr4  \n",
       "11      microcell_rr4  \n",
       "12             person  \n",
       "13          household  \n",
       "14          household  \n",
       "15          household  \n",
       "16       grid_125_125  \n",
       "17       grid_125_125  \n",
       "18       grid_125_125  \n",
       "19          household  \n",
       "20          household  \n",
       "21          household  \n",
       "22       grid_125_125  \n",
       "23       grid_125_125  \n",
       "24       grid_125_125  \n",
       "25       grid_125_125  \n",
       "26       grid_125_125  \n",
       "27       grid_125_125  \n",
       "28       grid_125_125  \n",
       "29       grid_125_125  \n",
       "..                ...  \n",
       "333           unknown  \n",
       "334           unknown  \n",
       "335           unknown  \n",
       "336              plz8  \n",
       "337              plz8  \n",
       "338              plz8  \n",
       "339              plz8  \n",
       "340              plz8  \n",
       "341           unknown  \n",
       "342           unknown  \n",
       "343              plz8  \n",
       "344           unknown  \n",
       "345           unknown  \n",
       "346           unknown  \n",
       "347           unknown  \n",
       "348           unknown  \n",
       "349           unknown  \n",
       "350            person  \n",
       "351         household  \n",
       "352           unknown  \n",
       "353           unknown  \n",
       "354           unknown  \n",
       "355           unknown  \n",
       "356           unknown  \n",
       "357           unknown  \n",
       "358           unknown  \n",
       "359           unknown  \n",
       "360           unknown  \n",
       "361              plz8  \n",
       "362           unknown  \n",
       "\n",
       "[363 rows x 4 columns]"
      ]
     },
     "execution_count": 3,
     "metadata": {},
     "output_type": "execute_result"
    }
   ],
   "source": [
    "feat_info = pd.read_csv('data/AZDIAS_Feature_Summary.csv', sep=';')\n",
    "feat_info"
   ]
  },
  {
   "cell_type": "markdown",
   "metadata": {},
   "source": [
    "## Analysis"
   ]
  },
  {
   "cell_type": "markdown",
   "metadata": {
    "heading_collapsed": true
   },
   "source": [
    "### Missing Values"
   ]
  },
  {
   "cell_type": "markdown",
   "metadata": {
    "hidden": true
   },
   "source": [
    "#### Assess Missing Data"
   ]
  },
  {
   "cell_type": "markdown",
   "metadata": {
    "hidden": true
   },
   "source": [
    "The following figure, obtained using the `missingno` package shows the missing values of the provided data:"
   ]
  },
  {
   "cell_type": "code",
   "execution_count": 4,
   "metadata": {
    "ExecuteTime": {
     "end_time": "2019-08-11T16:21:23.441688Z",
     "start_time": "2019-08-11T16:21:18.138826Z"
    },
    "hidden": true
   },
   "outputs": [
    {
     "data": {
      "image/png": "[encoded data removed]",
      "text/plain": [
       "<Figure size 1728x720 with 2 Axes>"
      ]
     },
     "metadata": {
      "needs_background": "light"
     },
     "output_type": "display_data"
    }
   ],
   "source": [
    "ax = msno.bar(azdias)"
   ]
  },
  {
   "cell_type": "markdown",
   "metadata": {
    "hidden": true
   },
   "source": [
    "Let's apply `feat_info` defined above by using a utility function called `replace_missing_or_unknown`"
   ]
  },
  {
   "cell_type": "code",
   "execution_count": 5,
   "metadata": {
    "ExecuteTime": {
     "end_time": "2019-08-11T16:36:15.695711Z",
     "start_time": "2019-08-11T16:21:23.442720Z"
    },
    "hidden": true,
    "scrolled": true
   },
   "outputs": [
    {
     "name": "stdout",
     "output_type": "stream",
     "text": [
      "Processing AGER_TYP\n"
     ]
    },
    {
     "data": {
      "application/vnd.jupyter.widget-view+json": {
       "model_id": "8816de3c1f8a4a25925fe33a6a1f9b89",
       "version_major": 2,
       "version_minor": 0
      },
      "text/plain": [
       "HBox(children=(IntProgress(value=0, max=891221), HTML(value='')))"
      ]
     },
     "metadata": {},
     "output_type": "display_data"
    },
    {
     "name": "stdout",
     "output_type": "stream",
     "text": [
      "\n",
      "Processing ALTERSKATEGORIE_GROB\n"
     ]
    },
    {
     "data": {
      "application/vnd.jupyter.widget-view+json": {
       "model_id": "5311989c866648c985706e92692fe169",
       "version_major": 2,
       "version_minor": 0
      },
      "text/plain": [
       "HBox(children=(IntProgress(value=0, max=891221), HTML(value='')))"
      ]
     },
     "metadata": {},
     "output_type": "display_data"
    },
    {
     "name": "stdout",
     "output_type": "stream",
     "text": [
      "\n",
      "Processing ALTER_HH\n"
     ]
    },
    {
     "data": {
      "application/vnd.jupyter.widget-view+json": {
       "model_id": "4a2945371e73441f8d6a07ef37f0d67a",
       "version_major": 2,
       "version_minor": 0
      },
      "text/plain": [
       "HBox(children=(IntProgress(value=0, max=891221), HTML(value='')))"
      ]
     },
     "metadata": {},
     "output_type": "display_data"
    },
    {
     "name": "stdout",
     "output_type": "stream",
     "text": [
      "\n",
      "Processing ANREDE_KZ\n"
     ]
    },
    {
     "data": {
      "application/vnd.jupyter.widget-view+json": {
       "model_id": "f5505248b4f24abd9994930777ea572c",
       "version_major": 2,
       "version_minor": 0
      },
      "text/plain": [
       "HBox(children=(IntProgress(value=0, max=891221), HTML(value='')))"
      ]
     },
     "metadata": {},
     "output_type": "display_data"
    },
    {
     "name": "stdout",
     "output_type": "stream",
     "text": [
      "\n",
      "Processing BALLRAUM\n"
     ]
    },
    {
     "data": {
      "application/vnd.jupyter.widget-view+json": {
       "model_id": "b63588614f41407e92b512aebc1b803a",
       "version_major": 2,
       "version_minor": 0
      },
      "text/plain": [
       "HBox(children=(IntProgress(value=0, max=891221), HTML(value='')))"
      ]
     },
     "metadata": {},
     "output_type": "display_data"
    },
    {
     "name": "stdout",
     "output_type": "stream",
     "text": [
      "\n",
      "Processing CAMEO_DEUG_2015\n"
     ]
    },
    {
     "data": {
      "application/vnd.jupyter.widget-view+json": {
       "model_id": "9572a8d7b8df4dd894241af4f98945c6",
       "version_major": 2,
       "version_minor": 0
      },
      "text/plain": [
       "HBox(children=(IntProgress(value=0, max=891221), HTML(value='')))"
      ]
     },
     "metadata": {},
     "output_type": "display_data"
    },
    {
     "name": "stdout",
     "output_type": "stream",
     "text": [
      "\n",
      "Processing CAMEO_DEU_2015\n"
     ]
    },
    {
     "data": {
      "application/vnd.jupyter.widget-view+json": {
       "model_id": "cb16ade7d7eb4482a12a2bf4df051c2e",
       "version_major": 2,
       "version_minor": 0
      },
      "text/plain": [
       "HBox(children=(IntProgress(value=0, max=891221), HTML(value='')))"
      ]
     },
     "metadata": {},
     "output_type": "display_data"
    },
    {
     "name": "stdout",
     "output_type": "stream",
     "text": [
      "\n",
      "Processing CAMEO_INTL_2015\n"
     ]
    },
    {
     "data": {
      "application/vnd.jupyter.widget-view+json": {
       "model_id": "d3049def17df415e936ad8460d381f4f",
       "version_major": 2,
       "version_minor": 0
      },
      "text/plain": [
       "HBox(children=(IntProgress(value=0, max=891221), HTML(value='')))"
      ]
     },
     "metadata": {},
     "output_type": "display_data"
    },
    {
     "name": "stdout",
     "output_type": "stream",
     "text": [
      "\n",
      "Processing CJT_GESAMTTYP\n"
     ]
    },
    {
     "data": {
      "application/vnd.jupyter.widget-view+json": {
       "model_id": "1ecb5aa0ea05447a8a2c2e83fa728f69",
       "version_major": 2,
       "version_minor": 0
      },
      "text/plain": [
       "HBox(children=(IntProgress(value=0, max=891221), HTML(value='')))"
      ]
     },
     "metadata": {},
     "output_type": "display_data"
    },
    {
     "name": "stdout",
     "output_type": "stream",
     "text": [
      "\n",
      "Processing D19_BANKEN_ANZ_12\n"
     ]
    },
    {
     "data": {
      "application/vnd.jupyter.widget-view+json": {
       "model_id": "211c4ead60d649ed9cf4b1f356792029",
       "version_major": 2,
       "version_minor": 0
      },
      "text/plain": [
       "HBox(children=(IntProgress(value=0, max=891221), HTML(value='')))"
      ]
     },
     "metadata": {},
     "output_type": "display_data"
    },
    {
     "name": "stdout",
     "output_type": "stream",
     "text": [
      "\n",
      "Processing D19_BANKEN_ANZ_24\n"
     ]
    },
    {
     "data": {
      "application/vnd.jupyter.widget-view+json": {
       "model_id": "d90dcd766fb74b818a599e1648fda886",
       "version_major": 2,
       "version_minor": 0
      },
      "text/plain": [
       "HBox(children=(IntProgress(value=0, max=891221), HTML(value='')))"
      ]
     },
     "metadata": {},
     "output_type": "display_data"
    },
    {
     "name": "stdout",
     "output_type": "stream",
     "text": [
      "\n",
      "Processing D19_BANKEN_DATUM\n"
     ]
    },
    {
     "data": {
      "application/vnd.jupyter.widget-view+json": {
       "model_id": "bf462c2c0e094c64b2f01358b3fe3330",
       "version_major": 2,
       "version_minor": 0
      },
      "text/plain": [
       "HBox(children=(IntProgress(value=0, max=891221), HTML(value='')))"
      ]
     },
     "metadata": {},
     "output_type": "display_data"
    },
    {
     "name": "stdout",
     "output_type": "stream",
     "text": [
      "\n",
      "Processing D19_BANKEN_DIREKT\n"
     ]
    },
    {
     "data": {
      "application/vnd.jupyter.widget-view+json": {
       "model_id": "fffb1d853a2444b392968184bd6957b3",
       "version_major": 2,
       "version_minor": 0
      },
      "text/plain": [
       "HBox(children=(IntProgress(value=0, max=891221), HTML(value='')))"
      ]
     },
     "metadata": {},
     "output_type": "display_data"
    },
    {
     "name": "stdout",
     "output_type": "stream",
     "text": [
      "\n",
      "Processing D19_BANKEN_GROSS\n"
     ]
    },
    {
     "data": {
      "application/vnd.jupyter.widget-view+json": {
       "model_id": "ce1ae685b9924360ae7097ae2957835a",
       "version_major": 2,
       "version_minor": 0
      },
      "text/plain": [
       "HBox(children=(IntProgress(value=0, max=891221), HTML(value='')))"
      ]
     },
     "metadata": {},
     "output_type": "display_data"
    },
    {
     "name": "stdout",
     "output_type": "stream",
     "text": [
      "\n",
      "Processing D19_BANKEN_LOKAL\n"
     ]
    },
    {
     "data": {
      "application/vnd.jupyter.widget-view+json": {
       "model_id": "fbc3925147c64602ae0c426fa63e5389",
       "version_major": 2,
       "version_minor": 0
      },
      "text/plain": [
       "HBox(children=(IntProgress(value=0, max=891221), HTML(value='')))"
      ]
     },
     "metadata": {},
     "output_type": "display_data"
    },
    {
     "name": "stdout",
     "output_type": "stream",
     "text": [
      "\n",
      "Processing D19_BANKEN_OFFLINE_DATUM\n"
     ]
    },
    {
     "data": {
      "application/vnd.jupyter.widget-view+json": {
       "model_id": "ee32483a1cbf4795a3233e873f43f347",
       "version_major": 2,
       "version_minor": 0
      },
      "text/plain": [
       "HBox(children=(IntProgress(value=0, max=891221), HTML(value='')))"
      ]
     },
     "metadata": {},
     "output_type": "display_data"
    },
    {
     "name": "stdout",
     "output_type": "stream",
     "text": [
      "\n",
      "Processing D19_BANKEN_ONLINE_DATUM\n"
     ]
    },
    {
     "data": {
      "application/vnd.jupyter.widget-view+json": {
       "model_id": "74d994c55c2843b0b4eabdd3387faa0e",
       "version_major": 2,
       "version_minor": 0
      },
      "text/plain": [
       "HBox(children=(IntProgress(value=0, max=891221), HTML(value='')))"
      ]
     },
     "metadata": {},
     "output_type": "display_data"
    },
    {
     "name": "stdout",
     "output_type": "stream",
     "text": [
      "\n",
      "Processing D19_BANKEN_REST\n"
     ]
    },
    {
     "data": {
      "application/vnd.jupyter.widget-view+json": {
       "model_id": "fddc762640a94fc1af244f0522fb35ad",
       "version_major": 2,
       "version_minor": 0
      },
      "text/plain": [
       "HBox(children=(IntProgress(value=0, max=891221), HTML(value='')))"
      ]
     },
     "metadata": {},
     "output_type": "display_data"
    },
    {
     "name": "stdout",
     "output_type": "stream",
     "text": [
      "\n",
      "Processing D19_BEKLEIDUNG_GEH\n"
     ]
    },
    {
     "data": {
      "application/vnd.jupyter.widget-view+json": {
       "model_id": "649501e6b8d3426482c245416a1fd7a0",
       "version_major": 2,
       "version_minor": 0
      },
      "text/plain": [
       "HBox(children=(IntProgress(value=0, max=891221), HTML(value='')))"
      ]
     },
     "metadata": {},
     "output_type": "display_data"
    },
    {
     "name": "stdout",
     "output_type": "stream",
     "text": [
      "\n",
      "Processing D19_BEKLEIDUNG_REST\n"
     ]
    },
    {
     "data": {
      "application/vnd.jupyter.widget-view+json": {
       "model_id": "a1a0c8406ad14939a9b45522bf561777",
       "version_major": 2,
       "version_minor": 0
      },
      "text/plain": [
       "HBox(children=(IntProgress(value=0, max=891221), HTML(value='')))"
      ]
     },
     "metadata": {},
     "output_type": "display_data"
    },
    {
     "name": "stdout",
     "output_type": "stream",
     "text": [
      "\n",
      "Processing D19_BILDUNG\n"
     ]
    },
    {
     "data": {
      "application/vnd.jupyter.widget-view+json": {
       "model_id": "cac55617d8524496a4fdd487b977572d",
       "version_major": 2,
       "version_minor": 0
      },
      "text/plain": [
       "HBox(children=(IntProgress(value=0, max=891221), HTML(value='')))"
      ]
     },
     "metadata": {},
     "output_type": "display_data"
    },
    {
     "name": "stdout",
     "output_type": "stream",
     "text": [
      "\n",
      "Processing D19_BIO_OEKO\n"
     ]
    },
    {
     "data": {
      "application/vnd.jupyter.widget-view+json": {
       "model_id": "384823bbc6c343edb0ce9b794aaf8faf",
       "version_major": 2,
       "version_minor": 0
      },
      "text/plain": [
       "HBox(children=(IntProgress(value=0, max=891221), HTML(value='')))"
      ]
     },
     "metadata": {},
     "output_type": "display_data"
    },
    {
     "name": "stdout",
     "output_type": "stream",
     "text": [
      "\n",
      "Processing D19_BUCH_CD\n"
     ]
    },
    {
     "data": {
      "application/vnd.jupyter.widget-view+json": {
       "model_id": "4be3a81e3a8d4e3aac4a1d7377cba917",
       "version_major": 2,
       "version_minor": 0
      },
      "text/plain": [
       "HBox(children=(IntProgress(value=0, max=891221), HTML(value='')))"
      ]
     },
     "metadata": {},
     "output_type": "display_data"
    },
    {
     "name": "stdout",
     "output_type": "stream",
     "text": [
      "\n",
      "Processing D19_DIGIT_SERV\n"
     ]
    },
    {
     "data": {
      "application/vnd.jupyter.widget-view+json": {
       "model_id": "3d42d3eb944b4a09b65e1ee4efb8418d",
       "version_major": 2,
       "version_minor": 0
      },
      "text/plain": [
       "HBox(children=(IntProgress(value=0, max=891221), HTML(value='')))"
      ]
     },
     "metadata": {},
     "output_type": "display_data"
    },
    {
     "name": "stdout",
     "output_type": "stream",
     "text": [
      "\n",
      "Processing D19_DROGERIEARTIKEL\n"
     ]
    },
    {
     "data": {
      "application/vnd.jupyter.widget-view+json": {
       "model_id": "bcd373bdfc9248c9a7276ab5a3365beb",
       "version_major": 2,
       "version_minor": 0
      },
      "text/plain": [
       "HBox(children=(IntProgress(value=0, max=891221), HTML(value='')))"
      ]
     },
     "metadata": {},
     "output_type": "display_data"
    },
    {
     "name": "stdout",
     "output_type": "stream",
     "text": [
      "\n",
      "Processing D19_ENERGIE\n"
     ]
    },
    {
     "data": {
      "application/vnd.jupyter.widget-view+json": {
       "model_id": "89f620dd7d424423b6fc0e255f58fbd6",
       "version_major": 2,
       "version_minor": 0
      },
      "text/plain": [
       "HBox(children=(IntProgress(value=0, max=891221), HTML(value='')))"
      ]
     },
     "metadata": {},
     "output_type": "display_data"
    },
    {
     "name": "stdout",
     "output_type": "stream",
     "text": [
      "\n",
      "Processing D19_FREIZEIT\n"
     ]
    },
    {
     "data": {
      "application/vnd.jupyter.widget-view+json": {
       "model_id": "2190b8590f904d30a566379296d8cffe",
       "version_major": 2,
       "version_minor": 0
      },
      "text/plain": [
       "HBox(children=(IntProgress(value=0, max=891221), HTML(value='')))"
      ]
     },
     "metadata": {},
     "output_type": "display_data"
    },
    {
     "name": "stdout",
     "output_type": "stream",
     "text": [
      "\n",
      "Processing D19_GARTEN\n"
     ]
    },
    {
     "data": {
      "application/vnd.jupyter.widget-view+json": {
       "model_id": "19fb7597665d4641b512930fa9d6d7ad",
       "version_major": 2,
       "version_minor": 0
      },
      "text/plain": [
       "HBox(children=(IntProgress(value=0, max=891221), HTML(value='')))"
      ]
     },
     "metadata": {},
     "output_type": "display_data"
    },
    {
     "name": "stdout",
     "output_type": "stream",
     "text": [
      "\n",
      "Processing D19_GESAMT_ANZ_12\n"
     ]
    },
    {
     "data": {
      "application/vnd.jupyter.widget-view+json": {
       "model_id": "aff637ee33054e5c86619809d091dce8",
       "version_major": 2,
       "version_minor": 0
      },
      "text/plain": [
       "HBox(children=(IntProgress(value=0, max=891221), HTML(value='')))"
      ]
     },
     "metadata": {},
     "output_type": "display_data"
    },
    {
     "name": "stdout",
     "output_type": "stream",
     "text": [
      "\n",
      "Processing D19_GESAMT_ANZ_24\n"
     ]
    },
    {
     "data": {
      "application/vnd.jupyter.widget-view+json": {
       "model_id": "908ca569b5e14ed6a1dde428f332f619",
       "version_major": 2,
       "version_minor": 0
      },
      "text/plain": [
       "HBox(children=(IntProgress(value=0, max=891221), HTML(value='')))"
      ]
     },
     "metadata": {},
     "output_type": "display_data"
    },
    {
     "name": "stdout",
     "output_type": "stream",
     "text": [
      "\n",
      "Processing D19_GESAMT_DATUM\n"
     ]
    },
    {
     "data": {
      "application/vnd.jupyter.widget-view+json": {
       "model_id": "515883d5517f402a8ba4e93bb084afd2",
       "version_major": 2,
       "version_minor": 0
      },
      "text/plain": [
       "HBox(children=(IntProgress(value=0, max=891221), HTML(value='')))"
      ]
     },
     "metadata": {},
     "output_type": "display_data"
    },
    {
     "name": "stdout",
     "output_type": "stream",
     "text": [
      "\n",
      "Processing D19_GESAMT_OFFLINE_DATUM\n"
     ]
    },
    {
     "data": {
      "application/vnd.jupyter.widget-view+json": {
       "model_id": "b8b31ddf7cd54d46bad68a7ac1eca49a",
       "version_major": 2,
       "version_minor": 0
      },
      "text/plain": [
       "HBox(children=(IntProgress(value=0, max=891221), HTML(value='')))"
      ]
     },
     "metadata": {},
     "output_type": "display_data"
    },
    {
     "name": "stdout",
     "output_type": "stream",
     "text": [
      "\n",
      "Processing D19_GESAMT_ONLINE_DATUM\n"
     ]
    },
    {
     "data": {
      "application/vnd.jupyter.widget-view+json": {
       "model_id": "e7de63667a094c45b362c0b062e850a1",
       "version_major": 2,
       "version_minor": 0
      },
      "text/plain": [
       "HBox(children=(IntProgress(value=0, max=891221), HTML(value='')))"
      ]
     },
     "metadata": {},
     "output_type": "display_data"
    },
    {
     "name": "stdout",
     "output_type": "stream",
     "text": [
      "\n",
      "Processing D19_HANDWERK\n"
     ]
    },
    {
     "data": {
      "application/vnd.jupyter.widget-view+json": {
       "model_id": "fc2f0e833c75448aa424a9811ef5bcfc",
       "version_major": 2,
       "version_minor": 0
      },
      "text/plain": [
       "HBox(children=(IntProgress(value=0, max=891221), HTML(value='')))"
      ]
     },
     "metadata": {},
     "output_type": "display_data"
    },
    {
     "name": "stdout",
     "output_type": "stream",
     "text": [
      "\n",
      "Processing D19_HAUS_DEKO\n"
     ]
    },
    {
     "data": {
      "application/vnd.jupyter.widget-view+json": {
       "model_id": "2d43c7d23cc4462db87791ef1acc335e",
       "version_major": 2,
       "version_minor": 0
      },
      "text/plain": [
       "HBox(children=(IntProgress(value=0, max=891221), HTML(value='')))"
      ]
     },
     "metadata": {},
     "output_type": "display_data"
    },
    {
     "name": "stdout",
     "output_type": "stream",
     "text": [
      "\n",
      "Processing D19_KINDERARTIKEL\n"
     ]
    },
    {
     "data": {
      "application/vnd.jupyter.widget-view+json": {
       "model_id": "a21705a8965844f1aa556b7d5138709d",
       "version_major": 2,
       "version_minor": 0
      },
      "text/plain": [
       "HBox(children=(IntProgress(value=0, max=891221), HTML(value='')))"
      ]
     },
     "metadata": {},
     "output_type": "display_data"
    },
    {
     "name": "stdout",
     "output_type": "stream",
     "text": [
      "\n",
      "Processing KK_KUNDENTYP\n"
     ]
    },
    {
     "data": {
      "application/vnd.jupyter.widget-view+json": {
       "model_id": "fea455d16d6f4113819b867d176dd4fa",
       "version_major": 2,
       "version_minor": 0
      },
      "text/plain": [
       "HBox(children=(IntProgress(value=0, max=891221), HTML(value='')))"
      ]
     },
     "metadata": {},
     "output_type": "display_data"
    },
    {
     "name": "stdout",
     "output_type": "stream",
     "text": [
      "\n",
      "Processing D19_KOSMETIK\n"
     ]
    },
    {
     "data": {
      "application/vnd.jupyter.widget-view+json": {
       "model_id": "1e06a39e285949b89f28ede4464eed6d",
       "version_major": 2,
       "version_minor": 0
      },
      "text/plain": [
       "HBox(children=(IntProgress(value=0, max=891221), HTML(value='')))"
      ]
     },
     "metadata": {},
     "output_type": "display_data"
    },
    {
     "name": "stdout",
     "output_type": "stream",
     "text": [
      "\n",
      "Processing D19_LEBENSMITTEL\n"
     ]
    },
    {
     "data": {
      "application/vnd.jupyter.widget-view+json": {
       "model_id": "a092d45efd854bf5b75b473fe1ddf940",
       "version_major": 2,
       "version_minor": 0
      },
      "text/plain": [
       "HBox(children=(IntProgress(value=0, max=891221), HTML(value='')))"
      ]
     },
     "metadata": {},
     "output_type": "display_data"
    },
    {
     "name": "stdout",
     "output_type": "stream",
     "text": [
      "\n",
      "Processing D19_LOTTO\n"
     ]
    },
    {
     "data": {
      "application/vnd.jupyter.widget-view+json": {
       "model_id": "57a9dc8818284ff7878074ae097fbf1d",
       "version_major": 2,
       "version_minor": 0
      },
      "text/plain": [
       "HBox(children=(IntProgress(value=0, max=891221), HTML(value='')))"
      ]
     },
     "metadata": {},
     "output_type": "display_data"
    },
    {
     "name": "stdout",
     "output_type": "stream",
     "text": [
      "\n",
      "Processing D19_NAHRUNGSERGAENZUNG\n"
     ]
    },
    {
     "data": {
      "application/vnd.jupyter.widget-view+json": {
       "model_id": "dc4f63d887524df093df5db4d6dd9089",
       "version_major": 2,
       "version_minor": 0
      },
      "text/plain": [
       "HBox(children=(IntProgress(value=0, max=891221), HTML(value='')))"
      ]
     },
     "metadata": {},
     "output_type": "display_data"
    },
    {
     "name": "stdout",
     "output_type": "stream",
     "text": [
      "\n",
      "Processing D19_RATGEBER\n"
     ]
    },
    {
     "data": {
      "application/vnd.jupyter.widget-view+json": {
       "model_id": "6705f8272023486aa5dfeedd43ead720",
       "version_major": 2,
       "version_minor": 0
      },
      "text/plain": [
       "HBox(children=(IntProgress(value=0, max=891221), HTML(value='')))"
      ]
     },
     "metadata": {},
     "output_type": "display_data"
    },
    {
     "name": "stdout",
     "output_type": "stream",
     "text": [
      "\n",
      "Processing D19_REISEN\n"
     ]
    },
    {
     "data": {
      "application/vnd.jupyter.widget-view+json": {
       "model_id": "ec15dc26727d4e9c99dcc32585afe926",
       "version_major": 2,
       "version_minor": 0
      },
      "text/plain": [
       "HBox(children=(IntProgress(value=0, max=891221), HTML(value='')))"
      ]
     },
     "metadata": {},
     "output_type": "display_data"
    },
    {
     "name": "stdout",
     "output_type": "stream",
     "text": [
      "\n",
      "Processing D19_SAMMELARTIKEL\n"
     ]
    },
    {
     "data": {
      "application/vnd.jupyter.widget-view+json": {
       "model_id": "5df3021173a84627ae97aac335fecf27",
       "version_major": 2,
       "version_minor": 0
      },
      "text/plain": [
       "HBox(children=(IntProgress(value=0, max=891221), HTML(value='')))"
      ]
     },
     "metadata": {},
     "output_type": "display_data"
    },
    {
     "name": "stdout",
     "output_type": "stream",
     "text": [
      "\n",
      "Processing D19_SCHUHE\n"
     ]
    },
    {
     "data": {
      "application/vnd.jupyter.widget-view+json": {
       "model_id": "88d83b17892c4808b5687e4ad9813603",
       "version_major": 2,
       "version_minor": 0
      },
      "text/plain": [
       "HBox(children=(IntProgress(value=0, max=891221), HTML(value='')))"
      ]
     },
     "metadata": {},
     "output_type": "display_data"
    },
    {
     "name": "stdout",
     "output_type": "stream",
     "text": [
      "\n",
      "Processing D19_SONSTIGE\n"
     ]
    },
    {
     "data": {
      "application/vnd.jupyter.widget-view+json": {
       "model_id": "921f5056367347a39a3020e22b0008d9",
       "version_major": 2,
       "version_minor": 0
      },
      "text/plain": [
       "HBox(children=(IntProgress(value=0, max=891221), HTML(value='')))"
      ]
     },
     "metadata": {},
     "output_type": "display_data"
    },
    {
     "name": "stdout",
     "output_type": "stream",
     "text": [
      "\n",
      "Processing D19_TECHNIK\n"
     ]
    },
    {
     "data": {
      "application/vnd.jupyter.widget-view+json": {
       "model_id": "ea989422eddf487f8ea4c57729ba568b",
       "version_major": 2,
       "version_minor": 0
      },
      "text/plain": [
       "HBox(children=(IntProgress(value=0, max=891221), HTML(value='')))"
      ]
     },
     "metadata": {},
     "output_type": "display_data"
    },
    {
     "name": "stdout",
     "output_type": "stream",
     "text": [
      "\n",
      "Processing D19_TELKO_ANZ_12\n"
     ]
    },
    {
     "data": {
      "application/vnd.jupyter.widget-view+json": {
       "model_id": "fd3bfd6d8d1f495fb0d1dac6ab7909b8",
       "version_major": 2,
       "version_minor": 0
      },
      "text/plain": [
       "HBox(children=(IntProgress(value=0, max=891221), HTML(value='')))"
      ]
     },
     "metadata": {},
     "output_type": "display_data"
    },
    {
     "name": "stdout",
     "output_type": "stream",
     "text": [
      "\n",
      "Processing D19_TELKO_ANZ_24\n"
     ]
    },
    {
     "data": {
      "application/vnd.jupyter.widget-view+json": {
       "model_id": "eb3c0d64675d4457baebd5964b539277",
       "version_major": 2,
       "version_minor": 0
      },
      "text/plain": [
       "HBox(children=(IntProgress(value=0, max=891221), HTML(value='')))"
      ]
     },
     "metadata": {},
     "output_type": "display_data"
    },
    {
     "name": "stdout",
     "output_type": "stream",
     "text": [
      "\n",
      "Processing D19_TELKO_DATUM\n"
     ]
    },
    {
     "data": {
      "application/vnd.jupyter.widget-view+json": {
       "model_id": "3493c4a4aa2b47c08caedf1689ee389f",
       "version_major": 2,
       "version_minor": 0
      },
      "text/plain": [
       "HBox(children=(IntProgress(value=0, max=891221), HTML(value='')))"
      ]
     },
     "metadata": {},
     "output_type": "display_data"
    },
    {
     "name": "stdout",
     "output_type": "stream",
     "text": [
      "\n",
      "Processing D19_TELKO_MOBILE\n"
     ]
    },
    {
     "data": {
      "application/vnd.jupyter.widget-view+json": {
       "model_id": "44385194c5d54fbe86703da823c8b496",
       "version_major": 2,
       "version_minor": 0
      },
      "text/plain": [
       "HBox(children=(IntProgress(value=0, max=891221), HTML(value='')))"
      ]
     },
     "metadata": {},
     "output_type": "display_data"
    },
    {
     "name": "stdout",
     "output_type": "stream",
     "text": [
      "\n",
      "Processing D19_TELKO_OFFLINE_DATUM\n"
     ]
    },
    {
     "data": {
      "application/vnd.jupyter.widget-view+json": {
       "model_id": "cae584106bab4910bbd7c1ba01e2962f",
       "version_major": 2,
       "version_minor": 0
      },
      "text/plain": [
       "HBox(children=(IntProgress(value=0, max=891221), HTML(value='')))"
      ]
     },
     "metadata": {},
     "output_type": "display_data"
    },
    {
     "name": "stdout",
     "output_type": "stream",
     "text": [
      "\n",
      "Processing D19_TELKO_ONLINE_DATUM\n"
     ]
    },
    {
     "data": {
      "application/vnd.jupyter.widget-view+json": {
       "model_id": "c6b01b8938f14177b60afc8791c9775a",
       "version_major": 2,
       "version_minor": 0
      },
      "text/plain": [
       "HBox(children=(IntProgress(value=0, max=891221), HTML(value='')))"
      ]
     },
     "metadata": {},
     "output_type": "display_data"
    },
    {
     "name": "stdout",
     "output_type": "stream",
     "text": [
      "\n",
      "Processing D19_TELKO_REST\n"
     ]
    },
    {
     "data": {
      "application/vnd.jupyter.widget-view+json": {
       "model_id": "33560f3b328447f492480eacec0f9d50",
       "version_major": 2,
       "version_minor": 0
      },
      "text/plain": [
       "HBox(children=(IntProgress(value=0, max=891221), HTML(value='')))"
      ]
     },
     "metadata": {},
     "output_type": "display_data"
    },
    {
     "name": "stdout",
     "output_type": "stream",
     "text": [
      "\n",
      "Processing D19_TIERARTIKEL\n"
     ]
    },
    {
     "data": {
      "application/vnd.jupyter.widget-view+json": {
       "model_id": "07fd37d055914b3bb14b28b28feabbb3",
       "version_major": 2,
       "version_minor": 0
      },
      "text/plain": [
       "HBox(children=(IntProgress(value=0, max=891221), HTML(value='')))"
      ]
     },
     "metadata": {},
     "output_type": "display_data"
    },
    {
     "name": "stdout",
     "output_type": "stream",
     "text": [
      "\n",
      "Processing D19_VERSAND_ANZ_12\n"
     ]
    },
    {
     "data": {
      "application/vnd.jupyter.widget-view+json": {
       "model_id": "05adcd447c244a508165a34b6332ccca",
       "version_major": 2,
       "version_minor": 0
      },
      "text/plain": [
       "HBox(children=(IntProgress(value=0, max=891221), HTML(value='')))"
      ]
     },
     "metadata": {},
     "output_type": "display_data"
    },
    {
     "name": "stdout",
     "output_type": "stream",
     "text": [
      "\n",
      "Processing D19_VERSAND_ANZ_24\n"
     ]
    },
    {
     "data": {
      "application/vnd.jupyter.widget-view+json": {
       "model_id": "35aedf52f49449f2a8d04366db3c8f41",
       "version_major": 2,
       "version_minor": 0
      },
      "text/plain": [
       "HBox(children=(IntProgress(value=0, max=891221), HTML(value='')))"
      ]
     },
     "metadata": {},
     "output_type": "display_data"
    },
    {
     "name": "stdout",
     "output_type": "stream",
     "text": [
      "\n",
      "Processing D19_VERSAND_DATUM\n"
     ]
    },
    {
     "data": {
      "application/vnd.jupyter.widget-view+json": {
       "model_id": "ab6fee2068b84cd3b3c2541d0a86c01d",
       "version_major": 2,
       "version_minor": 0
      },
      "text/plain": [
       "HBox(children=(IntProgress(value=0, max=891221), HTML(value='')))"
      ]
     },
     "metadata": {},
     "output_type": "display_data"
    },
    {
     "name": "stdout",
     "output_type": "stream",
     "text": [
      "\n",
      "Processing D19_VERSAND_OFFLINE_DATUM\n"
     ]
    },
    {
     "data": {
      "application/vnd.jupyter.widget-view+json": {
       "model_id": "4f567891915b4b8290c6c2f887d08f6c",
       "version_major": 2,
       "version_minor": 0
      },
      "text/plain": [
       "HBox(children=(IntProgress(value=0, max=891221), HTML(value='')))"
      ]
     },
     "metadata": {},
     "output_type": "display_data"
    },
    {
     "name": "stdout",
     "output_type": "stream",
     "text": [
      "\n",
      "Processing D19_VERSAND_ONLINE_DATUM\n"
     ]
    },
    {
     "data": {
      "application/vnd.jupyter.widget-view+json": {
       "model_id": "1b437e30ad10417f94211c0046226236",
       "version_major": 2,
       "version_minor": 0
      },
      "text/plain": [
       "HBox(children=(IntProgress(value=0, max=891221), HTML(value='')))"
      ]
     },
     "metadata": {},
     "output_type": "display_data"
    },
    {
     "name": "stdout",
     "output_type": "stream",
     "text": [
      "\n",
      "Processing D19_VERSAND_REST\n"
     ]
    },
    {
     "data": {
      "application/vnd.jupyter.widget-view+json": {
       "model_id": "f18fdf57befc4573a3465520073649b6",
       "version_major": 2,
       "version_minor": 0
      },
      "text/plain": [
       "HBox(children=(IntProgress(value=0, max=891221), HTML(value='')))"
      ]
     },
     "metadata": {},
     "output_type": "display_data"
    },
    {
     "name": "stdout",
     "output_type": "stream",
     "text": [
      "\n",
      "Processing D19_VERSICHERUNGEN\n"
     ]
    },
    {
     "data": {
      "application/vnd.jupyter.widget-view+json": {
       "model_id": "37b8377734394e6ebbddc7fc67392362",
       "version_major": 2,
       "version_minor": 0
      },
      "text/plain": [
       "HBox(children=(IntProgress(value=0, max=891221), HTML(value='')))"
      ]
     },
     "metadata": {},
     "output_type": "display_data"
    },
    {
     "name": "stdout",
     "output_type": "stream",
     "text": [
      "\n",
      "Processing D19_VERSI_ANZ_12\n"
     ]
    },
    {
     "data": {
      "application/vnd.jupyter.widget-view+json": {
       "model_id": "536240ce900044c0846fee15fa8cc526",
       "version_major": 2,
       "version_minor": 0
      },
      "text/plain": [
       "HBox(children=(IntProgress(value=0, max=891221), HTML(value='')))"
      ]
     },
     "metadata": {},
     "output_type": "display_data"
    },
    {
     "name": "stdout",
     "output_type": "stream",
     "text": [
      "\n",
      "Processing D19_VERSI_ANZ_24\n"
     ]
    },
    {
     "data": {
      "application/vnd.jupyter.widget-view+json": {
       "model_id": "10f053105da3435594161d77ad9fc0b6",
       "version_major": 2,
       "version_minor": 0
      },
      "text/plain": [
       "HBox(children=(IntProgress(value=0, max=891221), HTML(value='')))"
      ]
     },
     "metadata": {},
     "output_type": "display_data"
    },
    {
     "name": "stdout",
     "output_type": "stream",
     "text": [
      "\n",
      "Processing D19_VOLLSORTIMENT\n"
     ]
    },
    {
     "data": {
      "application/vnd.jupyter.widget-view+json": {
       "model_id": "18beeaf918844795899ac7ed4574b210",
       "version_major": 2,
       "version_minor": 0
      },
      "text/plain": [
       "HBox(children=(IntProgress(value=0, max=891221), HTML(value='')))"
      ]
     },
     "metadata": {},
     "output_type": "display_data"
    },
    {
     "name": "stdout",
     "output_type": "stream",
     "text": [
      "\n",
      "Processing D19_WEIN_FEINKOST\n"
     ]
    },
    {
     "data": {
      "application/vnd.jupyter.widget-view+json": {
       "model_id": "c5ac3a670ef549a4a228fbe7dcffa715",
       "version_major": 2,
       "version_minor": 0
      },
      "text/plain": [
       "HBox(children=(IntProgress(value=0, max=891221), HTML(value='')))"
      ]
     },
     "metadata": {},
     "output_type": "display_data"
    },
    {
     "name": "stdout",
     "output_type": "stream",
     "text": [
      "\n",
      "Processing EWDICHTE\n"
     ]
    },
    {
     "data": {
      "application/vnd.jupyter.widget-view+json": {
       "model_id": "5339b6e02a9343629e0485782546b8f3",
       "version_major": 2,
       "version_minor": 0
      },
      "text/plain": [
       "HBox(children=(IntProgress(value=0, max=891221), HTML(value='')))"
      ]
     },
     "metadata": {},
     "output_type": "display_data"
    },
    {
     "name": "stdout",
     "output_type": "stream",
     "text": [
      "\n",
      "Processing FINANZTYP\n"
     ]
    },
    {
     "data": {
      "application/vnd.jupyter.widget-view+json": {
       "model_id": "70f537f82c18453dae34fee173f0764b",
       "version_major": 2,
       "version_minor": 0
      },
      "text/plain": [
       "HBox(children=(IntProgress(value=0, max=891221), HTML(value='')))"
      ]
     },
     "metadata": {},
     "output_type": "display_data"
    },
    {
     "name": "stdout",
     "output_type": "stream",
     "text": [
      "\n",
      "Processing FINANZ_ANLEGER\n"
     ]
    },
    {
     "data": {
      "application/vnd.jupyter.widget-view+json": {
       "model_id": "433d3b76e3df42a2b3d561fc25cba83a",
       "version_major": 2,
       "version_minor": 0
      },
      "text/plain": [
       "HBox(children=(IntProgress(value=0, max=891221), HTML(value='')))"
      ]
     },
     "metadata": {},
     "output_type": "display_data"
    },
    {
     "name": "stdout",
     "output_type": "stream",
     "text": [
      "\n",
      "Processing FINANZ_HAUSBAUER\n"
     ]
    },
    {
     "data": {
      "application/vnd.jupyter.widget-view+json": {
       "model_id": "d8247db6a8ac40b8a496e6940868c96b",
       "version_major": 2,
       "version_minor": 0
      },
      "text/plain": [
       "HBox(children=(IntProgress(value=0, max=891221), HTML(value='')))"
      ]
     },
     "metadata": {},
     "output_type": "display_data"
    },
    {
     "name": "stdout",
     "output_type": "stream",
     "text": [
      "\n",
      "Processing FINANZ_MINIMALIST\n"
     ]
    },
    {
     "data": {
      "application/vnd.jupyter.widget-view+json": {
       "model_id": "e668062f56db49e8a7e566fad1872870",
       "version_major": 2,
       "version_minor": 0
      },
      "text/plain": [
       "HBox(children=(IntProgress(value=0, max=891221), HTML(value='')))"
      ]
     },
     "metadata": {},
     "output_type": "display_data"
    },
    {
     "name": "stdout",
     "output_type": "stream",
     "text": [
      "\n",
      "Processing FINANZ_SPARER\n"
     ]
    },
    {
     "data": {
      "application/vnd.jupyter.widget-view+json": {
       "model_id": "d14cebe3ac6f445ebbfd9283fcbdcf69",
       "version_major": 2,
       "version_minor": 0
      },
      "text/plain": [
       "HBox(children=(IntProgress(value=0, max=891221), HTML(value='')))"
      ]
     },
     "metadata": {},
     "output_type": "display_data"
    },
    {
     "name": "stdout",
     "output_type": "stream",
     "text": [
      "\n",
      "Processing FINANZ_UNAUFFAELLIGER\n"
     ]
    },
    {
     "data": {
      "application/vnd.jupyter.widget-view+json": {
       "model_id": "9792369b801145ac9e23896136949140",
       "version_major": 2,
       "version_minor": 0
      },
      "text/plain": [
       "HBox(children=(IntProgress(value=0, max=891221), HTML(value='')))"
      ]
     },
     "metadata": {},
     "output_type": "display_data"
    },
    {
     "name": "stdout",
     "output_type": "stream",
     "text": [
      "\n",
      "Processing FINANZ_VORSORGER\n"
     ]
    },
    {
     "data": {
      "application/vnd.jupyter.widget-view+json": {
       "model_id": "f773023fda92493cb89f19b5a4bd29e5",
       "version_major": 2,
       "version_minor": 0
      },
      "text/plain": [
       "HBox(children=(IntProgress(value=0, max=891221), HTML(value='')))"
      ]
     },
     "metadata": {},
     "output_type": "display_data"
    },
    {
     "name": "stdout",
     "output_type": "stream",
     "text": [
      "\n",
      "Processing GEBAEUDETYP\n"
     ]
    },
    {
     "data": {
      "application/vnd.jupyter.widget-view+json": {
       "model_id": "f063c0e8b8fb43cb84129558439dfa69",
       "version_major": 2,
       "version_minor": 0
      },
      "text/plain": [
       "HBox(children=(IntProgress(value=0, max=891221), HTML(value='')))"
      ]
     },
     "metadata": {},
     "output_type": "display_data"
    },
    {
     "name": "stdout",
     "output_type": "stream",
     "text": [
      "\n",
      "Processing GEBURTSJAHR\n"
     ]
    },
    {
     "data": {
      "application/vnd.jupyter.widget-view+json": {
       "model_id": "b2ecfb6848cd46058a565d4dbdbb4c7a",
       "version_major": 2,
       "version_minor": 0
      },
      "text/plain": [
       "HBox(children=(IntProgress(value=0, max=891221), HTML(value='')))"
      ]
     },
     "metadata": {},
     "output_type": "display_data"
    },
    {
     "name": "stdout",
     "output_type": "stream",
     "text": [
      "\n",
      "Processing HEALTH_TYP\n"
     ]
    },
    {
     "data": {
      "application/vnd.jupyter.widget-view+json": {
       "model_id": "733128e86cc94501ab63f93566a528bb",
       "version_major": 2,
       "version_minor": 0
      },
      "text/plain": [
       "HBox(children=(IntProgress(value=0, max=891221), HTML(value='')))"
      ]
     },
     "metadata": {},
     "output_type": "display_data"
    },
    {
     "name": "stdout",
     "output_type": "stream",
     "text": [
      "\n",
      "Processing HH_EINKOMMEN_SCORE\n"
     ]
    },
    {
     "data": {
      "application/vnd.jupyter.widget-view+json": {
       "model_id": "3c1c1cb5451342ae9132ba0b1d79c4f6",
       "version_major": 2,
       "version_minor": 0
      },
      "text/plain": [
       "HBox(children=(IntProgress(value=0, max=891221), HTML(value='')))"
      ]
     },
     "metadata": {},
     "output_type": "display_data"
    },
    {
     "name": "stdout",
     "output_type": "stream",
     "text": [
      "\n",
      "Processing INNENSTADT\n"
     ]
    },
    {
     "data": {
      "application/vnd.jupyter.widget-view+json": {
       "model_id": "101fa91c0cd44cb0927f18cd3039e507",
       "version_major": 2,
       "version_minor": 0
      },
      "text/plain": [
       "HBox(children=(IntProgress(value=0, max=891221), HTML(value='')))"
      ]
     },
     "metadata": {},
     "output_type": "display_data"
    },
    {
     "name": "stdout",
     "output_type": "stream",
     "text": [
      "\n",
      "Processing KBA05_ALTER1\n"
     ]
    },
    {
     "data": {
      "application/vnd.jupyter.widget-view+json": {
       "model_id": "13b7fb57af5c4ce98a711a7bd4fca02d",
       "version_major": 2,
       "version_minor": 0
      },
      "text/plain": [
       "HBox(children=(IntProgress(value=0, max=891221), HTML(value='')))"
      ]
     },
     "metadata": {},
     "output_type": "display_data"
    },
    {
     "name": "stdout",
     "output_type": "stream",
     "text": [
      "\n",
      "Processing KBA05_ALTER2\n"
     ]
    },
    {
     "data": {
      "application/vnd.jupyter.widget-view+json": {
       "model_id": "2cdf9af9cb6f4f3694ea093382a255c8",
       "version_major": 2,
       "version_minor": 0
      },
      "text/plain": [
       "HBox(children=(IntProgress(value=0, max=891221), HTML(value='')))"
      ]
     },
     "metadata": {},
     "output_type": "display_data"
    },
    {
     "name": "stdout",
     "output_type": "stream",
     "text": [
      "\n",
      "Processing KBA05_ALTER3\n"
     ]
    },
    {
     "data": {
      "application/vnd.jupyter.widget-view+json": {
       "model_id": "846a269741fd4a54959fc6cc4ec7ae0c",
       "version_major": 2,
       "version_minor": 0
      },
      "text/plain": [
       "HBox(children=(IntProgress(value=0, max=891221), HTML(value='')))"
      ]
     },
     "metadata": {},
     "output_type": "display_data"
    },
    {
     "name": "stdout",
     "output_type": "stream",
     "text": [
      "\n",
      "Processing KBA05_ALTER4\n"
     ]
    },
    {
     "data": {
      "application/vnd.jupyter.widget-view+json": {
       "model_id": "2073931d50664e80a8338966b179761f",
       "version_major": 2,
       "version_minor": 0
      },
      "text/plain": [
       "HBox(children=(IntProgress(value=0, max=891221), HTML(value='')))"
      ]
     },
     "metadata": {},
     "output_type": "display_data"
    },
    {
     "name": "stdout",
     "output_type": "stream",
     "text": [
      "\n",
      "Processing KBA05_ANHANG\n"
     ]
    },
    {
     "data": {
      "application/vnd.jupyter.widget-view+json": {
       "model_id": "6a8151b115a84664a1cf7ab60fc3e7d2",
       "version_major": 2,
       "version_minor": 0
      },
      "text/plain": [
       "HBox(children=(IntProgress(value=0, max=891221), HTML(value='')))"
      ]
     },
     "metadata": {},
     "output_type": "display_data"
    },
    {
     "name": "stdout",
     "output_type": "stream",
     "text": [
      "\n",
      "Processing KBA05_ANTG1\n"
     ]
    },
    {
     "data": {
      "application/vnd.jupyter.widget-view+json": {
       "model_id": "56f64abb7aa743eba320c4fc1f22a571",
       "version_major": 2,
       "version_minor": 0
      },
      "text/plain": [
       "HBox(children=(IntProgress(value=0, max=891221), HTML(value='')))"
      ]
     },
     "metadata": {},
     "output_type": "display_data"
    },
    {
     "name": "stdout",
     "output_type": "stream",
     "text": [
      "\n",
      "Processing KBA05_ANTG2\n"
     ]
    },
    {
     "data": {
      "application/vnd.jupyter.widget-view+json": {
       "model_id": "0567d0b26e0f48ff87ba2df8c70d0b22",
       "version_major": 2,
       "version_minor": 0
      },
      "text/plain": [
       "HBox(children=(IntProgress(value=0, max=891221), HTML(value='')))"
      ]
     },
     "metadata": {},
     "output_type": "display_data"
    },
    {
     "name": "stdout",
     "output_type": "stream",
     "text": [
      "\n",
      "Processing KBA05_ANTG3\n"
     ]
    },
    {
     "data": {
      "application/vnd.jupyter.widget-view+json": {
       "model_id": "f50524f8aa1c4b668bb4c1a993d00dec",
       "version_major": 2,
       "version_minor": 0
      },
      "text/plain": [
       "HBox(children=(IntProgress(value=0, max=891221), HTML(value='')))"
      ]
     },
     "metadata": {},
     "output_type": "display_data"
    },
    {
     "name": "stdout",
     "output_type": "stream",
     "text": [
      "\n",
      "Processing KBA05_ANTG4\n"
     ]
    },
    {
     "data": {
      "application/vnd.jupyter.widget-view+json": {
       "model_id": "327a26bdddef4cab837db9a9b1b2794b",
       "version_major": 2,
       "version_minor": 0
      },
      "text/plain": [
       "HBox(children=(IntProgress(value=0, max=891221), HTML(value='')))"
      ]
     },
     "metadata": {},
     "output_type": "display_data"
    },
    {
     "name": "stdout",
     "output_type": "stream",
     "text": [
      "\n",
      "Processing KBA05_AUTOQUOT\n"
     ]
    },
    {
     "data": {
      "application/vnd.jupyter.widget-view+json": {
       "model_id": "e46accb4cf554fbeb418682d666f544c",
       "version_major": 2,
       "version_minor": 0
      },
      "text/plain": [
       "HBox(children=(IntProgress(value=0, max=891221), HTML(value='')))"
      ]
     },
     "metadata": {},
     "output_type": "display_data"
    },
    {
     "name": "stdout",
     "output_type": "stream",
     "text": [
      "\n",
      "Processing KBA05_BAUMAX\n"
     ]
    },
    {
     "data": {
      "application/vnd.jupyter.widget-view+json": {
       "model_id": "310e6fda10a04e449b6e39ff241388c6",
       "version_major": 2,
       "version_minor": 0
      },
      "text/plain": [
       "HBox(children=(IntProgress(value=0, max=891221), HTML(value='')))"
      ]
     },
     "metadata": {},
     "output_type": "display_data"
    },
    {
     "name": "stdout",
     "output_type": "stream",
     "text": [
      "\n",
      "Processing KBA05_CCM1\n"
     ]
    },
    {
     "data": {
      "application/vnd.jupyter.widget-view+json": {
       "model_id": "44d7582c4e3e41cd9540594071e422d8",
       "version_major": 2,
       "version_minor": 0
      },
      "text/plain": [
       "HBox(children=(IntProgress(value=0, max=891221), HTML(value='')))"
      ]
     },
     "metadata": {},
     "output_type": "display_data"
    },
    {
     "name": "stdout",
     "output_type": "stream",
     "text": [
      "\n",
      "Processing KBA05_CCM2\n"
     ]
    },
    {
     "data": {
      "application/vnd.jupyter.widget-view+json": {
       "model_id": "5b8599840d32494e970bfd7155b130ab",
       "version_major": 2,
       "version_minor": 0
      },
      "text/plain": [
       "HBox(children=(IntProgress(value=0, max=891221), HTML(value='')))"
      ]
     },
     "metadata": {},
     "output_type": "display_data"
    },
    {
     "name": "stdout",
     "output_type": "stream",
     "text": [
      "\n",
      "Processing KBA05_CCM3\n"
     ]
    },
    {
     "data": {
      "application/vnd.jupyter.widget-view+json": {
       "model_id": "c9154386ca174144910dab96278bfaa9",
       "version_major": 2,
       "version_minor": 0
      },
      "text/plain": [
       "HBox(children=(IntProgress(value=0, max=891221), HTML(value='')))"
      ]
     },
     "metadata": {},
     "output_type": "display_data"
    },
    {
     "name": "stdout",
     "output_type": "stream",
     "text": [
      "\n",
      "Processing KBA05_CCM4\n"
     ]
    },
    {
     "data": {
      "application/vnd.jupyter.widget-view+json": {
       "model_id": "c3c89cedabc34ea8bdf3c24aee4a436a",
       "version_major": 2,
       "version_minor": 0
      },
      "text/plain": [
       "HBox(children=(IntProgress(value=0, max=891221), HTML(value='')))"
      ]
     },
     "metadata": {},
     "output_type": "display_data"
    },
    {
     "name": "stdout",
     "output_type": "stream",
     "text": [
      "\n",
      "Processing KBA05_DIESEL\n"
     ]
    },
    {
     "data": {
      "application/vnd.jupyter.widget-view+json": {
       "model_id": "467f5b52ab334ba3b62a7b5130a3d649",
       "version_major": 2,
       "version_minor": 0
      },
      "text/plain": [
       "HBox(children=(IntProgress(value=0, max=891221), HTML(value='')))"
      ]
     },
     "metadata": {},
     "output_type": "display_data"
    },
    {
     "name": "stdout",
     "output_type": "stream",
     "text": [
      "\n",
      "Processing KBA05_FRAU\n"
     ]
    },
    {
     "data": {
      "application/vnd.jupyter.widget-view+json": {
       "model_id": "b27809280e64463a8b74e5d286a101e0",
       "version_major": 2,
       "version_minor": 0
      },
      "text/plain": [
       "HBox(children=(IntProgress(value=0, max=891221), HTML(value='')))"
      ]
     },
     "metadata": {},
     "output_type": "display_data"
    },
    {
     "name": "stdout",
     "output_type": "stream",
     "text": [
      "\n",
      "Processing KBA05_GBZ\n"
     ]
    },
    {
     "data": {
      "application/vnd.jupyter.widget-view+json": {
       "model_id": "f64c5c25e72641acb4605492244914d2",
       "version_major": 2,
       "version_minor": 0
      },
      "text/plain": [
       "HBox(children=(IntProgress(value=0, max=891221), HTML(value='')))"
      ]
     },
     "metadata": {},
     "output_type": "display_data"
    },
    {
     "name": "stdout",
     "output_type": "stream",
     "text": [
      "\n",
      "Processing KBA05_HERST1\n"
     ]
    },
    {
     "data": {
      "application/vnd.jupyter.widget-view+json": {
       "model_id": "7fe3dd3500f7496dab7364bdb8fe94f5",
       "version_major": 2,
       "version_minor": 0
      },
      "text/plain": [
       "HBox(children=(IntProgress(value=0, max=891221), HTML(value='')))"
      ]
     },
     "metadata": {},
     "output_type": "display_data"
    },
    {
     "name": "stdout",
     "output_type": "stream",
     "text": [
      "\n",
      "Processing KBA05_HERST2\n"
     ]
    },
    {
     "data": {
      "application/vnd.jupyter.widget-view+json": {
       "model_id": "1462e497fc4d4fdb89577d2464a3bcbd",
       "version_major": 2,
       "version_minor": 0
      },
      "text/plain": [
       "HBox(children=(IntProgress(value=0, max=891221), HTML(value='')))"
      ]
     },
     "metadata": {},
     "output_type": "display_data"
    },
    {
     "name": "stdout",
     "output_type": "stream",
     "text": [
      "\n",
      "Processing KBA05_HERST3\n"
     ]
    },
    {
     "data": {
      "application/vnd.jupyter.widget-view+json": {
       "model_id": "63b80fa9135e43e8aab6b857b0056bb1",
       "version_major": 2,
       "version_minor": 0
      },
      "text/plain": [
       "HBox(children=(IntProgress(value=0, max=891221), HTML(value='')))"
      ]
     },
     "metadata": {},
     "output_type": "display_data"
    },
    {
     "name": "stdout",
     "output_type": "stream",
     "text": [
      "\n",
      "Processing KBA05_HERST4\n"
     ]
    },
    {
     "data": {
      "application/vnd.jupyter.widget-view+json": {
       "model_id": "2fa65fe2921f43869b2bd110c60d1e15",
       "version_major": 2,
       "version_minor": 0
      },
      "text/plain": [
       "HBox(children=(IntProgress(value=0, max=891221), HTML(value='')))"
      ]
     },
     "metadata": {},
     "output_type": "display_data"
    },
    {
     "name": "stdout",
     "output_type": "stream",
     "text": [
      "\n",
      "Processing KBA05_HERST5\n"
     ]
    },
    {
     "data": {
      "application/vnd.jupyter.widget-view+json": {
       "model_id": "e9442b97a81c483888898467e1f8e07b",
       "version_major": 2,
       "version_minor": 0
      },
      "text/plain": [
       "HBox(children=(IntProgress(value=0, max=891221), HTML(value='')))"
      ]
     },
     "metadata": {},
     "output_type": "display_data"
    },
    {
     "name": "stdout",
     "output_type": "stream",
     "text": [
      "\n",
      "Processing KBA05_HERSTTEMP\n"
     ]
    },
    {
     "data": {
      "application/vnd.jupyter.widget-view+json": {
       "model_id": "eb4634423c0343e284f89f541dfebc58",
       "version_major": 2,
       "version_minor": 0
      },
      "text/plain": [
       "HBox(children=(IntProgress(value=0, max=891221), HTML(value='')))"
      ]
     },
     "metadata": {},
     "output_type": "display_data"
    },
    {
     "name": "stdout",
     "output_type": "stream",
     "text": [
      "\n",
      "Processing KBA05_KRSAQUOT\n"
     ]
    },
    {
     "data": {
      "application/vnd.jupyter.widget-view+json": {
       "model_id": "6c806a23a5254e27891c8a0897383ba4",
       "version_major": 2,
       "version_minor": 0
      },
      "text/plain": [
       "HBox(children=(IntProgress(value=0, max=891221), HTML(value='')))"
      ]
     },
     "metadata": {},
     "output_type": "display_data"
    },
    {
     "name": "stdout",
     "output_type": "stream",
     "text": [
      "\n",
      "Processing KBA05_KRSHERST1\n"
     ]
    },
    {
     "data": {
      "application/vnd.jupyter.widget-view+json": {
       "model_id": "b91a5db2fa0d4ce590dbbf072a79b5b1",
       "version_major": 2,
       "version_minor": 0
      },
      "text/plain": [
       "HBox(children=(IntProgress(value=0, max=891221), HTML(value='')))"
      ]
     },
     "metadata": {},
     "output_type": "display_data"
    },
    {
     "name": "stdout",
     "output_type": "stream",
     "text": [
      "\n",
      "Processing KBA05_KRSHERST2\n"
     ]
    },
    {
     "data": {
      "application/vnd.jupyter.widget-view+json": {
       "model_id": "bcc4275549e9461096fb61525c5bddd7",
       "version_major": 2,
       "version_minor": 0
      },
      "text/plain": [
       "HBox(children=(IntProgress(value=0, max=891221), HTML(value='')))"
      ]
     },
     "metadata": {},
     "output_type": "display_data"
    },
    {
     "name": "stdout",
     "output_type": "stream",
     "text": [
      "\n",
      "Processing KBA05_KRSHERST3\n"
     ]
    },
    {
     "data": {
      "application/vnd.jupyter.widget-view+json": {
       "model_id": "42ff34912b4e4a9dbe53c4792ae24045",
       "version_major": 2,
       "version_minor": 0
      },
      "text/plain": [
       "HBox(children=(IntProgress(value=0, max=891221), HTML(value='')))"
      ]
     },
     "metadata": {},
     "output_type": "display_data"
    },
    {
     "name": "stdout",
     "output_type": "stream",
     "text": [
      "\n",
      "Processing KBA05_KRSKLEIN\n"
     ]
    },
    {
     "data": {
      "application/vnd.jupyter.widget-view+json": {
       "model_id": "c3e6b7344b174d6d8abb522647e2ab20",
       "version_major": 2,
       "version_minor": 0
      },
      "text/plain": [
       "HBox(children=(IntProgress(value=0, max=891221), HTML(value='')))"
      ]
     },
     "metadata": {},
     "output_type": "display_data"
    },
    {
     "name": "stdout",
     "output_type": "stream",
     "text": [
      "\n",
      "Processing KBA05_KRSOBER\n"
     ]
    },
    {
     "data": {
      "application/vnd.jupyter.widget-view+json": {
       "model_id": "a2b9662db8734ab6beacc18494c4a065",
       "version_major": 2,
       "version_minor": 0
      },
      "text/plain": [
       "HBox(children=(IntProgress(value=0, max=891221), HTML(value='')))"
      ]
     },
     "metadata": {},
     "output_type": "display_data"
    },
    {
     "name": "stdout",
     "output_type": "stream",
     "text": [
      "\n",
      "Processing KBA05_KRSVAN\n"
     ]
    },
    {
     "data": {
      "application/vnd.jupyter.widget-view+json": {
       "model_id": "7db571f97f7b45e0b7a7d00bc2b10ba9",
       "version_major": 2,
       "version_minor": 0
      },
      "text/plain": [
       "HBox(children=(IntProgress(value=0, max=891221), HTML(value='')))"
      ]
     },
     "metadata": {},
     "output_type": "display_data"
    },
    {
     "name": "stdout",
     "output_type": "stream",
     "text": [
      "\n",
      "Processing KBA05_KRSZUL\n"
     ]
    },
    {
     "data": {
      "application/vnd.jupyter.widget-view+json": {
       "model_id": "9ec097ea6fc54dbe881fd4aef021bfdd",
       "version_major": 2,
       "version_minor": 0
      },
      "text/plain": [
       "HBox(children=(IntProgress(value=0, max=891221), HTML(value='')))"
      ]
     },
     "metadata": {},
     "output_type": "display_data"
    },
    {
     "name": "stdout",
     "output_type": "stream",
     "text": [
      "\n",
      "Processing KBA05_KW1\n"
     ]
    },
    {
     "data": {
      "application/vnd.jupyter.widget-view+json": {
       "model_id": "f9c2d57dad8e4a47b10065ec6a2037a6",
       "version_major": 2,
       "version_minor": 0
      },
      "text/plain": [
       "HBox(children=(IntProgress(value=0, max=891221), HTML(value='')))"
      ]
     },
     "metadata": {},
     "output_type": "display_data"
    },
    {
     "name": "stdout",
     "output_type": "stream",
     "text": [
      "\n",
      "Processing KBA05_KW2\n"
     ]
    },
    {
     "data": {
      "application/vnd.jupyter.widget-view+json": {
       "model_id": "68d34b8139ac4aaaada7f40ef308a06e",
       "version_major": 2,
       "version_minor": 0
      },
      "text/plain": [
       "HBox(children=(IntProgress(value=0, max=891221), HTML(value='')))"
      ]
     },
     "metadata": {},
     "output_type": "display_data"
    },
    {
     "name": "stdout",
     "output_type": "stream",
     "text": [
      "\n",
      "Processing KBA05_KW3\n"
     ]
    },
    {
     "data": {
      "application/vnd.jupyter.widget-view+json": {
       "model_id": "77f3355952f4463b83644eb1c26e2479",
       "version_major": 2,
       "version_minor": 0
      },
      "text/plain": [
       "HBox(children=(IntProgress(value=0, max=891221), HTML(value='')))"
      ]
     },
     "metadata": {},
     "output_type": "display_data"
    },
    {
     "name": "stdout",
     "output_type": "stream",
     "text": [
      "\n",
      "Processing KBA05_MAXAH\n"
     ]
    },
    {
     "data": {
      "application/vnd.jupyter.widget-view+json": {
       "model_id": "69313de21a224b03ab3e7781656e1371",
       "version_major": 2,
       "version_minor": 0
      },
      "text/plain": [
       "HBox(children=(IntProgress(value=0, max=891221), HTML(value='')))"
      ]
     },
     "metadata": {},
     "output_type": "display_data"
    },
    {
     "name": "stdout",
     "output_type": "stream",
     "text": [
      "\n",
      "Processing KBA05_MAXBJ\n"
     ]
    },
    {
     "data": {
      "application/vnd.jupyter.widget-view+json": {
       "model_id": "090e3b18363242d294fcc503eac57b73",
       "version_major": 2,
       "version_minor": 0
      },
      "text/plain": [
       "HBox(children=(IntProgress(value=0, max=891221), HTML(value='')))"
      ]
     },
     "metadata": {},
     "output_type": "display_data"
    },
    {
     "name": "stdout",
     "output_type": "stream",
     "text": [
      "\n",
      "Processing KBA05_MAXHERST\n"
     ]
    },
    {
     "data": {
      "application/vnd.jupyter.widget-view+json": {
       "model_id": "f3cc0f1e60be4549aacc4ae716a4be68",
       "version_major": 2,
       "version_minor": 0
      },
      "text/plain": [
       "HBox(children=(IntProgress(value=0, max=891221), HTML(value='')))"
      ]
     },
     "metadata": {},
     "output_type": "display_data"
    },
    {
     "name": "stdout",
     "output_type": "stream",
     "text": [
      "\n",
      "Processing KBA05_MAXSEG\n"
     ]
    },
    {
     "data": {
      "application/vnd.jupyter.widget-view+json": {
       "model_id": "b36f93163086467bace2f698d332bde7",
       "version_major": 2,
       "version_minor": 0
      },
      "text/plain": [
       "HBox(children=(IntProgress(value=0, max=891221), HTML(value='')))"
      ]
     },
     "metadata": {},
     "output_type": "display_data"
    },
    {
     "name": "stdout",
     "output_type": "stream",
     "text": [
      "\n",
      "Processing KBA05_MAXVORB\n"
     ]
    },
    {
     "data": {
      "application/vnd.jupyter.widget-view+json": {
       "model_id": "1b682d81c6734a28b2948c3e4f66ea20",
       "version_major": 2,
       "version_minor": 0
      },
      "text/plain": [
       "HBox(children=(IntProgress(value=0, max=891221), HTML(value='')))"
      ]
     },
     "metadata": {},
     "output_type": "display_data"
    },
    {
     "name": "stdout",
     "output_type": "stream",
     "text": [
      "\n",
      "Processing KBA05_MOD1\n"
     ]
    },
    {
     "data": {
      "application/vnd.jupyter.widget-view+json": {
       "model_id": "d8c6d72b33664c67bb047a29098881f5",
       "version_major": 2,
       "version_minor": 0
      },
      "text/plain": [
       "HBox(children=(IntProgress(value=0, max=891221), HTML(value='')))"
      ]
     },
     "metadata": {},
     "output_type": "display_data"
    },
    {
     "name": "stdout",
     "output_type": "stream",
     "text": [
      "\n",
      "Processing KBA05_MOD2\n"
     ]
    },
    {
     "data": {
      "application/vnd.jupyter.widget-view+json": {
       "model_id": "d008809475a241a0901377352191de43",
       "version_major": 2,
       "version_minor": 0
      },
      "text/plain": [
       "HBox(children=(IntProgress(value=0, max=891221), HTML(value='')))"
      ]
     },
     "metadata": {},
     "output_type": "display_data"
    },
    {
     "name": "stdout",
     "output_type": "stream",
     "text": [
      "\n",
      "Processing KBA05_MOD3\n"
     ]
    },
    {
     "data": {
      "application/vnd.jupyter.widget-view+json": {
       "model_id": "ab9e4208febf41aaa800a4e57d21bdbd",
       "version_major": 2,
       "version_minor": 0
      },
      "text/plain": [
       "HBox(children=(IntProgress(value=0, max=891221), HTML(value='')))"
      ]
     },
     "metadata": {},
     "output_type": "display_data"
    },
    {
     "name": "stdout",
     "output_type": "stream",
     "text": [
      "\n",
      "Processing KBA05_MOD4\n"
     ]
    },
    {
     "data": {
      "application/vnd.jupyter.widget-view+json": {
       "model_id": "694c0ea3eb3e4380b5e72454f2f9c018",
       "version_major": 2,
       "version_minor": 0
      },
      "text/plain": [
       "HBox(children=(IntProgress(value=0, max=891221), HTML(value='')))"
      ]
     },
     "metadata": {},
     "output_type": "display_data"
    },
    {
     "name": "stdout",
     "output_type": "stream",
     "text": [
      "\n",
      "Processing KBA05_MOD8\n"
     ]
    },
    {
     "data": {
      "application/vnd.jupyter.widget-view+json": {
       "model_id": "71f13ed8c8f143ebb89d91b0d8405fb7",
       "version_major": 2,
       "version_minor": 0
      },
      "text/plain": [
       "HBox(children=(IntProgress(value=0, max=891221), HTML(value='')))"
      ]
     },
     "metadata": {},
     "output_type": "display_data"
    },
    {
     "name": "stdout",
     "output_type": "stream",
     "text": [
      "\n",
      "Processing KBA05_MODTEMP\n"
     ]
    },
    {
     "data": {
      "application/vnd.jupyter.widget-view+json": {
       "model_id": "c8dc1b7fb8b54aa7afcba9e3b0a12e00",
       "version_major": 2,
       "version_minor": 0
      },
      "text/plain": [
       "HBox(children=(IntProgress(value=0, max=891221), HTML(value='')))"
      ]
     },
     "metadata": {},
     "output_type": "display_data"
    },
    {
     "name": "stdout",
     "output_type": "stream",
     "text": [
      "\n",
      "Processing KBA05_MOTOR\n"
     ]
    },
    {
     "data": {
      "application/vnd.jupyter.widget-view+json": {
       "model_id": "d0e798326e44424b913d83232ee633ff",
       "version_major": 2,
       "version_minor": 0
      },
      "text/plain": [
       "HBox(children=(IntProgress(value=0, max=891221), HTML(value='')))"
      ]
     },
     "metadata": {},
     "output_type": "display_data"
    },
    {
     "name": "stdout",
     "output_type": "stream",
     "text": [
      "\n",
      "Processing KBA05_MOTRAD\n"
     ]
    },
    {
     "data": {
      "application/vnd.jupyter.widget-view+json": {
       "model_id": "2c9320319606438c93ad1f179811e6d1",
       "version_major": 2,
       "version_minor": 0
      },
      "text/plain": [
       "HBox(children=(IntProgress(value=0, max=891221), HTML(value='')))"
      ]
     },
     "metadata": {},
     "output_type": "display_data"
    },
    {
     "name": "stdout",
     "output_type": "stream",
     "text": [
      "\n",
      "Processing KBA05_SEG1\n"
     ]
    },
    {
     "data": {
      "application/vnd.jupyter.widget-view+json": {
       "model_id": "8c4c72fd5ab34fa4b5ab212394a1df19",
       "version_major": 2,
       "version_minor": 0
      },
      "text/plain": [
       "HBox(children=(IntProgress(value=0, max=891221), HTML(value='')))"
      ]
     },
     "metadata": {},
     "output_type": "display_data"
    },
    {
     "name": "stdout",
     "output_type": "stream",
     "text": [
      "\n",
      "Processing KBA05_SEG10\n"
     ]
    },
    {
     "data": {
      "application/vnd.jupyter.widget-view+json": {
       "model_id": "033fff1ffdf341dfbd6f8cf4ebaa951b",
       "version_major": 2,
       "version_minor": 0
      },
      "text/plain": [
       "HBox(children=(IntProgress(value=0, max=891221), HTML(value='')))"
      ]
     },
     "metadata": {},
     "output_type": "display_data"
    },
    {
     "name": "stdout",
     "output_type": "stream",
     "text": [
      "\n",
      "Processing KBA05_SEG2\n"
     ]
    },
    {
     "data": {
      "application/vnd.jupyter.widget-view+json": {
       "model_id": "cf0b1cc784be43ad8644064b17e5b259",
       "version_major": 2,
       "version_minor": 0
      },
      "text/plain": [
       "HBox(children=(IntProgress(value=0, max=891221), HTML(value='')))"
      ]
     },
     "metadata": {},
     "output_type": "display_data"
    },
    {
     "name": "stdout",
     "output_type": "stream",
     "text": [
      "\n",
      "Processing KBA05_SEG3\n"
     ]
    },
    {
     "data": {
      "application/vnd.jupyter.widget-view+json": {
       "model_id": "240867475c244e4895fe2983c3da05b4",
       "version_major": 2,
       "version_minor": 0
      },
      "text/plain": [
       "HBox(children=(IntProgress(value=0, max=891221), HTML(value='')))"
      ]
     },
     "metadata": {},
     "output_type": "display_data"
    },
    {
     "name": "stdout",
     "output_type": "stream",
     "text": [
      "\n",
      "Processing KBA05_SEG4\n"
     ]
    },
    {
     "data": {
      "application/vnd.jupyter.widget-view+json": {
       "model_id": "0c3cc6dd403e4c289ae7d65021b6199a",
       "version_major": 2,
       "version_minor": 0
      },
      "text/plain": [
       "HBox(children=(IntProgress(value=0, max=891221), HTML(value='')))"
      ]
     },
     "metadata": {},
     "output_type": "display_data"
    },
    {
     "name": "stdout",
     "output_type": "stream",
     "text": [
      "\n",
      "Processing KBA05_SEG5\n"
     ]
    },
    {
     "data": {
      "application/vnd.jupyter.widget-view+json": {
       "model_id": "fce7cfaa2cb94fc78440a2602c78e0e5",
       "version_major": 2,
       "version_minor": 0
      },
      "text/plain": [
       "HBox(children=(IntProgress(value=0, max=891221), HTML(value='')))"
      ]
     },
     "metadata": {},
     "output_type": "display_data"
    },
    {
     "name": "stdout",
     "output_type": "stream",
     "text": [
      "\n",
      "Processing KBA05_SEG6\n"
     ]
    },
    {
     "data": {
      "application/vnd.jupyter.widget-view+json": {
       "model_id": "3c606d349f4b4e5787749987c53531d6",
       "version_major": 2,
       "version_minor": 0
      },
      "text/plain": [
       "HBox(children=(IntProgress(value=0, max=891221), HTML(value='')))"
      ]
     },
     "metadata": {},
     "output_type": "display_data"
    },
    {
     "name": "stdout",
     "output_type": "stream",
     "text": [
      "\n",
      "Processing KBA05_SEG7\n"
     ]
    },
    {
     "data": {
      "application/vnd.jupyter.widget-view+json": {
       "model_id": "a0d87d3b59cb49dea6a7c1a3f9fb6b72",
       "version_major": 2,
       "version_minor": 0
      },
      "text/plain": [
       "HBox(children=(IntProgress(value=0, max=891221), HTML(value='')))"
      ]
     },
     "metadata": {},
     "output_type": "display_data"
    },
    {
     "name": "stdout",
     "output_type": "stream",
     "text": [
      "\n",
      "Processing KBA05_SEG8\n"
     ]
    },
    {
     "data": {
      "application/vnd.jupyter.widget-view+json": {
       "model_id": "cc4f3458804a400e811292f33dcfd4ef",
       "version_major": 2,
       "version_minor": 0
      },
      "text/plain": [
       "HBox(children=(IntProgress(value=0, max=891221), HTML(value='')))"
      ]
     },
     "metadata": {},
     "output_type": "display_data"
    },
    {
     "name": "stdout",
     "output_type": "stream",
     "text": [
      "\n",
      "Processing KBA05_SEG9\n"
     ]
    },
    {
     "data": {
      "application/vnd.jupyter.widget-view+json": {
       "model_id": "7451041adb8244439e0411f8973eb790",
       "version_major": 2,
       "version_minor": 0
      },
      "text/plain": [
       "HBox(children=(IntProgress(value=0, max=891221), HTML(value='')))"
      ]
     },
     "metadata": {},
     "output_type": "display_data"
    },
    {
     "name": "stdout",
     "output_type": "stream",
     "text": [
      "\n",
      "Processing KBA05_VORB0\n"
     ]
    },
    {
     "data": {
      "application/vnd.jupyter.widget-view+json": {
       "model_id": "b2d01a0eb9b04827aef4294ef5cc21fb",
       "version_major": 2,
       "version_minor": 0
      },
      "text/plain": [
       "HBox(children=(IntProgress(value=0, max=891221), HTML(value='')))"
      ]
     },
     "metadata": {},
     "output_type": "display_data"
    },
    {
     "name": "stdout",
     "output_type": "stream",
     "text": [
      "\n",
      "Processing KBA05_VORB1\n"
     ]
    },
    {
     "data": {
      "application/vnd.jupyter.widget-view+json": {
       "model_id": "ce5e6dddf91040e6b62ac6faa493b87b",
       "version_major": 2,
       "version_minor": 0
      },
      "text/plain": [
       "HBox(children=(IntProgress(value=0, max=891221), HTML(value='')))"
      ]
     },
     "metadata": {},
     "output_type": "display_data"
    },
    {
     "name": "stdout",
     "output_type": "stream",
     "text": [
      "\n",
      "Processing KBA05_VORB2\n"
     ]
    },
    {
     "data": {
      "application/vnd.jupyter.widget-view+json": {
       "model_id": "37f1fffb327640e29cda5359217a63b8",
       "version_major": 2,
       "version_minor": 0
      },
      "text/plain": [
       "HBox(children=(IntProgress(value=0, max=891221), HTML(value='')))"
      ]
     },
     "metadata": {},
     "output_type": "display_data"
    },
    {
     "name": "stdout",
     "output_type": "stream",
     "text": [
      "\n",
      "Processing KBA05_ZUL1\n"
     ]
    },
    {
     "data": {
      "application/vnd.jupyter.widget-view+json": {
       "model_id": "2328db57cb414122b9ea63d8c7065297",
       "version_major": 2,
       "version_minor": 0
      },
      "text/plain": [
       "HBox(children=(IntProgress(value=0, max=891221), HTML(value='')))"
      ]
     },
     "metadata": {},
     "output_type": "display_data"
    },
    {
     "name": "stdout",
     "output_type": "stream",
     "text": [
      "\n",
      "Processing KBA05_ZUL2\n"
     ]
    },
    {
     "data": {
      "application/vnd.jupyter.widget-view+json": {
       "model_id": "540bd5de3ebe49bc85da734aaeb2d24e",
       "version_major": 2,
       "version_minor": 0
      },
      "text/plain": [
       "HBox(children=(IntProgress(value=0, max=891221), HTML(value='')))"
      ]
     },
     "metadata": {},
     "output_type": "display_data"
    },
    {
     "name": "stdout",
     "output_type": "stream",
     "text": [
      "\n",
      "Processing KBA05_ZUL3\n"
     ]
    },
    {
     "data": {
      "application/vnd.jupyter.widget-view+json": {
       "model_id": "8f1151e7540845488d4315fd9e86da4a",
       "version_major": 2,
       "version_minor": 0
      },
      "text/plain": [
       "HBox(children=(IntProgress(value=0, max=891221), HTML(value='')))"
      ]
     },
     "metadata": {},
     "output_type": "display_data"
    },
    {
     "name": "stdout",
     "output_type": "stream",
     "text": [
      "\n",
      "Processing KBA05_ZUL4\n"
     ]
    },
    {
     "data": {
      "application/vnd.jupyter.widget-view+json": {
       "model_id": "8812b067d9d94107a65a9c2187c5fd43",
       "version_major": 2,
       "version_minor": 0
      },
      "text/plain": [
       "HBox(children=(IntProgress(value=0, max=891221), HTML(value='')))"
      ]
     },
     "metadata": {},
     "output_type": "display_data"
    },
    {
     "name": "stdout",
     "output_type": "stream",
     "text": [
      "\n",
      "Processing KBA13_ALTERHALTER_30\n"
     ]
    },
    {
     "data": {
      "application/vnd.jupyter.widget-view+json": {
       "model_id": "a4a68924fd964585b4e5bcc2cf5432c8",
       "version_major": 2,
       "version_minor": 0
      },
      "text/plain": [
       "HBox(children=(IntProgress(value=0, max=891221), HTML(value='')))"
      ]
     },
     "metadata": {},
     "output_type": "display_data"
    },
    {
     "name": "stdout",
     "output_type": "stream",
     "text": [
      "\n",
      "Processing KBA13_ALTERHALTER_45\n"
     ]
    },
    {
     "data": {
      "application/vnd.jupyter.widget-view+json": {
       "model_id": "6b9186d3c21a49b89b1b6dd9881ad7d7",
       "version_major": 2,
       "version_minor": 0
      },
      "text/plain": [
       "HBox(children=(IntProgress(value=0, max=891221), HTML(value='')))"
      ]
     },
     "metadata": {},
     "output_type": "display_data"
    },
    {
     "name": "stdout",
     "output_type": "stream",
     "text": [
      "\n",
      "Processing KBA13_ALTERHALTER_60\n"
     ]
    },
    {
     "data": {
      "application/vnd.jupyter.widget-view+json": {
       "model_id": "3921a2ecda234a2b882c8aaef1a05446",
       "version_major": 2,
       "version_minor": 0
      },
      "text/plain": [
       "HBox(children=(IntProgress(value=0, max=891221), HTML(value='')))"
      ]
     },
     "metadata": {},
     "output_type": "display_data"
    },
    {
     "name": "stdout",
     "output_type": "stream",
     "text": [
      "\n",
      "Processing KBA13_ALTERHALTER_61\n"
     ]
    },
    {
     "data": {
      "application/vnd.jupyter.widget-view+json": {
       "model_id": "174a27052afc4f4188cd07471c7572d2",
       "version_major": 2,
       "version_minor": 0
      },
      "text/plain": [
       "HBox(children=(IntProgress(value=0, max=891221), HTML(value='')))"
      ]
     },
     "metadata": {},
     "output_type": "display_data"
    },
    {
     "name": "stdout",
     "output_type": "stream",
     "text": [
      "\n",
      "Processing KBA13_AUDI\n"
     ]
    },
    {
     "data": {
      "application/vnd.jupyter.widget-view+json": {
       "model_id": "ca76c9adfd7a4661951e5b788a386d94",
       "version_major": 2,
       "version_minor": 0
      },
      "text/plain": [
       "HBox(children=(IntProgress(value=0, max=891221), HTML(value='')))"
      ]
     },
     "metadata": {},
     "output_type": "display_data"
    },
    {
     "name": "stdout",
     "output_type": "stream",
     "text": [
      "\n",
      "Processing KBA13_AUTOQUOTE\n"
     ]
    },
    {
     "data": {
      "application/vnd.jupyter.widget-view+json": {
       "model_id": "d7aff45f01d24e9797d5aaab9c634bb3",
       "version_major": 2,
       "version_minor": 0
      },
      "text/plain": [
       "HBox(children=(IntProgress(value=0, max=891221), HTML(value='')))"
      ]
     },
     "metadata": {},
     "output_type": "display_data"
    },
    {
     "name": "stdout",
     "output_type": "stream",
     "text": [
      "\n",
      "Processing KBA13_BJ_1999\n"
     ]
    },
    {
     "data": {
      "application/vnd.jupyter.widget-view+json": {
       "model_id": "55ce3d938baa4b36aad02a9467163a1b",
       "version_major": 2,
       "version_minor": 0
      },
      "text/plain": [
       "HBox(children=(IntProgress(value=0, max=891221), HTML(value='')))"
      ]
     },
     "metadata": {},
     "output_type": "display_data"
    },
    {
     "name": "stdout",
     "output_type": "stream",
     "text": [
      "\n",
      "Processing KBA13_BJ_2000\n"
     ]
    },
    {
     "data": {
      "application/vnd.jupyter.widget-view+json": {
       "model_id": "8722a911c9c7414fbdad202f4480e1a7",
       "version_major": 2,
       "version_minor": 0
      },
      "text/plain": [
       "HBox(children=(IntProgress(value=0, max=891221), HTML(value='')))"
      ]
     },
     "metadata": {},
     "output_type": "display_data"
    },
    {
     "name": "stdout",
     "output_type": "stream",
     "text": [
      "\n",
      "Processing KBA13_BJ_2004\n"
     ]
    },
    {
     "data": {
      "application/vnd.jupyter.widget-view+json": {
       "model_id": "944ee93be8544614ba3b2cc8a6cb2f13",
       "version_major": 2,
       "version_minor": 0
      },
      "text/plain": [
       "HBox(children=(IntProgress(value=0, max=891221), HTML(value='')))"
      ]
     },
     "metadata": {},
     "output_type": "display_data"
    },
    {
     "name": "stdout",
     "output_type": "stream",
     "text": [
      "\n",
      "Processing KBA13_BJ_2006\n"
     ]
    },
    {
     "data": {
      "application/vnd.jupyter.widget-view+json": {
       "model_id": "4f535102e22145b6915c72c09576432c",
       "version_major": 2,
       "version_minor": 0
      },
      "text/plain": [
       "HBox(children=(IntProgress(value=0, max=891221), HTML(value='')))"
      ]
     },
     "metadata": {},
     "output_type": "display_data"
    },
    {
     "name": "stdout",
     "output_type": "stream",
     "text": [
      "\n",
      "Processing KBA13_BJ_2008\n"
     ]
    },
    {
     "data": {
      "application/vnd.jupyter.widget-view+json": {
       "model_id": "ab2d6821af4e4d7ba12cebe2820bbb66",
       "version_major": 2,
       "version_minor": 0
      },
      "text/plain": [
       "HBox(children=(IntProgress(value=0, max=891221), HTML(value='')))"
      ]
     },
     "metadata": {},
     "output_type": "display_data"
    },
    {
     "name": "stdout",
     "output_type": "stream",
     "text": [
      "\n",
      "Processing KBA13_BJ_2009\n"
     ]
    },
    {
     "data": {
      "application/vnd.jupyter.widget-view+json": {
       "model_id": "23d6a10b9a6f4d408233f56e2fa2d3bd",
       "version_major": 2,
       "version_minor": 0
      },
      "text/plain": [
       "HBox(children=(IntProgress(value=0, max=891221), HTML(value='')))"
      ]
     },
     "metadata": {},
     "output_type": "display_data"
    },
    {
     "name": "stdout",
     "output_type": "stream",
     "text": [
      "\n",
      "Processing KBA13_BMW\n"
     ]
    },
    {
     "data": {
      "application/vnd.jupyter.widget-view+json": {
       "model_id": "43d737fffae54a87b0d89993eea8add7",
       "version_major": 2,
       "version_minor": 0
      },
      "text/plain": [
       "HBox(children=(IntProgress(value=0, max=891221), HTML(value='')))"
      ]
     },
     "metadata": {},
     "output_type": "display_data"
    },
    {
     "name": "stdout",
     "output_type": "stream",
     "text": [
      "\n",
      "Processing KBA13_CCM_1000\n"
     ]
    },
    {
     "data": {
      "application/vnd.jupyter.widget-view+json": {
       "model_id": "ba3234c0d9e74ccabe35847a1fc83ff1",
       "version_major": 2,
       "version_minor": 0
      },
      "text/plain": [
       "HBox(children=(IntProgress(value=0, max=891221), HTML(value='')))"
      ]
     },
     "metadata": {},
     "output_type": "display_data"
    },
    {
     "name": "stdout",
     "output_type": "stream",
     "text": [
      "\n",
      "Processing KBA13_CCM_1200\n"
     ]
    },
    {
     "data": {
      "application/vnd.jupyter.widget-view+json": {
       "model_id": "fa5af01bbc0b42b1bfd8d1b05477951a",
       "version_major": 2,
       "version_minor": 0
      },
      "text/plain": [
       "HBox(children=(IntProgress(value=0, max=891221), HTML(value='')))"
      ]
     },
     "metadata": {},
     "output_type": "display_data"
    },
    {
     "name": "stdout",
     "output_type": "stream",
     "text": [
      "\n",
      "Processing KBA13_CCM_1400\n"
     ]
    },
    {
     "data": {
      "application/vnd.jupyter.widget-view+json": {
       "model_id": "b20ff74d945e41a39e63801254b46b46",
       "version_major": 2,
       "version_minor": 0
      },
      "text/plain": [
       "HBox(children=(IntProgress(value=0, max=891221), HTML(value='')))"
      ]
     },
     "metadata": {},
     "output_type": "display_data"
    },
    {
     "name": "stdout",
     "output_type": "stream",
     "text": [
      "\n",
      "Processing KBA13_CCM_0_1400\n"
     ]
    },
    {
     "data": {
      "application/vnd.jupyter.widget-view+json": {
       "model_id": "c400c62993b140f28738ed6a65caa2ce",
       "version_major": 2,
       "version_minor": 0
      },
      "text/plain": [
       "HBox(children=(IntProgress(value=0, max=891221), HTML(value='')))"
      ]
     },
     "metadata": {},
     "output_type": "display_data"
    },
    {
     "name": "stdout",
     "output_type": "stream",
     "text": [
      "\n",
      "Processing KBA13_CCM_1500\n"
     ]
    },
    {
     "data": {
      "application/vnd.jupyter.widget-view+json": {
       "model_id": "bc3d5c1cf9dd4ea199962650a1738c82",
       "version_major": 2,
       "version_minor": 0
      },
      "text/plain": [
       "HBox(children=(IntProgress(value=0, max=891221), HTML(value='')))"
      ]
     },
     "metadata": {},
     "output_type": "display_data"
    },
    {
     "name": "stdout",
     "output_type": "stream",
     "text": [
      "\n",
      "Processing KBA13_CCM_1600\n"
     ]
    },
    {
     "data": {
      "application/vnd.jupyter.widget-view+json": {
       "model_id": "95f20b0699e24812bf2f6e581412eeb2",
       "version_major": 2,
       "version_minor": 0
      },
      "text/plain": [
       "HBox(children=(IntProgress(value=0, max=891221), HTML(value='')))"
      ]
     },
     "metadata": {},
     "output_type": "display_data"
    },
    {
     "name": "stdout",
     "output_type": "stream",
     "text": [
      "\n",
      "Processing KBA13_CCM_1800\n"
     ]
    },
    {
     "data": {
      "application/vnd.jupyter.widget-view+json": {
       "model_id": "5c33644271cc4d1d8634bb53e70a3d24",
       "version_major": 2,
       "version_minor": 0
      },
      "text/plain": [
       "HBox(children=(IntProgress(value=0, max=891221), HTML(value='')))"
      ]
     },
     "metadata": {},
     "output_type": "display_data"
    },
    {
     "name": "stdout",
     "output_type": "stream",
     "text": [
      "\n",
      "Processing KBA13_CCM_2000\n"
     ]
    },
    {
     "data": {
      "application/vnd.jupyter.widget-view+json": {
       "model_id": "d0569372473a42fdaa1ede85cebe5775",
       "version_major": 2,
       "version_minor": 0
      },
      "text/plain": [
       "HBox(children=(IntProgress(value=0, max=891221), HTML(value='')))"
      ]
     },
     "metadata": {},
     "output_type": "display_data"
    },
    {
     "name": "stdout",
     "output_type": "stream",
     "text": [
      "\n",
      "Processing KBA13_CCM_2500\n"
     ]
    },
    {
     "data": {
      "application/vnd.jupyter.widget-view+json": {
       "model_id": "1da28fb8d63848089c38efa3098bed0e",
       "version_major": 2,
       "version_minor": 0
      },
      "text/plain": [
       "HBox(children=(IntProgress(value=0, max=891221), HTML(value='')))"
      ]
     },
     "metadata": {},
     "output_type": "display_data"
    },
    {
     "name": "stdout",
     "output_type": "stream",
     "text": [
      "\n",
      "Processing KBA13_CCM_2501\n"
     ]
    },
    {
     "data": {
      "application/vnd.jupyter.widget-view+json": {
       "model_id": "4c23c3018bf74cf0be13d49611dc16bd",
       "version_major": 2,
       "version_minor": 0
      },
      "text/plain": [
       "HBox(children=(IntProgress(value=0, max=891221), HTML(value='')))"
      ]
     },
     "metadata": {},
     "output_type": "display_data"
    },
    {
     "name": "stdout",
     "output_type": "stream",
     "text": [
      "\n",
      "Processing KBA13_CCM_3000\n"
     ]
    },
    {
     "data": {
      "application/vnd.jupyter.widget-view+json": {
       "model_id": "ebdfa5dfda6e4bc4986bfb2a6160fa89",
       "version_major": 2,
       "version_minor": 0
      },
      "text/plain": [
       "HBox(children=(IntProgress(value=0, max=891221), HTML(value='')))"
      ]
     },
     "metadata": {},
     "output_type": "display_data"
    },
    {
     "name": "stdout",
     "output_type": "stream",
     "text": [
      "\n",
      "Processing KBA13_CCM_3001\n"
     ]
    },
    {
     "data": {
      "application/vnd.jupyter.widget-view+json": {
       "model_id": "a50b969862674b7ab441d7e00860f6ee",
       "version_major": 2,
       "version_minor": 0
      },
      "text/plain": [
       "HBox(children=(IntProgress(value=0, max=891221), HTML(value='')))"
      ]
     },
     "metadata": {},
     "output_type": "display_data"
    },
    {
     "name": "stdout",
     "output_type": "stream",
     "text": [
      "\n",
      "Processing KBA13_FAB_ASIEN\n"
     ]
    },
    {
     "data": {
      "application/vnd.jupyter.widget-view+json": {
       "model_id": "5b962af79ee44578a5d0707b3124e3e3",
       "version_major": 2,
       "version_minor": 0
      },
      "text/plain": [
       "HBox(children=(IntProgress(value=0, max=891221), HTML(value='')))"
      ]
     },
     "metadata": {},
     "output_type": "display_data"
    },
    {
     "name": "stdout",
     "output_type": "stream",
     "text": [
      "\n",
      "Processing KBA13_FAB_SONSTIGE\n"
     ]
    },
    {
     "data": {
      "application/vnd.jupyter.widget-view+json": {
       "model_id": "493fff8c01014820875cdc8a401156cd",
       "version_major": 2,
       "version_minor": 0
      },
      "text/plain": [
       "HBox(children=(IntProgress(value=0, max=891221), HTML(value='')))"
      ]
     },
     "metadata": {},
     "output_type": "display_data"
    },
    {
     "name": "stdout",
     "output_type": "stream",
     "text": [
      "\n",
      "Processing KBA13_FIAT\n"
     ]
    },
    {
     "data": {
      "application/vnd.jupyter.widget-view+json": {
       "model_id": "c4095dcbaa284b1c96ec3c87c1b697fb",
       "version_major": 2,
       "version_minor": 0
      },
      "text/plain": [
       "HBox(children=(IntProgress(value=0, max=891221), HTML(value='')))"
      ]
     },
     "metadata": {},
     "output_type": "display_data"
    },
    {
     "name": "stdout",
     "output_type": "stream",
     "text": [
      "\n",
      "Processing KBA13_FORD\n"
     ]
    },
    {
     "data": {
      "application/vnd.jupyter.widget-view+json": {
       "model_id": "e4a6ff848ef342918de59f51035b081a",
       "version_major": 2,
       "version_minor": 0
      },
      "text/plain": [
       "HBox(children=(IntProgress(value=0, max=891221), HTML(value='')))"
      ]
     },
     "metadata": {},
     "output_type": "display_data"
    },
    {
     "name": "stdout",
     "output_type": "stream",
     "text": [
      "\n",
      "Processing KBA13_HALTER_20\n"
     ]
    },
    {
     "data": {
      "application/vnd.jupyter.widget-view+json": {
       "model_id": "3f3e6ea01e40480dac98c9fb8282b570",
       "version_major": 2,
       "version_minor": 0
      },
      "text/plain": [
       "HBox(children=(IntProgress(value=0, max=891221), HTML(value='')))"
      ]
     },
     "metadata": {},
     "output_type": "display_data"
    },
    {
     "name": "stdout",
     "output_type": "stream",
     "text": [
      "\n",
      "Processing KBA13_HALTER_25\n"
     ]
    },
    {
     "data": {
      "application/vnd.jupyter.widget-view+json": {
       "model_id": "0789036667bd41dda7e0f7dce2a7dd72",
       "version_major": 2,
       "version_minor": 0
      },
      "text/plain": [
       "HBox(children=(IntProgress(value=0, max=891221), HTML(value='')))"
      ]
     },
     "metadata": {},
     "output_type": "display_data"
    },
    {
     "name": "stdout",
     "output_type": "stream",
     "text": [
      "\n",
      "Processing KBA13_HALTER_30\n"
     ]
    },
    {
     "data": {
      "application/vnd.jupyter.widget-view+json": {
       "model_id": "94e0ca5438224979bd8b208154199972",
       "version_major": 2,
       "version_minor": 0
      },
      "text/plain": [
       "HBox(children=(IntProgress(value=0, max=891221), HTML(value='')))"
      ]
     },
     "metadata": {},
     "output_type": "display_data"
    },
    {
     "name": "stdout",
     "output_type": "stream",
     "text": [
      "\n",
      "Processing KBA13_HALTER_35\n"
     ]
    },
    {
     "data": {
      "application/vnd.jupyter.widget-view+json": {
       "model_id": "eab50206f1a6415d908cd6e14f52a2a8",
       "version_major": 2,
       "version_minor": 0
      },
      "text/plain": [
       "HBox(children=(IntProgress(value=0, max=891221), HTML(value='')))"
      ]
     },
     "metadata": {},
     "output_type": "display_data"
    },
    {
     "name": "stdout",
     "output_type": "stream",
     "text": [
      "\n",
      "Processing KBA13_HALTER_40\n"
     ]
    },
    {
     "data": {
      "application/vnd.jupyter.widget-view+json": {
       "model_id": "63359cba0f394661bb882c351d30c2a7",
       "version_major": 2,
       "version_minor": 0
      },
      "text/plain": [
       "HBox(children=(IntProgress(value=0, max=891221), HTML(value='')))"
      ]
     },
     "metadata": {},
     "output_type": "display_data"
    },
    {
     "name": "stdout",
     "output_type": "stream",
     "text": [
      "\n",
      "Processing KBA13_HALTER_45\n"
     ]
    },
    {
     "data": {
      "application/vnd.jupyter.widget-view+json": {
       "model_id": "88a9afd1b7e6489bb2231f5418117515",
       "version_major": 2,
       "version_minor": 0
      },
      "text/plain": [
       "HBox(children=(IntProgress(value=0, max=891221), HTML(value='')))"
      ]
     },
     "metadata": {},
     "output_type": "display_data"
    },
    {
     "name": "stdout",
     "output_type": "stream",
     "text": [
      "\n",
      "Processing KBA13_HALTER_50\n"
     ]
    },
    {
     "data": {
      "application/vnd.jupyter.widget-view+json": {
       "model_id": "8c6f0d1e8317406cab2cd4e0b3cc7878",
       "version_major": 2,
       "version_minor": 0
      },
      "text/plain": [
       "HBox(children=(IntProgress(value=0, max=891221), HTML(value='')))"
      ]
     },
     "metadata": {},
     "output_type": "display_data"
    },
    {
     "name": "stdout",
     "output_type": "stream",
     "text": [
      "\n",
      "Processing KBA13_HALTER_55\n"
     ]
    },
    {
     "data": {
      "application/vnd.jupyter.widget-view+json": {
       "model_id": "b67068a756164505a738e9b8b7a97407",
       "version_major": 2,
       "version_minor": 0
      },
      "text/plain": [
       "HBox(children=(IntProgress(value=0, max=891221), HTML(value='')))"
      ]
     },
     "metadata": {},
     "output_type": "display_data"
    },
    {
     "name": "stdout",
     "output_type": "stream",
     "text": [
      "\n",
      "Processing KBA13_HALTER_60\n"
     ]
    },
    {
     "data": {
      "application/vnd.jupyter.widget-view+json": {
       "model_id": "bf6c1f4b2e1a43999e661a247509ed93",
       "version_major": 2,
       "version_minor": 0
      },
      "text/plain": [
       "HBox(children=(IntProgress(value=0, max=891221), HTML(value='')))"
      ]
     },
     "metadata": {},
     "output_type": "display_data"
    },
    {
     "name": "stdout",
     "output_type": "stream",
     "text": [
      "\n",
      "Processing KBA13_HALTER_65\n"
     ]
    },
    {
     "data": {
      "application/vnd.jupyter.widget-view+json": {
       "model_id": "7277445b15d346a4901bcd6c32b33188",
       "version_major": 2,
       "version_minor": 0
      },
      "text/plain": [
       "HBox(children=(IntProgress(value=0, max=891221), HTML(value='')))"
      ]
     },
     "metadata": {},
     "output_type": "display_data"
    },
    {
     "name": "stdout",
     "output_type": "stream",
     "text": [
      "\n",
      "Processing KBA13_HALTER_66\n"
     ]
    },
    {
     "data": {
      "application/vnd.jupyter.widget-view+json": {
       "model_id": "3db60157893e4c0286c177d8e23cedc6",
       "version_major": 2,
       "version_minor": 0
      },
      "text/plain": [
       "HBox(children=(IntProgress(value=0, max=891221), HTML(value='')))"
      ]
     },
     "metadata": {},
     "output_type": "display_data"
    },
    {
     "name": "stdout",
     "output_type": "stream",
     "text": [
      "\n",
      "Processing KBA13_HERST_ASIEN\n"
     ]
    },
    {
     "data": {
      "application/vnd.jupyter.widget-view+json": {
       "model_id": "d7ae846efd60433082735bffe212de33",
       "version_major": 2,
       "version_minor": 0
      },
      "text/plain": [
       "HBox(children=(IntProgress(value=0, max=891221), HTML(value='')))"
      ]
     },
     "metadata": {},
     "output_type": "display_data"
    },
    {
     "name": "stdout",
     "output_type": "stream",
     "text": [
      "\n",
      "Processing KBA13_HERST_AUDI_VW\n"
     ]
    },
    {
     "data": {
      "application/vnd.jupyter.widget-view+json": {
       "model_id": "a2dbce11c52648ce9ecf7353fa73349e",
       "version_major": 2,
       "version_minor": 0
      },
      "text/plain": [
       "HBox(children=(IntProgress(value=0, max=891221), HTML(value='')))"
      ]
     },
     "metadata": {},
     "output_type": "display_data"
    },
    {
     "name": "stdout",
     "output_type": "stream",
     "text": [
      "\n",
      "Processing KBA13_HERST_BMW_BENZ\n"
     ]
    },
    {
     "data": {
      "application/vnd.jupyter.widget-view+json": {
       "model_id": "699ac517e53e4423b2c74e7452d577a6",
       "version_major": 2,
       "version_minor": 0
      },
      "text/plain": [
       "HBox(children=(IntProgress(value=0, max=891221), HTML(value='')))"
      ]
     },
     "metadata": {},
     "output_type": "display_data"
    },
    {
     "name": "stdout",
     "output_type": "stream",
     "text": [
      "\n",
      "Processing KBA13_HERST_EUROPA\n"
     ]
    },
    {
     "data": {
      "application/vnd.jupyter.widget-view+json": {
       "model_id": "2b85577498f7486482b9e307c84da015",
       "version_major": 2,
       "version_minor": 0
      },
      "text/plain": [
       "HBox(children=(IntProgress(value=0, max=891221), HTML(value='')))"
      ]
     },
     "metadata": {},
     "output_type": "display_data"
    },
    {
     "name": "stdout",
     "output_type": "stream",
     "text": [
      "\n",
      "Processing KBA13_HERST_FORD_OPEL\n"
     ]
    },
    {
     "data": {
      "application/vnd.jupyter.widget-view+json": {
       "model_id": "c3ca5eeea375400c9486e1a52601b87e",
       "version_major": 2,
       "version_minor": 0
      },
      "text/plain": [
       "HBox(children=(IntProgress(value=0, max=891221), HTML(value='')))"
      ]
     },
     "metadata": {},
     "output_type": "display_data"
    },
    {
     "name": "stdout",
     "output_type": "stream",
     "text": [
      "\n",
      "Processing KBA13_HERST_SONST\n"
     ]
    },
    {
     "data": {
      "application/vnd.jupyter.widget-view+json": {
       "model_id": "9ad50d36fbe342be9d5b2db54c0b7e9d",
       "version_major": 2,
       "version_minor": 0
      },
      "text/plain": [
       "HBox(children=(IntProgress(value=0, max=891221), HTML(value='')))"
      ]
     },
     "metadata": {},
     "output_type": "display_data"
    },
    {
     "name": "stdout",
     "output_type": "stream",
     "text": [
      "\n",
      "Processing KBA13_KMH_110\n"
     ]
    },
    {
     "data": {
      "application/vnd.jupyter.widget-view+json": {
       "model_id": "e19b864581bf41109864be30bb98e8be",
       "version_major": 2,
       "version_minor": 0
      },
      "text/plain": [
       "HBox(children=(IntProgress(value=0, max=891221), HTML(value='')))"
      ]
     },
     "metadata": {},
     "output_type": "display_data"
    },
    {
     "name": "stdout",
     "output_type": "stream",
     "text": [
      "\n",
      "Processing KBA13_KMH_140\n"
     ]
    },
    {
     "data": {
      "application/vnd.jupyter.widget-view+json": {
       "model_id": "29a4a5a1167d4c7687a2b5f27a408c04",
       "version_major": 2,
       "version_minor": 0
      },
      "text/plain": [
       "HBox(children=(IntProgress(value=0, max=891221), HTML(value='')))"
      ]
     },
     "metadata": {},
     "output_type": "display_data"
    },
    {
     "name": "stdout",
     "output_type": "stream",
     "text": [
      "\n",
      "Processing KBA13_KMH_180\n"
     ]
    },
    {
     "data": {
      "application/vnd.jupyter.widget-view+json": {
       "model_id": "66e32ec8cd574092bb87e9db57521feb",
       "version_major": 2,
       "version_minor": 0
      },
      "text/plain": [
       "HBox(children=(IntProgress(value=0, max=891221), HTML(value='')))"
      ]
     },
     "metadata": {},
     "output_type": "display_data"
    },
    {
     "name": "stdout",
     "output_type": "stream",
     "text": [
      "\n",
      "Processing KBA13_KMH_0_140\n"
     ]
    },
    {
     "data": {
      "application/vnd.jupyter.widget-view+json": {
       "model_id": "6a5818275dcd41fdbe6813b11977c905",
       "version_major": 2,
       "version_minor": 0
      },
      "text/plain": [
       "HBox(children=(IntProgress(value=0, max=891221), HTML(value='')))"
      ]
     },
     "metadata": {},
     "output_type": "display_data"
    },
    {
     "name": "stdout",
     "output_type": "stream",
     "text": [
      "\n",
      "Processing KBA13_KMH_140_210\n"
     ]
    },
    {
     "data": {
      "application/vnd.jupyter.widget-view+json": {
       "model_id": "2f4ee43091ed4538adc9bf8725a436b1",
       "version_major": 2,
       "version_minor": 0
      },
      "text/plain": [
       "HBox(children=(IntProgress(value=0, max=891221), HTML(value='')))"
      ]
     },
     "metadata": {},
     "output_type": "display_data"
    },
    {
     "name": "stdout",
     "output_type": "stream",
     "text": [
      "\n",
      "Processing KBA13_KMH_211\n"
     ]
    },
    {
     "data": {
      "application/vnd.jupyter.widget-view+json": {
       "model_id": "86566fc5a3ca434ab42230b0ea1a06e9",
       "version_major": 2,
       "version_minor": 0
      },
      "text/plain": [
       "HBox(children=(IntProgress(value=0, max=891221), HTML(value='')))"
      ]
     },
     "metadata": {},
     "output_type": "display_data"
    },
    {
     "name": "stdout",
     "output_type": "stream",
     "text": [
      "\n",
      "Processing KBA13_KMH_250\n"
     ]
    },
    {
     "data": {
      "application/vnd.jupyter.widget-view+json": {
       "model_id": "00dc9399584b47eb9ec8301cb1e8417b",
       "version_major": 2,
       "version_minor": 0
      },
      "text/plain": [
       "HBox(children=(IntProgress(value=0, max=891221), HTML(value='')))"
      ]
     },
     "metadata": {},
     "output_type": "display_data"
    },
    {
     "name": "stdout",
     "output_type": "stream",
     "text": [
      "\n",
      "Processing KBA13_KMH_251\n"
     ]
    },
    {
     "data": {
      "application/vnd.jupyter.widget-view+json": {
       "model_id": "43dde2c7ddad4ddf9a004c3e1d2447a0",
       "version_major": 2,
       "version_minor": 0
      },
      "text/plain": [
       "HBox(children=(IntProgress(value=0, max=891221), HTML(value='')))"
      ]
     },
     "metadata": {},
     "output_type": "display_data"
    },
    {
     "name": "stdout",
     "output_type": "stream",
     "text": [
      "\n",
      "Processing KBA13_KRSAQUOT\n"
     ]
    },
    {
     "data": {
      "application/vnd.jupyter.widget-view+json": {
       "model_id": "9f2afb3b3e624adcb29978a9acd3677b",
       "version_major": 2,
       "version_minor": 0
      },
      "text/plain": [
       "HBox(children=(IntProgress(value=0, max=891221), HTML(value='')))"
      ]
     },
     "metadata": {},
     "output_type": "display_data"
    },
    {
     "name": "stdout",
     "output_type": "stream",
     "text": [
      "\n",
      "Processing KBA13_KRSHERST_AUDI_VW\n"
     ]
    },
    {
     "data": {
      "application/vnd.jupyter.widget-view+json": {
       "model_id": "76d3218e74284c29923a9b7d8efa184a",
       "version_major": 2,
       "version_minor": 0
      },
      "text/plain": [
       "HBox(children=(IntProgress(value=0, max=891221), HTML(value='')))"
      ]
     },
     "metadata": {},
     "output_type": "display_data"
    },
    {
     "name": "stdout",
     "output_type": "stream",
     "text": [
      "\n",
      "Processing KBA13_KRSHERST_BMW_BENZ\n"
     ]
    },
    {
     "data": {
      "application/vnd.jupyter.widget-view+json": {
       "model_id": "d990a78d6f3041428e2b19e1957955d8",
       "version_major": 2,
       "version_minor": 0
      },
      "text/plain": [
       "HBox(children=(IntProgress(value=0, max=891221), HTML(value='')))"
      ]
     },
     "metadata": {},
     "output_type": "display_data"
    },
    {
     "name": "stdout",
     "output_type": "stream",
     "text": [
      "\n",
      "Processing KBA13_KRSHERST_FORD_OPEL\n"
     ]
    },
    {
     "data": {
      "application/vnd.jupyter.widget-view+json": {
       "model_id": "43aa8a4a320f4b7687187523e6988821",
       "version_major": 2,
       "version_minor": 0
      },
      "text/plain": [
       "HBox(children=(IntProgress(value=0, max=891221), HTML(value='')))"
      ]
     },
     "metadata": {},
     "output_type": "display_data"
    },
    {
     "name": "stdout",
     "output_type": "stream",
     "text": [
      "\n",
      "Processing KBA13_KRSSEG_KLEIN\n"
     ]
    },
    {
     "data": {
      "application/vnd.jupyter.widget-view+json": {
       "model_id": "4e820b96bce84fba98d86d1d50bc896c",
       "version_major": 2,
       "version_minor": 0
      },
      "text/plain": [
       "HBox(children=(IntProgress(value=0, max=891221), HTML(value='')))"
      ]
     },
     "metadata": {},
     "output_type": "display_data"
    },
    {
     "name": "stdout",
     "output_type": "stream",
     "text": [
      "\n",
      "Processing KBA13_KRSSEG_OBER\n"
     ]
    },
    {
     "data": {
      "application/vnd.jupyter.widget-view+json": {
       "model_id": "770b4d217ea6464ba374dc1a39daab03",
       "version_major": 2,
       "version_minor": 0
      },
      "text/plain": [
       "HBox(children=(IntProgress(value=0, max=891221), HTML(value='')))"
      ]
     },
     "metadata": {},
     "output_type": "display_data"
    },
    {
     "name": "stdout",
     "output_type": "stream",
     "text": [
      "\n",
      "Processing KBA13_KRSSEG_VAN\n"
     ]
    },
    {
     "data": {
      "application/vnd.jupyter.widget-view+json": {
       "model_id": "f6c43e68eee24f6cbce418e322aa4f85",
       "version_major": 2,
       "version_minor": 0
      },
      "text/plain": [
       "HBox(children=(IntProgress(value=0, max=891221), HTML(value='')))"
      ]
     },
     "metadata": {},
     "output_type": "display_data"
    },
    {
     "name": "stdout",
     "output_type": "stream",
     "text": [
      "\n",
      "Processing KBA13_KRSZUL_NEU\n"
     ]
    },
    {
     "data": {
      "application/vnd.jupyter.widget-view+json": {
       "model_id": "b76fd18ca88f47269fd59fced9c8afc0",
       "version_major": 2,
       "version_minor": 0
      },
      "text/plain": [
       "HBox(children=(IntProgress(value=0, max=891221), HTML(value='')))"
      ]
     },
     "metadata": {},
     "output_type": "display_data"
    },
    {
     "name": "stdout",
     "output_type": "stream",
     "text": [
      "\n",
      "Processing KBA13_KW_30\n"
     ]
    },
    {
     "data": {
      "application/vnd.jupyter.widget-view+json": {
       "model_id": "9fc5dfb8fe494dc7bff27aabec1d9371",
       "version_major": 2,
       "version_minor": 0
      },
      "text/plain": [
       "HBox(children=(IntProgress(value=0, max=891221), HTML(value='')))"
      ]
     },
     "metadata": {},
     "output_type": "display_data"
    },
    {
     "name": "stdout",
     "output_type": "stream",
     "text": [
      "\n",
      "Processing KBA13_KW_40\n"
     ]
    },
    {
     "data": {
      "application/vnd.jupyter.widget-view+json": {
       "model_id": "9bd2e11212bb46da9fe5a40cbd5f4b1d",
       "version_major": 2,
       "version_minor": 0
      },
      "text/plain": [
       "HBox(children=(IntProgress(value=0, max=891221), HTML(value='')))"
      ]
     },
     "metadata": {},
     "output_type": "display_data"
    },
    {
     "name": "stdout",
     "output_type": "stream",
     "text": [
      "\n",
      "Processing KBA13_KW_50\n"
     ]
    },
    {
     "data": {
      "application/vnd.jupyter.widget-view+json": {
       "model_id": "4edc8568122b465cb9c75d0027dea8c0",
       "version_major": 2,
       "version_minor": 0
      },
      "text/plain": [
       "HBox(children=(IntProgress(value=0, max=891221), HTML(value='')))"
      ]
     },
     "metadata": {},
     "output_type": "display_data"
    },
    {
     "name": "stdout",
     "output_type": "stream",
     "text": [
      "\n",
      "Processing KBA13_KW_60\n"
     ]
    },
    {
     "data": {
      "application/vnd.jupyter.widget-view+json": {
       "model_id": "e1dd566f0a9f45a18922254ba4b7e237",
       "version_major": 2,
       "version_minor": 0
      },
      "text/plain": [
       "HBox(children=(IntProgress(value=0, max=891221), HTML(value='')))"
      ]
     },
     "metadata": {},
     "output_type": "display_data"
    },
    {
     "name": "stdout",
     "output_type": "stream",
     "text": [
      "\n",
      "Processing KBA13_KW_0_60\n"
     ]
    },
    {
     "data": {
      "application/vnd.jupyter.widget-view+json": {
       "model_id": "d0a143a2430246f2ab96766fc2478b24",
       "version_major": 2,
       "version_minor": 0
      },
      "text/plain": [
       "HBox(children=(IntProgress(value=0, max=891221), HTML(value='')))"
      ]
     },
     "metadata": {},
     "output_type": "display_data"
    },
    {
     "name": "stdout",
     "output_type": "stream",
     "text": [
      "\n",
      "Processing KBA13_KW_70\n"
     ]
    },
    {
     "data": {
      "application/vnd.jupyter.widget-view+json": {
       "model_id": "9e8cad49f6064aff9c5ab874afffddb2",
       "version_major": 2,
       "version_minor": 0
      },
      "text/plain": [
       "HBox(children=(IntProgress(value=0, max=891221), HTML(value='')))"
      ]
     },
     "metadata": {},
     "output_type": "display_data"
    },
    {
     "name": "stdout",
     "output_type": "stream",
     "text": [
      "\n",
      "Processing KBA13_KW_61_120\n"
     ]
    },
    {
     "data": {
      "application/vnd.jupyter.widget-view+json": {
       "model_id": "d4adbdc6535e4ecfb80705c3e58fb98f",
       "version_major": 2,
       "version_minor": 0
      },
      "text/plain": [
       "HBox(children=(IntProgress(value=0, max=891221), HTML(value='')))"
      ]
     },
     "metadata": {},
     "output_type": "display_data"
    },
    {
     "name": "stdout",
     "output_type": "stream",
     "text": [
      "\n",
      "Processing KBA13_KW_80\n"
     ]
    },
    {
     "data": {
      "application/vnd.jupyter.widget-view+json": {
       "model_id": "e00ca79844554f158a2dc19487ff1e7d",
       "version_major": 2,
       "version_minor": 0
      },
      "text/plain": [
       "HBox(children=(IntProgress(value=0, max=891221), HTML(value='')))"
      ]
     },
     "metadata": {},
     "output_type": "display_data"
    },
    {
     "name": "stdout",
     "output_type": "stream",
     "text": [
      "\n",
      "Processing KBA13_KW_90\n"
     ]
    },
    {
     "data": {
      "application/vnd.jupyter.widget-view+json": {
       "model_id": "5d47389988374c36a2e351ca8dbcdc94",
       "version_major": 2,
       "version_minor": 0
      },
      "text/plain": [
       "HBox(children=(IntProgress(value=0, max=891221), HTML(value='')))"
      ]
     },
     "metadata": {},
     "output_type": "display_data"
    },
    {
     "name": "stdout",
     "output_type": "stream",
     "text": [
      "\n",
      "Processing KBA13_KW_110\n"
     ]
    },
    {
     "data": {
      "application/vnd.jupyter.widget-view+json": {
       "model_id": "da3256bb351b40b69efdc1d9e2aa522b",
       "version_major": 2,
       "version_minor": 0
      },
      "text/plain": [
       "HBox(children=(IntProgress(value=0, max=891221), HTML(value='')))"
      ]
     },
     "metadata": {},
     "output_type": "display_data"
    },
    {
     "name": "stdout",
     "output_type": "stream",
     "text": [
      "\n",
      "Processing KBA13_KW_120\n"
     ]
    },
    {
     "data": {
      "application/vnd.jupyter.widget-view+json": {
       "model_id": "d5b2f60d03ae414d934a6e9c35d42327",
       "version_major": 2,
       "version_minor": 0
      },
      "text/plain": [
       "HBox(children=(IntProgress(value=0, max=891221), HTML(value='')))"
      ]
     },
     "metadata": {},
     "output_type": "display_data"
    },
    {
     "name": "stdout",
     "output_type": "stream",
     "text": [
      "\n",
      "Processing KBA13_KW_121\n"
     ]
    },
    {
     "data": {
      "application/vnd.jupyter.widget-view+json": {
       "model_id": "130cf1d2105c4ef9b8b3a888bad6fc5f",
       "version_major": 2,
       "version_minor": 0
      },
      "text/plain": [
       "HBox(children=(IntProgress(value=0, max=891221), HTML(value='')))"
      ]
     },
     "metadata": {},
     "output_type": "display_data"
    },
    {
     "name": "stdout",
     "output_type": "stream",
     "text": [
      "\n",
      "Processing KBA13_MAZDA\n"
     ]
    },
    {
     "data": {
      "application/vnd.jupyter.widget-view+json": {
       "model_id": "0d93d6e4fb064208a7482c6ed3863844",
       "version_major": 2,
       "version_minor": 0
      },
      "text/plain": [
       "HBox(children=(IntProgress(value=0, max=891221), HTML(value='')))"
      ]
     },
     "metadata": {},
     "output_type": "display_data"
    },
    {
     "name": "stdout",
     "output_type": "stream",
     "text": [
      "\n",
      "Processing KBA13_MERCEDES\n"
     ]
    },
    {
     "data": {
      "application/vnd.jupyter.widget-view+json": {
       "model_id": "9e649772b2b04ee5b5dcaf2e0be99d60",
       "version_major": 2,
       "version_minor": 0
      },
      "text/plain": [
       "HBox(children=(IntProgress(value=0, max=891221), HTML(value='')))"
      ]
     },
     "metadata": {},
     "output_type": "display_data"
    },
    {
     "name": "stdout",
     "output_type": "stream",
     "text": [
      "\n",
      "Processing KBA13_MOTOR\n"
     ]
    },
    {
     "data": {
      "application/vnd.jupyter.widget-view+json": {
       "model_id": "e57e1d6501c04a64a3c3b4014250a107",
       "version_major": 2,
       "version_minor": 0
      },
      "text/plain": [
       "HBox(children=(IntProgress(value=0, max=891221), HTML(value='')))"
      ]
     },
     "metadata": {},
     "output_type": "display_data"
    },
    {
     "name": "stdout",
     "output_type": "stream",
     "text": [
      "\n",
      "Processing KBA13_NISSAN\n"
     ]
    },
    {
     "data": {
      "application/vnd.jupyter.widget-view+json": {
       "model_id": "4c97593465a6459d99c2c8c17d80b3e2",
       "version_major": 2,
       "version_minor": 0
      },
      "text/plain": [
       "HBox(children=(IntProgress(value=0, max=891221), HTML(value='')))"
      ]
     },
     "metadata": {},
     "output_type": "display_data"
    },
    {
     "name": "stdout",
     "output_type": "stream",
     "text": [
      "\n",
      "Processing KBA13_OPEL\n"
     ]
    },
    {
     "data": {
      "application/vnd.jupyter.widget-view+json": {
       "model_id": "1ff6ebf3afd34409bbe83fafdb538c54",
       "version_major": 2,
       "version_minor": 0
      },
      "text/plain": [
       "HBox(children=(IntProgress(value=0, max=891221), HTML(value='')))"
      ]
     },
     "metadata": {},
     "output_type": "display_data"
    },
    {
     "name": "stdout",
     "output_type": "stream",
     "text": [
      "\n",
      "Processing KBA13_PEUGEOT\n"
     ]
    },
    {
     "data": {
      "application/vnd.jupyter.widget-view+json": {
       "model_id": "d5c203e9c8a94ca7b78acb3f8b7c1e0b",
       "version_major": 2,
       "version_minor": 0
      },
      "text/plain": [
       "HBox(children=(IntProgress(value=0, max=891221), HTML(value='')))"
      ]
     },
     "metadata": {},
     "output_type": "display_data"
    },
    {
     "name": "stdout",
     "output_type": "stream",
     "text": [
      "\n",
      "Processing KBA13_RENAULT\n"
     ]
    },
    {
     "data": {
      "application/vnd.jupyter.widget-view+json": {
       "model_id": "c7b4122042cd434c871e86404eec51a1",
       "version_major": 2,
       "version_minor": 0
      },
      "text/plain": [
       "HBox(children=(IntProgress(value=0, max=891221), HTML(value='')))"
      ]
     },
     "metadata": {},
     "output_type": "display_data"
    },
    {
     "name": "stdout",
     "output_type": "stream",
     "text": [
      "\n",
      "Processing KBA13_SEG_GELAENDEWAGEN\n"
     ]
    },
    {
     "data": {
      "application/vnd.jupyter.widget-view+json": {
       "model_id": "b1246a12983f43a88a8b0e31a7cfb7b9",
       "version_major": 2,
       "version_minor": 0
      },
      "text/plain": [
       "HBox(children=(IntProgress(value=0, max=891221), HTML(value='')))"
      ]
     },
     "metadata": {},
     "output_type": "display_data"
    },
    {
     "name": "stdout",
     "output_type": "stream",
     "text": [
      "\n",
      "Processing KBA13_SEG_GROSSRAUMVANS\n"
     ]
    },
    {
     "data": {
      "application/vnd.jupyter.widget-view+json": {
       "model_id": "193d4e440f774a419667c8ff82a8fbb8",
       "version_major": 2,
       "version_minor": 0
      },
      "text/plain": [
       "HBox(children=(IntProgress(value=0, max=891221), HTML(value='')))"
      ]
     },
     "metadata": {},
     "output_type": "display_data"
    },
    {
     "name": "stdout",
     "output_type": "stream",
     "text": [
      "\n",
      "Processing KBA13_SEG_KLEINST\n"
     ]
    },
    {
     "data": {
      "application/vnd.jupyter.widget-view+json": {
       "model_id": "bbf795c36f19430db9479d1c38c0c99a",
       "version_major": 2,
       "version_minor": 0
      },
      "text/plain": [
       "HBox(children=(IntProgress(value=0, max=891221), HTML(value='')))"
      ]
     },
     "metadata": {},
     "output_type": "display_data"
    },
    {
     "name": "stdout",
     "output_type": "stream",
     "text": [
      "\n",
      "Processing KBA13_SEG_KLEINWAGEN\n"
     ]
    },
    {
     "data": {
      "application/vnd.jupyter.widget-view+json": {
       "model_id": "12405508302c4b6e9558011761d5b4ed",
       "version_major": 2,
       "version_minor": 0
      },
      "text/plain": [
       "HBox(children=(IntProgress(value=0, max=891221), HTML(value='')))"
      ]
     },
     "metadata": {},
     "output_type": "display_data"
    },
    {
     "name": "stdout",
     "output_type": "stream",
     "text": [
      "\n",
      "Processing KBA13_SEG_KOMPAKTKLASSE\n"
     ]
    },
    {
     "data": {
      "application/vnd.jupyter.widget-view+json": {
       "model_id": "cd0529ccf20e4bbb89bb0fb3310cdf01",
       "version_major": 2,
       "version_minor": 0
      },
      "text/plain": [
       "HBox(children=(IntProgress(value=0, max=891221), HTML(value='')))"
      ]
     },
     "metadata": {},
     "output_type": "display_data"
    },
    {
     "name": "stdout",
     "output_type": "stream",
     "text": [
      "\n",
      "Processing KBA13_SEG_MINIVANS\n"
     ]
    },
    {
     "data": {
      "application/vnd.jupyter.widget-view+json": {
       "model_id": "a832f7bfa1f24ec5a6cd1925496c956e",
       "version_major": 2,
       "version_minor": 0
      },
      "text/plain": [
       "HBox(children=(IntProgress(value=0, max=891221), HTML(value='')))"
      ]
     },
     "metadata": {},
     "output_type": "display_data"
    },
    {
     "name": "stdout",
     "output_type": "stream",
     "text": [
      "\n",
      "Processing KBA13_SEG_MINIWAGEN\n"
     ]
    },
    {
     "data": {
      "application/vnd.jupyter.widget-view+json": {
       "model_id": "b4eb102333674c2189023923ff6421eb",
       "version_major": 2,
       "version_minor": 0
      },
      "text/plain": [
       "HBox(children=(IntProgress(value=0, max=891221), HTML(value='')))"
      ]
     },
     "metadata": {},
     "output_type": "display_data"
    },
    {
     "name": "stdout",
     "output_type": "stream",
     "text": [
      "\n",
      "Processing KBA13_SEG_MITTELKLASSE\n"
     ]
    },
    {
     "data": {
      "application/vnd.jupyter.widget-view+json": {
       "model_id": "ff9fe6dc958b43ecb624a435c9f6c872",
       "version_major": 2,
       "version_minor": 0
      },
      "text/plain": [
       "HBox(children=(IntProgress(value=0, max=891221), HTML(value='')))"
      ]
     },
     "metadata": {},
     "output_type": "display_data"
    },
    {
     "name": "stdout",
     "output_type": "stream",
     "text": [
      "\n",
      "Processing KBA13_SEG_OBEREMITTELKLASSE\n"
     ]
    },
    {
     "data": {
      "application/vnd.jupyter.widget-view+json": {
       "model_id": "9d2c414c72e24584a3e4c16145352ed4",
       "version_major": 2,
       "version_minor": 0
      },
      "text/plain": [
       "HBox(children=(IntProgress(value=0, max=891221), HTML(value='')))"
      ]
     },
     "metadata": {},
     "output_type": "display_data"
    },
    {
     "name": "stdout",
     "output_type": "stream",
     "text": [
      "\n",
      "Processing KBA13_SEG_OBERKLASSE\n"
     ]
    },
    {
     "data": {
      "application/vnd.jupyter.widget-view+json": {
       "model_id": "aae931b5bcf64e908bbec3516699dd01",
       "version_major": 2,
       "version_minor": 0
      },
      "text/plain": [
       "HBox(children=(IntProgress(value=0, max=891221), HTML(value='')))"
      ]
     },
     "metadata": {},
     "output_type": "display_data"
    },
    {
     "name": "stdout",
     "output_type": "stream",
     "text": [
      "\n",
      "Processing KBA13_SEG_SONSTIGE\n"
     ]
    },
    {
     "data": {
      "application/vnd.jupyter.widget-view+json": {
       "model_id": "31a9b6a1c60547478b5df77898028e93",
       "version_major": 2,
       "version_minor": 0
      },
      "text/plain": [
       "HBox(children=(IntProgress(value=0, max=891221), HTML(value='')))"
      ]
     },
     "metadata": {},
     "output_type": "display_data"
    },
    {
     "name": "stdout",
     "output_type": "stream",
     "text": [
      "\n",
      "Processing KBA13_SEG_SPORTWAGEN\n"
     ]
    },
    {
     "data": {
      "application/vnd.jupyter.widget-view+json": {
       "model_id": "4f37ca3dce9c48baae528d62f71534b4",
       "version_major": 2,
       "version_minor": 0
      },
      "text/plain": [
       "HBox(children=(IntProgress(value=0, max=891221), HTML(value='')))"
      ]
     },
     "metadata": {},
     "output_type": "display_data"
    },
    {
     "name": "stdout",
     "output_type": "stream",
     "text": [
      "\n",
      "Processing KBA13_SEG_UTILITIES\n"
     ]
    },
    {
     "data": {
      "application/vnd.jupyter.widget-view+json": {
       "model_id": "5f6d361404b345469837f16bc803e2c0",
       "version_major": 2,
       "version_minor": 0
      },
      "text/plain": [
       "HBox(children=(IntProgress(value=0, max=891221), HTML(value='')))"
      ]
     },
     "metadata": {},
     "output_type": "display_data"
    },
    {
     "name": "stdout",
     "output_type": "stream",
     "text": [
      "\n",
      "Processing KBA13_SEG_VAN\n"
     ]
    },
    {
     "data": {
      "application/vnd.jupyter.widget-view+json": {
       "model_id": "b13c7b6aad684d7d9b05932cd1d9058c",
       "version_major": 2,
       "version_minor": 0
      },
      "text/plain": [
       "HBox(children=(IntProgress(value=0, max=891221), HTML(value='')))"
      ]
     },
     "metadata": {},
     "output_type": "display_data"
    },
    {
     "name": "stdout",
     "output_type": "stream",
     "text": [
      "\n",
      "Processing KBA13_SEG_WOHNMOBILE\n"
     ]
    },
    {
     "data": {
      "application/vnd.jupyter.widget-view+json": {
       "model_id": "9b88262725414896aa3be50893d39b3e",
       "version_major": 2,
       "version_minor": 0
      },
      "text/plain": [
       "HBox(children=(IntProgress(value=0, max=891221), HTML(value='')))"
      ]
     },
     "metadata": {},
     "output_type": "display_data"
    },
    {
     "name": "stdout",
     "output_type": "stream",
     "text": [
      "\n",
      "Processing KBA13_SITZE_4\n"
     ]
    },
    {
     "data": {
      "application/vnd.jupyter.widget-view+json": {
       "model_id": "0bd6f5ff2a814eacb7d90386ca72b6c9",
       "version_major": 2,
       "version_minor": 0
      },
      "text/plain": [
       "HBox(children=(IntProgress(value=0, max=891221), HTML(value='')))"
      ]
     },
     "metadata": {},
     "output_type": "display_data"
    },
    {
     "name": "stdout",
     "output_type": "stream",
     "text": [
      "\n",
      "Processing KBA13_SITZE_5\n"
     ]
    },
    {
     "data": {
      "application/vnd.jupyter.widget-view+json": {
       "model_id": "021ebeeb672b4b97bd52d3877e997f33",
       "version_major": 2,
       "version_minor": 0
      },
      "text/plain": [
       "HBox(children=(IntProgress(value=0, max=891221), HTML(value='')))"
      ]
     },
     "metadata": {},
     "output_type": "display_data"
    },
    {
     "name": "stdout",
     "output_type": "stream",
     "text": [
      "\n",
      "Processing KBA13_SITZE_6\n"
     ]
    },
    {
     "data": {
      "application/vnd.jupyter.widget-view+json": {
       "model_id": "b1a58f40cf0c401c981e301ba9604758",
       "version_major": 2,
       "version_minor": 0
      },
      "text/plain": [
       "HBox(children=(IntProgress(value=0, max=891221), HTML(value='')))"
      ]
     },
     "metadata": {},
     "output_type": "display_data"
    },
    {
     "name": "stdout",
     "output_type": "stream",
     "text": [
      "\n",
      "Processing KBA13_TOYOTA\n"
     ]
    },
    {
     "data": {
      "application/vnd.jupyter.widget-view+json": {
       "model_id": "327edecd145342e1ae1f2837ff1c1245",
       "version_major": 2,
       "version_minor": 0
      },
      "text/plain": [
       "HBox(children=(IntProgress(value=0, max=891221), HTML(value='')))"
      ]
     },
     "metadata": {},
     "output_type": "display_data"
    },
    {
     "name": "stdout",
     "output_type": "stream",
     "text": [
      "\n",
      "Processing KBA13_VORB_0\n"
     ]
    },
    {
     "data": {
      "application/vnd.jupyter.widget-view+json": {
       "model_id": "0aa385a873154290be77a829f069c72b",
       "version_major": 2,
       "version_minor": 0
      },
      "text/plain": [
       "HBox(children=(IntProgress(value=0, max=891221), HTML(value='')))"
      ]
     },
     "metadata": {},
     "output_type": "display_data"
    },
    {
     "name": "stdout",
     "output_type": "stream",
     "text": [
      "\n",
      "Processing KBA13_VORB_1\n"
     ]
    },
    {
     "data": {
      "application/vnd.jupyter.widget-view+json": {
       "model_id": "5830b66d082d4d5987d368e06e75706e",
       "version_major": 2,
       "version_minor": 0
      },
      "text/plain": [
       "HBox(children=(IntProgress(value=0, max=891221), HTML(value='')))"
      ]
     },
     "metadata": {},
     "output_type": "display_data"
    },
    {
     "name": "stdout",
     "output_type": "stream",
     "text": [
      "\n",
      "Processing KBA13_VORB_1_2\n"
     ]
    },
    {
     "data": {
      "application/vnd.jupyter.widget-view+json": {
       "model_id": "40d6f016df78445aaa319bb9d7bf8eaa",
       "version_major": 2,
       "version_minor": 0
      },
      "text/plain": [
       "HBox(children=(IntProgress(value=0, max=891221), HTML(value='')))"
      ]
     },
     "metadata": {},
     "output_type": "display_data"
    },
    {
     "name": "stdout",
     "output_type": "stream",
     "text": [
      "\n",
      "Processing KBA13_VORB_2\n"
     ]
    },
    {
     "data": {
      "application/vnd.jupyter.widget-view+json": {
       "model_id": "3e5446f4974e4944a5faa962ec0c2982",
       "version_major": 2,
       "version_minor": 0
      },
      "text/plain": [
       "HBox(children=(IntProgress(value=0, max=891221), HTML(value='')))"
      ]
     },
     "metadata": {},
     "output_type": "display_data"
    },
    {
     "name": "stdout",
     "output_type": "stream",
     "text": [
      "\n",
      "Processing KBA13_VORB_3\n"
     ]
    },
    {
     "data": {
      "application/vnd.jupyter.widget-view+json": {
       "model_id": "5e5a60d5ef43407c946b5956632ff6b4",
       "version_major": 2,
       "version_minor": 0
      },
      "text/plain": [
       "HBox(children=(IntProgress(value=0, max=891221), HTML(value='')))"
      ]
     },
     "metadata": {},
     "output_type": "display_data"
    },
    {
     "name": "stdout",
     "output_type": "stream",
     "text": [
      "\n",
      "Processing KBA13_VW\n"
     ]
    },
    {
     "data": {
      "application/vnd.jupyter.widget-view+json": {
       "model_id": "748ddaa177f74917b1f783225dcdf401",
       "version_major": 2,
       "version_minor": 0
      },
      "text/plain": [
       "HBox(children=(IntProgress(value=0, max=891221), HTML(value='')))"
      ]
     },
     "metadata": {},
     "output_type": "display_data"
    },
    {
     "name": "stdout",
     "output_type": "stream",
     "text": [
      "\n",
      "Processing KKK\n"
     ]
    },
    {
     "data": {
      "application/vnd.jupyter.widget-view+json": {
       "model_id": "fc2f35f2850240ccba8e2eab7ab417ca",
       "version_major": 2,
       "version_minor": 0
      },
      "text/plain": [
       "HBox(children=(IntProgress(value=0, max=891221), HTML(value='')))"
      ]
     },
     "metadata": {},
     "output_type": "display_data"
    },
    {
     "name": "stdout",
     "output_type": "stream",
     "text": [
      "\n",
      "Processing LP_FAMILIE_FEIN\n"
     ]
    },
    {
     "data": {
      "application/vnd.jupyter.widget-view+json": {
       "model_id": "3274735a3933497da24799c4acd4c49e",
       "version_major": 2,
       "version_minor": 0
      },
      "text/plain": [
       "HBox(children=(IntProgress(value=0, max=891221), HTML(value='')))"
      ]
     },
     "metadata": {},
     "output_type": "display_data"
    },
    {
     "name": "stdout",
     "output_type": "stream",
     "text": [
      "\n",
      "Processing LP_FAMILIE_GROB\n"
     ]
    },
    {
     "data": {
      "application/vnd.jupyter.widget-view+json": {
       "model_id": "c36d2966ba414939a5e4594308d8e223",
       "version_major": 2,
       "version_minor": 0
      },
      "text/plain": [
       "HBox(children=(IntProgress(value=0, max=891221), HTML(value='')))"
      ]
     },
     "metadata": {},
     "output_type": "display_data"
    },
    {
     "name": "stdout",
     "output_type": "stream",
     "text": [
      "\n",
      "Processing LP_LEBENSPHASE_FEIN\n"
     ]
    },
    {
     "data": {
      "application/vnd.jupyter.widget-view+json": {
       "model_id": "cf0a198998a64ac2a6f1ba3035474b1e",
       "version_major": 2,
       "version_minor": 0
      },
      "text/plain": [
       "HBox(children=(IntProgress(value=0, max=891221), HTML(value='')))"
      ]
     },
     "metadata": {},
     "output_type": "display_data"
    },
    {
     "name": "stdout",
     "output_type": "stream",
     "text": [
      "\n",
      "Processing LP_LEBENSPHASE_GROB\n"
     ]
    },
    {
     "data": {
      "application/vnd.jupyter.widget-view+json": {
       "model_id": "9fdea9e6db1e4f17a5b4d5f7f2f66b07",
       "version_major": 2,
       "version_minor": 0
      },
      "text/plain": [
       "HBox(children=(IntProgress(value=0, max=891221), HTML(value='')))"
      ]
     },
     "metadata": {},
     "output_type": "display_data"
    },
    {
     "name": "stdout",
     "output_type": "stream",
     "text": [
      "\n",
      "Processing LP_STATUS_FEIN\n"
     ]
    },
    {
     "data": {
      "application/vnd.jupyter.widget-view+json": {
       "model_id": "6c6ec7c33b724e9496d9c946c70a8445",
       "version_major": 2,
       "version_minor": 0
      },
      "text/plain": [
       "HBox(children=(IntProgress(value=0, max=891221), HTML(value='')))"
      ]
     },
     "metadata": {},
     "output_type": "display_data"
    },
    {
     "name": "stdout",
     "output_type": "stream",
     "text": [
      "\n",
      "Processing LP_STATUS_GROB\n"
     ]
    },
    {
     "data": {
      "application/vnd.jupyter.widget-view+json": {
       "model_id": "effc19363ed049369e4d75919ed61eb9",
       "version_major": 2,
       "version_minor": 0
      },
      "text/plain": [
       "HBox(children=(IntProgress(value=0, max=891221), HTML(value='')))"
      ]
     },
     "metadata": {},
     "output_type": "display_data"
    },
    {
     "name": "stdout",
     "output_type": "stream",
     "text": [
      "\n",
      "Processing NATIONALITAET_KZ\n"
     ]
    },
    {
     "data": {
      "application/vnd.jupyter.widget-view+json": {
       "model_id": "9f216a3423d04969b97da764646f25e6",
       "version_major": 2,
       "version_minor": 0
      },
      "text/plain": [
       "HBox(children=(IntProgress(value=0, max=891221), HTML(value='')))"
      ]
     },
     "metadata": {},
     "output_type": "display_data"
    },
    {
     "name": "stdout",
     "output_type": "stream",
     "text": [
      "\n",
      "Processing ORTSGR_KLS9\n"
     ]
    },
    {
     "data": {
      "application/vnd.jupyter.widget-view+json": {
       "model_id": "14edc8ff873244c5b3385e6644779058",
       "version_major": 2,
       "version_minor": 0
      },
      "text/plain": [
       "HBox(children=(IntProgress(value=0, max=891221), HTML(value='')))"
      ]
     },
     "metadata": {},
     "output_type": "display_data"
    },
    {
     "name": "stdout",
     "output_type": "stream",
     "text": [
      "\n",
      "Processing OST_WEST_KZ\n"
     ]
    },
    {
     "data": {
      "application/vnd.jupyter.widget-view+json": {
       "model_id": "66aee90d61a04090aa24f5f46c79eb2d",
       "version_major": 2,
       "version_minor": 0
      },
      "text/plain": [
       "HBox(children=(IntProgress(value=0, max=891221), HTML(value='')))"
      ]
     },
     "metadata": {},
     "output_type": "display_data"
    },
    {
     "name": "stdout",
     "output_type": "stream",
     "text": [
      "\n",
      "Processing PLZ8_ANTG1\n"
     ]
    },
    {
     "data": {
      "application/vnd.jupyter.widget-view+json": {
       "model_id": "5bf75737c2254280afbf120976c15d82",
       "version_major": 2,
       "version_minor": 0
      },
      "text/plain": [
       "HBox(children=(IntProgress(value=0, max=891221), HTML(value='')))"
      ]
     },
     "metadata": {},
     "output_type": "display_data"
    },
    {
     "name": "stdout",
     "output_type": "stream",
     "text": [
      "\n",
      "Processing PLZ8_ANTG2\n"
     ]
    },
    {
     "data": {
      "application/vnd.jupyter.widget-view+json": {
       "model_id": "6c6fc6e0509f4368acd3b3eba391bd58",
       "version_major": 2,
       "version_minor": 0
      },
      "text/plain": [
       "HBox(children=(IntProgress(value=0, max=891221), HTML(value='')))"
      ]
     },
     "metadata": {},
     "output_type": "display_data"
    },
    {
     "name": "stdout",
     "output_type": "stream",
     "text": [
      "\n",
      "Processing PLZ8_ANTG3\n"
     ]
    },
    {
     "data": {
      "application/vnd.jupyter.widget-view+json": {
       "model_id": "80489a86542b45e0b112a5ca77606480",
       "version_major": 2,
       "version_minor": 0
      },
      "text/plain": [
       "HBox(children=(IntProgress(value=0, max=891221), HTML(value='')))"
      ]
     },
     "metadata": {},
     "output_type": "display_data"
    },
    {
     "name": "stdout",
     "output_type": "stream",
     "text": [
      "\n",
      "Processing PLZ8_ANTG4\n"
     ]
    },
    {
     "data": {
      "application/vnd.jupyter.widget-view+json": {
       "model_id": "3e5dd9f3a16c4784a842bb006f941d94",
       "version_major": 2,
       "version_minor": 0
      },
      "text/plain": [
       "HBox(children=(IntProgress(value=0, max=891221), HTML(value='')))"
      ]
     },
     "metadata": {},
     "output_type": "display_data"
    },
    {
     "name": "stdout",
     "output_type": "stream",
     "text": [
      "\n",
      "Processing PLZ8_GBZ\n"
     ]
    },
    {
     "data": {
      "application/vnd.jupyter.widget-view+json": {
       "model_id": "9fd9d99a6240400fa6c526009a40310e",
       "version_major": 2,
       "version_minor": 0
      },
      "text/plain": [
       "HBox(children=(IntProgress(value=0, max=891221), HTML(value='')))"
      ]
     },
     "metadata": {},
     "output_type": "display_data"
    },
    {
     "name": "stdout",
     "output_type": "stream",
     "text": [
      "\n",
      "Processing PLZ8_HHZ\n"
     ]
    },
    {
     "data": {
      "application/vnd.jupyter.widget-view+json": {
       "model_id": "993fb145046e4020a9f8507c66e01855",
       "version_major": 2,
       "version_minor": 0
      },
      "text/plain": [
       "HBox(children=(IntProgress(value=0, max=891221), HTML(value='')))"
      ]
     },
     "metadata": {},
     "output_type": "display_data"
    },
    {
     "name": "stdout",
     "output_type": "stream",
     "text": [
      "\n",
      "Processing PRAEGENDE_JUGENDJAHRE\n"
     ]
    },
    {
     "data": {
      "application/vnd.jupyter.widget-view+json": {
       "model_id": "1b6fdc4c23df4541b68e1d4a550849ca",
       "version_major": 2,
       "version_minor": 0
      },
      "text/plain": [
       "HBox(children=(IntProgress(value=0, max=891221), HTML(value='')))"
      ]
     },
     "metadata": {},
     "output_type": "display_data"
    },
    {
     "name": "stdout",
     "output_type": "stream",
     "text": [
      "\n",
      "Processing REGIOTYP\n"
     ]
    },
    {
     "data": {
      "application/vnd.jupyter.widget-view+json": {
       "model_id": "d869b87315e141b7a5fd7abcc6b56458",
       "version_major": 2,
       "version_minor": 0
      },
      "text/plain": [
       "HBox(children=(IntProgress(value=0, max=891221), HTML(value='')))"
      ]
     },
     "metadata": {},
     "output_type": "display_data"
    },
    {
     "name": "stdout",
     "output_type": "stream",
     "text": [
      "\n",
      "Processing RELAT_AB\n"
     ]
    },
    {
     "data": {
      "application/vnd.jupyter.widget-view+json": {
       "model_id": "2154706c1a654dc1aa45ad88da46040c",
       "version_major": 2,
       "version_minor": 0
      },
      "text/plain": [
       "HBox(children=(IntProgress(value=0, max=891221), HTML(value='')))"
      ]
     },
     "metadata": {},
     "output_type": "display_data"
    },
    {
     "name": "stdout",
     "output_type": "stream",
     "text": [
      "\n",
      "Processing RETOURTYP_BK_S\n"
     ]
    },
    {
     "data": {
      "application/vnd.jupyter.widget-view+json": {
       "model_id": "bf47bb1f4eb5478d9065fb652f085042",
       "version_major": 2,
       "version_minor": 0
      },
      "text/plain": [
       "HBox(children=(IntProgress(value=0, max=891221), HTML(value='')))"
      ]
     },
     "metadata": {},
     "output_type": "display_data"
    },
    {
     "name": "stdout",
     "output_type": "stream",
     "text": [
      "\n",
      "Processing SEMIO_DOM\n"
     ]
    },
    {
     "data": {
      "application/vnd.jupyter.widget-view+json": {
       "model_id": "1bbcd673cd8043e7b32bde69e9e2dede",
       "version_major": 2,
       "version_minor": 0
      },
      "text/plain": [
       "HBox(children=(IntProgress(value=0, max=891221), HTML(value='')))"
      ]
     },
     "metadata": {},
     "output_type": "display_data"
    },
    {
     "name": "stdout",
     "output_type": "stream",
     "text": [
      "\n",
      "Processing SEMIO_ERL\n"
     ]
    },
    {
     "data": {
      "application/vnd.jupyter.widget-view+json": {
       "model_id": "92ab13ff889d4c35b2062f68a2060a93",
       "version_major": 2,
       "version_minor": 0
      },
      "text/plain": [
       "HBox(children=(IntProgress(value=0, max=891221), HTML(value='')))"
      ]
     },
     "metadata": {},
     "output_type": "display_data"
    },
    {
     "name": "stdout",
     "output_type": "stream",
     "text": [
      "\n",
      "Processing SEMIO_FAM\n"
     ]
    },
    {
     "data": {
      "application/vnd.jupyter.widget-view+json": {
       "model_id": "9147c5b224aa46b6a121dab3ec1afcfa",
       "version_major": 2,
       "version_minor": 0
      },
      "text/plain": [
       "HBox(children=(IntProgress(value=0, max=891221), HTML(value='')))"
      ]
     },
     "metadata": {},
     "output_type": "display_data"
    },
    {
     "name": "stdout",
     "output_type": "stream",
     "text": [
      "\n",
      "Processing SEMIO_KAEM\n"
     ]
    },
    {
     "data": {
      "application/vnd.jupyter.widget-view+json": {
       "model_id": "0dc1efdaddc649e987650e27ff7f3b96",
       "version_major": 2,
       "version_minor": 0
      },
      "text/plain": [
       "HBox(children=(IntProgress(value=0, max=891221), HTML(value='')))"
      ]
     },
     "metadata": {},
     "output_type": "display_data"
    },
    {
     "name": "stdout",
     "output_type": "stream",
     "text": [
      "\n",
      "Processing SEMIO_KRIT\n"
     ]
    },
    {
     "data": {
      "application/vnd.jupyter.widget-view+json": {
       "model_id": "7d94cf8bcf2e483982e7f0077a96dfbf",
       "version_major": 2,
       "version_minor": 0
      },
      "text/plain": [
       "HBox(children=(IntProgress(value=0, max=891221), HTML(value='')))"
      ]
     },
     "metadata": {},
     "output_type": "display_data"
    },
    {
     "name": "stdout",
     "output_type": "stream",
     "text": [
      "\n",
      "Processing SEMIO_KULT\n"
     ]
    },
    {
     "data": {
      "application/vnd.jupyter.widget-view+json": {
       "model_id": "543c7cae3948454d93299fdaf092f5aa",
       "version_major": 2,
       "version_minor": 0
      },
      "text/plain": [
       "HBox(children=(IntProgress(value=0, max=891221), HTML(value='')))"
      ]
     },
     "metadata": {},
     "output_type": "display_data"
    },
    {
     "name": "stdout",
     "output_type": "stream",
     "text": [
      "\n",
      "Processing SEMIO_LUST\n"
     ]
    },
    {
     "data": {
      "application/vnd.jupyter.widget-view+json": {
       "model_id": "6b240be570874d9daa042a67b7b04e84",
       "version_major": 2,
       "version_minor": 0
      },
      "text/plain": [
       "HBox(children=(IntProgress(value=0, max=891221), HTML(value='')))"
      ]
     },
     "metadata": {},
     "output_type": "display_data"
    },
    {
     "name": "stdout",
     "output_type": "stream",
     "text": [
      "\n",
      "Processing SEMIO_MAT\n"
     ]
    },
    {
     "data": {
      "application/vnd.jupyter.widget-view+json": {
       "model_id": "fa9b94db15a44e27bfb1b2c49dfec61b",
       "version_major": 2,
       "version_minor": 0
      },
      "text/plain": [
       "HBox(children=(IntProgress(value=0, max=891221), HTML(value='')))"
      ]
     },
     "metadata": {},
     "output_type": "display_data"
    },
    {
     "name": "stdout",
     "output_type": "stream",
     "text": [
      "\n",
      "Processing SEMIO_PFLICHT\n"
     ]
    },
    {
     "data": {
      "application/vnd.jupyter.widget-view+json": {
       "model_id": "e8db46a50c024a2d8cdcdadf088d25d9",
       "version_major": 2,
       "version_minor": 0
      },
      "text/plain": [
       "HBox(children=(IntProgress(value=0, max=891221), HTML(value='')))"
      ]
     },
     "metadata": {},
     "output_type": "display_data"
    },
    {
     "name": "stdout",
     "output_type": "stream",
     "text": [
      "\n",
      "Processing SEMIO_RAT\n"
     ]
    },
    {
     "data": {
      "application/vnd.jupyter.widget-view+json": {
       "model_id": "794f987cc0a548a48ad607c61a3d1318",
       "version_major": 2,
       "version_minor": 0
      },
      "text/plain": [
       "HBox(children=(IntProgress(value=0, max=891221), HTML(value='')))"
      ]
     },
     "metadata": {},
     "output_type": "display_data"
    },
    {
     "name": "stdout",
     "output_type": "stream",
     "text": [
      "\n",
      "Processing SEMIO_REL\n"
     ]
    },
    {
     "data": {
      "application/vnd.jupyter.widget-view+json": {
       "model_id": "51bca4c01d2c42dca593f77d036b4c46",
       "version_major": 2,
       "version_minor": 0
      },
      "text/plain": [
       "HBox(children=(IntProgress(value=0, max=891221), HTML(value='')))"
      ]
     },
     "metadata": {},
     "output_type": "display_data"
    },
    {
     "name": "stdout",
     "output_type": "stream",
     "text": [
      "\n",
      "Processing SEMIO_SOZ\n"
     ]
    },
    {
     "data": {
      "application/vnd.jupyter.widget-view+json": {
       "model_id": "4e9087919f834712b1579d712dfb9d55",
       "version_major": 2,
       "version_minor": 0
      },
      "text/plain": [
       "HBox(children=(IntProgress(value=0, max=891221), HTML(value='')))"
      ]
     },
     "metadata": {},
     "output_type": "display_data"
    },
    {
     "name": "stdout",
     "output_type": "stream",
     "text": [
      "\n",
      "Processing SEMIO_TRADV\n"
     ]
    },
    {
     "data": {
      "application/vnd.jupyter.widget-view+json": {
       "model_id": "b3553611e95a4655bf91c16574e8f054",
       "version_major": 2,
       "version_minor": 0
      },
      "text/plain": [
       "HBox(children=(IntProgress(value=0, max=891221), HTML(value='')))"
      ]
     },
     "metadata": {},
     "output_type": "display_data"
    },
    {
     "name": "stdout",
     "output_type": "stream",
     "text": [
      "\n",
      "Processing SEMIO_VERT\n"
     ]
    },
    {
     "data": {
      "application/vnd.jupyter.widget-view+json": {
       "model_id": "3c25e300a12f4885836515a39c1f25c9",
       "version_major": 2,
       "version_minor": 0
      },
      "text/plain": [
       "HBox(children=(IntProgress(value=0, max=891221), HTML(value='')))"
      ]
     },
     "metadata": {},
     "output_type": "display_data"
    },
    {
     "name": "stdout",
     "output_type": "stream",
     "text": [
      "\n",
      "Processing SHOPPER_TYP\n"
     ]
    },
    {
     "data": {
      "application/vnd.jupyter.widget-view+json": {
       "model_id": "34099c090d5a4aef82b007e8a713452a",
       "version_major": 2,
       "version_minor": 0
      },
      "text/plain": [
       "HBox(children=(IntProgress(value=0, max=891221), HTML(value='')))"
      ]
     },
     "metadata": {},
     "output_type": "display_data"
    },
    {
     "name": "stdout",
     "output_type": "stream",
     "text": [
      "\n",
      "Processing TITEL_KZ\n"
     ]
    },
    {
     "data": {
      "application/vnd.jupyter.widget-view+json": {
       "model_id": "9bda237fbc70415fb0060e4c9f6a0d3a",
       "version_major": 2,
       "version_minor": 0
      },
      "text/plain": [
       "HBox(children=(IntProgress(value=0, max=891221), HTML(value='')))"
      ]
     },
     "metadata": {},
     "output_type": "display_data"
    },
    {
     "name": "stdout",
     "output_type": "stream",
     "text": [
      "\n",
      "Processing VERS_TYP\n"
     ]
    },
    {
     "data": {
      "application/vnd.jupyter.widget-view+json": {
       "model_id": "38db4b4deb2d490bb013fdca752fd913",
       "version_major": 2,
       "version_minor": 0
      },
      "text/plain": [
       "HBox(children=(IntProgress(value=0, max=891221), HTML(value='')))"
      ]
     },
     "metadata": {},
     "output_type": "display_data"
    },
    {
     "name": "stdout",
     "output_type": "stream",
     "text": [
      "\n",
      "Processing WOHNDAUER_2008\n"
     ]
    },
    {
     "data": {
      "application/vnd.jupyter.widget-view+json": {
       "model_id": "903529ceb4ad451ea586bb360fbf9bad",
       "version_major": 2,
       "version_minor": 0
      },
      "text/plain": [
       "HBox(children=(IntProgress(value=0, max=891221), HTML(value='')))"
      ]
     },
     "metadata": {},
     "output_type": "display_data"
    },
    {
     "name": "stdout",
     "output_type": "stream",
     "text": [
      "\n",
      "Processing WOHNLAGE\n"
     ]
    },
    {
     "data": {
      "application/vnd.jupyter.widget-view+json": {
       "model_id": "7b65251e95fc44ce84f5466ae85aed58",
       "version_major": 2,
       "version_minor": 0
      },
      "text/plain": [
       "HBox(children=(IntProgress(value=0, max=891221), HTML(value='')))"
      ]
     },
     "metadata": {},
     "output_type": "display_data"
    },
    {
     "name": "stdout",
     "output_type": "stream",
     "text": [
      "\n",
      "Processing W_KEIT_KIND_HH\n"
     ]
    },
    {
     "data": {
      "application/vnd.jupyter.widget-view+json": {
       "model_id": "87a74c5260744921a06d69e3cd5a6bf2",
       "version_major": 2,
       "version_minor": 0
      },
      "text/plain": [
       "HBox(children=(IntProgress(value=0, max=891221), HTML(value='')))"
      ]
     },
     "metadata": {},
     "output_type": "display_data"
    },
    {
     "name": "stdout",
     "output_type": "stream",
     "text": [
      "\n",
      "Processing ZABEOTYP\n"
     ]
    },
    {
     "data": {
      "application/vnd.jupyter.widget-view+json": {
       "model_id": "39911c383b544096ae3d2665e43d1abb",
       "version_major": 2,
       "version_minor": 0
      },
      "text/plain": [
       "HBox(children=(IntProgress(value=0, max=891221), HTML(value='')))"
      ]
     },
     "metadata": {},
     "output_type": "display_data"
    },
    {
     "name": "stdout",
     "output_type": "stream",
     "text": [
      "\n",
      "Processing ARBEIT\n"
     ]
    },
    {
     "data": {
      "application/vnd.jupyter.widget-view+json": {
       "model_id": "9f59e203a9864c0196dbe175ffa5cfda",
       "version_major": 2,
       "version_minor": 0
      },
      "text/plain": [
       "HBox(children=(IntProgress(value=0, max=891221), HTML(value='')))"
      ]
     },
     "metadata": {},
     "output_type": "display_data"
    },
    {
     "name": "stdout",
     "output_type": "stream",
     "text": [
      "\n",
      "Processing ALTERSKATEGORIE_FEIN\n"
     ]
    },
    {
     "data": {
      "application/vnd.jupyter.widget-view+json": {
       "model_id": "f24b2299e44146de9a3536033bc6e410",
       "version_major": 2,
       "version_minor": 0
      },
      "text/plain": [
       "HBox(children=(IntProgress(value=0, max=891221), HTML(value='')))"
      ]
     },
     "metadata": {},
     "output_type": "display_data"
    },
    {
     "name": "stdout",
     "output_type": "stream",
     "text": [
      "\n",
      "Processing D19_SOZIALES\n"
     ]
    },
    {
     "data": {
      "application/vnd.jupyter.widget-view+json": {
       "model_id": "f83bf9f00be64bb2b2cd182b6f8f1391",
       "version_major": 2,
       "version_minor": 0
      },
      "text/plain": [
       "HBox(children=(IntProgress(value=0, max=891221), HTML(value='')))"
      ]
     },
     "metadata": {},
     "output_type": "display_data"
    },
    {
     "name": "stdout",
     "output_type": "stream",
     "text": [
      "\n",
      "Processing D19_TELKO_ONLINE_QUOTE_12\n"
     ]
    },
    {
     "data": {
      "application/vnd.jupyter.widget-view+json": {
       "model_id": "2ad5035ccb9646acbbcfef6d319732de",
       "version_major": 2,
       "version_minor": 0
      },
      "text/plain": [
       "HBox(children=(IntProgress(value=0, max=891221), HTML(value='')))"
      ]
     },
     "metadata": {},
     "output_type": "display_data"
    },
    {
     "name": "stdout",
     "output_type": "stream",
     "text": [
      "\n",
      "Processing D19_VERSI_DATUM\n"
     ]
    },
    {
     "data": {
      "application/vnd.jupyter.widget-view+json": {
       "model_id": "a6dd2162d53949f3b5120f8eb429f310",
       "version_major": 2,
       "version_minor": 0
      },
      "text/plain": [
       "HBox(children=(IntProgress(value=0, max=891221), HTML(value='')))"
      ]
     },
     "metadata": {},
     "output_type": "display_data"
    },
    {
     "name": "stdout",
     "output_type": "stream",
     "text": [
      "\n",
      "Processing D19_VERSI_OFFLINE_DATUM\n"
     ]
    },
    {
     "data": {
      "application/vnd.jupyter.widget-view+json": {
       "model_id": "eb37ba768fb443fca30c5916c786dfd4",
       "version_major": 2,
       "version_minor": 0
      },
      "text/plain": [
       "HBox(children=(IntProgress(value=0, max=891221), HTML(value='')))"
      ]
     },
     "metadata": {},
     "output_type": "display_data"
    },
    {
     "name": "stdout",
     "output_type": "stream",
     "text": [
      "\n",
      "Processing D19_VERSI_ONLINE_DATUM\n"
     ]
    },
    {
     "data": {
      "application/vnd.jupyter.widget-view+json": {
       "model_id": "c90b6f61d95f411482732dfa09cf1f45",
       "version_major": 2,
       "version_minor": 0
      },
      "text/plain": [
       "HBox(children=(IntProgress(value=0, max=891221), HTML(value='')))"
      ]
     },
     "metadata": {},
     "output_type": "display_data"
    },
    {
     "name": "stdout",
     "output_type": "stream",
     "text": [
      "\n",
      "Processing KBA13_ANTG1\n"
     ]
    },
    {
     "data": {
      "application/vnd.jupyter.widget-view+json": {
       "model_id": "3ff9001bbbf8481fb7fd0dd2628501aa",
       "version_major": 2,
       "version_minor": 0
      },
      "text/plain": [
       "HBox(children=(IntProgress(value=0, max=891221), HTML(value='')))"
      ]
     },
     "metadata": {},
     "output_type": "display_data"
    },
    {
     "name": "stdout",
     "output_type": "stream",
     "text": [
      "\n",
      "Processing KBA13_ANTG2\n"
     ]
    },
    {
     "data": {
      "application/vnd.jupyter.widget-view+json": {
       "model_id": "f59d632c6b8e4ad5ab4ac19e2ef3613a",
       "version_major": 2,
       "version_minor": 0
      },
      "text/plain": [
       "HBox(children=(IntProgress(value=0, max=891221), HTML(value='')))"
      ]
     },
     "metadata": {},
     "output_type": "display_data"
    },
    {
     "name": "stdout",
     "output_type": "stream",
     "text": [
      "\n",
      "Processing KBA13_ANTG3\n"
     ]
    },
    {
     "data": {
      "application/vnd.jupyter.widget-view+json": {
       "model_id": "9cea268bc01b4271951cfd893324c2f4",
       "version_major": 2,
       "version_minor": 0
      },
      "text/plain": [
       "HBox(children=(IntProgress(value=0, max=891221), HTML(value='')))"
      ]
     },
     "metadata": {},
     "output_type": "display_data"
    },
    {
     "name": "stdout",
     "output_type": "stream",
     "text": [
      "\n",
      "Processing KBA13_ANTG4\n"
     ]
    },
    {
     "data": {
      "application/vnd.jupyter.widget-view+json": {
       "model_id": "7bb8d294808b43388166145a9e868041",
       "version_major": 2,
       "version_minor": 0
      },
      "text/plain": [
       "HBox(children=(IntProgress(value=0, max=891221), HTML(value='')))"
      ]
     },
     "metadata": {},
     "output_type": "display_data"
    },
    {
     "name": "stdout",
     "output_type": "stream",
     "text": [
      "\n",
      "Processing KBA13_CCM_1401_2500\n"
     ]
    },
    {
     "data": {
      "application/vnd.jupyter.widget-view+json": {
       "model_id": "91ea3defceba4037a70ec5d515209f9a",
       "version_major": 2,
       "version_minor": 0
      },
      "text/plain": [
       "HBox(children=(IntProgress(value=0, max=891221), HTML(value='')))"
      ]
     },
     "metadata": {},
     "output_type": "display_data"
    },
    {
     "name": "stdout",
     "output_type": "stream",
     "text": [
      "\n",
      "Processing KBA13_GBZ\n"
     ]
    },
    {
     "data": {
      "application/vnd.jupyter.widget-view+json": {
       "model_id": "d23ad099bf0644488ad1c8262c3499b5",
       "version_major": 2,
       "version_minor": 0
      },
      "text/plain": [
       "HBox(children=(IntProgress(value=0, max=891221), HTML(value='')))"
      ]
     },
     "metadata": {},
     "output_type": "display_data"
    },
    {
     "name": "stdout",
     "output_type": "stream",
     "text": [
      "\n",
      "Processing KBA13_HHZ\n"
     ]
    },
    {
     "data": {
      "application/vnd.jupyter.widget-view+json": {
       "model_id": "50c13ab63d334cd2a16b19c0af7fd024",
       "version_major": 2,
       "version_minor": 0
      },
      "text/plain": [
       "HBox(children=(IntProgress(value=0, max=891221), HTML(value='')))"
      ]
     },
     "metadata": {},
     "output_type": "display_data"
    },
    {
     "name": "stdout",
     "output_type": "stream",
     "text": [
      "\n",
      "Processing KBA13_KMH_210\n"
     ]
    },
    {
     "data": {
      "application/vnd.jupyter.widget-view+json": {
       "model_id": "4211adac083343c28f2f683649d9f9c7",
       "version_major": 2,
       "version_minor": 0
      },
      "text/plain": [
       "HBox(children=(IntProgress(value=0, max=891221), HTML(value='')))"
      ]
     },
     "metadata": {},
     "output_type": "display_data"
    },
    {
     "name": "stdout",
     "output_type": "stream",
     "text": [
      "\n",
      "Processing KOMBIALTER\n"
     ]
    },
    {
     "data": {
      "application/vnd.jupyter.widget-view+json": {
       "model_id": "d0bc4d7ddf424adbb96ce0b744d6d40b",
       "version_major": 2,
       "version_minor": 0
      },
      "text/plain": [
       "HBox(children=(IntProgress(value=0, max=891221), HTML(value='')))"
      ]
     },
     "metadata": {},
     "output_type": "display_data"
    },
    {
     "name": "stdout",
     "output_type": "stream",
     "text": [
      "\n",
      "Processing KBA13_BAUMAX\n"
     ]
    },
    {
     "data": {
      "application/vnd.jupyter.widget-view+json": {
       "model_id": "ddbedfae50ca4f5ba6df4c92a349cd40",
       "version_major": 2,
       "version_minor": 0
      },
      "text/plain": [
       "HBox(children=(IntProgress(value=0, max=891221), HTML(value='')))"
      ]
     },
     "metadata": {},
     "output_type": "display_data"
    },
    {
     "name": "stdout",
     "output_type": "stream",
     "text": [
      "\n"
     ]
    },
    {
     "data": {
      "text/html": [
       "<div>\n",
       "<style scoped>\n",
       "    .dataframe tbody tr th:only-of-type {\n",
       "        vertical-align: middle;\n",
       "    }\n",
       "\n",
       "    .dataframe tbody tr th {\n",
       "        vertical-align: top;\n",
       "    }\n",
       "\n",
       "    .dataframe thead th {\n",
       "        text-align: right;\n",
       "    }\n",
       "</style>\n",
       "<table border=\"1\" class=\"dataframe\">\n",
       "  <thead>\n",
       "    <tr style=\"text-align: right;\">\n",
       "      <th></th>\n",
       "      <th>LNR</th>\n",
       "      <th>AGER_TYP</th>\n",
       "      <th>AKT_DAT_KL</th>\n",
       "      <th>ALTER_HH</th>\n",
       "      <th>ALTER_KIND1</th>\n",
       "      <th>ALTER_KIND2</th>\n",
       "      <th>ALTER_KIND3</th>\n",
       "      <th>ALTER_KIND4</th>\n",
       "      <th>ALTERSKATEGORIE_FEIN</th>\n",
       "      <th>ANZ_HAUSHALTE_AKTIV</th>\n",
       "      <th>...</th>\n",
       "      <th>VHN</th>\n",
       "      <th>VK_DHT4A</th>\n",
       "      <th>VK_DISTANZ</th>\n",
       "      <th>VK_ZG11</th>\n",
       "      <th>W_KEIT_KIND_HH</th>\n",
       "      <th>WOHNDAUER_2008</th>\n",
       "      <th>WOHNLAGE</th>\n",
       "      <th>ZABEOTYP</th>\n",
       "      <th>ANREDE_KZ</th>\n",
       "      <th>ALTERSKATEGORIE_GROB</th>\n",
       "    </tr>\n",
       "  </thead>\n",
       "  <tbody>\n",
       "    <tr>\n",
       "      <th>0</th>\n",
       "      <td>910215</td>\n",
       "      <td>NaN</td>\n",
       "      <td>NaN</td>\n",
       "      <td>NaN</td>\n",
       "      <td>NaN</td>\n",
       "      <td>NaN</td>\n",
       "      <td>NaN</td>\n",
       "      <td>NaN</td>\n",
       "      <td>NaN</td>\n",
       "      <td>NaN</td>\n",
       "      <td>...</td>\n",
       "      <td>NaN</td>\n",
       "      <td>NaN</td>\n",
       "      <td>NaN</td>\n",
       "      <td>NaN</td>\n",
       "      <td>NaN</td>\n",
       "      <td>NaN</td>\n",
       "      <td>NaN</td>\n",
       "      <td>3</td>\n",
       "      <td>1</td>\n",
       "      <td>2.0</td>\n",
       "    </tr>\n",
       "    <tr>\n",
       "      <th>1</th>\n",
       "      <td>910220</td>\n",
       "      <td>NaN</td>\n",
       "      <td>9.0</td>\n",
       "      <td>NaN</td>\n",
       "      <td>NaN</td>\n",
       "      <td>NaN</td>\n",
       "      <td>NaN</td>\n",
       "      <td>NaN</td>\n",
       "      <td>21.0</td>\n",
       "      <td>11.0</td>\n",
       "      <td>...</td>\n",
       "      <td>4.0</td>\n",
       "      <td>8.0</td>\n",
       "      <td>11.0</td>\n",
       "      <td>10.0</td>\n",
       "      <td>3.0</td>\n",
       "      <td>9.0</td>\n",
       "      <td>4.0</td>\n",
       "      <td>5</td>\n",
       "      <td>2</td>\n",
       "      <td>1.0</td>\n",
       "    </tr>\n",
       "    <tr>\n",
       "      <th>2</th>\n",
       "      <td>910225</td>\n",
       "      <td>NaN</td>\n",
       "      <td>9.0</td>\n",
       "      <td>17.0</td>\n",
       "      <td>NaN</td>\n",
       "      <td>NaN</td>\n",
       "      <td>NaN</td>\n",
       "      <td>NaN</td>\n",
       "      <td>17.0</td>\n",
       "      <td>10.0</td>\n",
       "      <td>...</td>\n",
       "      <td>2.0</td>\n",
       "      <td>9.0</td>\n",
       "      <td>9.0</td>\n",
       "      <td>6.0</td>\n",
       "      <td>3.0</td>\n",
       "      <td>9.0</td>\n",
       "      <td>2.0</td>\n",
       "      <td>5</td>\n",
       "      <td>2</td>\n",
       "      <td>3.0</td>\n",
       "    </tr>\n",
       "    <tr>\n",
       "      <th>3</th>\n",
       "      <td>910226</td>\n",
       "      <td>2.0</td>\n",
       "      <td>1.0</td>\n",
       "      <td>13.0</td>\n",
       "      <td>NaN</td>\n",
       "      <td>NaN</td>\n",
       "      <td>NaN</td>\n",
       "      <td>NaN</td>\n",
       "      <td>13.0</td>\n",
       "      <td>1.0</td>\n",
       "      <td>...</td>\n",
       "      <td>0.0</td>\n",
       "      <td>7.0</td>\n",
       "      <td>10.0</td>\n",
       "      <td>11.0</td>\n",
       "      <td>NaN</td>\n",
       "      <td>9.0</td>\n",
       "      <td>7.0</td>\n",
       "      <td>3</td>\n",
       "      <td>2</td>\n",
       "      <td>4.0</td>\n",
       "    </tr>\n",
       "    <tr>\n",
       "      <th>4</th>\n",
       "      <td>910241</td>\n",
       "      <td>NaN</td>\n",
       "      <td>1.0</td>\n",
       "      <td>20.0</td>\n",
       "      <td>NaN</td>\n",
       "      <td>NaN</td>\n",
       "      <td>NaN</td>\n",
       "      <td>NaN</td>\n",
       "      <td>14.0</td>\n",
       "      <td>3.0</td>\n",
       "      <td>...</td>\n",
       "      <td>2.0</td>\n",
       "      <td>3.0</td>\n",
       "      <td>5.0</td>\n",
       "      <td>4.0</td>\n",
       "      <td>2.0</td>\n",
       "      <td>9.0</td>\n",
       "      <td>3.0</td>\n",
       "      <td>4</td>\n",
       "      <td>1</td>\n",
       "      <td>3.0</td>\n",
       "    </tr>\n",
       "  </tbody>\n",
       "</table>\n",
       "<p>5 rows × 364 columns</p>\n",
       "</div>"
      ],
      "text/plain": [
       "      LNR  AGER_TYP  AKT_DAT_KL  ALTER_HH  ALTER_KIND1  ALTER_KIND2  \\\n",
       "0  910215       NaN         NaN       NaN          NaN          NaN   \n",
       "1  910220       NaN         9.0       NaN          NaN          NaN   \n",
       "2  910225       NaN         9.0      17.0          NaN          NaN   \n",
       "3  910226       2.0         1.0      13.0          NaN          NaN   \n",
       "4  910241       NaN         1.0      20.0          NaN          NaN   \n",
       "\n",
       "   ALTER_KIND3  ALTER_KIND4  ALTERSKATEGORIE_FEIN  ANZ_HAUSHALTE_AKTIV  ...  \\\n",
       "0          NaN          NaN                   NaN                  NaN  ...   \n",
       "1          NaN          NaN                  21.0                 11.0  ...   \n",
       "2          NaN          NaN                  17.0                 10.0  ...   \n",
       "3          NaN          NaN                  13.0                  1.0  ...   \n",
       "4          NaN          NaN                  14.0                  3.0  ...   \n",
       "\n",
       "   VHN  VK_DHT4A  VK_DISTANZ  VK_ZG11  W_KEIT_KIND_HH  WOHNDAUER_2008  \\\n",
       "0  NaN       NaN         NaN      NaN             NaN             NaN   \n",
       "1  4.0       8.0        11.0     10.0             3.0             9.0   \n",
       "2  2.0       9.0         9.0      6.0             3.0             9.0   \n",
       "3  0.0       7.0        10.0     11.0             NaN             9.0   \n",
       "4  2.0       3.0         5.0      4.0             2.0             9.0   \n",
       "\n",
       "   WOHNLAGE ZABEOTYP  ANREDE_KZ  ALTERSKATEGORIE_GROB  \n",
       "0       NaN        3          1                   2.0  \n",
       "1       4.0        5          2                   1.0  \n",
       "2       2.0        5          2                   3.0  \n",
       "3       7.0        3          2                   4.0  \n",
       "4       3.0        4          1                   3.0  \n",
       "\n",
       "[5 rows x 364 columns]"
      ]
     },
     "execution_count": 5,
     "metadata": {},
     "output_type": "execute_result"
    }
   ],
   "source": [
    "# The following columns will be droped because they are metadata columns\n",
    "drop_features = ['D19_LETZTER_KAUF_BRANCHE', 'EINGEFUEGT_AM']\n",
    "\n",
    "azdias = azdias.drop(drop_features, axis=1)\n",
    "azdias = replace_missing_or_unknown(azdias, feat_info)\n",
    "azdias.head()"
   ]
  },
  {
   "cell_type": "markdown",
   "metadata": {
    "hidden": true
   },
   "source": [
    "Let's have another look at missing values now:"
   ]
  },
  {
   "cell_type": "code",
   "execution_count": 6,
   "metadata": {
    "ExecuteTime": {
     "end_time": "2019-08-11T16:36:22.116585Z",
     "start_time": "2019-08-11T16:36:15.697704Z"
    },
    "hidden": true
   },
   "outputs": [
    {
     "data": {
      "image/png": "[encoded data removed]",
      "text/plain": [
       "<Figure size 1728x720 with 2 Axes>"
      ]
     },
     "metadata": {
      "needs_background": "light"
     },
     "output_type": "display_data"
    }
   ],
   "source": [
    "ax = msno.bar(azdias)"
   ]
  },
  {
   "cell_type": "markdown",
   "metadata": {
    "ExecuteTime": {
     "end_time": "2019-08-10T16:45:43.950808Z",
     "start_time": "2019-08-10T16:45:43.790590Z"
    },
    "hidden": true
   },
   "source": [
    "As we can see from the figure above there are a lot of columns with very few values now. Next we will have a look at missing values per column"
   ]
  },
  {
   "cell_type": "markdown",
   "metadata": {
    "hidden": true
   },
   "source": [
    "#### Assess Missing Data in Each Column"
   ]
  },
  {
   "cell_type": "markdown",
   "metadata": {
    "hidden": true
   },
   "source": [
    "Investigate patterns in the amount of missing data in each column."
   ]
  },
  {
   "cell_type": "code",
   "execution_count": 7,
   "metadata": {
    "ExecuteTime": {
     "end_time": "2019-08-11T16:36:26.205216Z",
     "start_time": "2019-08-11T16:36:22.118567Z"
    },
    "hidden": true,
    "scrolled": true
   },
   "outputs": [
    {
     "data": {
      "text/html": [
       "<div>\n",
       "<style scoped>\n",
       "    .dataframe tbody tr th:only-of-type {\n",
       "        vertical-align: middle;\n",
       "    }\n",
       "\n",
       "    .dataframe tbody tr th {\n",
       "        vertical-align: top;\n",
       "    }\n",
       "\n",
       "    .dataframe thead th {\n",
       "        text-align: right;\n",
       "    }\n",
       "</style>\n",
       "<table border=\"1\" class=\"dataframe\">\n",
       "  <thead>\n",
       "    <tr style=\"text-align: right;\">\n",
       "      <th></th>\n",
       "      <th>nan_count</th>\n",
       "    </tr>\n",
       "  </thead>\n",
       "  <tbody>\n",
       "    <tr>\n",
       "      <th>ALTER_KIND4</th>\n",
       "      <td>99.864792</td>\n",
       "    </tr>\n",
       "    <tr>\n",
       "      <th>TITEL_KZ</th>\n",
       "      <td>99.757636</td>\n",
       "    </tr>\n",
       "    <tr>\n",
       "      <th>ALTER_KIND3</th>\n",
       "      <td>99.307691</td>\n",
       "    </tr>\n",
       "    <tr>\n",
       "      <th>D19_VERSI_ONLINE_DATUM</th>\n",
       "      <td>99.170239</td>\n",
       "    </tr>\n",
       "    <tr>\n",
       "      <th>D19_TELKO_ONLINE_DATUM</th>\n",
       "      <td>99.079577</td>\n",
       "    </tr>\n",
       "    <tr>\n",
       "      <th>D19_BANKEN_LOKAL</th>\n",
       "      <td>98.151300</td>\n",
       "    </tr>\n",
       "    <tr>\n",
       "      <th>D19_BANKEN_OFFLINE_DATUM</th>\n",
       "      <td>97.791120</td>\n",
       "    </tr>\n",
       "    <tr>\n",
       "      <th>ALTER_KIND2</th>\n",
       "      <td>96.690047</td>\n",
       "    </tr>\n",
       "    <tr>\n",
       "      <th>D19_VERSI_OFFLINE_DATUM</th>\n",
       "      <td>96.296205</td>\n",
       "    </tr>\n",
       "    <tr>\n",
       "      <th>D19_TELKO_ANZ_12</th>\n",
       "      <td>96.271295</td>\n",
       "    </tr>\n",
       "    <tr>\n",
       "      <th>D19_DIGIT_SERV</th>\n",
       "      <td>96.234380</td>\n",
       "    </tr>\n",
       "    <tr>\n",
       "      <th>D19_BIO_OEKO</th>\n",
       "      <td>95.831898</td>\n",
       "    </tr>\n",
       "    <tr>\n",
       "      <th>D19_TIERARTIKEL</th>\n",
       "      <td>95.623869</td>\n",
       "    </tr>\n",
       "    <tr>\n",
       "      <th>D19_NAHRUNGSERGAENZUNG</th>\n",
       "      <td>95.618932</td>\n",
       "    </tr>\n",
       "    <tr>\n",
       "      <th>D19_GARTEN</th>\n",
       "      <td>95.557219</td>\n",
       "    </tr>\n",
       "    <tr>\n",
       "      <th>D19_LEBENSMITTEL</th>\n",
       "      <td>94.018655</td>\n",
       "    </tr>\n",
       "    <tr>\n",
       "      <th>D19_WEIN_FEINKOST</th>\n",
       "      <td>93.819827</td>\n",
       "    </tr>\n",
       "    <tr>\n",
       "      <th>D19_BANKEN_ANZ_12</th>\n",
       "      <td>93.325225</td>\n",
       "    </tr>\n",
       "    <tr>\n",
       "      <th>D19_ENERGIE</th>\n",
       "      <td>93.114615</td>\n",
       "    </tr>\n",
       "    <tr>\n",
       "      <th>D19_TELKO_ANZ_24</th>\n",
       "      <td>92.705176</td>\n",
       "    </tr>\n",
       "    <tr>\n",
       "      <th>D19_BANKEN_REST</th>\n",
       "      <td>92.206086</td>\n",
       "    </tr>\n",
       "    <tr>\n",
       "      <th>D19_VERSI_ANZ_12</th>\n",
       "      <td>92.153237</td>\n",
       "    </tr>\n",
       "    <tr>\n",
       "      <th>D19_TELKO_OFFLINE_DATUM</th>\n",
       "      <td>91.909190</td>\n",
       "    </tr>\n",
       "    <tr>\n",
       "      <th>D19_BILDUNG</th>\n",
       "      <td>91.240669</td>\n",
       "    </tr>\n",
       "    <tr>\n",
       "      <th>ALTER_KIND1</th>\n",
       "      <td>90.904837</td>\n",
       "    </tr>\n",
       "    <tr>\n",
       "      <th>D19_BEKLEIDUNG_GEH</th>\n",
       "      <td>90.808453</td>\n",
       "    </tr>\n",
       "    <tr>\n",
       "      <th>D19_RATGEBER</th>\n",
       "      <td>90.333486</td>\n",
       "    </tr>\n",
       "    <tr>\n",
       "      <th>D19_SAMMELARTIKEL</th>\n",
       "      <td>89.998440</td>\n",
       "    </tr>\n",
       "    <tr>\n",
       "      <th>D19_BANKEN_ANZ_24</th>\n",
       "      <td>89.102479</td>\n",
       "    </tr>\n",
       "    <tr>\n",
       "      <th>D19_FREIZEIT</th>\n",
       "      <td>88.726365</td>\n",
       "    </tr>\n",
       "    <tr>\n",
       "      <th>...</th>\n",
       "      <td>...</td>\n",
       "    </tr>\n",
       "    <tr>\n",
       "      <th>VK_DISTANZ</th>\n",
       "      <td>8.518314</td>\n",
       "    </tr>\n",
       "    <tr>\n",
       "      <th>VK_DHT4A</th>\n",
       "      <td>8.518314</td>\n",
       "    </tr>\n",
       "    <tr>\n",
       "      <th>KONSUMNAEHE</th>\n",
       "      <td>8.299737</td>\n",
       "    </tr>\n",
       "    <tr>\n",
       "      <th>SOHO_KZ</th>\n",
       "      <td>8.247000</td>\n",
       "    </tr>\n",
       "    <tr>\n",
       "      <th>WOHNDAUER_2008</th>\n",
       "      <td>8.247000</td>\n",
       "    </tr>\n",
       "    <tr>\n",
       "      <th>UNGLEICHENN_FLAG</th>\n",
       "      <td>8.247000</td>\n",
       "    </tr>\n",
       "    <tr>\n",
       "      <th>VHA</th>\n",
       "      <td>8.247000</td>\n",
       "    </tr>\n",
       "    <tr>\n",
       "      <th>EINGEZOGENAM_HH_JAHR</th>\n",
       "      <td>8.247000</td>\n",
       "    </tr>\n",
       "    <tr>\n",
       "      <th>ANZ_PERSONEN</th>\n",
       "      <td>8.247000</td>\n",
       "    </tr>\n",
       "    <tr>\n",
       "      <th>AKT_DAT_KL</th>\n",
       "      <td>8.247000</td>\n",
       "    </tr>\n",
       "    <tr>\n",
       "      <th>ANZ_TITEL</th>\n",
       "      <td>8.247000</td>\n",
       "    </tr>\n",
       "    <tr>\n",
       "      <th>ANZ_KINDER</th>\n",
       "      <td>8.247000</td>\n",
       "    </tr>\n",
       "    <tr>\n",
       "      <th>RT_UEBERGROESSE</th>\n",
       "      <td>5.747845</td>\n",
       "    </tr>\n",
       "    <tr>\n",
       "      <th>HH_EINKOMMEN_SCORE</th>\n",
       "      <td>2.058749</td>\n",
       "    </tr>\n",
       "    <tr>\n",
       "      <th>GFK_URLAUBERTYP</th>\n",
       "      <td>0.544646</td>\n",
       "    </tr>\n",
       "    <tr>\n",
       "      <th>CJT_GESAMTTYP</th>\n",
       "      <td>0.544646</td>\n",
       "    </tr>\n",
       "    <tr>\n",
       "      <th>CJT_KATALOGNUTZER</th>\n",
       "      <td>0.544646</td>\n",
       "    </tr>\n",
       "    <tr>\n",
       "      <th>CJT_TYP_1</th>\n",
       "      <td>0.544646</td>\n",
       "    </tr>\n",
       "    <tr>\n",
       "      <th>CJT_TYP_2</th>\n",
       "      <td>0.544646</td>\n",
       "    </tr>\n",
       "    <tr>\n",
       "      <th>CJT_TYP_3</th>\n",
       "      <td>0.544646</td>\n",
       "    </tr>\n",
       "    <tr>\n",
       "      <th>RETOURTYP_BK_S</th>\n",
       "      <td>0.544646</td>\n",
       "    </tr>\n",
       "    <tr>\n",
       "      <th>RT_KEIN_ANREIZ</th>\n",
       "      <td>0.544646</td>\n",
       "    </tr>\n",
       "    <tr>\n",
       "      <th>LP_STATUS_FEIN</th>\n",
       "      <td>0.544646</td>\n",
       "    </tr>\n",
       "    <tr>\n",
       "      <th>LP_STATUS_GROB</th>\n",
       "      <td>0.544646</td>\n",
       "    </tr>\n",
       "    <tr>\n",
       "      <th>CJT_TYP_4</th>\n",
       "      <td>0.544646</td>\n",
       "    </tr>\n",
       "    <tr>\n",
       "      <th>CJT_TYP_5</th>\n",
       "      <td>0.544646</td>\n",
       "    </tr>\n",
       "    <tr>\n",
       "      <th>ONLINE_AFFINITAET</th>\n",
       "      <td>0.544646</td>\n",
       "    </tr>\n",
       "    <tr>\n",
       "      <th>CJT_TYP_6</th>\n",
       "      <td>0.544646</td>\n",
       "    </tr>\n",
       "    <tr>\n",
       "      <th>RT_SCHNAEPPCHEN</th>\n",
       "      <td>0.544646</td>\n",
       "    </tr>\n",
       "    <tr>\n",
       "      <th>ALTERSKATEGORIE_GROB</th>\n",
       "      <td>0.323264</td>\n",
       "    </tr>\n",
       "  </tbody>\n",
       "</table>\n",
       "<p>338 rows × 1 columns</p>\n",
       "</div>"
      ],
      "text/plain": [
       "                          nan_count\n",
       "ALTER_KIND4               99.864792\n",
       "TITEL_KZ                  99.757636\n",
       "ALTER_KIND3               99.307691\n",
       "D19_VERSI_ONLINE_DATUM    99.170239\n",
       "D19_TELKO_ONLINE_DATUM    99.079577\n",
       "D19_BANKEN_LOKAL          98.151300\n",
       "D19_BANKEN_OFFLINE_DATUM  97.791120\n",
       "ALTER_KIND2               96.690047\n",
       "D19_VERSI_OFFLINE_DATUM   96.296205\n",
       "D19_TELKO_ANZ_12          96.271295\n",
       "D19_DIGIT_SERV            96.234380\n",
       "D19_BIO_OEKO              95.831898\n",
       "D19_TIERARTIKEL           95.623869\n",
       "D19_NAHRUNGSERGAENZUNG    95.618932\n",
       "D19_GARTEN                95.557219\n",
       "D19_LEBENSMITTEL          94.018655\n",
       "D19_WEIN_FEINKOST         93.819827\n",
       "D19_BANKEN_ANZ_12         93.325225\n",
       "D19_ENERGIE               93.114615\n",
       "D19_TELKO_ANZ_24          92.705176\n",
       "D19_BANKEN_REST           92.206086\n",
       "D19_VERSI_ANZ_12          92.153237\n",
       "D19_TELKO_OFFLINE_DATUM   91.909190\n",
       "D19_BILDUNG               91.240669\n",
       "ALTER_KIND1               90.904837\n",
       "D19_BEKLEIDUNG_GEH        90.808453\n",
       "D19_RATGEBER              90.333486\n",
       "D19_SAMMELARTIKEL         89.998440\n",
       "D19_BANKEN_ANZ_24         89.102479\n",
       "D19_FREIZEIT              88.726365\n",
       "...                             ...\n",
       "VK_DISTANZ                 8.518314\n",
       "VK_DHT4A                   8.518314\n",
       "KONSUMNAEHE                8.299737\n",
       "SOHO_KZ                    8.247000\n",
       "WOHNDAUER_2008             8.247000\n",
       "UNGLEICHENN_FLAG           8.247000\n",
       "VHA                        8.247000\n",
       "EINGEZOGENAM_HH_JAHR       8.247000\n",
       "ANZ_PERSONEN               8.247000\n",
       "AKT_DAT_KL                 8.247000\n",
       "ANZ_TITEL                  8.247000\n",
       "ANZ_KINDER                 8.247000\n",
       "RT_UEBERGROESSE            5.747845\n",
       "HH_EINKOMMEN_SCORE         2.058749\n",
       "GFK_URLAUBERTYP            0.544646\n",
       "CJT_GESAMTTYP              0.544646\n",
       "CJT_KATALOGNUTZER          0.544646\n",
       "CJT_TYP_1                  0.544646\n",
       "CJT_TYP_2                  0.544646\n",
       "CJT_TYP_3                  0.544646\n",
       "RETOURTYP_BK_S             0.544646\n",
       "RT_KEIN_ANREIZ             0.544646\n",
       "LP_STATUS_FEIN             0.544646\n",
       "LP_STATUS_GROB             0.544646\n",
       "CJT_TYP_4                  0.544646\n",
       "CJT_TYP_5                  0.544646\n",
       "ONLINE_AFFINITAET          0.544646\n",
       "CJT_TYP_6                  0.544646\n",
       "RT_SCHNAEPPCHEN            0.544646\n",
       "ALTERSKATEGORIE_GROB       0.323264\n",
       "\n",
       "[338 rows x 1 columns]"
      ]
     },
     "execution_count": 7,
     "metadata": {},
     "output_type": "execute_result"
    }
   ],
   "source": [
    "column_nans = nans_count(azdias)\n",
    "column_nans.sort_values('nan_count', ascending=False)"
   ]
  },
  {
   "cell_type": "markdown",
   "metadata": {
    "hidden": true
   },
   "source": [
    "The table above shows the percent of missing values by colum"
   ]
  },
  {
   "cell_type": "markdown",
   "metadata": {
    "hidden": true
   },
   "source": [
    "There are a few columns that are outliers in terms of the proportion of values that are missing."
   ]
  },
  {
   "cell_type": "code",
   "execution_count": 8,
   "metadata": {
    "ExecuteTime": {
     "end_time": "2019-08-11T16:36:26.413248Z",
     "start_time": "2019-08-11T16:36:26.207211Z"
    },
    "hidden": true
   },
   "outputs": [
    {
     "data": {
      "image/png": "[encoded data removed]",
      "text/plain": [
       "<Figure size 432x288 with 1 Axes>"
      ]
     },
     "metadata": {
      "needs_background": "light"
     },
     "output_type": "display_data"
    }
   ],
   "source": [
    "column_nans.hist(grid=False)\n",
    "plt.title('Distribution of missing value counts per column')\n",
    "plt.show()"
   ]
  },
  {
   "cell_type": "markdown",
   "metadata": {
    "hidden": true
   },
   "source": [
    "We will remove all columns that have more than `column_nan_threshold` percentage missing values"
   ]
  },
  {
   "cell_type": "code",
   "execution_count": 9,
   "metadata": {
    "ExecuteTime": {
     "end_time": "2019-08-11T16:36:27.608694Z",
     "start_time": "2019-08-11T16:36:26.414214Z"
    },
    "hidden": true,
    "scrolled": true
   },
   "outputs": [
    {
     "data": {
      "text/plain": [
       "['AGER_TYP',\n",
       " 'ALTER_KIND1',\n",
       " 'ALTER_KIND2',\n",
       " 'ALTER_KIND3',\n",
       " 'ALTER_KIND4',\n",
       " 'D19_BANKEN_ANZ_12',\n",
       " 'D19_BANKEN_ANZ_24',\n",
       " 'D19_BANKEN_DATUM',\n",
       " 'D19_BANKEN_DIREKT',\n",
       " 'D19_BANKEN_GROSS',\n",
       " 'D19_BANKEN_LOKAL',\n",
       " 'D19_BANKEN_OFFLINE_DATUM',\n",
       " 'D19_BANKEN_ONLINE_DATUM',\n",
       " 'D19_BANKEN_REST',\n",
       " 'D19_BEKLEIDUNG_GEH',\n",
       " 'D19_BEKLEIDUNG_REST',\n",
       " 'D19_BILDUNG',\n",
       " 'D19_BIO_OEKO',\n",
       " 'D19_DIGIT_SERV',\n",
       " 'D19_DROGERIEARTIKEL',\n",
       " 'D19_ENERGIE',\n",
       " 'D19_FREIZEIT',\n",
       " 'D19_GARTEN',\n",
       " 'D19_HANDWERK',\n",
       " 'D19_HAUS_DEKO',\n",
       " 'D19_KINDERARTIKEL',\n",
       " 'D19_KOSMETIK',\n",
       " 'D19_LEBENSMITTEL',\n",
       " 'D19_LOTTO',\n",
       " 'D19_NAHRUNGSERGAENZUNG',\n",
       " 'D19_RATGEBER',\n",
       " 'D19_REISEN',\n",
       " 'D19_SAMMELARTIKEL',\n",
       " 'D19_SCHUHE',\n",
       " 'D19_SOZIALES',\n",
       " 'D19_TELKO_ANZ_12',\n",
       " 'D19_TELKO_ANZ_24',\n",
       " 'D19_TELKO_MOBILE',\n",
       " 'D19_TELKO_OFFLINE_DATUM',\n",
       " 'D19_TELKO_ONLINE_DATUM',\n",
       " 'D19_TELKO_REST',\n",
       " 'D19_TIERARTIKEL',\n",
       " 'D19_VERSAND_REST',\n",
       " 'D19_VERSI_ANZ_12',\n",
       " 'D19_VERSI_ANZ_24',\n",
       " 'D19_VERSI_OFFLINE_DATUM',\n",
       " 'D19_VERSI_ONLINE_DATUM',\n",
       " 'D19_WEIN_FEINKOST',\n",
       " 'TITEL_KZ']"
      ]
     },
     "execution_count": 9,
     "metadata": {},
     "output_type": "execute_result"
    }
   ],
   "source": [
    "column_nan_threshold = 75\n",
    "\n",
    "nans_to_drop = column_nans[column_nans['nan_count'] > column_nan_threshold].index.tolist()\n",
    "azdias.drop(nans_to_drop, axis=1, inplace=True)\n",
    "\n",
    "# droped columns\n",
    "nans_to_drop"
   ]
  },
  {
   "cell_type": "code",
   "execution_count": 10,
   "metadata": {
    "ExecuteTime": {
     "end_time": "2019-08-11T16:36:27.613682Z",
     "start_time": "2019-08-11T16:36:27.609692Z"
    },
    "hidden": true
   },
   "outputs": [],
   "source": [
    "drop_features = drop_features + nans_to_drop"
   ]
  },
  {
   "cell_type": "markdown",
   "metadata": {
    "hidden": true
   },
   "source": [
    "#### Assess Missing Data in Each Row"
   ]
  },
  {
   "cell_type": "markdown",
   "metadata": {
    "hidden": true
   },
   "source": [
    "Now, we'll perform a similar assessment for the rows of the dataset to asses how much data is missing in each row As with the columns, we should see some groups of points that have a very different numbers of missing values. We divide the data into two subsets: one for data points that are above some threshold for missing values, and a second subset for points below that threshold.\n",
    "\n",
    "In order to know what to do with the outlier rows, we should see if the distribution of data values on columns that are not missing data (or are missing very little data) are similar or different between the two groups."
   ]
  },
  {
   "cell_type": "code",
   "execution_count": 11,
   "metadata": {
    "ExecuteTime": {
     "end_time": "2019-08-11T16:36:31.381443Z",
     "start_time": "2019-08-11T16:36:27.615675Z"
    },
    "hidden": true,
    "scrolled": true
   },
   "outputs": [
    {
     "data": {
      "text/html": [
       "<div>\n",
       "<style scoped>\n",
       "    .dataframe tbody tr th:only-of-type {\n",
       "        vertical-align: middle;\n",
       "    }\n",
       "\n",
       "    .dataframe tbody tr th {\n",
       "        vertical-align: top;\n",
       "    }\n",
       "\n",
       "    .dataframe thead th {\n",
       "        text-align: right;\n",
       "    }\n",
       "</style>\n",
       "<table border=\"1\" class=\"dataframe\">\n",
       "  <thead>\n",
       "    <tr style=\"text-align: right;\">\n",
       "      <th></th>\n",
       "      <th>nan_count</th>\n",
       "    </tr>\n",
       "  </thead>\n",
       "  <tbody>\n",
       "    <tr>\n",
       "      <th>390479</th>\n",
       "      <td>86.349206</td>\n",
       "    </tr>\n",
       "    <tr>\n",
       "      <th>770147</th>\n",
       "      <td>86.349206</td>\n",
       "    </tr>\n",
       "    <tr>\n",
       "      <th>579592</th>\n",
       "      <td>86.349206</td>\n",
       "    </tr>\n",
       "    <tr>\n",
       "      <th>579594</th>\n",
       "      <td>86.349206</td>\n",
       "    </tr>\n",
       "    <tr>\n",
       "      <th>579595</th>\n",
       "      <td>86.349206</td>\n",
       "    </tr>\n",
       "    <tr>\n",
       "      <th>770186</th>\n",
       "      <td>86.349206</td>\n",
       "    </tr>\n",
       "    <tr>\n",
       "      <th>261814</th>\n",
       "      <td>86.349206</td>\n",
       "    </tr>\n",
       "    <tr>\n",
       "      <th>579605</th>\n",
       "      <td>86.349206</td>\n",
       "    </tr>\n",
       "    <tr>\n",
       "      <th>770174</th>\n",
       "      <td>86.349206</td>\n",
       "    </tr>\n",
       "    <tr>\n",
       "      <th>579607</th>\n",
       "      <td>86.349206</td>\n",
       "    </tr>\n",
       "    <tr>\n",
       "      <th>579609</th>\n",
       "      <td>86.349206</td>\n",
       "    </tr>\n",
       "    <tr>\n",
       "      <th>770156</th>\n",
       "      <td>86.349206</td>\n",
       "    </tr>\n",
       "    <tr>\n",
       "      <th>579615</th>\n",
       "      <td>86.349206</td>\n",
       "    </tr>\n",
       "    <tr>\n",
       "      <th>770193</th>\n",
       "      <td>86.349206</td>\n",
       "    </tr>\n",
       "    <tr>\n",
       "      <th>579618</th>\n",
       "      <td>86.349206</td>\n",
       "    </tr>\n",
       "    <tr>\n",
       "      <th>38796</th>\n",
       "      <td>86.349206</td>\n",
       "    </tr>\n",
       "    <tr>\n",
       "      <th>770144</th>\n",
       "      <td>86.349206</td>\n",
       "    </tr>\n",
       "    <tr>\n",
       "      <th>579636</th>\n",
       "      <td>86.349206</td>\n",
       "    </tr>\n",
       "    <tr>\n",
       "      <th>325720</th>\n",
       "      <td>86.349206</td>\n",
       "    </tr>\n",
       "    <tr>\n",
       "      <th>579651</th>\n",
       "      <td>86.349206</td>\n",
       "    </tr>\n",
       "    <tr>\n",
       "      <th>579655</th>\n",
       "      <td>86.349206</td>\n",
       "    </tr>\n",
       "    <tr>\n",
       "      <th>261828</th>\n",
       "      <td>86.349206</td>\n",
       "    </tr>\n",
       "    <tr>\n",
       "      <th>579658</th>\n",
       "      <td>86.349206</td>\n",
       "    </tr>\n",
       "    <tr>\n",
       "      <th>579664</th>\n",
       "      <td>86.349206</td>\n",
       "    </tr>\n",
       "    <tr>\n",
       "      <th>579591</th>\n",
       "      <td>86.349206</td>\n",
       "    </tr>\n",
       "    <tr>\n",
       "      <th>325731</th>\n",
       "      <td>86.349206</td>\n",
       "    </tr>\n",
       "    <tr>\n",
       "      <th>261838</th>\n",
       "      <td>86.349206</td>\n",
       "    </tr>\n",
       "    <tr>\n",
       "      <th>770235</th>\n",
       "      <td>86.349206</td>\n",
       "    </tr>\n",
       "    <tr>\n",
       "      <th>579523</th>\n",
       "      <td>86.349206</td>\n",
       "    </tr>\n",
       "    <tr>\n",
       "      <th>579526</th>\n",
       "      <td>86.349206</td>\n",
       "    </tr>\n",
       "    <tr>\n",
       "      <th>...</th>\n",
       "      <td>...</td>\n",
       "    </tr>\n",
       "    <tr>\n",
       "      <th>5426</th>\n",
       "      <td>0.317460</td>\n",
       "    </tr>\n",
       "    <tr>\n",
       "      <th>324180</th>\n",
       "      <td>0.317460</td>\n",
       "    </tr>\n",
       "    <tr>\n",
       "      <th>235571</th>\n",
       "      <td>0.317460</td>\n",
       "    </tr>\n",
       "    <tr>\n",
       "      <th>100496</th>\n",
       "      <td>0.317460</td>\n",
       "    </tr>\n",
       "    <tr>\n",
       "      <th>324256</th>\n",
       "      <td>0.317460</td>\n",
       "    </tr>\n",
       "    <tr>\n",
       "      <th>793762</th>\n",
       "      <td>0.317460</td>\n",
       "    </tr>\n",
       "    <tr>\n",
       "      <th>481461</th>\n",
       "      <td>0.317460</td>\n",
       "    </tr>\n",
       "    <tr>\n",
       "      <th>649705</th>\n",
       "      <td>0.317460</td>\n",
       "    </tr>\n",
       "    <tr>\n",
       "      <th>133441</th>\n",
       "      <td>0.317460</td>\n",
       "    </tr>\n",
       "    <tr>\n",
       "      <th>649680</th>\n",
       "      <td>0.317460</td>\n",
       "    </tr>\n",
       "    <tr>\n",
       "      <th>793823</th>\n",
       "      <td>0.317460</td>\n",
       "    </tr>\n",
       "    <tr>\n",
       "      <th>324242</th>\n",
       "      <td>0.317460</td>\n",
       "    </tr>\n",
       "    <tr>\n",
       "      <th>793628</th>\n",
       "      <td>0.317460</td>\n",
       "    </tr>\n",
       "    <tr>\n",
       "      <th>649945</th>\n",
       "      <td>0.317460</td>\n",
       "    </tr>\n",
       "    <tr>\n",
       "      <th>649896</th>\n",
       "      <td>0.317460</td>\n",
       "    </tr>\n",
       "    <tr>\n",
       "      <th>235519</th>\n",
       "      <td>0.317460</td>\n",
       "    </tr>\n",
       "    <tr>\n",
       "      <th>5406</th>\n",
       "      <td>0.317460</td>\n",
       "    </tr>\n",
       "    <tr>\n",
       "      <th>649910</th>\n",
       "      <td>0.317460</td>\n",
       "    </tr>\n",
       "    <tr>\n",
       "      <th>582578</th>\n",
       "      <td>0.317460</td>\n",
       "    </tr>\n",
       "    <tr>\n",
       "      <th>649903</th>\n",
       "      <td>0.317460</td>\n",
       "    </tr>\n",
       "    <tr>\n",
       "      <th>481210</th>\n",
       "      <td>0.317460</td>\n",
       "    </tr>\n",
       "    <tr>\n",
       "      <th>649895</th>\n",
       "      <td>0.317460</td>\n",
       "    </tr>\n",
       "    <tr>\n",
       "      <th>554557</th>\n",
       "      <td>0.317460</td>\n",
       "    </tr>\n",
       "    <tr>\n",
       "      <th>324375</th>\n",
       "      <td>0.317460</td>\n",
       "    </tr>\n",
       "    <tr>\n",
       "      <th>649894</th>\n",
       "      <td>0.317460</td>\n",
       "    </tr>\n",
       "    <tr>\n",
       "      <th>183223</th>\n",
       "      <td>0.317460</td>\n",
       "    </tr>\n",
       "    <tr>\n",
       "      <th>649858</th>\n",
       "      <td>0.317460</td>\n",
       "    </tr>\n",
       "    <tr>\n",
       "      <th>481275</th>\n",
       "      <td>0.317460</td>\n",
       "    </tr>\n",
       "    <tr>\n",
       "      <th>481304</th>\n",
       "      <td>0.317460</td>\n",
       "    </tr>\n",
       "    <tr>\n",
       "      <th>445621</th>\n",
       "      <td>0.317460</td>\n",
       "    </tr>\n",
       "  </tbody>\n",
       "</table>\n",
       "<p>885365 rows × 1 columns</p>\n",
       "</div>"
      ],
      "text/plain": [
       "        nan_count\n",
       "390479  86.349206\n",
       "770147  86.349206\n",
       "579592  86.349206\n",
       "579594  86.349206\n",
       "579595  86.349206\n",
       "770186  86.349206\n",
       "261814  86.349206\n",
       "579605  86.349206\n",
       "770174  86.349206\n",
       "579607  86.349206\n",
       "579609  86.349206\n",
       "770156  86.349206\n",
       "579615  86.349206\n",
       "770193  86.349206\n",
       "579618  86.349206\n",
       "38796   86.349206\n",
       "770144  86.349206\n",
       "579636  86.349206\n",
       "325720  86.349206\n",
       "579651  86.349206\n",
       "579655  86.349206\n",
       "261828  86.349206\n",
       "579658  86.349206\n",
       "579664  86.349206\n",
       "579591  86.349206\n",
       "325731  86.349206\n",
       "261838  86.349206\n",
       "770235  86.349206\n",
       "579523  86.349206\n",
       "579526  86.349206\n",
       "...           ...\n",
       "5426     0.317460\n",
       "324180   0.317460\n",
       "235571   0.317460\n",
       "100496   0.317460\n",
       "324256   0.317460\n",
       "793762   0.317460\n",
       "481461   0.317460\n",
       "649705   0.317460\n",
       "133441   0.317460\n",
       "649680   0.317460\n",
       "793823   0.317460\n",
       "324242   0.317460\n",
       "793628   0.317460\n",
       "649945   0.317460\n",
       "649896   0.317460\n",
       "235519   0.317460\n",
       "5406     0.317460\n",
       "649910   0.317460\n",
       "582578   0.317460\n",
       "649903   0.317460\n",
       "481210   0.317460\n",
       "649895   0.317460\n",
       "554557   0.317460\n",
       "324375   0.317460\n",
       "649894   0.317460\n",
       "183223   0.317460\n",
       "649858   0.317460\n",
       "481275   0.317460\n",
       "481304   0.317460\n",
       "445621   0.317460\n",
       "\n",
       "[885365 rows x 1 columns]"
      ]
     },
     "execution_count": 11,
     "metadata": {},
     "output_type": "execute_result"
    }
   ],
   "source": [
    "row_nans = nans_count(azdias, axis=1)\n",
    "row_nans.sort_values(by='nan_count', ascending=False)"
   ]
  },
  {
   "cell_type": "code",
   "execution_count": 12,
   "metadata": {
    "ExecuteTime": {
     "end_time": "2019-08-11T16:36:31.695314Z",
     "start_time": "2019-08-11T16:36:31.383437Z"
    },
    "hidden": true
   },
   "outputs": [
    {
     "data": {
      "image/png": "[encoded data removed]",
      "text/plain": [
       "<Figure size 432x288 with 1 Axes>"
      ]
     },
     "metadata": {
      "needs_background": "light"
     },
     "output_type": "display_data"
    }
   ],
   "source": [
    "row_nans.hist(grid=False, bins=25)\n",
    "plt.title('Distribution of missing value counts per row')\n",
    "plt.show()"
   ]
  },
  {
   "cell_type": "markdown",
   "metadata": {
    "hidden": true
   },
   "source": [
    "Divide the data into two subsets based on the number of missing values in each row."
   ]
  },
  {
   "cell_type": "code",
   "execution_count": 13,
   "metadata": {
    "ExecuteTime": {
     "end_time": "2019-08-11T16:36:32.962400Z",
     "start_time": "2019-08-11T16:36:31.696281Z"
    },
    "hidden": true
   },
   "outputs": [],
   "source": [
    "row_nan_threshold = 85\n",
    "nans_bellow_treshold = row_nans[row_nans['nan_count']<=row_nan_threshold]\n",
    "nans_over_treshold = row_nans[row_nans['nan_count']>row_nan_threshold]\n",
    "\n",
    "data_bellow_treshold = azdias.iloc[nans_bellow_treshold.index,:]\n",
    "data_over_treshold = azdias.iloc[nans_over_treshold.index,:]"
   ]
  },
  {
   "cell_type": "code",
   "execution_count": 14,
   "metadata": {
    "ExecuteTime": {
     "end_time": "2019-08-11T16:36:32.968385Z",
     "start_time": "2019-08-11T16:36:32.963400Z"
    },
    "hidden": true
   },
   "outputs": [
    {
     "data": {
      "text/plain": [
       "(46168, 315)"
      ]
     },
     "execution_count": 14,
     "metadata": {},
     "output_type": "execute_result"
    }
   ],
   "source": [
    "data_over_treshold.shape"
   ]
  },
  {
   "cell_type": "markdown",
   "metadata": {
    "hidden": true
   },
   "source": [
    "Next we compare the distribution of values for the columns where there are no or few missing values, between the two subsets."
   ]
  },
  {
   "cell_type": "code",
   "execution_count": 15,
   "metadata": {
    "ExecuteTime": {
     "end_time": "2019-08-11T16:36:36.566244Z",
     "start_time": "2019-08-11T16:36:32.970381Z"
    },
    "hidden": true
   },
   "outputs": [
    {
     "data": {
      "text/plain": [
       "{'CJT_GESAMTTYP',\n",
       " 'CJT_KATALOGNUTZER',\n",
       " 'CJT_TYP_1',\n",
       " 'CJT_TYP_2',\n",
       " 'CJT_TYP_3',\n",
       " 'CJT_TYP_4',\n",
       " 'CJT_TYP_5',\n",
       " 'CJT_TYP_6',\n",
       " 'GFK_URLAUBERTYP',\n",
       " 'LP_STATUS_FEIN',\n",
       " 'LP_STATUS_GROB',\n",
       " 'ONLINE_AFFINITAET',\n",
       " 'RETOURTYP_BK_S',\n",
       " 'RT_KEIN_ANREIZ',\n",
       " 'RT_SCHNAEPPCHEN'}"
      ]
     },
     "execution_count": 15,
     "metadata": {},
     "output_type": "execute_result"
    }
   ],
   "source": [
    "low_nan_threshold = 1\n",
    "data_bellow_treshold_counts = nans_count(data_bellow_treshold)\n",
    "bellow_treshold_columns = set(data_bellow_treshold_counts[data_bellow_treshold_counts['nan_count'] <= low_nan_threshold].index.tolist())\n",
    "\n",
    "data_over_treshold_counts = nans_count(data_over_treshold)\n",
    "over_treshold_columns = set(data_over_treshold_counts[data_over_treshold_counts['nan_count'] <= low_nan_threshold].index.tolist())\n",
    "\n",
    "columns_with_low_nans = bellow_treshold_columns.intersection(over_treshold_columns)\n",
    "columns_with_low_nans"
   ]
  },
  {
   "cell_type": "code",
   "execution_count": 16,
   "metadata": {
    "ExecuteTime": {
     "end_time": "2019-08-11T16:36:41.664299Z",
     "start_time": "2019-08-11T16:36:36.567242Z"
    },
    "hidden": true,
    "scrolled": true
   },
   "outputs": [
    {
     "data": {
      "application/vnd.jupyter.widget-view+json": {
       "model_id": "aa815f7c9e0548eaa52736b0fc2f2f3d",
       "version_major": 2,
       "version_minor": 0
      },
      "text/plain": [
       "HBox(children=(IntProgress(value=1, bar_style='info', max=1), HTML(value='')))"
      ]
     },
     "metadata": {},
     "output_type": "display_data"
    },
    {
     "name": "stdout",
     "output_type": "stream",
     "text": [
      "\n"
     ]
    },
    {
     "data": {
      "image/png": "[encoded data removed]",
      "text/plain": [
       "<Figure size 1080x3240 with 30 Axes>"
      ]
     },
     "metadata": {
      "needs_background": "light"
     },
     "output_type": "display_data"
    }
   ],
   "source": [
    "fig = compare_distributions(data_bellow_treshold, data_over_treshold, columns_with_low_nans, row_nan_threshold)"
   ]
  },
  {
   "cell_type": "markdown",
   "metadata": {
    "hidden": true
   },
   "source": [
    "If the distributions of non-missing features looked similar between the data with many missing values and the data with few or no missing values, then we could argue that simply dropping those points from the analysis won't present a major issue. In this case, however none of the distributions look similar so we will keep all the rows."
   ]
  },
  {
   "cell_type": "markdown",
   "metadata": {},
   "source": [
    "### Select and Re-encode Features"
   ]
  },
  {
   "cell_type": "markdown",
   "metadata": {},
   "source": [
    "How many features are there of each data type?"
   ]
  },
  {
   "cell_type": "code",
   "execution_count": 17,
   "metadata": {
    "ExecuteTime": {
     "end_time": "2019-08-11T16:36:41.938779Z",
     "start_time": "2019-08-11T16:36:41.665292Z"
    }
   },
   "outputs": [
    {
     "data": {
      "image/png": "[encoded data removed]",
      "text/plain": [
       "<Figure size 1080x360 with 2 Axes>"
      ]
     },
     "metadata": {
      "needs_background": "light"
     },
     "output_type": "display_data"
    }
   ],
   "source": [
    "initial_data = feat_info.groupby('type').agg('count')\n",
    "\n",
    "feat_info_afer_drop = feat_info[feat_info['attribute'].isin(azdias.columns.values)]\n",
    "after_column_drop = feat_info_afer_drop.groupby('type').agg('count')\n",
    "\n",
    "fig, axes = plt.subplots(nrows=1, ncols=2, figsize=(15,5), gridspec_kw={'wspace':0.5})\n",
    "fig.subplots_adjust(top=0.85)\n",
    "fig.suptitle('Features per type')\n",
    "    \n",
    "ax1 = sns.barplot(x=initial_data.index, y=initial_data['attribute'], ax=axes[0])\n",
    "ax1.set(title='Initial Data')\n",
    "ax2 = sns.barplot(x=after_column_drop.index, y=after_column_drop['attribute'], ax=axes[1])\n",
    "ax2.set(title='After column drop')\n",
    "\n",
    "def autolabel(ax):\n",
    "    for cat in ax.patches:\n",
    "        height = cat.get_height()\n",
    "        ax.text(cat.get_x() + cat.get_width()/2., height, '%d' % int(height), ha='center', va='bottom')\n",
    "\n",
    "autolabel(ax1)\n",
    "autolabel(ax2)\n",
    "        \n",
    "plt.show()"
   ]
  },
  {
   "cell_type": "markdown",
   "metadata": {},
   "source": [
    "#### Categorical Features"
   ]
  },
  {
   "cell_type": "markdown",
   "metadata": {},
   "source": [
    "For categorical data, we need to encode the levels as dummy variables. Depending on the number of categories, we can perform one of the following:\n",
    "\n",
    "* For binary (two-level) categoricals that take numeric values, we can keep them without needing to do anything.\n",
    "* If there are binary variables that takes on non-numeric values we need to re-encode the values as numbers or create a dummy variable.\n",
    "* For multi-level categoricals (three or more values), we can choose to encode the values using multiple dummy variables (e.g. via OneHotEncoder)"
   ]
  },
  {
   "cell_type": "code",
   "execution_count": 18,
   "metadata": {
    "ExecuteTime": {
     "end_time": "2019-08-11T16:36:42.741404Z",
     "start_time": "2019-08-11T16:36:41.939776Z"
    },
    "scrolled": true
   },
   "outputs": [
    {
     "name": "stdout",
     "output_type": "stream",
     "text": [
      "['ANREDE_KZ', 'CAMEO_DEUG_2015', 'CAMEO_DEU_2015', 'CJT_GESAMTTYP', 'D19_BUCH_CD', 'D19_KONSUMTYP', 'KK_KUNDENTYP', 'D19_SONSTIGE', 'D19_TECHNIK', 'D19_VERSICHERUNGEN', 'D19_VOLLSORTIMENT', 'FINANZTYP', 'GEBAEUDETYP', 'GFK_URLAUBERTYP', 'GREEN_AVANTGARDE', 'KBA05_MODTEMP', 'KBA05_SEG6', 'LP_FAMILIE_FEIN', 'LP_FAMILIE_GROB', 'LP_STATUS_FEIN', 'LP_STATUS_GROB', 'NATIONALITAET_KZ', 'OST_WEST_KZ', 'SHOPPER_TYP', 'VERS_TYP', 'ZABEOTYP', 'AKT_DAT_KL', 'ALTERSKATEGORIE_FEIN', 'CJT_KATALOGNUTZER', 'CJT_TYP_1', 'CJT_TYP_2', 'CJT_TYP_3', 'CJT_TYP_4', 'CJT_TYP_5', 'CJT_TYP_6', 'D19_KONSUMTYP_MAX', 'DSL_FLAG', 'FIRMENDICHTE', 'HH_DELTA_FLAG', 'KOMBIALTER', 'KONSUMZELLE', 'MOBI_RASTER', 'RT_KEIN_ANREIZ', 'RT_SCHNAEPPCHEN', 'RT_UEBERGROESSE', 'SOHO_KZ', 'STRUKTURTYP', 'UMFELD_ALT', 'UMFELD_JUNG', 'UNGLEICHENN_FLAG', 'VHA', 'VHN', 'GEMEINDETYP']\n",
      "\n",
      "\n"
     ]
    },
    {
     "data": {
      "application/vnd.jupyter.widget-view+json": {
       "model_id": "6383e119ed5a4c0cab990b77daf973f4",
       "version_major": 2,
       "version_minor": 0
      },
      "text/plain": [
       "HBox(children=(IntProgress(value=0, max=53), HTML(value='')))"
      ]
     },
     "metadata": {},
     "output_type": "display_data"
    },
    {
     "name": "stdout",
     "output_type": "stream",
     "text": [
      "ANREDE_KZ: [1, 2]\n",
      "CAMEO_DEUG_2015: [nan, 8.0, 4.0, 2.0, 6.0, 1.0, 9.0, 5.0, 7.0, 3.0]\n",
      "CAMEO_DEU_2015: [nan, '8A', '4C', '2A', '6B', '8C', '4A', '2D', '1A', '1E', '9D', '5C', '8B', '7A', '5D', '9E', '9B', '1B', '3D', '4E', '4B', '3C', '5A', '7B', '9A', '6D', '6E', '2C', '7C', '9C', '7D', '5E', '1D', '8D', '6C', '6A', '5B', '4D', '3A', '2B', '7E', '3B', '6F', '5F', '1C']\n",
      "CJT_GESAMTTYP: [2.0, 5.0, 3.0, 4.0, 1.0, 6.0, nan]\n",
      "D19_BUCH_CD: [nan, 6.0, 5.0, 3.0, 1.0, 7.0, 4.0, 2.0]\n",
      "D19_KONSUMTYP: [nan, 9.0, 1.0, 4.0, 3.0, 6.0, 5.0, 2.0]\n",
      "KK_KUNDENTYP: [nan, 1.0, 3.0, 6.0, 4.0, 2.0, 5.0]\n",
      "D19_SONSTIGE: [nan, 6.0, 4.0, 7.0, 5.0, 3.0, 2.0, 1.0]\n",
      "D19_TECHNIK: [nan, 6.0, 5.0, 7.0, 3.0, 1.0, 4.0, 2.0]\n",
      "D19_VERSICHERUNGEN: [nan, 3.0, 6.0, 4.0, 5.0, 7.0, 2.0, 1.0]\n",
      "D19_VOLLSORTIMENT: [nan, 7.0, 6.0, 3.0, 2.0, 5.0, 4.0, 1.0]\n",
      "FINANZTYP: [4, 1, 6, 5, 2, 3]\n",
      "GEBAEUDETYP: [nan, 8.0, 1.0, 3.0, 2.0, 6.0, 4.0, 5.0]\n",
      "GFK_URLAUBERTYP: [10.0, 1.0, 5.0, 12.0, 9.0, 3.0, 8.0, 11.0, 4.0, 2.0, 7.0, 6.0, nan]\n",
      "GREEN_AVANTGARDE: [0, 1]\n",
      "KBA05_MODTEMP: [nan, 1.0, 4.0, 3.0, 5.0, 2.0, 6.0]\n",
      "KBA05_SEG6: [nan, 1.0, 0.0]\n",
      "LP_FAMILIE_FEIN: [2.0, 5.0, 1.0, nan, 10.0, 7.0, 11.0, 3.0, 8.0, 4.0, 6.0, 9.0]\n",
      "LP_FAMILIE_GROB: [2.0, 3.0, 1.0, nan, 5.0, 4.0]\n",
      "LP_STATUS_FEIN: [1.0, 2.0, 3.0, 9.0, 4.0, 10.0, 5.0, 8.0, 6.0, 7.0, nan]\n",
      "LP_STATUS_GROB: [1.0, 2.0, 4.0, 5.0, 3.0, nan]\n",
      "NATIONALITAET_KZ: [nan, 1.0, 3.0, 2.0]\n",
      "OST_WEST_KZ: [nan, 'W', 'O']\n",
      "SHOPPER_TYP: [nan, 3.0, 2.0, 1.0, 0.0]\n",
      "VERS_TYP: [nan, 2.0, 1.0]\n",
      "ZABEOTYP: [3, 5, 4, 1, 6, 2]\n",
      "AKT_DAT_KL: [nan, 9.0, 1.0, 5.0, 8.0, 7.0, 6.0, 4.0, 3.0, 2.0]\n",
      "ALTERSKATEGORIE_FEIN: [nan, 21.0, 17.0, 13.0, 14.0, 10.0, 16.0, 20.0, 11.0, 19.0, 15.0, 18.0, 9.0, 22.0, 12.0, 8.0, 7.0, 23.0, 4.0, 24.0, 6.0, 3.0, 2.0, 5.0, 25.0, 1.0]\n",
      "CJT_KATALOGNUTZER: [5.0, 1.0, 2.0, 3.0, 4.0, nan]\n",
      "CJT_TYP_1: [1.0, 5.0, 4.0, 2.0, 3.0, nan]\n",
      "CJT_TYP_2: [1.0, 5.0, 4.0, 2.0, 3.0, nan]\n",
      "CJT_TYP_3: [5.0, 2.0, 1.0, 4.0, 3.0, nan]\n",
      "CJT_TYP_4: [5.0, 3.0, 4.0, 1.0, 2.0, nan]\n",
      "CJT_TYP_5: [5.0, 1.0, 2.0, 3.0, 4.0, nan]\n",
      "CJT_TYP_6: [5.0, 1.0, 2.0, 3.0, 4.0, nan]\n",
      "D19_KONSUMTYP_MAX: [9, 8, 1, 2, 3, 4]\n",
      "DSL_FLAG: [nan, 1.0, 0.0]\n",
      "FIRMENDICHTE: [nan, 2.0, 4.0, 5.0, 3.0, 1.0]\n",
      "HH_DELTA_FLAG: [nan, 0.0, 1.0]\n",
      "KOMBIALTER: [nan, 1.0, 2.0, 4.0, 3.0]\n",
      "KONSUMZELLE: [nan, 1.0, 0.0]\n",
      "MOBI_RASTER: [nan, 1.0, 2.0, 4.0, 3.0, 5.0, 6.0]\n",
      "RT_KEIN_ANREIZ: [1.0, 5.0, 3.0, 4.0, 2.0, nan]\n",
      "RT_SCHNAEPPCHEN: [4.0, 3.0, 2.0, 5.0, 1.0, nan]\n",
      "RT_UEBERGROESSE: [1.0, 5.0, 3.0, 4.0, nan, 2.0, 0.0]\n",
      "SOHO_KZ: [nan, 1.0, 0.0]\n",
      "STRUKTURTYP: [nan, 2.0, 3.0, 1.0]\n",
      "UMFELD_ALT: [nan, 3.0, 2.0, 4.0, 5.0, 1.0]\n",
      "UMFELD_JUNG: [nan, 3.0, 5.0, 4.0, 2.0, 1.0]\n",
      "UNGLEICHENN_FLAG: [nan, 1.0, 0.0]\n",
      "VHA: [nan, 0.0, 1.0, 5.0, 2.0, 4.0, 3.0]\n",
      "VHN: [nan, 4.0, 2.0, 0.0, 1.0, 3.0]\n",
      "GEMEINDETYP: [nan, 22.0, 40.0, 21.0, 12.0, 30.0, 11.0, 50.0]\n",
      "\n"
     ]
    }
   ],
   "source": [
    "categorical_features = feat_info_afer_drop[feat_info_afer_drop['type'] == 'categorical']['attribute'].tolist()\n",
    "print(categorical_features)\n",
    "print('\\n')\n",
    "unique_values(azdias[categorical_features])"
   ]
  },
  {
   "cell_type": "markdown",
   "metadata": {},
   "source": [
    "We can observe that:\n",
    "\n",
    "* Almost all features have missing values that we have to deal with\n",
    "* Features like `CAMEO_DEU_2015` and `OST_WEST_KZ` contain strings that we need to encode as numbers"
   ]
  },
  {
   "cell_type": "markdown",
   "metadata": {},
   "source": [
    "Change ```OST_WEST_KZ``` to have numeric values"
   ]
  },
  {
   "cell_type": "code",
   "execution_count": 19,
   "metadata": {
    "ExecuteTime": {
     "end_time": "2019-08-11T16:36:42.809221Z",
     "start_time": "2019-08-11T16:36:42.742400Z"
    }
   },
   "outputs": [
    {
     "data": {
      "text/plain": [
       "0    NaN\n",
       "1    1.0\n",
       "2    1.0\n",
       "3    1.0\n",
       "4    1.0\n",
       "Name: OST_WEST_KZ, dtype: float64"
      ]
     },
     "execution_count": 19,
     "metadata": {},
     "output_type": "execute_result"
    }
   ],
   "source": [
    "azdias['OST_WEST_KZ'] = azdias['OST_WEST_KZ'].map({'W': 1, 'O': 2})\n",
    "azdias['OST_WEST_KZ'].head()"
   ]
  },
  {
   "cell_type": "markdown",
   "metadata": {},
   "source": [
    "Fill missing values with the most frequent value"
   ]
  },
  {
   "cell_type": "code",
   "execution_count": 20,
   "metadata": {
    "ExecuteTime": {
     "end_time": "2019-08-11T16:36:47.770196Z",
     "start_time": "2019-08-11T16:36:42.811215Z"
    },
    "scrolled": true
   },
   "outputs": [
    {
     "data": {
      "application/vnd.jupyter.widget-view+json": {
       "model_id": "b991b670fd704fb3a8cc999f765e1d82",
       "version_major": 2,
       "version_minor": 0
      },
      "text/plain": [
       "HBox(children=(IntProgress(value=0, max=53), HTML(value='')))"
      ]
     },
     "metadata": {},
     "output_type": "display_data"
    },
    {
     "name": "stdout",
     "output_type": "stream",
     "text": [
      "ANREDE_KZ: [1, 2]\n",
      "CAMEO_DEUG_2015: [8.0, 4.0, 2.0, 6.0, 1.0, 9.0, 5.0, 7.0, 3.0]\n",
      "CAMEO_DEU_2015: ['6B', '8A', '4C', '2A', '8C', '4A', '2D', '1A', '1E', '9D', '5C', '8B', '7A', '5D', '9E', '9B', '1B', '3D', '4E', '4B', '3C', '5A', '7B', '9A', '6D', '6E', '2C', '7C', '9C', '7D', '5E', '1D', '8D', '6C', '6A', '5B', '4D', '3A', '2B', '7E', '3B', '6F', '5F', '1C']\n",
      "CJT_GESAMTTYP: [2.0, 5.0, 3.0, 4.0, 1.0, 6.0]\n",
      "D19_BUCH_CD: [6.0, 5.0, 3.0, 1.0, 7.0, 4.0, 2.0]\n",
      "D19_KONSUMTYP: [9.0, 1.0, 4.0, 3.0, 6.0, 5.0, 2.0]\n",
      "KK_KUNDENTYP: [3.0, 1.0, 6.0, 4.0, 2.0, 5.0]\n",
      "D19_SONSTIGE: [6.0, 4.0, 7.0, 5.0, 3.0, 2.0, 1.0]\n",
      "D19_TECHNIK: [6.0, 5.0, 7.0, 3.0, 1.0, 4.0, 2.0]\n",
      "D19_VERSICHERUNGEN: [6.0, 3.0, 4.0, 5.0, 7.0, 2.0, 1.0]\n",
      "D19_VOLLSORTIMENT: [6.0, 7.0, 3.0, 2.0, 5.0, 4.0, 1.0]\n",
      "FINANZTYP: [4, 1, 6, 5, 2, 3]\n",
      "GEBAEUDETYP: [1.0, 8.0, 3.0, 2.0, 6.0, 4.0, 5.0]\n",
      "GFK_URLAUBERTYP: [10.0, 1.0, 5.0, 12.0, 9.0, 3.0, 8.0, 11.0, 4.0, 2.0, 7.0, 6.0]\n",
      "GREEN_AVANTGARDE: [0, 1]\n",
      "KBA05_MODTEMP: [3.0, 1.0, 4.0, 5.0, 2.0, 6.0]\n",
      "KBA05_SEG6: [0.0, 1.0]\n",
      "LP_FAMILIE_FEIN: [2.0, 5.0, 1.0, 10.0, 7.0, 11.0, 3.0, 8.0, 4.0, 6.0, 9.0]\n",
      "LP_FAMILIE_GROB: [2.0, 3.0, 1.0, 5.0, 4.0]\n",
      "LP_STATUS_FEIN: [1.0, 2.0, 3.0, 9.0, 4.0, 10.0, 5.0, 8.0, 6.0, 7.0]\n",
      "LP_STATUS_GROB: [1.0, 2.0, 4.0, 5.0, 3.0]\n",
      "NATIONALITAET_KZ: [1.0, 3.0, 2.0]\n",
      "OST_WEST_KZ: [1.0, 2.0]\n",
      "SHOPPER_TYP: [1.0, 3.0, 2.0, 0.0]\n",
      "VERS_TYP: [2.0, 1.0]\n",
      "ZABEOTYP: [3, 5, 4, 1, 6, 2]\n",
      "AKT_DAT_KL: [1.0, 9.0, 5.0, 8.0, 7.0, 6.0, 4.0, 3.0, 2.0]\n",
      "ALTERSKATEGORIE_FEIN: [15.0, 21.0, 17.0, 13.0, 14.0, 10.0, 16.0, 20.0, 11.0, 19.0, 18.0, 9.0, 22.0, 12.0, 8.0, 7.0, 23.0, 4.0, 24.0, 6.0, 3.0, 2.0, 5.0, 25.0, 1.0]\n",
      "CJT_KATALOGNUTZER: [5.0, 1.0, 2.0, 3.0, 4.0]\n",
      "CJT_TYP_1: [1.0, 5.0, 4.0, 2.0, 3.0]\n",
      "CJT_TYP_2: [1.0, 5.0, 4.0, 2.0, 3.0]\n",
      "CJT_TYP_3: [5.0, 2.0, 1.0, 4.0, 3.0]\n",
      "CJT_TYP_4: [5.0, 3.0, 4.0, 1.0, 2.0]\n",
      "CJT_TYP_5: [5.0, 1.0, 2.0, 3.0, 4.0]\n",
      "CJT_TYP_6: [5.0, 1.0, 2.0, 3.0, 4.0]\n",
      "D19_KONSUMTYP_MAX: [9, 8, 1, 2, 3, 4]\n",
      "DSL_FLAG: [1.0, 0.0]\n",
      "FIRMENDICHTE: [4.0, 2.0, 5.0, 3.0, 1.0]\n",
      "HH_DELTA_FLAG: [0.0, 1.0]\n",
      "KOMBIALTER: [4.0, 1.0, 2.0, 3.0]\n",
      "KONSUMZELLE: [0.0, 1.0]\n",
      "MOBI_RASTER: [1.0, 2.0, 4.0, 3.0, 5.0, 6.0]\n",
      "RT_KEIN_ANREIZ: [1.0, 5.0, 3.0, 4.0, 2.0]\n",
      "RT_SCHNAEPPCHEN: [4.0, 3.0, 2.0, 5.0, 1.0]\n",
      "RT_UEBERGROESSE: [1.0, 5.0, 3.0, 4.0, 2.0, 0.0]\n",
      "SOHO_KZ: [0.0, 1.0]\n",
      "STRUKTURTYP: [3.0, 2.0, 1.0]\n",
      "UMFELD_ALT: [4.0, 3.0, 2.0, 5.0, 1.0]\n",
      "UMFELD_JUNG: [5.0, 3.0, 4.0, 2.0, 1.0]\n",
      "UNGLEICHENN_FLAG: [0.0, 1.0]\n",
      "VHA: [0.0, 1.0, 5.0, 2.0, 4.0, 3.0]\n",
      "VHN: [2.0, 4.0, 0.0, 1.0, 3.0]\n",
      "GEMEINDETYP: [22.0, 40.0, 21.0, 12.0, 30.0, 11.0, 50.0]\n",
      "\n"
     ]
    }
   ],
   "source": [
    "azdias[categorical_features] = azdias[categorical_features].fillna(azdias[categorical_features].mode().iloc[0])\n",
    "unique_values(azdias[categorical_features])"
   ]
  },
  {
   "cell_type": "code",
   "execution_count": 21,
   "metadata": {
    "ExecuteTime": {
     "end_time": "2019-08-11T16:37:13.549341Z",
     "start_time": "2019-08-11T16:36:47.771163Z"
    }
   },
   "outputs": [],
   "source": [
    "cat_numeric = list(set(categorical_features)-set(['CAMEO_DEU_2015']))\n",
    "azdias[cat_numeric] = azdias[cat_numeric].astype('int8')\n",
    "azdias[categorical_features] = azdias[categorical_features].astype('category')"
   ]
  },
  {
   "cell_type": "markdown",
   "metadata": {},
   "source": [
    "#### Mixed-Type Features"
   ]
  },
  {
   "cell_type": "markdown",
   "metadata": {},
   "source": [
    "There are a handful of features that are marked as \"mixed\" in the feature summary that require special treatment in order to be included in the analysis. There are two in particular that deserve attention:\n",
    "\n",
    "* \"PRAEGENDE_JUGENDJAHRE\" combines information on three dimensions: generation by decade, movement (mainstream vs. avantgarde), and nation (east vs. west). While there aren't enough levels to disentangle east from west, we should create two new variables to capture the other two dimensions: an interval-type variable for decade, and a binary variable for movement.\n",
    "* \"CAMEO_INTL_2015\" combines information on two axes: wealth and life stage. We break up the two-digit codes by their 'tens'-place and 'ones'-place digits into two new ordinal variables (which, for the purposes of this project, is equivalent to just treating them as their raw numeric values)."
   ]
  },
  {
   "cell_type": "code",
   "execution_count": 22,
   "metadata": {
    "ExecuteTime": {
     "end_time": "2019-08-11T16:37:13.559329Z",
     "start_time": "2019-08-11T16:37:13.553332Z"
    }
   },
   "outputs": [
    {
     "data": {
      "text/plain": [
       "11           CAMEO_INTL_2015\n",
       "100             KBA05_BAUMAX\n",
       "266      LP_LEBENSPHASE_FEIN\n",
       "267      LP_LEBENSPHASE_GROB\n",
       "280              PLZ8_BAUMAX\n",
       "283    PRAEGENDE_JUGENDJAHRE\n",
       "305                 WOHNLAGE\n",
       "361             KBA13_BAUMAX\n",
       "Name: attribute, dtype: object"
      ]
     },
     "execution_count": 22,
     "metadata": {},
     "output_type": "execute_result"
    }
   ],
   "source": [
    "feat_info = feat_info[feat_info['attribute'].isin(azdias.columns.values)]\n",
    "mixed_type_features = feat_info[feat_info['type'] == 'mixed']['attribute']\n",
    "mixed_type_features "
   ]
  },
  {
   "cell_type": "markdown",
   "metadata": {},
   "source": [
    "Fill the missing values with the most frequent value"
   ]
  },
  {
   "cell_type": "code",
   "execution_count": 23,
   "metadata": {
    "ExecuteTime": {
     "end_time": "2019-08-11T16:37:13.871962Z",
     "start_time": "2019-08-11T16:37:13.562307Z"
    }
   },
   "outputs": [],
   "source": [
    "azdias[mixed_type_features] = azdias[mixed_type_features].fillna(azdias[mixed_type_features].mode().iloc[0])"
   ]
  },
  {
   "cell_type": "markdown",
   "metadata": {},
   "source": [
    "Investigate `PRAEGENDE_JUGENDJAHRE` and engineer two new variables."
   ]
  },
  {
   "cell_type": "code",
   "execution_count": 24,
   "metadata": {
    "ExecuteTime": {
     "end_time": "2019-08-11T16:37:13.921830Z",
     "start_time": "2019-08-11T16:37:13.872962Z"
    }
   },
   "outputs": [
    {
     "data": {
      "application/vnd.jupyter.widget-view+json": {
       "model_id": "dc4ce2b695e4472c82c1c0705536db01",
       "version_major": 2,
       "version_minor": 0
      },
      "text/plain": [
       "HBox(children=(IntProgress(value=0, max=1), HTML(value='')))"
      ]
     },
     "metadata": {},
     "output_type": "display_data"
    },
    {
     "name": "stdout",
     "output_type": "stream",
     "text": [
      "PRAEGENDE_JUGENDJAHRE: [14.0, 15.0, 8.0, 3.0, 10.0, 11.0, 5.0, 9.0, 6.0, 4.0, 2.0, 1.0, 12.0, 13.0, 7.0]\n",
      "\n"
     ]
    }
   ],
   "source": [
    "unique_values(azdias[['PRAEGENDE_JUGENDJAHRE']])"
   ]
  },
  {
   "cell_type": "markdown",
   "metadata": {},
   "source": [
    "Re-engineer PRAEGENDE_JUGENDJAHRE"
   ]
  },
  {
   "cell_type": "code",
   "execution_count": 25,
   "metadata": {
    "ExecuteTime": {
     "end_time": "2019-08-11T16:37:17.063689Z",
     "start_time": "2019-08-11T16:37:13.923824Z"
    }
   },
   "outputs": [],
   "source": [
    "decade = {'1.0': 1, '2.0': 1, '3.0': 2, '4.0': 2, '5.0': 3, '6.0': 3, '7.0': 3, '8.0': 4, '9.0': 4, '10.0': 5, \n",
    "          '11.0': 5, '12.0': 5, '13.0': 5, '14.0': 6, '15.0': 6}\n",
    "\n",
    "movement = {'1.0': 1, '2.0': 2, '3.0': 1, '4.0': 2, '5.0': 1, '6.0': 2, '7.0': 2, '8.0': 1, '9.0': 2, '10.0': 1, \n",
    "            '11.0': 2, '12.0': 1, '13.0': 2, '14.0': 1, '15.0': 2}\n",
    "\n",
    "azdias['PRAEGENDE_JUGENDJAHRE'] = azdias['PRAEGENDE_JUGENDJAHRE'].astype('str')\n",
    "azdias['PRAEGENDE_JUGENDJAHRE_DECADE'] = azdias['PRAEGENDE_JUGENDJAHRE'].replace(decade)\n",
    "azdias['PRAEGENDE_JUGENDJAHRE_MOVEMENT'] = azdias['PRAEGENDE_JUGENDJAHRE'].replace(movement)\n",
    "azdias = azdias.drop('PRAEGENDE_JUGENDJAHRE', axis=1)"
   ]
  },
  {
   "cell_type": "code",
   "execution_count": 26,
   "metadata": {
    "ExecuteTime": {
     "end_time": "2019-08-11T16:37:17.195337Z",
     "start_time": "2019-08-11T16:37:17.064686Z"
    }
   },
   "outputs": [],
   "source": [
    "decade_movement = ['PRAEGENDE_JUGENDJAHRE_DECADE', 'PRAEGENDE_JUGENDJAHRE_MOVEMENT']\n",
    "azdias[decade_movement] = azdias[decade_movement].astype('category')"
   ]
  },
  {
   "cell_type": "markdown",
   "metadata": {},
   "source": [
    "Investigate \"CAMEO_INTL_2015\" and engineer two new variables."
   ]
  },
  {
   "cell_type": "code",
   "execution_count": 27,
   "metadata": {
    "ExecuteTime": {
     "end_time": "2019-08-11T16:37:17.248213Z",
     "start_time": "2019-08-11T16:37:17.197332Z"
    }
   },
   "outputs": [
    {
     "data": {
      "application/vnd.jupyter.widget-view+json": {
       "model_id": "b2a162baa73b482b915ec2203d9b1a77",
       "version_major": 2,
       "version_minor": 0
      },
      "text/plain": [
       "HBox(children=(IntProgress(value=0, max=1), HTML(value='')))"
      ]
     },
     "metadata": {},
     "output_type": "display_data"
    },
    {
     "name": "stdout",
     "output_type": "stream",
     "text": [
      "CAMEO_INTL_2015: [51.0, 24.0, 12.0, 43.0, 54.0, 22.0, 14.0, 13.0, 15.0, 33.0, 41.0, 34.0, 55.0, 25.0, 23.0, 31.0, 52.0, 35.0, 45.0, 44.0, 32.0]\n",
      "\n"
     ]
    }
   ],
   "source": [
    "unique_values(azdias[['CAMEO_INTL_2015']])"
   ]
  },
  {
   "cell_type": "markdown",
   "metadata": {},
   "source": [
    "Re-engineer CAMEO_INTL_2015"
   ]
  },
  {
   "cell_type": "code",
   "execution_count": 28,
   "metadata": {
    "ExecuteTime": {
     "end_time": "2019-08-11T16:37:19.378028Z",
     "start_time": "2019-08-11T16:37:17.250206Z"
    }
   },
   "outputs": [],
   "source": [
    "azdias['CAMEO_INTL_2015_WEALTH'] = azdias['CAMEO_INTL_2015'].apply(lambda x: list(str(x))[0])\n",
    "azdias['CAMEO_INTL_2015_LIFE_STAGE'] = azdias['CAMEO_INTL_2015'].apply(lambda x: list(str(x))[1])\n",
    "azdias = azdias.drop('CAMEO_INTL_2015', axis=1)"
   ]
  },
  {
   "cell_type": "code",
   "execution_count": 29,
   "metadata": {
    "ExecuteTime": {
     "end_time": "2019-08-11T16:37:19.472775Z",
     "start_time": "2019-08-11T16:37:19.378994Z"
    }
   },
   "outputs": [],
   "source": [
    "wealth_life = ['CAMEO_INTL_2015_WEALTH', 'CAMEO_INTL_2015_LIFE_STAGE']\n",
    "azdias[wealth_life] = azdias[wealth_life].astype('category')"
   ]
  },
  {
   "cell_type": "markdown",
   "metadata": {},
   "source": [
    "Let's look at all mixed-type features"
   ]
  },
  {
   "cell_type": "code",
   "execution_count": 30,
   "metadata": {
    "ExecuteTime": {
     "end_time": "2019-08-11T16:37:19.577120Z",
     "start_time": "2019-08-11T16:37:19.473772Z"
    }
   },
   "outputs": [
    {
     "data": {
      "application/vnd.jupyter.widget-view+json": {
       "model_id": "3934628507a7429cb8b8c854fca9bee6",
       "version_major": 2,
       "version_minor": 0
      },
      "text/plain": [
       "HBox(children=(IntProgress(value=0, max=6), HTML(value='')))"
      ]
     },
     "metadata": {},
     "output_type": "display_data"
    },
    {
     "name": "stdout",
     "output_type": "stream",
     "text": [
      "KBA05_BAUMAX: [1.0, 5.0, 2.0, 3.0, 4.0]\n",
      "LP_LEBENSPHASE_FEIN: [15.0, 21.0, 3.0, 1.0, 32.0, 8.0, 2.0, 5.0, 10.0, 4.0, 6.0, 23.0, 12.0, 20.0, 11.0, 25.0, 13.0, 7.0, 18.0, 31.0, 19.0, 38.0, 35.0, 30.0, 22.0, 14.0, 33.0, 29.0, 24.0, 28.0, 37.0, 26.0, 39.0, 27.0, 36.0, 9.0, 34.0, 40.0, 16.0, 17.0]\n",
      "LP_LEBENSPHASE_GROB: [4.0, 6.0, 1.0, 2.0, 10.0, 3.0, 5.0, 7.0, 12.0, 11.0, 9.0, 8.0]\n",
      "PLZ8_BAUMAX: [1.0, 2.0, 4.0, 5.0, 3.0]\n",
      "WOHNLAGE: [3.0, 4.0, 2.0, 7.0, 5.0, 1.0, 8.0, 0.0]\n",
      "KBA13_BAUMAX: [1.0, 2.0, 4.0, 5.0, 3.0]\n",
      "\n"
     ]
    }
   ],
   "source": [
    "feat_info = feat_info[feat_info['attribute'].isin(azdias.columns.values)]\n",
    "remaining_mix_type = feat_info[feat_info['type'] == 'mixed']['attribute']\n",
    "unique_values(azdias[remaining_mix_type])"
   ]
  },
  {
   "cell_type": "code",
   "execution_count": 31,
   "metadata": {
    "ExecuteTime": {
     "end_time": "2019-08-11T16:37:22.425812Z",
     "start_time": "2019-08-11T16:37:19.578085Z"
    }
   },
   "outputs": [],
   "source": [
    "azdias[remaining_mix_type] = azdias[remaining_mix_type].astype('int8').astype('category')"
   ]
  },
  {
   "cell_type": "markdown",
   "metadata": {},
   "source": [
    "#### Ordinal features"
   ]
  },
  {
   "cell_type": "code",
   "execution_count": 32,
   "metadata": {
    "ExecuteTime": {
     "end_time": "2019-08-11T16:37:25.914511Z",
     "start_time": "2019-08-11T16:37:22.427807Z"
    }
   },
   "outputs": [
    {
     "name": "stdout",
     "output_type": "stream",
     "text": [
      "['ALTERSKATEGORIE_GROB', 'BALLRAUM', 'D19_BANKEN_ONLINE_QUOTE_12', 'D19_GESAMT_ANZ_12', 'D19_GESAMT_ANZ_24', 'D19_GESAMT_DATUM', 'D19_GESAMT_OFFLINE_DATUM', 'D19_GESAMT_ONLINE_DATUM', 'D19_GESAMT_ONLINE_QUOTE_12', 'D19_TELKO_DATUM', 'D19_VERSAND_ANZ_12', 'D19_VERSAND_ANZ_24', 'D19_VERSAND_DATUM', 'D19_VERSAND_OFFLINE_DATUM', 'D19_VERSAND_ONLINE_DATUM', 'D19_VERSAND_ONLINE_QUOTE_12', 'EWDICHTE', 'FINANZ_ANLEGER', 'FINANZ_HAUSBAUER', 'FINANZ_MINIMALIST', 'FINANZ_SPARER', 'FINANZ_UNAUFFAELLIGER', 'FINANZ_VORSORGER', 'GEBAEUDETYP_RASTER', 'HEALTH_TYP', 'HH_EINKOMMEN_SCORE', 'INNENSTADT', 'KBA05_ALTER1', 'KBA05_ALTER2', 'KBA05_ALTER3', 'KBA05_ALTER4', 'KBA05_ANHANG', 'KBA05_ANTG1', 'KBA05_ANTG2', 'KBA05_ANTG3', 'KBA05_ANTG4', 'KBA05_AUTOQUOT', 'KBA05_CCM1', 'KBA05_CCM2', 'KBA05_CCM3', 'KBA05_CCM4', 'KBA05_DIESEL', 'KBA05_FRAU', 'KBA05_GBZ', 'KBA05_HERST1', 'KBA05_HERST2', 'KBA05_HERST3', 'KBA05_HERST4', 'KBA05_HERST5', 'KBA05_HERSTTEMP', 'KBA05_KRSAQUOT', 'KBA05_KRSHERST1', 'KBA05_KRSHERST2', 'KBA05_KRSHERST3', 'KBA05_KRSKLEIN', 'KBA05_KRSOBER', 'KBA05_KRSVAN', 'KBA05_KRSZUL', 'KBA05_KW1', 'KBA05_KW2', 'KBA05_KW3', 'KBA05_MAXAH', 'KBA05_MAXBJ', 'KBA05_MAXHERST', 'KBA05_MAXSEG', 'KBA05_MAXVORB', 'KBA05_MOD1', 'KBA05_MOD2', 'KBA05_MOD3', 'KBA05_MOD4', 'KBA05_MOD8', 'KBA05_MOTOR', 'KBA05_MOTRAD', 'KBA05_SEG1', 'KBA05_SEG10', 'KBA05_SEG2', 'KBA05_SEG3', 'KBA05_SEG4', 'KBA05_SEG5', 'KBA05_SEG7', 'KBA05_SEG8', 'KBA05_SEG9', 'KBA05_VORB0', 'KBA05_VORB1', 'KBA05_VORB2', 'KBA05_ZUL1', 'KBA05_ZUL2', 'KBA05_ZUL3', 'KBA05_ZUL4', 'KBA13_ALTERHALTER_30', 'KBA13_ALTERHALTER_45', 'KBA13_ALTERHALTER_60', 'KBA13_ALTERHALTER_61', 'KBA13_AUDI', 'KBA13_AUTOQUOTE', 'KBA13_BJ_1999', 'KBA13_BJ_2000', 'KBA13_BJ_2004', 'KBA13_BJ_2006', 'KBA13_BJ_2008', 'KBA13_BJ_2009', 'KBA13_BMW', 'KBA13_CCM_1000', 'KBA13_CCM_1200', 'KBA13_CCM_1400', 'KBA13_CCM_0_1400', 'KBA13_CCM_1500', 'KBA13_CCM_1600', 'KBA13_CCM_1800', 'KBA13_CCM_2000', 'KBA13_CCM_2500', 'KBA13_CCM_2501', 'KBA13_CCM_3000', 'KBA13_CCM_3001', 'KBA13_FAB_ASIEN', 'KBA13_FAB_SONSTIGE', 'KBA13_FIAT', 'KBA13_FORD', 'KBA13_HALTER_20', 'KBA13_HALTER_25', 'KBA13_HALTER_30', 'KBA13_HALTER_35', 'KBA13_HALTER_40', 'KBA13_HALTER_45', 'KBA13_HALTER_50', 'KBA13_HALTER_55', 'KBA13_HALTER_60', 'KBA13_HALTER_65', 'KBA13_HALTER_66', 'KBA13_HERST_ASIEN', 'KBA13_HERST_AUDI_VW', 'KBA13_HERST_BMW_BENZ', 'KBA13_HERST_EUROPA', 'KBA13_HERST_FORD_OPEL', 'KBA13_HERST_SONST', 'KBA13_KMH_110', 'KBA13_KMH_140', 'KBA13_KMH_180', 'KBA13_KMH_0_140', 'KBA13_KMH_140_210', 'KBA13_KMH_211', 'KBA13_KMH_250', 'KBA13_KMH_251', 'KBA13_KRSAQUOT', 'KBA13_KRSHERST_AUDI_VW', 'KBA13_KRSHERST_BMW_BENZ', 'KBA13_KRSHERST_FORD_OPEL', 'KBA13_KRSSEG_KLEIN', 'KBA13_KRSSEG_OBER', 'KBA13_KRSSEG_VAN', 'KBA13_KRSZUL_NEU', 'KBA13_KW_30', 'KBA13_KW_40', 'KBA13_KW_50', 'KBA13_KW_60', 'KBA13_KW_0_60', 'KBA13_KW_70', 'KBA13_KW_61_120', 'KBA13_KW_80', 'KBA13_KW_90', 'KBA13_KW_110', 'KBA13_KW_120', 'KBA13_KW_121', 'KBA13_MAZDA', 'KBA13_MERCEDES', 'KBA13_MOTOR', 'KBA13_NISSAN', 'KBA13_OPEL', 'KBA13_PEUGEOT', 'KBA13_RENAULT', 'KBA13_SEG_GELAENDEWAGEN', 'KBA13_SEG_GROSSRAUMVANS', 'KBA13_SEG_KLEINST', 'KBA13_SEG_KLEINWAGEN', 'KBA13_SEG_KOMPAKTKLASSE', 'KBA13_SEG_MINIVANS', 'KBA13_SEG_MINIWAGEN', 'KBA13_SEG_MITTELKLASSE', 'KBA13_SEG_OBEREMITTELKLASSE', 'KBA13_SEG_OBERKLASSE', 'KBA13_SEG_SONSTIGE', 'KBA13_SEG_SPORTWAGEN', 'KBA13_SEG_UTILITIES', 'KBA13_SEG_VAN', 'KBA13_SEG_WOHNMOBILE', 'KBA13_SITZE_4', 'KBA13_SITZE_5', 'KBA13_SITZE_6', 'KBA13_TOYOTA', 'KBA13_VORB_0', 'KBA13_VORB_1', 'KBA13_VORB_1_2', 'KBA13_VORB_2', 'KBA13_VORB_3', 'KBA13_VW', 'KKK', 'KONSUMNAEHE', 'MOBI_REGIO', 'ONLINE_AFFINITAET', 'ORTSGR_KLS9', 'PLZ8_ANTG1', 'PLZ8_ANTG2', 'PLZ8_ANTG3', 'PLZ8_ANTG4', 'PLZ8_GBZ', 'PLZ8_HHZ', 'REGIOTYP', 'RELAT_AB', 'RETOURTYP_BK_S', 'SEMIO_DOM', 'SEMIO_ERL', 'SEMIO_FAM', 'SEMIO_KAEM', 'SEMIO_KRIT', 'SEMIO_KULT', 'SEMIO_LUST', 'SEMIO_MAT', 'SEMIO_PFLICHT', 'SEMIO_RAT', 'SEMIO_REL', 'SEMIO_SOZ', 'SEMIO_TRADV', 'SEMIO_VERT', 'WOHNDAUER_2008', 'W_KEIT_KIND_HH', 'ARBEIT', 'D19_TELKO_ONLINE_QUOTE_12', 'D19_VERSI_DATUM', 'D19_VERSI_ONLINE_QUOTE_12', 'KBA13_ANTG1', 'KBA13_ANTG2', 'KBA13_ANTG3', 'KBA13_ANTG4', 'KBA13_CCM_1401_2500', 'KBA13_GBZ', 'KBA13_HHZ', 'KBA13_KMH_210']\n",
      "\n",
      "\n"
     ]
    },
    {
     "data": {
      "application/vnd.jupyter.widget-view+json": {
       "model_id": "66396e2c0d7a477bbe2114fb7eb2f26e",
       "version_major": 2,
       "version_minor": 0
      },
      "text/plain": [
       "HBox(children=(IntProgress(value=0, max=237), HTML(value='')))"
      ]
     },
     "metadata": {},
     "output_type": "display_data"
    },
    {
     "name": "stdout",
     "output_type": "stream",
     "text": [
      "ALTERSKATEGORIE_GROB: [2.0, 1.0, 3.0, 4.0, nan]\n",
      "BALLRAUM: [nan, 6.0, 2.0, 4.0, 3.0, 7.0, 1.0, 5.0]\n",
      "D19_BANKEN_ONLINE_QUOTE_12: [nan, 0.0, 10.0, 8.0, 5.0, 9.0, 7.0, 6.0, 3.0, 4.0, 2.0, 1.0]\n",
      "D19_GESAMT_ANZ_12: [nan, 6.0, 1.0, 2.0, 3.0, 4.0, 5.0]\n",
      "D19_GESAMT_ANZ_24: [nan, 6.0, 1.0, 2.0, 3.0, 5.0, 4.0]\n",
      "D19_GESAMT_DATUM: [nan, 1.0, 3.0, 5.0, 9.0, 4.0, 7.0, 6.0, 8.0, 2.0]\n",
      "D19_GESAMT_OFFLINE_DATUM: [nan, 6.0, 8.0, 9.0, 5.0, 2.0, 4.0, 1.0, 7.0, 3.0]\n",
      "D19_GESAMT_ONLINE_DATUM: [nan, 1.0, 3.0, 5.0, 9.0, 4.0, 7.0, 6.0, 8.0, 2.0]\n",
      "D19_GESAMT_ONLINE_QUOTE_12: [nan, 0.0, 10.0, 7.0, 9.0, 5.0, 8.0, 6.0, 3.0, 4.0, 2.0, 1.0]\n",
      "D19_TELKO_DATUM: [nan, 6.0, 9.0, 8.0, 7.0, 5.0, 4.0, 2.0, 1.0, 3.0]\n",
      "D19_VERSAND_ANZ_12: [nan, 6.0, 1.0, 2.0, 5.0, 3.0, 4.0]\n",
      "D19_VERSAND_ANZ_24: [nan, 6.0, 2.0, 1.0, 3.0, 4.0, 5.0]\n",
      "D19_VERSAND_DATUM: [nan, 1.0, 5.0, 9.0, 4.0, 8.0, 7.0, 6.0, 3.0, 2.0]\n",
      "D19_VERSAND_OFFLINE_DATUM: [nan, 9.0, 6.0, 8.0, 5.0, 2.0, 1.0, 4.0, 7.0, 3.0]\n",
      "D19_VERSAND_ONLINE_DATUM: [nan, 1.0, 5.0, 9.0, 4.0, 8.0, 7.0, 6.0, 3.0, 2.0]\n",
      "D19_VERSAND_ONLINE_QUOTE_12: [nan, 0.0, 10.0, 7.0, 5.0, 9.0, 3.0, 8.0, 6.0, 4.0, 2.0, 1.0]\n",
      "EWDICHTE: [nan, 3.0, 4.0, 2.0, 5.0, 6.0, 1.0]\n",
      "FINANZ_ANLEGER: [5, 2, 1, 4, 3]\n",
      "FINANZ_HAUSBAUER: [3, 5, 2, 4, 1]\n",
      "FINANZ_MINIMALIST: [3, 1, 4, 2, 5]\n",
      "FINANZ_SPARER: [4, 5, 2, 3, 1]\n",
      "FINANZ_UNAUFFAELLIGER: [5, 4, 3, 1, 2]\n",
      "FINANZ_VORSORGER: [3, 2, 1, 5, 4]\n",
      "GEBAEUDETYP_RASTER: [nan, 3.0, 4.0, 5.0, 1.0, 2.0]\n",
      "HEALTH_TYP: [nan, 3.0, 2.0, 1.0]\n",
      "HH_EINKOMMEN_SCORE: [2.0, 6.0, 4.0, 1.0, 5.0, 3.0, nan]\n",
      "INNENSTADT: [nan, 8.0, 4.0, 6.0, 1.0, 7.0, 3.0, 2.0, 5.0]\n",
      "KBA05_ALTER1: [nan, 3.0, 2.0, 0.0, 1.0, 4.0]\n",
      "KBA05_ALTER2: [nan, 4.0, 3.0, 5.0, 2.0, 1.0]\n",
      "KBA05_ALTER3: [nan, 1.0, 3.0, 4.0, 2.0, 5.0]\n",
      "KBA05_ALTER4: [nan, 4.0, 3.0, 0.0, 5.0, 2.0, 1.0]\n",
      "KBA05_ANHANG: [nan, 0.0, 1.0, 2.0, 3.0]\n",
      "KBA05_ANTG1: [nan, 0.0, 1.0, 4.0, 2.0, 3.0]\n",
      "KBA05_ANTG2: [nan, 0.0, 3.0, 1.0, 4.0, 2.0]\n",
      "KBA05_ANTG3: [nan, 0.0, 1.0, 2.0, 3.0]\n",
      "KBA05_ANTG4: [nan, 2.0, 0.0, 1.0]\n",
      "KBA05_AUTOQUOT: [nan, 1.0, 3.0, 4.0, 2.0, 5.0]\n",
      "KBA05_CCM1: [nan, 1.0, 5.0, 2.0, 4.0, 3.0]\n",
      "KBA05_CCM2: [nan, 5.0, 2.0, 3.0, 1.0, 4.0]\n",
      "KBA05_CCM3: [nan, 1.0, 3.0, 5.0, 4.0, 2.0]\n",
      "KBA05_CCM4: [nan, 4.0, 0.0, 1.0, 2.0, 3.0]\n",
      "KBA05_DIESEL: [nan, 2.0, 0.0, 3.0, 1.0, 4.0]\n",
      "KBA05_FRAU: [nan, 4.0, 3.0, 5.0, 2.0, 1.0]\n",
      "KBA05_GBZ: [nan, 1.0, 3.0, 4.0, 5.0, 2.0]\n",
      "KBA05_HERST1: [nan, 5.0, 2.0, 4.0, 3.0, 0.0, 1.0]\n",
      "KBA05_HERST2: [nan, 5.0, 2.0, 3.0, 4.0, 1.0]\n",
      "KBA05_HERST3: [nan, 2.0, 3.0, 4.0, 1.0, 0.0, 5.0]\n",
      "KBA05_HERST4: [nan, 2.0, 1.0, 3.0, 4.0, 0.0, 5.0]\n",
      "KBA05_HERST5: [nan, 0.0, 5.0, 3.0, 4.0, 2.0, 1.0]\n",
      "KBA05_HERSTTEMP: [nan, 4.0, 3.0, 1.0, 2.0, 5.0]\n",
      "KBA05_KRSAQUOT: [nan, 1.0, 3.0, 4.0, 2.0, 5.0]\n",
      "KBA05_KRSHERST1: [nan, 5.0, 3.0, 4.0, 2.0, 1.0]\n",
      "KBA05_KRSHERST2: [nan, 4.0, 2.0, 3.0, 5.0, 1.0]\n",
      "KBA05_KRSHERST3: [nan, 2.0, 3.0, 1.0, 4.0, 5.0]\n",
      "KBA05_KRSKLEIN: [nan, 1.0, 3.0, 2.0]\n",
      "KBA05_KRSOBER: [nan, 2.0, 1.0, 3.0]\n",
      "KBA05_KRSVAN: [nan, 1.0, 2.0, 3.0]\n",
      "KBA05_KRSZUL: [nan, 2.0, 3.0, 1.0]\n",
      "KBA05_KW1: [nan, 1.0, 3.0, 4.0, 2.0, 5.0]\n",
      "KBA05_KW2: [nan, 3.0, 2.0, 4.0, 5.0, 1.0]\n",
      "KBA05_KW3: [nan, 4.0, 2.0, 1.0, 3.0, 0.0]\n",
      "KBA05_MAXAH: [nan, 2.0, 3.0, 5.0, 1.0, 4.0]\n",
      "KBA05_MAXBJ: [nan, 1.0, 4.0, 2.0, 3.0]\n",
      "KBA05_MAXHERST: [nan, 2.0, 5.0, 3.0, 1.0, 4.0]\n",
      "KBA05_MAXSEG: [nan, 4.0, 1.0, 2.0, 3.0]\n",
      "KBA05_MAXVORB: [nan, 3.0, 1.0, 2.0]\n",
      "KBA05_MOD1: [nan, 3.0, 0.0, 2.0, 1.0, 4.0]\n",
      "KBA05_MOD2: [nan, 2.0, 4.0, 1.0, 3.0, 5.0]\n",
      "KBA05_MOD3: [nan, 2.0, 5.0, 4.0, 1.0, 3.0]\n",
      "KBA05_MOD4: [nan, 0.0, 1.0, 2.0, 4.0, 5.0, 3.0]\n",
      "KBA05_MOD8: [nan, 0.0, 1.0, 2.0, 3.0]\n",
      "KBA05_MOTOR: [nan, 3.0, 1.0, 4.0, 2.0]\n",
      "KBA05_MOTRAD: [nan, 0.0, 1.0, 3.0, 2.0]\n",
      "KBA05_SEG1: [nan, 0.0, 2.0, 1.0, 3.0]\n",
      "KBA05_SEG10: [nan, 4.0, 1.0, 3.0, 2.0, 0.0]\n",
      "KBA05_SEG2: [nan, 1.0, 5.0, 2.0, 4.0, 3.0]\n",
      "KBA05_SEG3: [nan, 2.0, 3.0, 5.0, 1.0, 4.0]\n",
      "KBA05_SEG4: [nan, 2.0, 3.0, 4.0, 1.0, 5.0]\n",
      "KBA05_SEG5: [nan, 2.0, 1.0, 0.0, 3.0, 4.0]\n",
      "KBA05_SEG7: [nan, 3.0, 0.0, 1.0, 2.0]\n",
      "KBA05_SEG8: [nan, 3.0, 0.0, 1.0, 2.0]\n",
      "KBA05_SEG9: [nan, 0.0, 1.0, 2.0, 3.0]\n",
      "KBA05_VORB0: [nan, 1.0, 4.0, 2.0, 5.0, 3.0]\n",
      "KBA05_VORB1: [nan, 1.0, 2.0, 5.0, 3.0, 4.0]\n",
      "KBA05_VORB2: [nan, 5.0, 3.0, 1.0, 4.0, 2.0, 0.0]\n",
      "KBA05_ZUL1: [nan, 5.0, 2.0, 3.0, 4.0, 1.0]\n",
      "KBA05_ZUL2: [nan, 1.0, 3.0, 4.0, 2.0, 5.0]\n",
      "KBA05_ZUL3: [nan, 0.0, 4.0, 3.0, 2.0, 1.0, 5.0]\n",
      "KBA05_ZUL4: [nan, 2.0, 4.0, 3.0, 5.0, 1.0, 0.0]\n",
      "KBA13_ALTERHALTER_30: [nan, 3.0, 2.0, 1.0, 4.0, 5.0]\n",
      "KBA13_ALTERHALTER_45: [nan, 2.0, 3.0, 4.0, 1.0, 5.0]\n",
      "KBA13_ALTERHALTER_60: [nan, 3.0, 5.0, 2.0, 4.0, 1.0]\n",
      "KBA13_ALTERHALTER_61: [nan, 4.0, 3.0, 2.0, 5.0, 1.0]\n",
      "KBA13_AUDI: [nan, 4.0, 3.0, 5.0, 2.0, 1.0]\n",
      "KBA13_AUTOQUOTE: [nan, 2.0, 3.0, 4.0, 5.0, 1.0, 0.0]\n",
      "KBA13_BJ_1999: [nan, 3.0, 2.0, 4.0, 1.0, 5.0]\n",
      "KBA13_BJ_2000: [nan, 3.0, 2.0, 1.0, 4.0, 5.0]\n",
      "KBA13_BJ_2004: [nan, 3.0, 4.0, 2.0, 1.0, 5.0]\n",
      "KBA13_BJ_2006: [nan, 3.0, 5.0, 2.0, 4.0, 1.0]\n",
      "KBA13_BJ_2008: [nan, 3.0, 4.0, 0.0, 2.0, 5.0, 1.0]\n",
      "KBA13_BJ_2009: [nan, 2.0, 1.0, 3.0, 5.0, 0.0, 4.0]\n",
      "KBA13_BMW: [nan, 3.0, 4.0, 2.0, 5.0, 1.0]\n",
      "KBA13_CCM_1000: [nan, 0.0, 1.0, 4.0, 5.0, 3.0, 2.0]\n",
      "KBA13_CCM_1200: [nan, 0.0, 2.0, 1.0, 4.0, 5.0, 3.0]\n",
      "KBA13_CCM_1400: [nan, 4.0, 2.0, 3.0, 1.0, 5.0]\n",
      "KBA13_CCM_0_1400: [nan, 2.0, 1.0, 3.0, 5.0, 0.0, 4.0]\n",
      "KBA13_CCM_1500: [nan, 1.0, 4.0, 3.0, 5.0, 2.0]\n",
      "KBA13_CCM_1600: [nan, 2.0, 3.0, 1.0, 4.0, 5.0]\n",
      "KBA13_CCM_1800: [nan, 2.0, 4.0, 3.0, 5.0, 1.0, 0.0]\n",
      "KBA13_CCM_2000: [nan, 5.0, 3.0, 4.0, 2.0, 1.0]\n",
      "KBA13_CCM_2500: [nan, 3.0, 4.0, 0.0, 5.0, 2.0, 1.0]\n",
      "KBA13_CCM_2501: [nan, 3.0, 4.0, 5.0, 0.0, 2.0, 1.0]\n",
      "KBA13_CCM_3000: [nan, 0.0, 3.0, 5.0, 2.0, 1.0, 4.0]\n",
      "KBA13_CCM_3001: [nan, 5.0, 4.0, 1.0, 3.0, 2.0]\n",
      "KBA13_FAB_ASIEN: [nan, 2.0, 4.0, 3.0, 1.0, 5.0]\n",
      "KBA13_FAB_SONSTIGE: [nan, 3.0, 2.0, 1.0, 4.0, 5.0]\n",
      "KBA13_FIAT: [nan, 4.0, 3.0, 5.0, 2.0, 1.0]\n",
      "KBA13_FORD: [nan, 2.0, 4.0, 3.0, 1.0, 5.0]\n",
      "KBA13_HALTER_20: [nan, 3.0, 2.0, 4.0, 5.0, 1.0]\n",
      "KBA13_HALTER_25: [nan, 3.0, 2.0, 1.0, 4.0, 5.0]\n",
      "KBA13_HALTER_30: [nan, 3.0, 2.0, 1.0, 4.0, 5.0]\n",
      "KBA13_HALTER_35: [nan, 3.0, 2.0, 1.0, 4.0, 5.0]\n",
      "KBA13_HALTER_40: [nan, 3.0, 2.0, 1.0, 4.0, 5.0]\n",
      "KBA13_HALTER_45: [nan, 2.0, 3.0, 5.0, 1.0, 4.0]\n",
      "KBA13_HALTER_50: [nan, 2.0, 3.0, 5.0, 4.0, 1.0]\n",
      "KBA13_HALTER_55: [nan, 3.0, 5.0, 4.0, 2.0, 1.0]\n",
      "KBA13_HALTER_60: [nan, 3.0, 4.0, 2.0, 5.0, 1.0]\n",
      "KBA13_HALTER_65: [nan, 3.0, 4.0, 5.0, 2.0, 1.0]\n",
      "KBA13_HALTER_66: [nan, 4.0, 3.0, 2.0, 5.0, 1.0]\n",
      "KBA13_HERST_ASIEN: [nan, 1.0, 3.0, 4.0, 2.0, 5.0]\n",
      "KBA13_HERST_AUDI_VW: [nan, 4.0, 2.0, 3.0, 5.0, 1.0]\n",
      "KBA13_HERST_BMW_BENZ: [nan, 4.0, 3.0, 5.0, 2.0, 1.0]\n",
      "KBA13_HERST_EUROPA: [nan, 4.0, 3.0, 2.0, 5.0, 1.0]\n",
      "KBA13_HERST_FORD_OPEL: [nan, 2.0, 3.0, 1.0, 4.0, 5.0]\n",
      "KBA13_HERST_SONST: [nan, 3.0, 2.0, 1.0, 4.0, 5.0]\n",
      "KBA13_KMH_110: [nan, 1.0, 2.0, 3.0]\n",
      "KBA13_KMH_140: [nan, 3.0, 1.0, 5.0, 2.0, 4.0]\n",
      "KBA13_KMH_180: [nan, 2.0, 1.0, 3.0, 4.0, 5.0]\n",
      "KBA13_KMH_0_140: [nan, 3.0, 1.0, 5.0, 0.0, 4.0, 2.0]\n",
      "KBA13_KMH_140_210: [nan, 3.0, 2.0, 1.0, 4.0, 5.0]\n",
      "KBA13_KMH_211: [nan, 3.0, 4.0, 5.0, 2.0, 1.0, 0.0]\n",
      "KBA13_KMH_250: [nan, 3.0, 4.0, 5.0, 2.0, 1.0, 0.0]\n",
      "KBA13_KMH_251: [nan, 1.0, 3.0, 2.0]\n",
      "KBA13_KRSAQUOT: [nan, 2.0, 3.0, 4.0, 1.0, 5.0, 0.0]\n",
      "KBA13_KRSHERST_AUDI_VW: [nan, 4.0, 3.0, 2.0, 1.0, 5.0, 0.0]\n",
      "KBA13_KRSHERST_BMW_BENZ: [nan, 3.0, 4.0, 5.0, 2.0, 1.0, 0.0]\n",
      "KBA13_KRSHERST_FORD_OPEL: [nan, 3.0, 2.0, 4.0, 1.0, 5.0, 0.0]\n",
      "KBA13_KRSSEG_KLEIN: [nan, 2.0, 3.0, 1.0, 0.0]\n",
      "KBA13_KRSSEG_OBER: [nan, 2.0, 3.0, 1.0, 0.0]\n",
      "KBA13_KRSSEG_VAN: [nan, 2.0, 1.0, 3.0, 0.0]\n",
      "KBA13_KRSZUL_NEU: [nan, 1.0, 2.0, 3.0, 0.0]\n",
      "KBA13_KW_30: [nan, 1.0, 2.0, 3.0]\n",
      "KBA13_KW_40: [nan, 2.0, 1.0, 4.0, 5.0, 0.0, 3.0]\n",
      "KBA13_KW_50: [nan, 4.0, 2.0, 3.0, 0.0, 1.0, 5.0]\n",
      "KBA13_KW_60: [nan, 0.0, 1.0, 2.0, 3.0, 4.0, 5.0]\n",
      "KBA13_KW_0_60: [nan, 3.0, 1.0, 2.0, 4.0, 5.0]\n",
      "KBA13_KW_70: [nan, 1.0, 4.0, 3.0, 2.0, 0.0, 5.0]\n",
      "KBA13_KW_61_120: [nan, 3.0, 5.0, 2.0, 4.0, 1.0]\n",
      "KBA13_KW_80: [nan, 2.0, 4.0, 1.0, 3.0, 0.0, 5.0]\n",
      "KBA13_KW_90: [nan, 3.0, 2.0, 0.0, 4.0, 1.0, 5.0]\n",
      "KBA13_KW_110: [nan, 4.0, 3.0, 1.0, 5.0, 0.0, 2.0]\n",
      "KBA13_KW_120: [nan, 4.0, 3.0, 1.0, 5.0, 0.0, 2.0]\n",
      "KBA13_KW_121: [nan, 3.0, 4.0, 5.0, 2.0, 0.0, 1.0]\n",
      "KBA13_MAZDA: [nan, 2.0, 3.0, 4.0, 5.0, 1.0]\n",
      "KBA13_MERCEDES: [nan, 4.0, 3.0, 5.0, 2.0, 1.0]\n",
      "KBA13_MOTOR: [nan, 3.0, 4.0, 2.0, 1.0]\n",
      "KBA13_NISSAN: [nan, 2.0, 3.0, 5.0, 4.0, 1.0]\n",
      "KBA13_OPEL: [nan, 3.0, 2.0, 4.0, 1.0, 5.0]\n",
      "KBA13_PEUGEOT: [nan, 4.0, 3.0, 2.0, 1.0, 5.0]\n",
      "KBA13_RENAULT: [nan, 3.0, 2.0, 4.0, 5.0, 1.0]\n"
     ]
    },
    {
     "name": "stdout",
     "output_type": "stream",
     "text": [
      "KBA13_SEG_GELAENDEWAGEN: [nan, 2.0, 5.0, 3.0, 4.0, 1.0]\n",
      "KBA13_SEG_GROSSRAUMVANS: [nan, 3.0, 4.0, 1.0, 5.0, 2.0]\n",
      "KBA13_SEG_KLEINST: [nan, 2.0, 3.0, 5.0, 4.0, 1.0]\n",
      "KBA13_SEG_KLEINWAGEN: [nan, 2.0, 3.0, 4.0, 1.0, 5.0]\n",
      "KBA13_SEG_KOMPAKTKLASSE: [nan, 5.0, 1.0, 4.0, 3.0, 2.0]\n",
      "KBA13_SEG_MINIVANS: [nan, 4.0, 3.0, 2.0, 1.0, 5.0]\n",
      "KBA13_SEG_MINIWAGEN: [nan, 2.0, 3.0, 5.0, 4.0, 1.0]\n",
      "KBA13_SEG_MITTELKLASSE: [nan, 3.0, 2.0, 4.0, 5.0, 1.0]\n",
      "KBA13_SEG_OBEREMITTELKLASSE: [nan, 3.0, 4.0, 5.0, 2.0, 1.0]\n",
      "KBA13_SEG_OBERKLASSE: [nan, 3.0, 1.0, 4.0, 5.0, 0.0, 2.0]\n",
      "KBA13_SEG_SONSTIGE: [nan, 2.0, 5.0, 3.0, 4.0, 1.0]\n",
      "KBA13_SEG_SPORTWAGEN: [nan, 3.0, 4.0, 5.0, 1.0, 2.0, 0.0]\n",
      "KBA13_SEG_UTILITIES: [nan, 3.0, 5.0, 2.0, 4.0, 1.0]\n",
      "KBA13_SEG_VAN: [nan, 4.0, 3.0, 2.0, 1.0, 5.0]\n",
      "KBA13_SEG_WOHNMOBILE: [nan, 2.0, 5.0, 3.0, 4.0, 0.0, 1.0]\n",
      "KBA13_SITZE_4: [nan, 3.0, 4.0, 5.0, 2.0, 1.0]\n",
      "KBA13_SITZE_5: [nan, 3.0, 2.0, 1.0, 4.0, 5.0]\n",
      "KBA13_SITZE_6: [nan, 4.0, 3.0, 2.0, 5.0, 1.0]\n",
      "KBA13_TOYOTA: [nan, 2.0, 3.0, 4.0, 5.0, 1.0]\n",
      "KBA13_VORB_0: [nan, 3.0, 4.0, 5.0, 2.0, 1.0]\n",
      "KBA13_VORB_1: [nan, 3.0, 4.0, 2.0, 1.0, 5.0]\n",
      "KBA13_VORB_1_2: [nan, 3.0, 4.0, 2.0, 1.0, 5.0]\n",
      "KBA13_VORB_2: [nan, 3.0, 2.0, 4.0, 1.0, 5.0]\n",
      "KBA13_VORB_3: [nan, 3.0, 2.0, 4.0, 0.0, 1.0, 5.0]\n",
      "KBA13_VW: [nan, 4.0, 2.0, 3.0, 5.0, 1.0]\n",
      "KKK: [nan, 2.0, 3.0, 4.0, 1.0]\n",
      "KONSUMNAEHE: [nan, 1.0, 5.0, 4.0, 3.0, 2.0, 6.0, 7.0]\n",
      "MOBI_REGIO: [nan, 1.0, 3.0, 4.0, 5.0, 2.0, 6.0]\n",
      "ONLINE_AFFINITAET: [1.0, 3.0, 2.0, 5.0, 4.0, 0.0, nan]\n",
      "ORTSGR_KLS9: [nan, 5.0, 3.0, 6.0, 4.0, 8.0, 2.0, 7.0, 9.0, 1.0, 0.0]\n",
      "PLZ8_ANTG1: [nan, 2.0, 3.0, 1.0, 4.0, 0.0]\n",
      "PLZ8_ANTG2: [nan, 3.0, 2.0, 4.0, 1.0, 0.0]\n",
      "PLZ8_ANTG3: [nan, 2.0, 1.0, 3.0, 0.0]\n",
      "PLZ8_ANTG4: [nan, 1.0, 0.0, 2.0]\n",
      "PLZ8_GBZ: [nan, 4.0, 3.0, 5.0, 2.0, 1.0]\n",
      "PLZ8_HHZ: [nan, 5.0, 4.0, 3.0, 2.0, 1.0]\n",
      "REGIOTYP: [nan, 3.0, 2.0, 5.0, 1.0, 7.0, 6.0, 4.0]\n",
      "RELAT_AB: [nan, 4.0, 2.0, 3.0, 5.0, 1.0]\n",
      "RETOURTYP_BK_S: [5.0, 1.0, 3.0, 2.0, 4.0, nan]\n",
      "SEMIO_DOM: [6, 7, 4, 2, 1, 5, 3]\n",
      "SEMIO_ERL: [3, 2, 6, 7, 4, 5, 1]\n",
      "SEMIO_FAM: [6, 4, 1, 5, 7, 2, 3]\n",
      "SEMIO_KAEM: [6, 4, 7, 5, 2, 3, 1]\n",
      "SEMIO_KRIT: [7, 4, 3, 1, 5, 6, 2]\n",
      "SEMIO_KULT: [3, 4, 6, 5, 7, 1, 2]\n",
      "SEMIO_LUST: [5, 2, 4, 6, 7, 3, 1]\n",
      "SEMIO_MAT: [5, 3, 1, 2, 4, 7, 6]\n",
      "SEMIO_PFLICHT: [5, 7, 3, 4, 1, 6, 2]\n",
      "SEMIO_RAT: [4, 6, 3, 2, 7, 5, 1]\n",
      "SEMIO_REL: [7, 4, 3, 2, 5, 1, 6]\n",
      "SEMIO_SOZ: [2, 5, 4, 6, 7, 3, 1]\n",
      "SEMIO_TRADV: [3, 6, 4, 2, 7, 5, 1]\n",
      "SEMIO_VERT: [1, 4, 7, 2, 6, 5, 3]\n",
      "WOHNDAUER_2008: [nan, 9.0, 8.0, 3.0, 4.0, 5.0, 6.0, 2.0, 7.0, 1.0]\n",
      "W_KEIT_KIND_HH: [nan, 3.0, 2.0, 6.0, 5.0, 4.0, 1.0]\n",
      "ARBEIT: [nan, 3.0, 2.0, 4.0, 1.0, 5.0]\n",
      "D19_TELKO_ONLINE_QUOTE_12: [nan, 0.0, 5.0, 7.0, 3.0]\n",
      "D19_VERSI_DATUM: [nan, 2.0, 8.0, 9.0, 6.0, 7.0, 5.0, 1.0, 4.0, 3.0]\n",
      "D19_VERSI_ONLINE_QUOTE_12: [nan, 0.0, 10.0, 5.0, 7.0, 8.0, 6.0, 3.0, 9.0]\n",
      "KBA13_ANTG1: [nan, 2.0, 1.0, 4.0, 3.0, 0.0]\n",
      "KBA13_ANTG2: [nan, 4.0, 3.0, 2.0, 1.0, 0.0]\n",
      "KBA13_ANTG3: [nan, 2.0, 1.0, 0.0, 3.0]\n",
      "KBA13_ANTG4: [nan, 1.0, 0.0, 2.0]\n",
      "KBA13_CCM_1401_2500: [nan, 3.0, 2.0, 1.0, 4.0, 5.0]\n",
      "KBA13_GBZ: [nan, 4.0, 3.0, 5.0, 2.0, 1.0]\n",
      "KBA13_HHZ: [nan, 5.0, 4.0, 3.0, 2.0, 1.0]\n",
      "KBA13_KMH_210: [nan, 4.0, 2.0, 3.0, 5.0, 1.0]\n",
      "\n"
     ]
    }
   ],
   "source": [
    "ordinal_features = feat_info_afer_drop[feat_info_afer_drop['type'] == 'ordinal']['attribute'].tolist()\n",
    "print(ordinal_features)\n",
    "print('\\n')\n",
    "unique_values(azdias[ordinal_features])"
   ]
  },
  {
   "cell_type": "markdown",
   "metadata": {},
   "source": [
    "Fill the missing values with the most frequent value"
   ]
  },
  {
   "cell_type": "code",
   "execution_count": 33,
   "metadata": {
    "ExecuteTime": {
     "end_time": "2019-08-11T16:38:32.543445Z",
     "start_time": "2019-08-11T16:37:25.915508Z"
    }
   },
   "outputs": [],
   "source": [
    "azdias[ordinal_features] = azdias[ordinal_features].fillna(azdias[ordinal_features].mode().iloc[0])\n",
    "azdias[ordinal_features] = azdias[ordinal_features].astype('int8').astype('category')"
   ]
  },
  {
   "cell_type": "markdown",
   "metadata": {},
   "source": [
    "#### Interval features"
   ]
  },
  {
   "cell_type": "code",
   "execution_count": 34,
   "metadata": {
    "ExecuteTime": {
     "end_time": "2019-08-11T16:38:32.627221Z",
     "start_time": "2019-08-11T16:38:32.545440Z"
    }
   },
   "outputs": [
    {
     "name": "stdout",
     "output_type": "stream",
     "text": [
      "['ALTER_HH']\n",
      "\n",
      "\n"
     ]
    },
    {
     "data": {
      "application/vnd.jupyter.widget-view+json": {
       "model_id": "29324702e2bb46d1815d9c5af649b4dc",
       "version_major": 2,
       "version_minor": 0
      },
      "text/plain": [
       "HBox(children=(IntProgress(value=0, max=1), HTML(value='')))"
      ]
     },
     "metadata": {},
     "output_type": "display_data"
    },
    {
     "name": "stdout",
     "output_type": "stream",
     "text": [
      "ALTER_HH: [nan, 17.0, 13.0, 20.0, 10.0, 14.0, 16.0, 21.0, 11.0, 19.0, 15.0, 9.0, 18.0, 8.0, 7.0, 12.0, 4.0, 3.0, 6.0, 5.0, 2.0, 1.0]\n",
      "\n"
     ]
    }
   ],
   "source": [
    "interval_features = feat_info[feat_info['type'] == 'interval']['attribute'].tolist()\n",
    "print(interval_features)\n",
    "print('\\n')\n",
    "unique_values(azdias[interval_features])"
   ]
  },
  {
   "cell_type": "markdown",
   "metadata": {},
   "source": [
    "Fill the missing values with the most frequent value"
   ]
  },
  {
   "cell_type": "code",
   "execution_count": 35,
   "metadata": {
    "ExecuteTime": {
     "end_time": "2019-08-11T16:38:32.779608Z",
     "start_time": "2019-08-11T16:38:32.630213Z"
    }
   },
   "outputs": [],
   "source": [
    "azdias[interval_features] = azdias[interval_features].fillna(azdias[interval_features].mode().iloc[0])\n",
    "azdias[interval_features] = azdias[interval_features].astype('int8').astype('category')"
   ]
  },
  {
   "cell_type": "markdown",
   "metadata": {
    "ExecuteTime": {
     "end_time": "2019-08-11T09:46:39.468767Z",
     "start_time": "2019-08-11T09:46:39.447796Z"
    }
   },
   "source": [
    "#### Numerical features"
   ]
  },
  {
   "cell_type": "code",
   "execution_count": 36,
   "metadata": {
    "ExecuteTime": {
     "end_time": "2019-08-11T16:38:33.124248Z",
     "start_time": "2019-08-11T16:38:32.782602Z"
    }
   },
   "outputs": [
    {
     "name": "stdout",
     "output_type": "stream",
     "text": [
      "['ANZ_HAUSHALTE_AKTIV', 'ANZ_HH_TITEL', 'ANZ_PERSONEN', 'ANZ_TITEL', 'GEBURTSJAHR', 'KBA13_ANZAHL_PKW', 'MIN_GEBAEUDEJAHR', 'ANZ_KINDER', 'ANZ_STATISTISCHE_HAUSHALTE', 'EINGEZOGENAM_HH_JAHR', 'EXTSEL992', 'VERDICHTUNGSRAUM', 'VK_DHT4A', 'VK_DISTANZ', 'VK_ZG11']\n",
      "\n",
      "\n"
     ]
    },
    {
     "data": {
      "application/vnd.jupyter.widget-view+json": {
       "model_id": "65c8e26e2a1b42ba8b5a621bbfecf67f",
       "version_major": 2,
       "version_minor": 0
      },
      "text/plain": [
       "HBox(children=(IntProgress(value=0, max=15), HTML(value='')))"
      ]
     },
     "metadata": {},
     "output_type": "display_data"
    },
    {
     "name": "stdout",
     "output_type": "stream",
     "text": [
      "ANZ_HAUSHALTE_AKTIV: [nan, 11.0, 10.0, 1.0, 3.0, 5.0, 4.0, 6.0, 2.0, 9.0, 0.0, 14.0, 13.0, 8.0, 7.0, 44.0, 25.0, 36.0, 16.0, 272.0, 33.0, 15.0, 12.0, 22.0, 21.0, 20.0, 67.0, 23.0, 18.0, 27.0, 24.0, 31.0, 39.0, 19.0, 30.0, 17.0, 29.0, 61.0, 54.0, 88.0, 49.0, 60.0, 38.0, 34.0, 48.0, 35.0, 62.0, 26.0, 45.0, 42.0, 28.0, 77.0, 47.0, 50.0, 236.0, 137.0, 43.0, 52.0, 41.0, 76.0, 63.0, 32.0, 40.0, 37.0, 59.0, 53.0, 57.0, 118.0, 66.0, 95.0, 78.0, 70.0, 46.0, 185.0, 73.0, 154.0, 80.0, 102.0, 92.0, 126.0, 94.0, 71.0, 68.0, 81.0, 69.0, 121.0, 258.0, 58.0, 86.0, 124.0, 85.0, 90.0, 128.0, 51.0, 72.0, 64.0, 56.0, 83.0, 150.0, 259.0, 91.0, 160.0, 134.0, 169.0, 246.0, 82.0, 114.0, 183.0, 116.0, 74.0, 143.0, 99.0, 216.0, 98.0, 125.0, 112.0, 123.0, 55.0, 120.0, 75.0, 141.0, 103.0, 87.0, 89.0, 223.0, 93.0, 179.0, 135.0, 149.0, 97.0, 101.0, 110.0, 79.0, 111.0, 109.0, 65.0, 84.0, 367.0, 162.0, 195.0, 107.0, 119.0, 331.0, 122.0, 161.0, 157.0, 175.0, 177.0, 136.0, 104.0, 316.0, 127.0, 100.0, 180.0, 155.0, 133.0, 178.0, 176.0, 108.0, 353.0, 131.0, 130.0, 96.0, 256.0, 117.0, 146.0, 211.0, 199.0, 140.0, 200.0, 106.0, 285.0, 263.0, 314.0, 253.0, 163.0, 377.0, 171.0, 148.0, 191.0, 243.0, 153.0, 145.0, 174.0, 172.0, 190.0, 142.0, 317.0, 244.0, 189.0, 286.0, 105.0, 170.0, 215.0, 321.0, 113.0, 115.0, 156.0, 129.0, 242.0, 132.0, 280.0, 159.0, 138.0, 158.0, 267.0, 151.0, 164.0, 187.0, 206.0, 266.0, 265.0, 209.0, 196.0, 139.0, 193.0, 184.0, 210.0, 260.0, 366.0, 194.0, 318.0, 344.0, 277.0, 595.0, 197.0, 247.0, 165.0, 283.0, 326.0, 181.0, 186.0, 438.0, 222.0, 144.0, 378.0, 237.0, 152.0, 208.0, 274.0, 430.0, 202.0, 214.0, 231.0, 219.0, 225.0, 230.0, 198.0, 224.0, 333.0, 168.0, 221.0, 523.0, 254.0, 305.0, 166.0, 252.0, 445.0, 147.0, 301.0, 213.0, 536.0, 220.0, 249.0, 290.0, 515.0, 276.0, 241.0, 204.0, 250.0, 218.0, 226.0, 201.0, 240.0, 404.0, 348.0, 328.0, 228.0, 304.0, 167.0, 346.0, 205.0, 207.0, 293.0, 255.0, 307.0, 414.0, 311.0, 347.0, 379.0, 395.0, 229.0, 232.0]\n",
      "ANZ_HH_TITEL: [nan, 0.0, 1.0, 5.0, 2.0, 3.0, 7.0, 4.0, 6.0, 9.0, 15.0, 14.0, 8.0, 11.0, 10.0, 12.0, 13.0, 20.0, 16.0, 17.0, 23.0, 18.0]\n",
      "ANZ_PERSONEN: [nan, 2.0, 1.0, 0.0, 4.0, 3.0, 5.0, 7.0, 6.0, 8.0, 12.0, 9.0, 21.0, 10.0, 13.0, 11.0, 14.0, 45.0, 20.0, 31.0, 29.0, 37.0, 16.0, 22.0, 15.0, 23.0, 18.0, 35.0, 17.0, 40.0, 38.0]\n",
      "ANZ_TITEL: [nan, 0.0, 1.0, 2.0, 4.0, 3.0, 6.0]\n",
      "GEBURTSJAHR: [nan, 1996.0, 1979.0, 1957.0, 1963.0, 1943.0, 1964.0, 1974.0, 1975.0, 1941.0, 1993.0, 1946.0, 1988.0, 1991.0, 1966.0, 1949.0, 1982.0, 1972.0, 1990.0, 1985.0, 1989.0, 1948.0, 1935.0, 1997.0, 1994.0, 1987.0, 2002.0, 1950.0, 1965.0, 1969.0, 1978.0, 1958.0, 1944.0, 1967.0, 1977.0, 1960.0, 1970.0, 1973.0, 1971.0, 1937.0, 1947.0, 1926.0, 1954.0, 1981.0, 1962.0, 1992.0, 2008.0, 1976.0, 1928.0, 1927.0, 1968.0, 1940.0, 1952.0, 1961.0, 2006.0, 1938.0, 1945.0, 1942.0, 1984.0, 1930.0, 1980.0, 1959.0, 1986.0, 1931.0, 1955.0, 1983.0, 2010.0, 1951.0, 1921.0, 1929.0, 1939.0, 2001.0, 1995.0, 1956.0, 1953.0, 2012.0, 1934.0, 1913.0, 1914.0, 1922.0, 2004.0, 1936.0, 2009.0, 1915.0, 2003.0, 2013.0, 1998.0, 2007.0, 1932.0, 2005.0, 1923.0, 1925.0, 2015.0, 1933.0, 2017.0, 2000.0, 1999.0, 2014.0, 1920.0, 1918.0, 1924.0, 2016.0, 2011.0, 1908.0, 1919.0, 1916.0, 1917.0, 1912.0, 1911.0, 1909.0, 1910.0, 1904.0, 1906.0, 1905.0, 1900.0, 1907.0, 1902.0]\n"
     ]
    },
    {
     "name": "stdout",
     "output_type": "stream",
     "text": [
      "KBA13_ANZAHL_PKW: [nan, 963.0, 712.0, 596.0, 435.0, 1300.0, 867.0, 758.0, 511.0, 530.0, 424.0, 1106.0, 486.0, 876.0, 387.0, 621.0, 694.0, 537.0, 1500.0, 711.0, 545.0, 348.0, 452.0, 439.0, 442.0, 469.0, 670.0, 203.0, 635.0, 309.0, 463.0, 352.0, 524.0, 891.0, 444.0, 652.0, 378.0, 810.0, 594.0, 395.0, 713.0, 584.0, 354.0, 633.0, 961.0, 363.0, 886.0, 385.0, 874.0, 990.0, 666.0, 380.0, 218.0, 847.0, 693.0, 429.0, 423.0, 392.0, 1800.0, 504.0, 632.0, 581.0, 638.0, 1400.0, 1023.0, 546.0, 1114.0, 554.0, 799.0, 738.0, 622.0, 228.0, 578.0, 612.0, 329.0, 229.0, 768.0, 834.0, 556.0, 668.0, 436.0, 565.0, 209.0, 534.0, 994.0, 474.0, 437.0, 958.0, 477.0, 421.0, 127.0, 453.0, 656.0, 681.0, 409.0, 367.0, 311.0, 293.0, 613.0, 526.0, 460.0, 665.0, 520.0, 492.0, 748.0, 625.0, 340.0, 242.0, 611.0, 708.0, 602.0, 1008.0, 716.0, 873.0, 598.0, 1600.0, 763.0, 324.0, 304.0, 896.0, 683.0, 419.0, 797.0, 605.0, 399.0, 615.0, 710.0, 521.0, 563.0, 369.0, 871.0, 657.0, 599.0, 717.0, 595.0, 153.0, 884.0, 1205.0, 473.0, 370.0, 287.0, 669.0, 375.0, 650.0, 618.0, 288.0, 285.0, 319.0, 391.0, 1140.0, 428.0, 137.0, 272.0, 355.0, 188.0, 302.0, 412.0, 487.0, 201.0, 253.0, 512.0, 267.0, 317.0, 368.0, 793.0, 579.0, 342.0, 785.0, 993.0, 255.0, 459.0, 448.0, 283.0, 586.0, 755.0, 888.0, 443.0, 854.0, 779.0, 1196.0, 431.0, 438.0, 215.0, 689.0, 957.0, 890.0, 1216.0, 1900.0, 646.0, 573.0, 280.0, 1092.0, 727.0, 1220.0, 301.0, 418.0, 1066.0, 764.0, 211.0, 451.0, 697.0, 341.0, 1198.0, 746.0, 617.0, 603.0, 1040.0, 308.0, 631.0, 690.0, 372.0, 499.0, 660.0, 700.0, 544.0, 754.0, 833.0, 882.0, 564.0, 356.0, 644.0, 572.0, 384.0, 450.0, 678.0, 259.0, 410.0, 983.0, 290.0, 237.0, 336.0, 420.0, 268.0, 1021.0, 1094.0, 1201.0, 587.0, 1700.0, 536.0, 1013.0, 417.0, 1239.0, 837.0, 458.0, 923.0, 642.0, 398.0, 828.0, 679.0, 540.0, 339.0, 195.0, 1197.0, 249.0, 154.0, 984.0, 734.0, 723.0, 333.0, 714.0, 346.0, 879.0, 918.0, 485.0, 501.0, 480.0, 970.0, 379.0, 682.0, 1165.0, 508.0, 510.0, 1193.0, 292.0, 507.0, 719.0, 607.0, 471.0, 517.0, 482.0, 798.0, 390.0, 1083.0, 359.0, 547.0, 582.0, 778.0, 495.0, 406.0, 569.0, 403.0, 413.0, 506.0, 366.0, 88.0, 701.0, 590.0, 1022.0, 861.0, 560.0, 327.0, 1130.0, 1126.0, 2100.0, 802.0, 745.0, 516.0, 328.0, 503.0, 661.0, 297.0, 571.0, 688.0, 364.0, 807.0, 71.0, 204.0, 969.0, 303.0, 129.0, 757.0, 194.0, 770.0, 1054.0, 489.0, 335.0, 396.0, 916.0, 484.0, 1132.0, 1070.0, 624.0, 230.0, 117.0, 494.0, 686.0, 371.0, 434.0, 558.0, 862.0, 251.0, 479.0, 178.0, 281.0, 277.0, 140.0, 747.0, 575.0, 381.0, 1057.0, 159.0, 672.0, 456.0, 675.0, 561.0, 475.0, 161.0, 236.0, 296.0, 740.0, 185.0, 325.0, 851.0, 744.0, 803.0, 626.0, 496.0, 562.0, 667.0, 320.0, 795.0, 570.0, 343.0, 141.0, 982.0, 731.0, 857.0, 784.0, 362.0, 468.0, 330.0, 488.0, 950.0, 749.0, 973.0, 846.0, 408.0, 627.0, 691.0, 1056.0, 2000.0, 298.0, 449.0, 349.0, 551.0, 252.0, 464.0, 593.0, 692.0, 580.0, 254.0, 559.0, 651.0, 812.0, 685.0, 796.0, 125.0, 233.0, 289.0, 43.0, 1007.0, 411.0, 539.0, 257.0, 109.0, 225.0, 1190.0, 659.0, 1045.0, 839.0, 377.0, 404.0, 620.0, 478.0, 1078.0, 750.0, 528.0, 454.0, 407.0, 337.0, 634.0, 1131.0, 937.0, 1125.0, 766.0, 533.0, 183.0, 608.0, 577.0, 772.0, 250.0, 781.0, 476.0, 724.0, 223.0, 831.0, 345.0, 529.0, 401.0, 756.0, 266.0, 427.0, 1229.0, 938.0, 557.0, 312.0, 247.0, 221.0, 1027.0, 315.0, 739.0, 907.0, 542.0, 525.0, 610.0, 212.0, 466.0, 400.0, 491.0, 498.0, 733.0, 726.0, 641.0, 654.0, 818.0, 840.0, 1188.0, 959.0, 130.0, 231.0, 157.0, 291.0, 197.0, 313.0, 271.0, 326.0, 260.0, 915.0, 344.0, 241.0, 402.0, 1164.0, 902.0, 1080.0, 1127.0, 629.0, 245.0, 307.0, 145.0, 461.0, 532.0, 502.0, 151.0, 481.0, 104.0, 877.0, 531.0, 806.0, 771.0, 900.0, 939.0, 206.0, 234.0, 505.0, 457.0, 966.0, 262.0, 414.0, 175.0, 1042.0, 1046.0, 446.0, 897.0, 925.0, 112.0, 357.0, 405.0, 541.0, 1178.0, 737.0, 497.0, 167.0, 389.0, 1097.0, 568.0, 722.0, 680.0, 299.0, 210.0, 270.0, 817.0, 1137.0, 623.0, 213.0, 1077.0, 196.0, 318.0, 813.0, 455.0, 217.0, 943.0, 316.0, 115.0, 762.0, 752.0, 720.0, 1065.0, 616.0, 310.0, 1232.0, 286.0, 522.0, 263.0, 1019.0, 677.0, 79.0, 1245.0, 515.0, 1016.0, 1151.0, 869.0, 550.0, 415.0, 776.0, 1238.0, 358.0, 162.0, 655.0, 892.0, 1160.0, 216.0, 643.0, 1110.0, 275.0, 150.0, 322.0, 619.0, 519.0, 941.0, 373.0, 214.0, 783.0, 819.0, 567.0, 591.0, 1129.0, 673.0, 715.0, 804.0, 465.0, 702.0, 493.0, 782.0, 597.0, 703.0, 1138.0, 759.0, 640.0, 971.0, 709.0, 549.0, 962.0, 866.0, 741.0, 394.0, 1249.0, 350.0, 1219.0, 2300.0, 509.0, 294.0, 273.0, 997.0, 841.0, 445.0, 647.0, 543.0, 1062.0, 193.0, 523.0, 430.0, 794.0, 527.0, 825.0, 630.0, 1212.0, 246.0, 1068.0, 604.0, 878.0, 174.0, 382.0, 279.0, 500.0, 365.0, 774.0, 126.0, 777.0, 898.0, 351.0, 780.0, 284.0, 1235.0, 416.0, 695.0, 1121.0, 323.0, 467.0, 895.0, 698.0, 718.0, 179.0, 775.0, 863.0, 1154.0, 636.0, 953.0, 968.0, 705.0, 388.0, 1109.0, 765.0, 838.0, 639.0, 919.0, 146.0, 331.0, 386.0, 956.0, 964.0, 433.0, 829.0, 425.0, 589.0, 933.0, 181.0, 671.0, 751.0, 944.0, 94.0, 566.0, 397.0, 725.0, 899.0, 265.0, 103.0, 462.0, 908.0, 653.0, 706.0, 824.0, 553.0, 742.0, 1015.0, 674.0, 1175.0, 860.0, 601.0, 845.0, 332.0, 27.0, 1059.0, 1236.0, 347.0, 875.0, 952.0, 921.0, 1167.0, 393.0, 426.0, 142.0, 222.0, 334.0, 202.0, 849.0, 106.0, 256.0, 374.0, 628.0, 1009.0, 730.0, 269.0, 995.0, 980.0, 1075.0, 585.0, 555.0, 649.0, 809.0, 490.0, 830.0, 936.0, 945.0, 729.0, 1037.0, 44.0, 440.0, 441.0, 121.0, 823.0, 447.0, 376.0, 518.0, 881.0, 951.0, 967.0, 239.0, 1210.0, 704.0, 760.0, 1116.0, 606.0, 305.0, 870.0, 975.0, 1031.0, 128.0, 1250.0, 1028.0, 1090.0, 1024.0, 1089.0, 789.0, 1146.0, 583.0, 989.0, 227.0, 786.0, 548.0, 903.0, 609.0, 1108.0, 282.0, 658.0, 1020.0, 219.0, 928.0, 979.0, 614.0, 826.0, 736.0, 1113.0, 1152.0, 187.0, 814.0, 432.0, 552.0, 926.0, 0.0, 859.0, 1195.0, 535.0, 1215.0, 383.0, 1139.0, 976.0, 946.0, 92.0, 172.0, 63.0, 1099.0, 224.0, 637.0, 155.0, 827.0, 1087.0, 767.0, 306.0, 843.0, 243.0, 198.0, 645.0, 171.0, 207.0, 910.0, 164.0, 483.0, 811.0, 940.0, 885.0, 922.0, 790.0, 1060.0, 1058.0, 821.0, 735.0, 836.0, 648.0, 991.0, 1133.0, 1162.0, 1153.0, 1043.0, 865.0, 707.0, 788.0, 905.0, 1173.0, 800.0, 240.0, 163.0, 108.0, 998.0, 100.0, 842.0, 664.0, 135.0, 1150.0, 1233.0, 1039.0, 238.0, 687.0, 805.0, 422.0, 1088.0, 1117.0, 1230.0, 1017.0, 1102.0, 1049.0, 77.0, 1119.0, 1179.0, 192.0, 220.0, 912.0, 1105.0, 1035.0, 37.0, 930.0, 276.0, 321.0, 773.0, 261.0, 684.0, 761.0, 600.0, 1053.0, 1189.0, 67.0, 935.0, 170.0, 180.0, 91.0, 360.0, 914.0, 893.0, 190.0, 769.0, 852.0, 1096.0, 822.0, 513.0, 166.0, 883.0, 184.0, 1104.0, 858.0, 1246.0, 314.0, 889.0, 248.0, 1082.0, 663.0, 1051.0, 78.0, 894.0, 177.0, 574.0, 576.0, 186.0, 353.0, 232.0, 1223.0, 1052.0, 1217.0, 136.0, 191.0, 835.0, 1243.0, 124.0, 97.0, 165.0, 1172.0, 732.0, 1169.0, 1191.0, 1177.0, 1011.0, 176.0, 96.0, 111.0, 787.0, 1204.0, 1044.0, 1161.0, 1061.0, 538.0, 148.0, 1218.0, 1194.0, 1142.0, 1209.0, 1192.0, 850.0, 924.0, 1149.0, 189.0, 1003.0, 592.0, 791.0, 1128.0, 338.0, 801.0, 89.0, 168.0, 131.0, 107.0, 295.0, 472.0, 147.0, 792.0, 258.0, 949.0, 981.0, 2200.0, 1004.0, 1134.0, 1041.0, 470.0, 1025.0, 927.0, 972.0, 816.0, 182.0, 992.0, 120.0, 300.0, 931.0, 985.0, 588.0, 1006.0, 200.0, 514.0, 1072.0, 264.0, 133.0, 1086.0, 132.0, 909.0, 143.0, 1234.0, 74.0, 226.0, 887.0, 1144.0, 1241.0, 696.0, 743.0, 1203.0, 815.0, 11.0, 1014.0, 95.0, 1101.0, 1084.0, 934.0, 278.0, 1202.0, 965.0, 118.0, 986.0, 134.0, 832.0, 9.0, 1145.0, 1029.0, 361.0, 699.0, 988.0, 753.0, 1159.0, 113.0, 1079.0, 64.0, 156.0, 116.0, 855.0, 955.0, 1107.0, 1098.0, 274.0, 1071.0, 929.0, 101.0, 119.0, 1180.0, 105.0, 901.0, 676.0, 1010.0, 906.0, 39.0, 880.0, 848.0, 1226.0, 87.0, 1018.0, 1214.0, 49.0, 205.0, 1231.0, 1012.0, 853.0, 864.0, 123.0, 977.0, 872.0, 1227.0, 947.0, 114.0, 93.0, 1157.0, 721.0, 974.0, 122.0, 199.0, 1050.0, 1063.0, 244.0, 978.0, 235.0, 1048.0, 1170.0, 1182.0, 160.0, 1123.0, 158.0, 46.0, 1064.0, 1181.0, 169.0, 1136.0, 1163.0, 1069.0, 1091.0, 1206.0, 1005.0, 1213.0, 728.0, 1000.0, 110.0, 1148.0, 1158.0, 1111.0, 987.0, 1085.0, 1115.0, 1135.0, 808.0, 913.0, 102.0, 917.0, 1242.0, 904.0, 152.0, 1122.0, 844.0, 42.0, 53.0, 1112.0, 208.0, 52.0, 820.0, 1176.0, 662.0, 1240.0, 1228.0, 1047.0, 82.0, 868.0, 5.0, 1187.0, 1001.0, 69.0, 1055.0, 1166.0, 1002.0, 144.0, 21.0, 81.0, 1143.0, 138.0, 99.0, 1033.0, 76.0, 1207.0, 1186.0, 954.0, 920.0, 932.0, 999.0, 948.0, 960.0, 1032.0, 1095.0, 1225.0, 1076.0, 149.0, 1067.0, 33.0, 1200.0, 911.0, 72.0, 75.0, 1073.0, 1185.0, 1244.0, 47.0, 1034.0, 98.0, 1155.0, 1208.0, 1147.0, 139.0, 38.0, 51.0, 85.0, 1036.0, 59.0, 1171.0, 1183.0, 173.0, 12.0, 1174.0, 1118.0, 1184.0, 1081.0, 36.0, 1221.0, 1103.0, 18.0, 1038.0, 70.0, 73.0, 86.0, 856.0, 45.0, 68.0, 1124.0, 1224.0, 1030.0, 1100.0, 1199.0, 1141.0, 1168.0, 58.0, 1026.0, 1222.0, 55.0, 1247.0, 80.0, 50.0, 1120.0, 83.0, 61.0, 62.0, 996.0, 24.0, 40.0, 942.0, 90.0, 1237.0, 41.0, 28.0, 84.0, 54.0, 57.0, 1156.0, 35.0, 32.0, 34.0, 56.0, 25.0, 8.0, 65.0, 1093.0, 26.0, 1211.0, 31.0, 23.0, 66.0, 1074.0, 48.0, 60.0, 16.0, 22.0, 19.0, 17.0, 29.0, 10.0, 13.0, 1.0, 3.0, 15.0, 20.0, 14.0, 6.0, 4.0, 2.0, 30.0, 7.0]\n"
     ]
    },
    {
     "name": "stdout",
     "output_type": "stream",
     "text": [
      "MIN_GEBAEUDEJAHR: [nan, 1992.0, 1997.0, 2005.0, 2009.0, 1994.0, 1996.0, 2002.0, 2015.0, 1991.0, 1993.0, 1995.0, 2003.0, 2014.0, 2008.0, 2006.0, 2000.0, 1990.0, 2004.0, 1999.0, 1998.0, 2001.0, 2007.0, 2013.0, 1989.0, 2011.0, 2012.0, 2010.0, 1987.0, 1988.0, 1985.0, 2016.0, 1986.0]\n",
      "ANZ_KINDER: [nan, 0.0, 1.0, 2.0, 3.0, 4.0, 5.0, 6.0, 9.0, 7.0, 11.0, 8.0]\n",
      "ANZ_STATISTISCHE_HAUSHALTE: [nan, 12.0, 7.0, 2.0, 3.0, 5.0, 6.0, 1.0, 14.0, 4.0, 11.0, 13.0, 30.0, 22.0, 36.0, 244.0, 10.0, 32.0, 8.0, 9.0, 18.0, 17.0, 16.0, 67.0, 19.0, 15.0, 26.0, 20.0, 23.0, 33.0, 34.0, 68.0, 53.0, 21.0, 42.0, 57.0, 28.0, 25.0, 60.0, 35.0, 29.0, 43.0, 64.0, 27.0, 46.0, 24.0, 48.0, 31.0, 56.0, 37.0, 243.0, 157.0, 39.0, 40.0, 71.0, 63.0, 38.0, 44.0, 50.0, 101.0, 66.0, 41.0, 81.0, 47.0, 192.0, 131.0, 149.0, 74.0, 84.0, 80.0, 137.0, 45.0, 94.0, 65.0, 54.0, 87.0, 69.0, 125.0, 61.0, 82.0, 73.0, 72.0, 86.0, 292.0, 70.0, 83.0, 91.0, 112.0, 58.0, 51.0, 75.0, 52.0, 90.0, 140.0, 49.0, 212.0, 79.0, 152.0, 142.0, 166.0, 251.0, 99.0, 107.0, 76.0, 173.0, 89.0, 138.0, 92.0, 154.0, 115.0, 100.0, 55.0, 116.0, 88.0, 113.0, 162.0, 95.0, 168.0, 62.0, 97.0, 110.0, 127.0, 102.0, 93.0, 103.0, 78.0, 111.0, 114.0, 77.0, 98.0, 365.0, 146.0, 109.0, 59.0, 108.0, 289.0, 130.0, 85.0, 119.0, 159.0, 183.0, 117.0, 303.0, 96.0, 124.0, 163.0, 123.0, 122.0, 156.0, 155.0, 0.0, 319.0, 104.0, 223.0, 105.0, 128.0, 217.0, 129.0, 170.0, 218.0, 367.0, 253.0, 132.0, 328.0, 126.0, 193.0, 133.0, 153.0, 118.0, 121.0, 233.0, 143.0, 229.0, 134.0, 256.0, 180.0, 106.0, 202.0, 120.0, 136.0, 148.0, 204.0, 245.0, 135.0, 164.0, 248.0, 150.0, 160.0, 147.0, 139.0, 189.0, 195.0, 187.0, 269.0, 179.0, 174.0, 161.0, 225.0, 314.0, 158.0, 141.0, 167.0, 353.0, 354.0, 284.0, 258.0, 234.0, 194.0, 264.0, 145.0, 239.0, 238.0, 144.0, 235.0, 369.0, 257.0, 227.0, 184.0, 296.0, 317.0, 240.0, 213.0, 169.0, 199.0, 222.0, 230.0, 274.0, 181.0, 197.0, 237.0, 252.0, 309.0, 339.0, 262.0, 366.0, 177.0, 241.0, 175.0, 304.0, 186.0, 178.0, 176.0, 172.0, 200.0, 216.0, 182.0, 205.0, 228.0, 336.0, 445.0, 242.0, 299.0, 151.0, 203.0, 185.0, 268.0, 214.0, 286.0, 322.0, 198.0, 449.0, 165.0, 190.0, 297.0, 209.0, 342.0, 375.0, 371.0, 171.0]\n",
      "EINGEZOGENAM_HH_JAHR: [nan, 2004.0, 2000.0, 1998.0, 1994.0, 2005.0, 2007.0, 2009.0, 2016.0, 2014.0, 2015.0, 2013.0, 2008.0, 2010.0, 2001.0, 2002.0, 1997.0, 2012.0, 1992.0, 1999.0, 1996.0, 1995.0, 2011.0, 2003.0, 2006.0, 1991.0, 2017.0, 1993.0, 2018.0, 1989.0, 1990.0, 1987.0, 1986.0, 1988.0, 1900.0, 1904.0, 1971.0, 1984.0]\n",
      "EXTSEL992: [nan, 14.0, 31.0, 20.0, 56.0, 53.0, 27.0, 54.0, 6.0, 25.0, 48.0, 55.0, 36.0, 34.0, 35.0, 18.0, 38.0, 32.0, 29.0, 41.0, 43.0, 22.0, 19.0, 24.0, 23.0, 8.0, 21.0, 37.0, 7.0, 3.0, 39.0, 12.0, 15.0, 17.0, 4.0, 9.0, 44.0, 50.0, 13.0, 33.0, 42.0, 49.0, 1.0, 30.0, 10.0, 45.0, 26.0, 16.0, 28.0, 47.0, 2.0, 46.0, 11.0, 40.0, 51.0, 52.0, 5.0]\n",
      "VERDICHTUNGSRAUM: [nan, 0.0, 1.0, 35.0, 3.0, 7.0, 23.0, 4.0, 8.0, 13.0, 16.0, 25.0, 5.0, 21.0, 6.0, 15.0, 32.0, 42.0, 31.0, 11.0, 33.0, 22.0, 30.0, 18.0, 12.0, 27.0, 2.0, 9.0, 28.0, 10.0, 14.0, 20.0, 17.0, 43.0, 19.0, 24.0, 34.0, 40.0, 39.0, 29.0, 26.0, 44.0, 45.0, 37.0, 36.0, 41.0, 38.0]\n",
      "VK_DHT4A: [nan, 8.0, 9.0, 7.0, 3.0, 10.0, 1.0, 6.0, 4.0, 2.0, 5.0, 11.0]\n",
      "VK_DISTANZ: [nan, 11.0, 9.0, 10.0, 5.0, 7.0, 12.0, 1.0, 6.0, 13.0, 8.0, 4.0, 3.0, 2.0]\n",
      "VK_ZG11: [nan, 10.0, 6.0, 11.0, 4.0, 9.0, 8.0, 1.0, 3.0, 7.0, 5.0, 2.0]\n",
      "\n"
     ]
    }
   ],
   "source": [
    "numeric_features = feat_info[feat_info['type'] == 'numeric']['attribute'].tolist()\n",
    "print(numeric_features)\n",
    "print('\\n')\n",
    "unique_values(azdias[numeric_features])"
   ]
  },
  {
   "cell_type": "markdown",
   "metadata": {
    "slideshow": {
     "slide_type": "fragment"
    }
   },
   "source": [
    "Fill the missing values with the median"
   ]
  },
  {
   "cell_type": "code",
   "execution_count": 37,
   "metadata": {
    "ExecuteTime": {
     "end_time": "2019-08-11T16:38:33.884797Z",
     "start_time": "2019-08-11T16:38:33.125246Z"
    }
   },
   "outputs": [],
   "source": [
    "azdias[numeric_features] = azdias[numeric_features].fillna(azdias[numeric_features].median())\n",
    "azdias[numeric_features] = azdias[numeric_features].astype('int32')"
   ]
  },
  {
   "cell_type": "markdown",
   "metadata": {
    "ExecuteTime": {
     "end_time": "2019-08-11T20:00:21.233493Z",
     "start_time": "2019-08-11T20:00:21.230524Z"
    }
   },
   "source": [
    "### Exploratory Visualization"
   ]
  },
  {
   "cell_type": "markdown",
   "metadata": {},
   "source": [
    "Number of features per information level"
   ]
  },
  {
   "cell_type": "code",
   "execution_count": 164,
   "metadata": {
    "ExecuteTime": {
     "end_time": "2019-08-11T20:01:41.447355Z",
     "start_time": "2019-08-11T20:01:41.199981Z"
    }
   },
   "outputs": [
    {
     "data": {
      "text/plain": [
       "<matplotlib.axes._subplots.AxesSubplot at 0x1e98ac2ecf8>"
      ]
     },
     "execution_count": 164,
     "metadata": {},
     "output_type": "execute_result"
    },
    {
     "data": {
      "image/png": "[encoded data removed]",
      "text/plain": [
       "<Figure size 1080x360 with 1 Axes>"
      ]
     },
     "metadata": {
      "needs_background": "light"
     },
     "output_type": "display_data"
    }
   ],
   "source": [
    "fig, ax = plt.subplots(figsize=(15,5))\n",
    "sns.countplot(x='information_level', data=feat_info, ax=ax)"
   ]
  },
  {
   "cell_type": "code",
   "execution_count": 165,
   "metadata": {
    "ExecuteTime": {
     "end_time": "2019-08-11T20:02:05.279151Z",
     "start_time": "2019-08-11T20:02:05.273177Z"
    }
   },
   "outputs": [],
   "source": [
    "def heatmap(x, y, size):\n",
    "    fig, ax = plt.subplots(figsize=(20,20))\n",
    "    \n",
    "    # Mapping from column names to integer coordinates\n",
    "    x_labels = [v for v in sorted(x.unique())]\n",
    "    y_labels = [v for v in sorted(y.unique())]\n",
    "    x_to_num = {p[1]:p[0] for p in enumerate(x_labels)} \n",
    "    y_to_num = {p[1]:p[0] for p in enumerate(y_labels)} \n",
    "    \n",
    "    size_scale = 500\n",
    "    ax.scatter(\n",
    "        x=x.map(x_to_num), # Use mapping for x\n",
    "        y=y.map(y_to_num), # Use mapping for y\n",
    "        s=size * size_scale, # Vector of square sizes, proportional to size parameter\n",
    "        marker='s' # Use square as scatterplot marker\n",
    "    )\n",
    "    \n",
    "    # Show column labels on the axes\n",
    "    ax.set_xticks([x_to_num[v] for v in x_labels])\n",
    "    ax.set_xticklabels(x_labels, rotation=45, horizontalalignment='right')\n",
    "    ax.set_yticks([y_to_num[v] for v in y_labels])\n",
    "    ax.set_yticklabels(y_labels)\n",
    "    \n",
    "    return fig"
   ]
  },
  {
   "cell_type": "code",
   "execution_count": 168,
   "metadata": {
    "ExecuteTime": {
     "end_time": "2019-08-11T20:04:20.383465Z",
     "start_time": "2019-08-11T20:04:14.893041Z"
    }
   },
   "outputs": [],
   "source": [
    "azdias_numeric = azdias.drop(['LNR', 'CAMEO_DEU_2015'], axis=1).astype('int32')"
   ]
  },
  {
   "cell_type": "markdown",
   "metadata": {
    "heading_collapsed": true
   },
   "source": [
    "#### Person related features correlation"
   ]
  },
  {
   "cell_type": "code",
   "execution_count": 147,
   "metadata": {
    "ExecuteTime": {
     "end_time": "2019-08-11T19:51:01.637181Z",
     "start_time": "2019-08-11T19:51:01.633224Z"
    },
    "hidden": true
   },
   "outputs": [],
   "source": [
    "person_level_columns = feat_info[feat_info['information_level']=='person']['attribute'].tolist()"
   ]
  },
  {
   "cell_type": "code",
   "execution_count": 160,
   "metadata": {
    "ExecuteTime": {
     "end_time": "2019-08-11T19:58:55.320501Z",
     "start_time": "2019-08-11T19:58:46.550957Z"
    },
    "hidden": true
   },
   "outputs": [],
   "source": [
    "corr = azdias_numeric[person_level_columns].corr()\n",
    "corr = pd.melt(corr.reset_index(), id_vars='index') # Unpivot the dataframe, so we can get pair of arrays for x and y\n",
    "corr.columns = ['x', 'y', 'value']"
   ]
  },
  {
   "cell_type": "code",
   "execution_count": 166,
   "metadata": {
    "ExecuteTime": {
     "end_time": "2019-08-11T20:02:28.753177Z",
     "start_time": "2019-08-11T20:02:27.593313Z"
    },
    "hidden": true
   },
   "outputs": [
    {
     "data": {
      "image/png": "[encoded data removed]",
      "text/plain": [
       "<Figure size 1440x1440 with 1 Axes>"
      ]
     },
     "metadata": {
      "needs_background": "light"
     },
     "output_type": "display_data"
    }
   ],
   "source": [
    "fig = heatmap(\n",
    "    x=corr['x'],\n",
    "    y=corr['y'],\n",
    "    size=corr['value'].abs()\n",
    ")\n",
    "fig.savefig('person_level_correlation.png', dpi=fig.dpi)"
   ]
  },
  {
   "cell_type": "markdown",
   "metadata": {
    "heading_collapsed": true
   },
   "source": [
    "#### Household related features correlation"
   ]
  },
  {
   "cell_type": "code",
   "execution_count": 167,
   "metadata": {
    "ExecuteTime": {
     "end_time": "2019-08-11T20:03:58.052023Z",
     "start_time": "2019-08-11T20:03:58.047036Z"
    },
    "hidden": true
   },
   "outputs": [],
   "source": [
    "household_level_columns = feat_info[feat_info['information_level']=='household']['attribute'].tolist()"
   ]
  },
  {
   "cell_type": "code",
   "execution_count": 169,
   "metadata": {
    "ExecuteTime": {
     "end_time": "2019-08-11T20:04:31.193516Z",
     "start_time": "2019-08-11T20:04:29.772319Z"
    },
    "hidden": true
   },
   "outputs": [],
   "source": [
    "corr = azdias_numeric[household_level_columns].corr()\n",
    "corr = pd.melt(corr.reset_index(), id_vars='index') # Unpivot the dataframe, so we can get pair of arrays for x and y\n",
    "corr.columns = ['x', 'y', 'value']"
   ]
  },
  {
   "cell_type": "code",
   "execution_count": 170,
   "metadata": {
    "ExecuteTime": {
     "end_time": "2019-08-11T20:04:42.261753Z",
     "start_time": "2019-08-11T20:04:41.302332Z"
    },
    "hidden": true
   },
   "outputs": [
    {
     "data": {
      "image/png": "[encoded data removed]",
      "text/plain": [
       "<Figure size 1440x1440 with 1 Axes>"
      ]
     },
     "metadata": {
      "needs_background": "light"
     },
     "output_type": "display_data"
    }
   ],
   "source": [
    "fig = heatmap(\n",
    "    x=corr['x'],\n",
    "    y=corr['y'],\n",
    "    size=corr['value'].abs()\n",
    ")\n",
    "fig.savefig('household_level_correlation.png', dpi=fig.dpi)"
   ]
  },
  {
   "cell_type": "markdown",
   "metadata": {
    "heading_collapsed": true
   },
   "source": [
    "#### Building related features correlation"
   ]
  },
  {
   "cell_type": "code",
   "execution_count": 171,
   "metadata": {
    "ExecuteTime": {
     "end_time": "2019-08-11T20:06:29.740307Z",
     "start_time": "2019-08-11T20:06:29.735352Z"
    },
    "hidden": true
   },
   "outputs": [],
   "source": [
    "building_level_columns = feat_info[feat_info['information_level']=='building']['attribute'].tolist()"
   ]
  },
  {
   "cell_type": "code",
   "execution_count": 172,
   "metadata": {
    "ExecuteTime": {
     "end_time": "2019-08-11T20:06:40.203315Z",
     "start_time": "2019-08-11T20:06:39.977920Z"
    },
    "hidden": true
   },
   "outputs": [],
   "source": [
    "corr = azdias_numeric[building_level_columns].corr()\n",
    "corr = pd.melt(corr.reset_index(), id_vars='index') # Unpivot the dataframe, so we can get pair of arrays for x and y\n",
    "corr.columns = ['x', 'y', 'value']"
   ]
  },
  {
   "cell_type": "code",
   "execution_count": 173,
   "metadata": {
    "ExecuteTime": {
     "end_time": "2019-08-11T20:07:04.285888Z",
     "start_time": "2019-08-11T20:07:03.880972Z"
    },
    "hidden": true
   },
   "outputs": [
    {
     "data": {
      "image/png": "[encoded data removed]",
      "text/plain": [
       "<Figure size 1440x1440 with 1 Axes>"
      ]
     },
     "metadata": {
      "needs_background": "light"
     },
     "output_type": "display_data"
    }
   ],
   "source": [
    "fig = heatmap(\n",
    "    x=corr['x'],\n",
    "    y=corr['y'],\n",
    "    size=corr['value'].abs()\n",
    ")\n",
    "fig.savefig('building_level_columns_level_correlation.png', dpi=fig.dpi)"
   ]
  },
  {
   "cell_type": "markdown",
   "metadata": {},
   "source": [
    "## Preprocessing Pipeline"
   ]
  },
  {
   "cell_type": "markdown",
   "metadata": {},
   "source": [
    "Now we put all the preprocessing steps inside a pipeline so we can apply it in one go"
   ]
  },
  {
   "cell_type": "markdown",
   "metadata": {},
   "source": [
    "### Parse Pipeline"
   ]
  },
  {
   "cell_type": "code",
   "execution_count": 4,
   "metadata": {
    "ExecuteTime": {
     "end_time": "2019-08-11T20:38:10.507256Z",
     "start_time": "2019-08-11T20:38:10.502269Z"
    }
   },
   "outputs": [],
   "source": [
    "parse_pipeline = Pipeline( steps = [('parse_missing', MissingOrUnknownParser(feat_info)),\n",
    "                                    ('drop_features', FeatureSelector(features_to_drop, exclude=True))])"
   ]
  },
  {
   "cell_type": "markdown",
   "metadata": {},
   "source": [
    "### Categorical Pipeline"
   ]
  },
  {
   "cell_type": "code",
   "execution_count": 5,
   "metadata": {
    "ExecuteTime": {
     "end_time": "2019-08-11T20:38:13.269682Z",
     "start_time": "2019-08-11T20:38:13.266361Z"
    }
   },
   "outputs": [],
   "source": [
    "categorical_pipeline = Pipeline( steps = [( 'cat_transformer', CategoricalTransformer()), \n",
    "                                          ( 'one_hot_encoder', OneHotEncoder(categories='auto', sparse = False, handle_unknown='ignore' ))])"
   ]
  },
  {
   "cell_type": "markdown",
   "metadata": {},
   "source": [
    "### Ordinal Pipeline"
   ]
  },
  {
   "cell_type": "code",
   "execution_count": 6,
   "metadata": {
    "ExecuteTime": {
     "end_time": "2019-08-11T20:38:16.176395Z",
     "start_time": "2019-08-11T20:38:16.172395Z"
    }
   },
   "outputs": [],
   "source": [
    "ordinal_pipeline = Pipeline( steps = [('imputer', SimpleImputer(missing_values=np.nan, strategy = 'most_frequent'))])"
   ]
  },
  {
   "cell_type": "markdown",
   "metadata": {},
   "source": [
    "### Numerical Pipeline"
   ]
  },
  {
   "cell_type": "code",
   "execution_count": 7,
   "metadata": {
    "ExecuteTime": {
     "end_time": "2019-08-11T20:38:19.155156Z",
     "start_time": "2019-08-11T20:38:19.150169Z"
    }
   },
   "outputs": [],
   "source": [
    "numerical_pipeline = Pipeline( steps = [('imputer', SimpleImputer(missing_values=np.nan, strategy = 'median')), \n",
    "                                        ('std_scaler', StandardScaler())])"
   ]
  },
  {
   "cell_type": "markdown",
   "metadata": {},
   "source": [
    "### Passthrough Pipeline"
   ]
  },
  {
   "cell_type": "code",
   "execution_count": 8,
   "metadata": {
    "ExecuteTime": {
     "end_time": "2019-08-11T20:38:21.875191Z",
     "start_time": "2019-08-11T20:38:21.871202Z"
    }
   },
   "outputs": [],
   "source": [
    "passthrough_pipeline = Pipeline( steps = [( 'passthrough_transformer', PassthroughTransformer())])"
   ]
  },
  {
   "cell_type": "markdown",
   "metadata": {},
   "source": [
    "### Transform Pipeline"
   ]
  },
  {
   "cell_type": "code",
   "execution_count": 9,
   "metadata": {
    "ExecuteTime": {
     "end_time": "2019-08-11T20:38:24.678850Z",
     "start_time": "2019-08-11T20:38:24.673864Z"
    }
   },
   "outputs": [],
   "source": [
    "transform_pipeline = ColumnTransformer(transformers=[('categorical_pipeline', categorical_pipeline, categorical_features),\n",
    "                                                     ('ordinal_pipeline', ordinal_pipeline, ordinal_features),\n",
    "                                                     ('numerical_pipeline', numerical_pipeline, numeric_features),\n",
    "                                                     ('passthrough_pipeline', passthrough_pipeline, passthrough_features)\n",
    "                                                    ])"
   ]
  },
  {
   "cell_type": "markdown",
   "metadata": {},
   "source": [
    "### Clean Pipeline"
   ]
  },
  {
   "cell_type": "code",
   "execution_count": 10,
   "metadata": {
    "ExecuteTime": {
     "end_time": "2019-08-11T20:38:27.711439Z",
     "start_time": "2019-08-11T20:38:27.706453Z"
    }
   },
   "outputs": [],
   "source": [
    "clean_pipeline = Pipeline(steps = [('parse_pipeline', parse_pipeline), \n",
    "                                   ('transform_pipeline', transform_pipeline)])"
   ]
  },
  {
   "cell_type": "markdown",
   "metadata": {},
   "source": [
    "### Running the Pipeline"
   ]
  },
  {
   "cell_type": "markdown",
   "metadata": {},
   "source": [
    "Apply feature scaling to the general population demographics data"
   ]
  },
  {
   "cell_type": "code",
   "execution_count": 11,
   "metadata": {
    "ExecuteTime": {
     "end_time": "2019-08-11T20:48:01.783877Z",
     "start_time": "2019-08-11T20:38:31.144008Z"
    }
   },
   "outputs": [],
   "source": [
    "azdias = clean_pipeline.fit_transform(azdias)"
   ]
  },
  {
   "cell_type": "markdown",
   "metadata": {},
   "source": [
    "Put the features back"
   ]
  },
  {
   "cell_type": "code",
   "execution_count": 12,
   "metadata": {
    "ExecuteTime": {
     "end_time": "2019-08-11T20:48:02.620607Z",
     "start_time": "2019-08-11T20:48:02.599662Z"
    }
   },
   "outputs": [
    {
     "data": {
      "text/html": [
       "<div>\n",
       "<style scoped>\n",
       "    .dataframe tbody tr th:only-of-type {\n",
       "        vertical-align: middle;\n",
       "    }\n",
       "\n",
       "    .dataframe tbody tr th {\n",
       "        vertical-align: top;\n",
       "    }\n",
       "\n",
       "    .dataframe thead th {\n",
       "        text-align: right;\n",
       "    }\n",
       "</style>\n",
       "<table border=\"1\" class=\"dataframe\">\n",
       "  <thead>\n",
       "    <tr style=\"text-align: right;\">\n",
       "      <th></th>\n",
       "      <th>ANREDE_KZ_1</th>\n",
       "      <th>ANREDE_KZ_2</th>\n",
       "      <th>CAMEO_DEUG_2015_1</th>\n",
       "      <th>CAMEO_DEUG_2015_2</th>\n",
       "      <th>CAMEO_DEUG_2015_3</th>\n",
       "      <th>CAMEO_DEUG_2015_4</th>\n",
       "      <th>CAMEO_DEUG_2015_5</th>\n",
       "      <th>CAMEO_DEUG_2015_6</th>\n",
       "      <th>CAMEO_DEUG_2015_7</th>\n",
       "      <th>CAMEO_DEUG_2015_8</th>\n",
       "      <th>...</th>\n",
       "      <th>MIN_GEBAEUDEJAHR</th>\n",
       "      <th>ANZ_KINDER</th>\n",
       "      <th>ANZ_STATISTISCHE_HAUSHALTE</th>\n",
       "      <th>EINGEZOGENAM_HH_JAHR</th>\n",
       "      <th>EXTSEL992</th>\n",
       "      <th>VERDICHTUNGSRAUM</th>\n",
       "      <th>VK_DHT4A</th>\n",
       "      <th>VK_DISTANZ</th>\n",
       "      <th>VK_ZG11</th>\n",
       "      <th>LNR</th>\n",
       "    </tr>\n",
       "  </thead>\n",
       "  <tbody>\n",
       "    <tr>\n",
       "      <th>0</th>\n",
       "      <td>1.0</td>\n",
       "      <td>0.0</td>\n",
       "      <td>0.0</td>\n",
       "      <td>0.0</td>\n",
       "      <td>0.0</td>\n",
       "      <td>0.0</td>\n",
       "      <td>0.0</td>\n",
       "      <td>0.0</td>\n",
       "      <td>0.0</td>\n",
       "      <td>1.0</td>\n",
       "      <td>...</td>\n",
       "      <td>-0.359845</td>\n",
       "      <td>-0.292527</td>\n",
       "      <td>-0.302057</td>\n",
       "      <td>-0.098898</td>\n",
       "      <td>0.023455</td>\n",
       "      <td>-0.395656</td>\n",
       "      <td>-0.000407</td>\n",
       "      <td>0.137664</td>\n",
       "      <td>0.018645</td>\n",
       "      <td>910215.0</td>\n",
       "    </tr>\n",
       "    <tr>\n",
       "      <th>1</th>\n",
       "      <td>0.0</td>\n",
       "      <td>1.0</td>\n",
       "      <td>0.0</td>\n",
       "      <td>0.0</td>\n",
       "      <td>0.0</td>\n",
       "      <td>0.0</td>\n",
       "      <td>0.0</td>\n",
       "      <td>0.0</td>\n",
       "      <td>0.0</td>\n",
       "      <td>1.0</td>\n",
       "      <td>...</td>\n",
       "      <td>-0.359845</td>\n",
       "      <td>-0.292527</td>\n",
       "      <td>0.357993</td>\n",
       "      <td>0.048946</td>\n",
       "      <td>0.023455</td>\n",
       "      <td>-0.519516</td>\n",
       "      <td>0.731728</td>\n",
       "      <td>1.102566</td>\n",
       "      <td>1.527603</td>\n",
       "      <td>910220.0</td>\n",
       "    </tr>\n",
       "    <tr>\n",
       "      <th>2</th>\n",
       "      <td>0.0</td>\n",
       "      <td>1.0</td>\n",
       "      <td>0.0</td>\n",
       "      <td>0.0</td>\n",
       "      <td>0.0</td>\n",
       "      <td>1.0</td>\n",
       "      <td>0.0</td>\n",
       "      <td>0.0</td>\n",
       "      <td>0.0</td>\n",
       "      <td>0.0</td>\n",
       "      <td>...</td>\n",
       "      <td>-0.359845</td>\n",
       "      <td>-0.292527</td>\n",
       "      <td>-0.008701</td>\n",
       "      <td>-0.542432</td>\n",
       "      <td>-2.641994</td>\n",
       "      <td>-0.395656</td>\n",
       "      <td>1.097796</td>\n",
       "      <td>0.459298</td>\n",
       "      <td>0.018645</td>\n",
       "      <td>910225.0</td>\n",
       "    </tr>\n",
       "    <tr>\n",
       "      <th>3</th>\n",
       "      <td>0.0</td>\n",
       "      <td>1.0</td>\n",
       "      <td>0.0</td>\n",
       "      <td>1.0</td>\n",
       "      <td>0.0</td>\n",
       "      <td>0.0</td>\n",
       "      <td>0.0</td>\n",
       "      <td>0.0</td>\n",
       "      <td>0.0</td>\n",
       "      <td>0.0</td>\n",
       "      <td>...</td>\n",
       "      <td>1.213535</td>\n",
       "      <td>-0.292527</td>\n",
       "      <td>-0.375395</td>\n",
       "      <td>-0.838120</td>\n",
       "      <td>-0.376363</td>\n",
       "      <td>-0.519516</td>\n",
       "      <td>0.365661</td>\n",
       "      <td>0.780932</td>\n",
       "      <td>1.904842</td>\n",
       "      <td>910226.0</td>\n",
       "    </tr>\n",
       "    <tr>\n",
       "      <th>4</th>\n",
       "      <td>1.0</td>\n",
       "      <td>0.0</td>\n",
       "      <td>0.0</td>\n",
       "      <td>0.0</td>\n",
       "      <td>0.0</td>\n",
       "      <td>0.0</td>\n",
       "      <td>0.0</td>\n",
       "      <td>1.0</td>\n",
       "      <td>0.0</td>\n",
       "      <td>0.0</td>\n",
       "      <td>...</td>\n",
       "      <td>-0.359845</td>\n",
       "      <td>-0.292527</td>\n",
       "      <td>-0.302057</td>\n",
       "      <td>0.048946</td>\n",
       "      <td>0.023455</td>\n",
       "      <td>-0.395656</td>\n",
       "      <td>-1.098609</td>\n",
       "      <td>-0.827238</td>\n",
       "      <td>-0.735833</td>\n",
       "      <td>910241.0</td>\n",
       "    </tr>\n",
       "  </tbody>\n",
       "</table>\n",
       "<p>5 rows × 686 columns</p>\n",
       "</div>"
      ],
      "text/plain": [
       "   ANREDE_KZ_1  ANREDE_KZ_2  CAMEO_DEUG_2015_1  CAMEO_DEUG_2015_2  \\\n",
       "0          1.0          0.0                0.0                0.0   \n",
       "1          0.0          1.0                0.0                0.0   \n",
       "2          0.0          1.0                0.0                0.0   \n",
       "3          0.0          1.0                0.0                1.0   \n",
       "4          1.0          0.0                0.0                0.0   \n",
       "\n",
       "   CAMEO_DEUG_2015_3  CAMEO_DEUG_2015_4  CAMEO_DEUG_2015_5  CAMEO_DEUG_2015_6  \\\n",
       "0                0.0                0.0                0.0                0.0   \n",
       "1                0.0                0.0                0.0                0.0   \n",
       "2                0.0                1.0                0.0                0.0   \n",
       "3                0.0                0.0                0.0                0.0   \n",
       "4                0.0                0.0                0.0                1.0   \n",
       "\n",
       "   CAMEO_DEUG_2015_7  CAMEO_DEUG_2015_8  ...  MIN_GEBAEUDEJAHR  ANZ_KINDER  \\\n",
       "0                0.0                1.0  ...         -0.359845   -0.292527   \n",
       "1                0.0                1.0  ...         -0.359845   -0.292527   \n",
       "2                0.0                0.0  ...         -0.359845   -0.292527   \n",
       "3                0.0                0.0  ...          1.213535   -0.292527   \n",
       "4                0.0                0.0  ...         -0.359845   -0.292527   \n",
       "\n",
       "   ANZ_STATISTISCHE_HAUSHALTE  EINGEZOGENAM_HH_JAHR  EXTSEL992  \\\n",
       "0                   -0.302057             -0.098898   0.023455   \n",
       "1                    0.357993              0.048946   0.023455   \n",
       "2                   -0.008701             -0.542432  -2.641994   \n",
       "3                   -0.375395             -0.838120  -0.376363   \n",
       "4                   -0.302057              0.048946   0.023455   \n",
       "\n",
       "   VERDICHTUNGSRAUM  VK_DHT4A  VK_DISTANZ   VK_ZG11       LNR  \n",
       "0         -0.395656 -0.000407    0.137664  0.018645  910215.0  \n",
       "1         -0.519516  0.731728    1.102566  1.527603  910220.0  \n",
       "2         -0.395656  1.097796    0.459298  0.018645  910225.0  \n",
       "3         -0.519516  0.365661    0.780932  1.904842  910226.0  \n",
       "4         -0.395656 -1.098609   -0.827238 -0.735833  910241.0  \n",
       "\n",
       "[5 rows x 686 columns]"
      ]
     },
     "execution_count": 12,
     "metadata": {},
     "output_type": "execute_result"
    }
   ],
   "source": [
    "transformed_pipeline = clean_pipeline.named_steps['transform_pipeline'].transformers_[0][1]\n",
    "\n",
    "final_categorical_features = transformed_pipeline.named_steps['cat_transformer'].get_feature_names()\n",
    "one_hot_encoded_features = clean_pipeline.named_steps['transform_pipeline'].transformers_[0][1].named_steps['one_hot_encoder'].get_feature_names(final_categorical_features).tolist()\n",
    "\n",
    "all_features = one_hot_encoded_features + ordinal_features + numeric_features + passthrough_features\n",
    "\n",
    "azdias = pd.DataFrame(azdias, columns=all_features)\n",
    "azdias.head()"
   ]
  },
  {
   "cell_type": "code",
   "execution_count": 13,
   "metadata": {
    "ExecuteTime": {
     "end_time": "2019-08-11T20:48:08.183207Z",
     "start_time": "2019-08-11T20:48:08.165254Z"
    }
   },
   "outputs": [
    {
     "name": "stdout",
     "output_type": "stream",
     "text": [
      "<class 'pandas.core.frame.DataFrame'>\n",
      "RangeIndex: 891221 entries, 0 to 891220\n",
      "Columns: 686 entries, ANREDE_KZ_1 to LNR\n",
      "dtypes: float64(686)\n",
      "memory usage: 4.6 GB\n"
     ]
    }
   ],
   "source": [
    "azdias.info()"
   ]
  },
  {
   "cell_type": "code",
   "execution_count": 14,
   "metadata": {
    "ExecuteTime": {
     "end_time": "2019-08-11T20:56:11.526284Z",
     "start_time": "2019-08-11T20:48:37.762042Z"
    }
   },
   "outputs": [
    {
     "name": "stdout",
     "output_type": "stream",
     "text": [
      "Memory usage of dataframe:  4664.4410400390625  MB\n"
     ]
    },
    {
     "data": {
      "application/vnd.jupyter.widget-view+json": {
       "model_id": "de0f72b6269e4ab0be8478ca40027df7",
       "version_major": 2,
       "version_minor": 0
      },
      "text/plain": [
       "HBox(children=(IntProgress(value=0, max=686), HTML(value='')))"
      ]
     },
     "metadata": {},
     "output_type": "display_data"
    },
    {
     "name": "stdout",
     "output_type": "stream",
     "text": [
      "\n",
      "___MEMORY USAGE AFTER COMPLETION:___\n",
      "Memory usage is: 623.8520565032959 MB\n",
      "This is 13.37% of the initial size\n"
     ]
    }
   ],
   "source": [
    "azdias, _ = reduce_mem_usage(azdias)"
   ]
  },
  {
   "cell_type": "markdown",
   "metadata": {},
   "source": [
    "Save the processed data frame"
   ]
  },
  {
   "cell_type": "code",
   "execution_count": 17,
   "metadata": {
    "ExecuteTime": {
     "end_time": "2019-08-11T21:05:22.853240Z",
     "start_time": "2019-08-11T21:04:51.005324Z"
    }
   },
   "outputs": [
    {
     "name": "stderr",
     "output_type": "stream",
     "text": [
      "C:\\Users\\radue\\Anaconda3\\envs\\udacity_ml_capstone\\lib\\site-packages\\pyarrow\\pandas_compat.py:114: FutureWarning: A future version of pandas will default to `skipna=True`. To silence this warning, pass `skipna=True|False` explicitly.\n",
      "  result = infer_dtype(pandas_collection)\n"
     ]
    }
   ],
   "source": [
    "import pyarrow\n",
    "azdias.to_parquet('temp/azdias_processed.gzip', compression='gzip')"
   ]
  },
  {
   "cell_type": "markdown",
   "metadata": {
    "ExecuteTime": {
     "end_time": "2019-08-11T21:06:26.593310Z",
     "start_time": "2019-08-11T21:06:26.576353Z"
    }
   },
   "source": [
    "Save the pipeline"
   ]
  },
  {
   "cell_type": "code",
   "execution_count": 20,
   "metadata": {
    "ExecuteTime": {
     "end_time": "2019-08-11T21:07:17.603133Z",
     "start_time": "2019-08-11T21:07:17.590168Z"
    }
   },
   "outputs": [
    {
     "data": {
      "text/plain": [
       "['temp/preprocessing_pipeline.joblib']"
      ]
     },
     "execution_count": 20,
     "metadata": {},
     "output_type": "execute_result"
    }
   ],
   "source": [
    "dump(clean_pipeline, 'temp/preprocessing_pipeline.joblib') "
   ]
  }
 ],
 "metadata": {
  "kernelspec": {
   "display_name": "Python 3",
   "language": "python",
   "name": "python3"
  },
  "language_info": {
   "codemirror_mode": {
    "name": "ipython",
    "version": 3
   },
   "file_extension": ".py",
   "mimetype": "text/x-python",
   "name": "python",
   "nbconvert_exporter": "python",
   "pygments_lexer": "ipython3",
   "version": "3.7.3"
  },
  "toc": {
   "base_numbering": 1,
   "nav_menu": {},
   "number_sections": true,
   "sideBar": true,
   "skip_h1_title": true,
   "title_cell": "Table of Contents",
   "title_sidebar": "Contents",
   "toc_cell": false,
   "toc_position": {},
   "toc_section_display": true,
   "toc_window_display": true
  },
  "varInspector": {
   "cols": {
    "lenName": 16,
    "lenType": 16,
    "lenVar": 40
   },
   "kernels_config": {
    "python": {
     "delete_cmd_postfix": "",
     "delete_cmd_prefix": "del ",
     "library": "var_list.py",
     "varRefreshCmd": "print(var_dic_list())"
    },
    "r": {
     "delete_cmd_postfix": ") ",
     "delete_cmd_prefix": "rm(",
     "library": "var_list.r",
     "varRefreshCmd": "cat(var_dic_list()) "
    }
   },
   "types_to_exclude": [
    "module",
    "function",
    "builtin_function_or_method",
    "instance",
    "_Feature"
   ],
   "window_display": false
  }
 },
 "nbformat": 4,
 "nbformat_minor": 2
}
