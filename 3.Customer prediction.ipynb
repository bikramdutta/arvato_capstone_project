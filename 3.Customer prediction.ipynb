{
 "cells": [
  {
   "cell_type": "markdown",
   "metadata": {},
   "source": [
    "# Customer Prediction"
   ]
  },
  {
   "cell_type": "markdown",
   "metadata": {},
   "source": [
    "Now that we've found which parts of the population are more likely to be customers of the mail-order company, it's time to build a prediction model. Each of the rows in the \"MAILOUT\" data files represents an individual that was targeted for a mailout campaign. Ideally, we should be able to use the demographic information from each individual to decide whether or not it will be worth it to include that person in the campaign.\n",
    "\n",
    "The \"MAILOUT\" data has been split into two approximately equal parts, each with almost 43 000 data rows. First, we verify our model with the \"TRAIN\" partition, which includes a column, \"RESPONSE\", that states whether or not a person became a customer of the company following the campaign. Then, we'll need to create predictions on the \"TEST\" partition, where the \"RESPONSE\" column has been withheld."
   ]
  },
  {
   "cell_type": "markdown",
   "metadata": {},
   "source": [
    "## Import Libraries"
   ]
  },
  {
   "cell_type": "code",
   "execution_count": 25,
   "metadata": {
    "ExecuteTime": {
     "end_time": "2019-08-14T05:23:51.237021Z",
     "start_time": "2019-08-14T05:23:51.223024Z"
    }
   },
   "outputs": [],
   "source": [
    "import numpy as np\n",
    "import pandas as pd\n",
    "\n",
    "from joblib import dump, load\n",
    "\n",
    "from time import time\n",
    "from collections import OrderedDict, Counter\n",
    "\n",
    "from tqdm.auto import tqdm, trange\n",
    "tqdm.pandas()\n",
    "\n",
    "from utils.transformers import *\n",
    "from utils.functions import *\n",
    "\n",
    "import pyarrow\n",
    "\n",
    "from sklearn.decomposition import PCA\n",
    "from sklearn.cluster import KMeans\n",
    "\n",
    "from imblearn.over_sampling import SMOTE, ADASYN, BorderlineSMOTE\n",
    "from imblearn.under_sampling import TomekLinks, ClusterCentroids\n",
    "from imblearn.combine import SMOTETomek\n",
    "\n",
    "import xgboost as xgb\n",
    "from xgboost import XGBClassifier\n",
    "\n",
    "from sklearn.model_selection import train_test_split, GridSearchCV\n",
    "from sklearn.metrics import roc_auc_score, make_scorer\n",
    "from sklearn.svm import SVC\n",
    "from sklearn.linear_model import LogisticRegression\n",
    "from sklearn.ensemble import RandomForestClassifier, VotingClassifier, GradientBoostingClassifier\n",
    "from sklearn.neural_network import MLPClassifier\n",
    "from sklearn.neighbors import KNeighborsClassifier\n",
    "\n",
    "# Hyperparameters tuning\n",
    "from hyperopt import STATUS_OK, Trials, fmin, hp, tpe\n",
    "\n",
    "import matplotlib.pyplot as plt\n",
    "import seaborn as sns\n",
    "sns.set(style=\"darkgrid\")\n",
    "\n",
    "# magic word for producing visualizations in notebook\n",
    "%matplotlib inline"
   ]
  },
  {
   "cell_type": "markdown",
   "metadata": {
    "heading_collapsed": true
   },
   "source": [
    "## Load the Data"
   ]
  },
  {
   "cell_type": "markdown",
   "metadata": {
    "heading_collapsed": true,
    "hidden": true
   },
   "source": [
    "### Mailout Train"
   ]
  },
  {
   "cell_type": "code",
   "execution_count": 2,
   "metadata": {
    "ExecuteTime": {
     "end_time": "2019-08-12T12:06:31.992598Z",
     "start_time": "2019-08-12T12:06:30.847892Z"
    },
    "hidden": true
   },
   "outputs": [
    {
     "name": "stderr",
     "output_type": "stream",
     "text": [
      "C:\\Users\\radue\\Anaconda3\\envs\\udacity_ml_capstone\\lib\\site-packages\\IPython\\core\\interactiveshell.py:3057: DtypeWarning: Columns (18,19) have mixed types. Specify dtype option on import or set low_memory=False.\n",
      "  interactivity=interactivity, compiler=compiler, result=result)\n"
     ]
    },
    {
     "data": {
      "text/html": [
       "<div>\n",
       "<style scoped>\n",
       "    .dataframe tbody tr th:only-of-type {\n",
       "        vertical-align: middle;\n",
       "    }\n",
       "\n",
       "    .dataframe tbody tr th {\n",
       "        vertical-align: top;\n",
       "    }\n",
       "\n",
       "    .dataframe thead th {\n",
       "        text-align: right;\n",
       "    }\n",
       "</style>\n",
       "<table border=\"1\" class=\"dataframe\">\n",
       "  <thead>\n",
       "    <tr style=\"text-align: right;\">\n",
       "      <th></th>\n",
       "      <th>LNR</th>\n",
       "      <th>AGER_TYP</th>\n",
       "      <th>AKT_DAT_KL</th>\n",
       "      <th>ALTER_HH</th>\n",
       "      <th>ALTER_KIND1</th>\n",
       "      <th>ALTER_KIND2</th>\n",
       "      <th>ALTER_KIND3</th>\n",
       "      <th>ALTER_KIND4</th>\n",
       "      <th>ALTERSKATEGORIE_FEIN</th>\n",
       "      <th>ANZ_HAUSHALTE_AKTIV</th>\n",
       "      <th>...</th>\n",
       "      <th>VK_DHT4A</th>\n",
       "      <th>VK_DISTANZ</th>\n",
       "      <th>VK_ZG11</th>\n",
       "      <th>W_KEIT_KIND_HH</th>\n",
       "      <th>WOHNDAUER_2008</th>\n",
       "      <th>WOHNLAGE</th>\n",
       "      <th>ZABEOTYP</th>\n",
       "      <th>RESPONSE</th>\n",
       "      <th>ANREDE_KZ</th>\n",
       "      <th>ALTERSKATEGORIE_GROB</th>\n",
       "    </tr>\n",
       "  </thead>\n",
       "  <tbody>\n",
       "    <tr>\n",
       "      <th>0</th>\n",
       "      <td>1763</td>\n",
       "      <td>2</td>\n",
       "      <td>1.0</td>\n",
       "      <td>8.0</td>\n",
       "      <td>NaN</td>\n",
       "      <td>NaN</td>\n",
       "      <td>NaN</td>\n",
       "      <td>NaN</td>\n",
       "      <td>8.0</td>\n",
       "      <td>15.0</td>\n",
       "      <td>...</td>\n",
       "      <td>5.0</td>\n",
       "      <td>2.0</td>\n",
       "      <td>1.0</td>\n",
       "      <td>6.0</td>\n",
       "      <td>9.0</td>\n",
       "      <td>3.0</td>\n",
       "      <td>3</td>\n",
       "      <td>0</td>\n",
       "      <td>2</td>\n",
       "      <td>4</td>\n",
       "    </tr>\n",
       "    <tr>\n",
       "      <th>1</th>\n",
       "      <td>1771</td>\n",
       "      <td>1</td>\n",
       "      <td>4.0</td>\n",
       "      <td>13.0</td>\n",
       "      <td>NaN</td>\n",
       "      <td>NaN</td>\n",
       "      <td>NaN</td>\n",
       "      <td>NaN</td>\n",
       "      <td>13.0</td>\n",
       "      <td>1.0</td>\n",
       "      <td>...</td>\n",
       "      <td>1.0</td>\n",
       "      <td>2.0</td>\n",
       "      <td>1.0</td>\n",
       "      <td>4.0</td>\n",
       "      <td>9.0</td>\n",
       "      <td>7.0</td>\n",
       "      <td>1</td>\n",
       "      <td>0</td>\n",
       "      <td>2</td>\n",
       "      <td>3</td>\n",
       "    </tr>\n",
       "    <tr>\n",
       "      <th>2</th>\n",
       "      <td>1776</td>\n",
       "      <td>1</td>\n",
       "      <td>1.0</td>\n",
       "      <td>9.0</td>\n",
       "      <td>NaN</td>\n",
       "      <td>NaN</td>\n",
       "      <td>NaN</td>\n",
       "      <td>NaN</td>\n",
       "      <td>7.0</td>\n",
       "      <td>0.0</td>\n",
       "      <td>...</td>\n",
       "      <td>6.0</td>\n",
       "      <td>4.0</td>\n",
       "      <td>2.0</td>\n",
       "      <td>NaN</td>\n",
       "      <td>9.0</td>\n",
       "      <td>2.0</td>\n",
       "      <td>3</td>\n",
       "      <td>0</td>\n",
       "      <td>1</td>\n",
       "      <td>4</td>\n",
       "    </tr>\n",
       "    <tr>\n",
       "      <th>3</th>\n",
       "      <td>1460</td>\n",
       "      <td>2</td>\n",
       "      <td>1.0</td>\n",
       "      <td>6.0</td>\n",
       "      <td>NaN</td>\n",
       "      <td>NaN</td>\n",
       "      <td>NaN</td>\n",
       "      <td>NaN</td>\n",
       "      <td>6.0</td>\n",
       "      <td>4.0</td>\n",
       "      <td>...</td>\n",
       "      <td>8.0</td>\n",
       "      <td>11.0</td>\n",
       "      <td>11.0</td>\n",
       "      <td>6.0</td>\n",
       "      <td>9.0</td>\n",
       "      <td>1.0</td>\n",
       "      <td>3</td>\n",
       "      <td>0</td>\n",
       "      <td>2</td>\n",
       "      <td>4</td>\n",
       "    </tr>\n",
       "    <tr>\n",
       "      <th>4</th>\n",
       "      <td>1783</td>\n",
       "      <td>2</td>\n",
       "      <td>1.0</td>\n",
       "      <td>9.0</td>\n",
       "      <td>NaN</td>\n",
       "      <td>NaN</td>\n",
       "      <td>NaN</td>\n",
       "      <td>NaN</td>\n",
       "      <td>9.0</td>\n",
       "      <td>53.0</td>\n",
       "      <td>...</td>\n",
       "      <td>2.0</td>\n",
       "      <td>2.0</td>\n",
       "      <td>1.0</td>\n",
       "      <td>6.0</td>\n",
       "      <td>9.0</td>\n",
       "      <td>3.0</td>\n",
       "      <td>3</td>\n",
       "      <td>0</td>\n",
       "      <td>1</td>\n",
       "      <td>3</td>\n",
       "    </tr>\n",
       "  </tbody>\n",
       "</table>\n",
       "<p>5 rows × 367 columns</p>\n",
       "</div>"
      ],
      "text/plain": [
       "    LNR  AGER_TYP  AKT_DAT_KL  ALTER_HH  ALTER_KIND1  ALTER_KIND2  \\\n",
       "0  1763         2         1.0       8.0          NaN          NaN   \n",
       "1  1771         1         4.0      13.0          NaN          NaN   \n",
       "2  1776         1         1.0       9.0          NaN          NaN   \n",
       "3  1460         2         1.0       6.0          NaN          NaN   \n",
       "4  1783         2         1.0       9.0          NaN          NaN   \n",
       "\n",
       "   ALTER_KIND3  ALTER_KIND4  ALTERSKATEGORIE_FEIN  ANZ_HAUSHALTE_AKTIV  ...  \\\n",
       "0          NaN          NaN                   8.0                 15.0  ...   \n",
       "1          NaN          NaN                  13.0                  1.0  ...   \n",
       "2          NaN          NaN                   7.0                  0.0  ...   \n",
       "3          NaN          NaN                   6.0                  4.0  ...   \n",
       "4          NaN          NaN                   9.0                 53.0  ...   \n",
       "\n",
       "   VK_DHT4A  VK_DISTANZ  VK_ZG11  W_KEIT_KIND_HH  WOHNDAUER_2008  WOHNLAGE  \\\n",
       "0       5.0         2.0      1.0             6.0             9.0       3.0   \n",
       "1       1.0         2.0      1.0             4.0             9.0       7.0   \n",
       "2       6.0         4.0      2.0             NaN             9.0       2.0   \n",
       "3       8.0        11.0     11.0             6.0             9.0       1.0   \n",
       "4       2.0         2.0      1.0             6.0             9.0       3.0   \n",
       "\n",
       "   ZABEOTYP RESPONSE ANREDE_KZ ALTERSKATEGORIE_GROB  \n",
       "0         3        0         2                    4  \n",
       "1         1        0         2                    3  \n",
       "2         3        0         1                    4  \n",
       "3         3        0         2                    4  \n",
       "4         3        0         1                    3  \n",
       "\n",
       "[5 rows x 367 columns]"
      ]
     },
     "execution_count": 2,
     "metadata": {},
     "output_type": "execute_result"
    }
   ],
   "source": [
    "mailout_train = pd.read_csv('data/Udacity_MAILOUT_052018_TRAIN.csv', sep=';')\n",
    "mailout_train.head()"
   ]
  },
  {
   "cell_type": "markdown",
   "metadata": {
    "heading_collapsed": true,
    "hidden": true
   },
   "source": [
    "### Mailout Test"
   ]
  },
  {
   "cell_type": "code",
   "execution_count": 3,
   "metadata": {
    "ExecuteTime": {
     "end_time": "2019-08-12T12:06:33.126552Z",
     "start_time": "2019-08-12T12:06:31.993596Z"
    },
    "hidden": true
   },
   "outputs": [
    {
     "data": {
      "text/html": [
       "<div>\n",
       "<style scoped>\n",
       "    .dataframe tbody tr th:only-of-type {\n",
       "        vertical-align: middle;\n",
       "    }\n",
       "\n",
       "    .dataframe tbody tr th {\n",
       "        vertical-align: top;\n",
       "    }\n",
       "\n",
       "    .dataframe thead th {\n",
       "        text-align: right;\n",
       "    }\n",
       "</style>\n",
       "<table border=\"1\" class=\"dataframe\">\n",
       "  <thead>\n",
       "    <tr style=\"text-align: right;\">\n",
       "      <th></th>\n",
       "      <th>LNR</th>\n",
       "      <th>AGER_TYP</th>\n",
       "      <th>AKT_DAT_KL</th>\n",
       "      <th>ALTER_HH</th>\n",
       "      <th>ALTER_KIND1</th>\n",
       "      <th>ALTER_KIND2</th>\n",
       "      <th>ALTER_KIND3</th>\n",
       "      <th>ALTER_KIND4</th>\n",
       "      <th>ALTERSKATEGORIE_FEIN</th>\n",
       "      <th>ANZ_HAUSHALTE_AKTIV</th>\n",
       "      <th>...</th>\n",
       "      <th>VHN</th>\n",
       "      <th>VK_DHT4A</th>\n",
       "      <th>VK_DISTANZ</th>\n",
       "      <th>VK_ZG11</th>\n",
       "      <th>W_KEIT_KIND_HH</th>\n",
       "      <th>WOHNDAUER_2008</th>\n",
       "      <th>WOHNLAGE</th>\n",
       "      <th>ZABEOTYP</th>\n",
       "      <th>ANREDE_KZ</th>\n",
       "      <th>ALTERSKATEGORIE_GROB</th>\n",
       "    </tr>\n",
       "  </thead>\n",
       "  <tbody>\n",
       "    <tr>\n",
       "      <th>0</th>\n",
       "      <td>1754</td>\n",
       "      <td>2</td>\n",
       "      <td>1.0</td>\n",
       "      <td>7.0</td>\n",
       "      <td>NaN</td>\n",
       "      <td>NaN</td>\n",
       "      <td>NaN</td>\n",
       "      <td>NaN</td>\n",
       "      <td>6.0</td>\n",
       "      <td>2.0</td>\n",
       "      <td>...</td>\n",
       "      <td>4.0</td>\n",
       "      <td>5.0</td>\n",
       "      <td>6.0</td>\n",
       "      <td>3.0</td>\n",
       "      <td>6.0</td>\n",
       "      <td>9.0</td>\n",
       "      <td>3.0</td>\n",
       "      <td>3</td>\n",
       "      <td>1</td>\n",
       "      <td>4</td>\n",
       "    </tr>\n",
       "    <tr>\n",
       "      <th>1</th>\n",
       "      <td>1770</td>\n",
       "      <td>-1</td>\n",
       "      <td>1.0</td>\n",
       "      <td>0.0</td>\n",
       "      <td>NaN</td>\n",
       "      <td>NaN</td>\n",
       "      <td>NaN</td>\n",
       "      <td>NaN</td>\n",
       "      <td>0.0</td>\n",
       "      <td>20.0</td>\n",
       "      <td>...</td>\n",
       "      <td>1.0</td>\n",
       "      <td>5.0</td>\n",
       "      <td>2.0</td>\n",
       "      <td>1.0</td>\n",
       "      <td>6.0</td>\n",
       "      <td>9.0</td>\n",
       "      <td>5.0</td>\n",
       "      <td>3</td>\n",
       "      <td>1</td>\n",
       "      <td>4</td>\n",
       "    </tr>\n",
       "    <tr>\n",
       "      <th>2</th>\n",
       "      <td>1465</td>\n",
       "      <td>2</td>\n",
       "      <td>9.0</td>\n",
       "      <td>16.0</td>\n",
       "      <td>NaN</td>\n",
       "      <td>NaN</td>\n",
       "      <td>NaN</td>\n",
       "      <td>NaN</td>\n",
       "      <td>11.0</td>\n",
       "      <td>2.0</td>\n",
       "      <td>...</td>\n",
       "      <td>3.0</td>\n",
       "      <td>9.0</td>\n",
       "      <td>6.0</td>\n",
       "      <td>3.0</td>\n",
       "      <td>2.0</td>\n",
       "      <td>9.0</td>\n",
       "      <td>4.0</td>\n",
       "      <td>3</td>\n",
       "      <td>2</td>\n",
       "      <td>4</td>\n",
       "    </tr>\n",
       "    <tr>\n",
       "      <th>3</th>\n",
       "      <td>1470</td>\n",
       "      <td>-1</td>\n",
       "      <td>7.0</td>\n",
       "      <td>0.0</td>\n",
       "      <td>NaN</td>\n",
       "      <td>NaN</td>\n",
       "      <td>NaN</td>\n",
       "      <td>NaN</td>\n",
       "      <td>0.0</td>\n",
       "      <td>1.0</td>\n",
       "      <td>...</td>\n",
       "      <td>2.0</td>\n",
       "      <td>6.0</td>\n",
       "      <td>6.0</td>\n",
       "      <td>3.0</td>\n",
       "      <td>NaN</td>\n",
       "      <td>9.0</td>\n",
       "      <td>2.0</td>\n",
       "      <td>3</td>\n",
       "      <td>2</td>\n",
       "      <td>4</td>\n",
       "    </tr>\n",
       "    <tr>\n",
       "      <th>4</th>\n",
       "      <td>1478</td>\n",
       "      <td>1</td>\n",
       "      <td>1.0</td>\n",
       "      <td>21.0</td>\n",
       "      <td>NaN</td>\n",
       "      <td>NaN</td>\n",
       "      <td>NaN</td>\n",
       "      <td>NaN</td>\n",
       "      <td>13.0</td>\n",
       "      <td>1.0</td>\n",
       "      <td>...</td>\n",
       "      <td>1.0</td>\n",
       "      <td>2.0</td>\n",
       "      <td>4.0</td>\n",
       "      <td>3.0</td>\n",
       "      <td>3.0</td>\n",
       "      <td>9.0</td>\n",
       "      <td>7.0</td>\n",
       "      <td>4</td>\n",
       "      <td>2</td>\n",
       "      <td>4</td>\n",
       "    </tr>\n",
       "  </tbody>\n",
       "</table>\n",
       "<p>5 rows × 366 columns</p>\n",
       "</div>"
      ],
      "text/plain": [
       "    LNR  AGER_TYP  AKT_DAT_KL  ALTER_HH  ALTER_KIND1  ALTER_KIND2  \\\n",
       "0  1754         2         1.0       7.0          NaN          NaN   \n",
       "1  1770        -1         1.0       0.0          NaN          NaN   \n",
       "2  1465         2         9.0      16.0          NaN          NaN   \n",
       "3  1470        -1         7.0       0.0          NaN          NaN   \n",
       "4  1478         1         1.0      21.0          NaN          NaN   \n",
       "\n",
       "   ALTER_KIND3  ALTER_KIND4  ALTERSKATEGORIE_FEIN  ANZ_HAUSHALTE_AKTIV  ...  \\\n",
       "0          NaN          NaN                   6.0                  2.0  ...   \n",
       "1          NaN          NaN                   0.0                 20.0  ...   \n",
       "2          NaN          NaN                  11.0                  2.0  ...   \n",
       "3          NaN          NaN                   0.0                  1.0  ...   \n",
       "4          NaN          NaN                  13.0                  1.0  ...   \n",
       "\n",
       "   VHN  VK_DHT4A  VK_DISTANZ  VK_ZG11  W_KEIT_KIND_HH  WOHNDAUER_2008  \\\n",
       "0  4.0       5.0         6.0      3.0             6.0             9.0   \n",
       "1  1.0       5.0         2.0      1.0             6.0             9.0   \n",
       "2  3.0       9.0         6.0      3.0             2.0             9.0   \n",
       "3  2.0       6.0         6.0      3.0             NaN             9.0   \n",
       "4  1.0       2.0         4.0      3.0             3.0             9.0   \n",
       "\n",
       "   WOHNLAGE ZABEOTYP ANREDE_KZ ALTERSKATEGORIE_GROB  \n",
       "0       3.0        3         1                    4  \n",
       "1       5.0        3         1                    4  \n",
       "2       4.0        3         2                    4  \n",
       "3       2.0        3         2                    4  \n",
       "4       7.0        4         2                    4  \n",
       "\n",
       "[5 rows x 366 columns]"
      ]
     },
     "execution_count": 3,
     "metadata": {},
     "output_type": "execute_result"
    }
   ],
   "source": [
    "mailout_test = pd.read_csv('data/Udacity_MAILOUT_052018_TEST.csv', sep=';')\n",
    "mailout_test.head()"
   ]
  },
  {
   "cell_type": "markdown",
   "metadata": {
    "heading_collapsed": true
   },
   "source": [
    "## Preprocessing"
   ]
  },
  {
   "cell_type": "markdown",
   "metadata": {
    "hidden": true
   },
   "source": [
    "Load the preprocessing pipeline"
   ]
  },
  {
   "cell_type": "code",
   "execution_count": 4,
   "metadata": {
    "ExecuteTime": {
     "end_time": "2019-08-12T12:06:33.141533Z",
     "start_time": "2019-08-12T12:06:33.127520Z"
    },
    "hidden": true
   },
   "outputs": [],
   "source": [
    "clean_pipeline = load('temp/preprocessing_pipeline.joblib') "
   ]
  },
  {
   "cell_type": "markdown",
   "metadata": {
    "hidden": true
   },
   "source": [
    "We need to know the column names (after preprocessing)"
   ]
  },
  {
   "cell_type": "code",
   "execution_count": 5,
   "metadata": {
    "ExecuteTime": {
     "end_time": "2019-08-12T12:06:34.434351Z",
     "start_time": "2019-08-12T12:06:33.142425Z"
    },
    "hidden": true
   },
   "outputs": [
    {
     "name": "stderr",
     "output_type": "stream",
     "text": [
      "C:\\Users\\radue\\Anaconda3\\envs\\udacity_ml_capstone\\lib\\site-packages\\pyarrow\\pandas_compat.py:708: FutureWarning: .labels was deprecated in version 0.24.0. Use .codes instead.\n",
      "  labels = getattr(columns, 'labels', None) or [\n",
      "C:\\Users\\radue\\Anaconda3\\envs\\udacity_ml_capstone\\lib\\site-packages\\pyarrow\\pandas_compat.py:735: FutureWarning: the 'labels' keyword is deprecated, use 'codes' instead\n",
      "  return pd.MultiIndex(levels=new_levels, labels=labels, names=columns.names)\n",
      "C:\\Users\\radue\\Anaconda3\\envs\\udacity_ml_capstone\\lib\\site-packages\\pyarrow\\pandas_compat.py:752: FutureWarning: .labels was deprecated in version 0.24.0. Use .codes instead.\n",
      "  labels, = index.labels\n"
     ]
    }
   ],
   "source": [
    "azdias = pd.read_parquet('temp/azdias_processed.gzip')\n",
    "all_features = azdias.columns\n",
    "del azdias"
   ]
  },
  {
   "cell_type": "markdown",
   "metadata": {
    "heading_collapsed": true,
    "hidden": true
   },
   "source": [
    "### Mailout Train"
   ]
  },
  {
   "cell_type": "code",
   "execution_count": 6,
   "metadata": {
    "ExecuteTime": {
     "end_time": "2019-08-12T12:06:34.520670Z",
     "start_time": "2019-08-12T12:06:34.435348Z"
    },
    "hidden": true
   },
   "outputs": [
    {
     "data": {
      "text/html": [
       "<div>\n",
       "<style scoped>\n",
       "    .dataframe tbody tr th:only-of-type {\n",
       "        vertical-align: middle;\n",
       "    }\n",
       "\n",
       "    .dataframe tbody tr th {\n",
       "        vertical-align: top;\n",
       "    }\n",
       "\n",
       "    .dataframe thead th {\n",
       "        text-align: right;\n",
       "    }\n",
       "</style>\n",
       "<table border=\"1\" class=\"dataframe\">\n",
       "  <thead>\n",
       "    <tr style=\"text-align: right;\">\n",
       "      <th></th>\n",
       "      <th>LNR</th>\n",
       "      <th>AGER_TYP</th>\n",
       "      <th>AKT_DAT_KL</th>\n",
       "      <th>ALTER_HH</th>\n",
       "      <th>ALTER_KIND1</th>\n",
       "      <th>ALTER_KIND2</th>\n",
       "      <th>ALTER_KIND3</th>\n",
       "      <th>ALTER_KIND4</th>\n",
       "      <th>ALTERSKATEGORIE_FEIN</th>\n",
       "      <th>ANZ_HAUSHALTE_AKTIV</th>\n",
       "      <th>...</th>\n",
       "      <th>VHN</th>\n",
       "      <th>VK_DHT4A</th>\n",
       "      <th>VK_DISTANZ</th>\n",
       "      <th>VK_ZG11</th>\n",
       "      <th>W_KEIT_KIND_HH</th>\n",
       "      <th>WOHNDAUER_2008</th>\n",
       "      <th>WOHNLAGE</th>\n",
       "      <th>ZABEOTYP</th>\n",
       "      <th>ANREDE_KZ</th>\n",
       "      <th>ALTERSKATEGORIE_GROB</th>\n",
       "    </tr>\n",
       "  </thead>\n",
       "  <tbody>\n",
       "    <tr>\n",
       "      <th>0</th>\n",
       "      <td>1763</td>\n",
       "      <td>2</td>\n",
       "      <td>1.0</td>\n",
       "      <td>8.0</td>\n",
       "      <td>NaN</td>\n",
       "      <td>NaN</td>\n",
       "      <td>NaN</td>\n",
       "      <td>NaN</td>\n",
       "      <td>8.0</td>\n",
       "      <td>15.0</td>\n",
       "      <td>...</td>\n",
       "      <td>2.0</td>\n",
       "      <td>5.0</td>\n",
       "      <td>2.0</td>\n",
       "      <td>1.0</td>\n",
       "      <td>6.0</td>\n",
       "      <td>9.0</td>\n",
       "      <td>3.0</td>\n",
       "      <td>3</td>\n",
       "      <td>2</td>\n",
       "      <td>4</td>\n",
       "    </tr>\n",
       "    <tr>\n",
       "      <th>1</th>\n",
       "      <td>1771</td>\n",
       "      <td>1</td>\n",
       "      <td>4.0</td>\n",
       "      <td>13.0</td>\n",
       "      <td>NaN</td>\n",
       "      <td>NaN</td>\n",
       "      <td>NaN</td>\n",
       "      <td>NaN</td>\n",
       "      <td>13.0</td>\n",
       "      <td>1.0</td>\n",
       "      <td>...</td>\n",
       "      <td>3.0</td>\n",
       "      <td>1.0</td>\n",
       "      <td>2.0</td>\n",
       "      <td>1.0</td>\n",
       "      <td>4.0</td>\n",
       "      <td>9.0</td>\n",
       "      <td>7.0</td>\n",
       "      <td>1</td>\n",
       "      <td>2</td>\n",
       "      <td>3</td>\n",
       "    </tr>\n",
       "    <tr>\n",
       "      <th>2</th>\n",
       "      <td>1776</td>\n",
       "      <td>1</td>\n",
       "      <td>1.0</td>\n",
       "      <td>9.0</td>\n",
       "      <td>NaN</td>\n",
       "      <td>NaN</td>\n",
       "      <td>NaN</td>\n",
       "      <td>NaN</td>\n",
       "      <td>7.0</td>\n",
       "      <td>0.0</td>\n",
       "      <td>...</td>\n",
       "      <td>1.0</td>\n",
       "      <td>6.0</td>\n",
       "      <td>4.0</td>\n",
       "      <td>2.0</td>\n",
       "      <td>NaN</td>\n",
       "      <td>9.0</td>\n",
       "      <td>2.0</td>\n",
       "      <td>3</td>\n",
       "      <td>1</td>\n",
       "      <td>4</td>\n",
       "    </tr>\n",
       "    <tr>\n",
       "      <th>3</th>\n",
       "      <td>1460</td>\n",
       "      <td>2</td>\n",
       "      <td>1.0</td>\n",
       "      <td>6.0</td>\n",
       "      <td>NaN</td>\n",
       "      <td>NaN</td>\n",
       "      <td>NaN</td>\n",
       "      <td>NaN</td>\n",
       "      <td>6.0</td>\n",
       "      <td>4.0</td>\n",
       "      <td>...</td>\n",
       "      <td>4.0</td>\n",
       "      <td>8.0</td>\n",
       "      <td>11.0</td>\n",
       "      <td>11.0</td>\n",
       "      <td>6.0</td>\n",
       "      <td>9.0</td>\n",
       "      <td>1.0</td>\n",
       "      <td>3</td>\n",
       "      <td>2</td>\n",
       "      <td>4</td>\n",
       "    </tr>\n",
       "    <tr>\n",
       "      <th>4</th>\n",
       "      <td>1783</td>\n",
       "      <td>2</td>\n",
       "      <td>1.0</td>\n",
       "      <td>9.0</td>\n",
       "      <td>NaN</td>\n",
       "      <td>NaN</td>\n",
       "      <td>NaN</td>\n",
       "      <td>NaN</td>\n",
       "      <td>9.0</td>\n",
       "      <td>53.0</td>\n",
       "      <td>...</td>\n",
       "      <td>4.0</td>\n",
       "      <td>2.0</td>\n",
       "      <td>2.0</td>\n",
       "      <td>1.0</td>\n",
       "      <td>6.0</td>\n",
       "      <td>9.0</td>\n",
       "      <td>3.0</td>\n",
       "      <td>3</td>\n",
       "      <td>1</td>\n",
       "      <td>3</td>\n",
       "    </tr>\n",
       "  </tbody>\n",
       "</table>\n",
       "<p>5 rows × 366 columns</p>\n",
       "</div>"
      ],
      "text/plain": [
       "    LNR  AGER_TYP  AKT_DAT_KL  ALTER_HH  ALTER_KIND1  ALTER_KIND2  \\\n",
       "0  1763         2         1.0       8.0          NaN          NaN   \n",
       "1  1771         1         4.0      13.0          NaN          NaN   \n",
       "2  1776         1         1.0       9.0          NaN          NaN   \n",
       "3  1460         2         1.0       6.0          NaN          NaN   \n",
       "4  1783         2         1.0       9.0          NaN          NaN   \n",
       "\n",
       "   ALTER_KIND3  ALTER_KIND4  ALTERSKATEGORIE_FEIN  ANZ_HAUSHALTE_AKTIV  ...  \\\n",
       "0          NaN          NaN                   8.0                 15.0  ...   \n",
       "1          NaN          NaN                  13.0                  1.0  ...   \n",
       "2          NaN          NaN                   7.0                  0.0  ...   \n",
       "3          NaN          NaN                   6.0                  4.0  ...   \n",
       "4          NaN          NaN                   9.0                 53.0  ...   \n",
       "\n",
       "   VHN  VK_DHT4A  VK_DISTANZ  VK_ZG11  W_KEIT_KIND_HH  WOHNDAUER_2008  \\\n",
       "0  2.0       5.0         2.0      1.0             6.0             9.0   \n",
       "1  3.0       1.0         2.0      1.0             4.0             9.0   \n",
       "2  1.0       6.0         4.0      2.0             NaN             9.0   \n",
       "3  4.0       8.0        11.0     11.0             6.0             9.0   \n",
       "4  4.0       2.0         2.0      1.0             6.0             9.0   \n",
       "\n",
       "   WOHNLAGE ZABEOTYP ANREDE_KZ ALTERSKATEGORIE_GROB  \n",
       "0       3.0        3         2                    4  \n",
       "1       7.0        1         2                    3  \n",
       "2       2.0        3         1                    4  \n",
       "3       1.0        3         2                    4  \n",
       "4       3.0        3         1                    3  \n",
       "\n",
       "[5 rows x 366 columns]"
      ]
     },
     "execution_count": 6,
     "metadata": {},
     "output_type": "execute_result"
    }
   ],
   "source": [
    "extra_columns = ['RESPONSE']\n",
    "mailout_train_extra = mailout_train[extra_columns  + ['LNR']]\n",
    "mailout_train = mailout_train.drop(extra_columns, axis=1)\n",
    "mailout_train.head()"
   ]
  },
  {
   "cell_type": "markdown",
   "metadata": {
    "hidden": true
   },
   "source": [
    "Preprocess the `mailout_train` dataset"
   ]
  },
  {
   "cell_type": "code",
   "execution_count": 7,
   "metadata": {
    "ExecuteTime": {
     "end_time": "2019-08-12T12:07:03.313914Z",
     "start_time": "2019-08-12T12:06:34.522597Z"
    },
    "hidden": true
   },
   "outputs": [
    {
     "data": {
      "text/html": [
       "<div>\n",
       "<style scoped>\n",
       "    .dataframe tbody tr th:only-of-type {\n",
       "        vertical-align: middle;\n",
       "    }\n",
       "\n",
       "    .dataframe tbody tr th {\n",
       "        vertical-align: top;\n",
       "    }\n",
       "\n",
       "    .dataframe thead th {\n",
       "        text-align: right;\n",
       "    }\n",
       "</style>\n",
       "<table border=\"1\" class=\"dataframe\">\n",
       "  <thead>\n",
       "    <tr style=\"text-align: right;\">\n",
       "      <th></th>\n",
       "      <th>ANREDE_KZ_1</th>\n",
       "      <th>ANREDE_KZ_2</th>\n",
       "      <th>CAMEO_DEUG_2015_1</th>\n",
       "      <th>CAMEO_DEUG_2015_2</th>\n",
       "      <th>CAMEO_DEUG_2015_3</th>\n",
       "      <th>CAMEO_DEUG_2015_4</th>\n",
       "      <th>CAMEO_DEUG_2015_5</th>\n",
       "      <th>CAMEO_DEUG_2015_6</th>\n",
       "      <th>CAMEO_DEUG_2015_7</th>\n",
       "      <th>CAMEO_DEUG_2015_8</th>\n",
       "      <th>...</th>\n",
       "      <th>MIN_GEBAEUDEJAHR</th>\n",
       "      <th>ANZ_KINDER</th>\n",
       "      <th>ANZ_STATISTISCHE_HAUSHALTE</th>\n",
       "      <th>EINGEZOGENAM_HH_JAHR</th>\n",
       "      <th>EXTSEL992</th>\n",
       "      <th>VERDICHTUNGSRAUM</th>\n",
       "      <th>VK_DHT4A</th>\n",
       "      <th>VK_DISTANZ</th>\n",
       "      <th>VK_ZG11</th>\n",
       "      <th>LNR</th>\n",
       "    </tr>\n",
       "  </thead>\n",
       "  <tbody>\n",
       "    <tr>\n",
       "      <th>0</th>\n",
       "      <td>0.0</td>\n",
       "      <td>1.0</td>\n",
       "      <td>0.0</td>\n",
       "      <td>0.0</td>\n",
       "      <td>0.0</td>\n",
       "      <td>0.0</td>\n",
       "      <td>1.0</td>\n",
       "      <td>0.0</td>\n",
       "      <td>0.0</td>\n",
       "      <td>0.0</td>\n",
       "      <td>...</td>\n",
       "      <td>-0.359845</td>\n",
       "      <td>-0.292527</td>\n",
       "      <td>0.431332</td>\n",
       "      <td>0.048946</td>\n",
       "      <td>1.755996</td>\n",
       "      <td>-0.024077</td>\n",
       "      <td>-0.366474</td>\n",
       "      <td>-1.792139</td>\n",
       "      <td>-1.867551</td>\n",
       "      <td>1763.0</td>\n",
       "    </tr>\n",
       "    <tr>\n",
       "      <th>1</th>\n",
       "      <td>0.0</td>\n",
       "      <td>1.0</td>\n",
       "      <td>0.0</td>\n",
       "      <td>0.0</td>\n",
       "      <td>0.0</td>\n",
       "      <td>0.0</td>\n",
       "      <td>1.0</td>\n",
       "      <td>0.0</td>\n",
       "      <td>0.0</td>\n",
       "      <td>0.0</td>\n",
       "      <td>...</td>\n",
       "      <td>0.269507</td>\n",
       "      <td>-0.292527</td>\n",
       "      <td>-0.448734</td>\n",
       "      <td>-1.429498</td>\n",
       "      <td>2.955448</td>\n",
       "      <td>-0.519516</td>\n",
       "      <td>-1.830744</td>\n",
       "      <td>-1.792139</td>\n",
       "      <td>-1.867551</td>\n",
       "      <td>1771.0</td>\n",
       "    </tr>\n",
       "    <tr>\n",
       "      <th>2</th>\n",
       "      <td>1.0</td>\n",
       "      <td>0.0</td>\n",
       "      <td>0.0</td>\n",
       "      <td>1.0</td>\n",
       "      <td>0.0</td>\n",
       "      <td>0.0</td>\n",
       "      <td>0.0</td>\n",
       "      <td>0.0</td>\n",
       "      <td>0.0</td>\n",
       "      <td>0.0</td>\n",
       "      <td>...</td>\n",
       "      <td>0.584183</td>\n",
       "      <td>-0.292527</td>\n",
       "      <td>-0.448734</td>\n",
       "      <td>-0.985965</td>\n",
       "      <td>0.289999</td>\n",
       "      <td>0.719083</td>\n",
       "      <td>-0.000407</td>\n",
       "      <td>-1.148872</td>\n",
       "      <td>-1.490312</td>\n",
       "      <td>1776.0</td>\n",
       "    </tr>\n",
       "    <tr>\n",
       "      <th>3</th>\n",
       "      <td>0.0</td>\n",
       "      <td>1.0</td>\n",
       "      <td>0.0</td>\n",
       "      <td>1.0</td>\n",
       "      <td>0.0</td>\n",
       "      <td>0.0</td>\n",
       "      <td>0.0</td>\n",
       "      <td>0.0</td>\n",
       "      <td>0.0</td>\n",
       "      <td>0.0</td>\n",
       "      <td>...</td>\n",
       "      <td>-0.359845</td>\n",
       "      <td>-0.292527</td>\n",
       "      <td>-0.228718</td>\n",
       "      <td>-1.429498</td>\n",
       "      <td>0.956362</td>\n",
       "      <td>0.099783</td>\n",
       "      <td>0.731728</td>\n",
       "      <td>1.102566</td>\n",
       "      <td>1.904842</td>\n",
       "      <td>1460.0</td>\n",
       "    </tr>\n",
       "    <tr>\n",
       "      <th>4</th>\n",
       "      <td>1.0</td>\n",
       "      <td>0.0</td>\n",
       "      <td>0.0</td>\n",
       "      <td>0.0</td>\n",
       "      <td>0.0</td>\n",
       "      <td>0.0</td>\n",
       "      <td>0.0</td>\n",
       "      <td>0.0</td>\n",
       "      <td>1.0</td>\n",
       "      <td>0.0</td>\n",
       "      <td>...</td>\n",
       "      <td>-0.359845</td>\n",
       "      <td>-0.292527</td>\n",
       "      <td>2.704835</td>\n",
       "      <td>-1.429498</td>\n",
       "      <td>2.822176</td>\n",
       "      <td>-0.024077</td>\n",
       "      <td>-1.464676</td>\n",
       "      <td>-1.792139</td>\n",
       "      <td>-1.867551</td>\n",
       "      <td>1783.0</td>\n",
       "    </tr>\n",
       "  </tbody>\n",
       "</table>\n",
       "<p>5 rows × 686 columns</p>\n",
       "</div>"
      ],
      "text/plain": [
       "   ANREDE_KZ_1  ANREDE_KZ_2  CAMEO_DEUG_2015_1  CAMEO_DEUG_2015_2  \\\n",
       "0          0.0          1.0                0.0                0.0   \n",
       "1          0.0          1.0                0.0                0.0   \n",
       "2          1.0          0.0                0.0                1.0   \n",
       "3          0.0          1.0                0.0                1.0   \n",
       "4          1.0          0.0                0.0                0.0   \n",
       "\n",
       "   CAMEO_DEUG_2015_3  CAMEO_DEUG_2015_4  CAMEO_DEUG_2015_5  CAMEO_DEUG_2015_6  \\\n",
       "0                0.0                0.0                1.0                0.0   \n",
       "1                0.0                0.0                1.0                0.0   \n",
       "2                0.0                0.0                0.0                0.0   \n",
       "3                0.0                0.0                0.0                0.0   \n",
       "4                0.0                0.0                0.0                0.0   \n",
       "\n",
       "   CAMEO_DEUG_2015_7  CAMEO_DEUG_2015_8  ...  MIN_GEBAEUDEJAHR  ANZ_KINDER  \\\n",
       "0                0.0                0.0  ...         -0.359845   -0.292527   \n",
       "1                0.0                0.0  ...          0.269507   -0.292527   \n",
       "2                0.0                0.0  ...          0.584183   -0.292527   \n",
       "3                0.0                0.0  ...         -0.359845   -0.292527   \n",
       "4                1.0                0.0  ...         -0.359845   -0.292527   \n",
       "\n",
       "   ANZ_STATISTISCHE_HAUSHALTE  EINGEZOGENAM_HH_JAHR  EXTSEL992  \\\n",
       "0                    0.431332              0.048946   1.755996   \n",
       "1                   -0.448734             -1.429498   2.955448   \n",
       "2                   -0.448734             -0.985965   0.289999   \n",
       "3                   -0.228718             -1.429498   0.956362   \n",
       "4                    2.704835             -1.429498   2.822176   \n",
       "\n",
       "   VERDICHTUNGSRAUM  VK_DHT4A  VK_DISTANZ   VK_ZG11     LNR  \n",
       "0         -0.024077 -0.366474   -1.792139 -1.867551  1763.0  \n",
       "1         -0.519516 -1.830744   -1.792139 -1.867551  1771.0  \n",
       "2          0.719083 -0.000407   -1.148872 -1.490312  1776.0  \n",
       "3          0.099783  0.731728    1.102566  1.904842  1460.0  \n",
       "4         -0.024077 -1.464676   -1.792139 -1.867551  1783.0  \n",
       "\n",
       "[5 rows x 686 columns]"
      ]
     },
     "execution_count": 7,
     "metadata": {},
     "output_type": "execute_result"
    }
   ],
   "source": [
    "mailout_train = clean_pipeline.transform(mailout_train)\n",
    "mailout_train = pd.DataFrame(mailout_train, columns=all_features)\n",
    "mailout_train.head()"
   ]
  },
  {
   "cell_type": "markdown",
   "metadata": {
    "hidden": true
   },
   "source": [
    "Reduce the memory usage"
   ]
  },
  {
   "cell_type": "code",
   "execution_count": 8,
   "metadata": {
    "ExecuteTime": {
     "end_time": "2019-08-12T12:07:47.967762Z",
     "start_time": "2019-08-12T12:07:03.315909Z"
    },
    "hidden": true,
    "scrolled": false
   },
   "outputs": [
    {
     "name": "stdout",
     "output_type": "stream",
     "text": [
      "Memory usage of dataframe:  0.6556243896484375  MB\n"
     ]
    },
    {
     "data": {
      "application/vnd.jupyter.widget-view+json": {
       "model_id": "bd2b67e7ccea4481bdde992930993eb2",
       "version_major": 2,
       "version_minor": 0
      },
      "text/plain": [
       "HBox(children=(IntProgress(value=0, max=2), HTML(value='')))"
      ]
     },
     "metadata": {},
     "output_type": "display_data"
    },
    {
     "name": "stdout",
     "output_type": "stream",
     "text": [
      "\n",
      "___MEMORY USAGE AFTER COMPLETION:___\n",
      "Memory usage is: 0.20493507385253906 MB\n",
      "This is 31.26% of the initial size\n",
      "Memory usage of dataframe:  224.8530731201172  MB\n"
     ]
    },
    {
     "data": {
      "application/vnd.jupyter.widget-view+json": {
       "model_id": "d52bccafba4c420bad09f1882b300eb6",
       "version_major": 2,
       "version_minor": 0
      },
      "text/plain": [
       "HBox(children=(IntProgress(value=0, max=686), HTML(value='')))"
      ]
     },
     "metadata": {},
     "output_type": "display_data"
    },
    {
     "name": "stdout",
     "output_type": "stream",
     "text": [
      "\n",
      "___MEMORY USAGE AFTER COMPLETION:___\n",
      "Memory usage is: 30.073345184326172 MB\n",
      "This is 13.37% of the initial size\n"
     ]
    }
   ],
   "source": [
    "mailout_train_extra, _ = reduce_mem_usage(mailout_train_extra)\n",
    "milout_train, _ = reduce_mem_usage(mailout_train)"
   ]
  },
  {
   "cell_type": "markdown",
   "metadata": {
    "hidden": true
   },
   "source": [
    "Put back the extra columns"
   ]
  },
  {
   "cell_type": "code",
   "execution_count": 9,
   "metadata": {
    "ExecuteTime": {
     "end_time": "2019-08-12T12:07:48.195882Z",
     "start_time": "2019-08-12T12:07:47.968764Z"
    },
    "hidden": true
   },
   "outputs": [
    {
     "data": {
      "text/html": [
       "<div>\n",
       "<style scoped>\n",
       "    .dataframe tbody tr th:only-of-type {\n",
       "        vertical-align: middle;\n",
       "    }\n",
       "\n",
       "    .dataframe tbody tr th {\n",
       "        vertical-align: top;\n",
       "    }\n",
       "\n",
       "    .dataframe thead th {\n",
       "        text-align: right;\n",
       "    }\n",
       "</style>\n",
       "<table border=\"1\" class=\"dataframe\">\n",
       "  <thead>\n",
       "    <tr style=\"text-align: right;\">\n",
       "      <th></th>\n",
       "      <th>ANREDE_KZ_1</th>\n",
       "      <th>ANREDE_KZ_2</th>\n",
       "      <th>CAMEO_DEUG_2015_1</th>\n",
       "      <th>CAMEO_DEUG_2015_2</th>\n",
       "      <th>CAMEO_DEUG_2015_3</th>\n",
       "      <th>CAMEO_DEUG_2015_4</th>\n",
       "      <th>CAMEO_DEUG_2015_5</th>\n",
       "      <th>CAMEO_DEUG_2015_6</th>\n",
       "      <th>CAMEO_DEUG_2015_7</th>\n",
       "      <th>CAMEO_DEUG_2015_8</th>\n",
       "      <th>...</th>\n",
       "      <th>ANZ_KINDER</th>\n",
       "      <th>ANZ_STATISTISCHE_HAUSHALTE</th>\n",
       "      <th>EINGEZOGENAM_HH_JAHR</th>\n",
       "      <th>EXTSEL992</th>\n",
       "      <th>VERDICHTUNGSRAUM</th>\n",
       "      <th>VK_DHT4A</th>\n",
       "      <th>VK_DISTANZ</th>\n",
       "      <th>VK_ZG11</th>\n",
       "      <th>LNR</th>\n",
       "      <th>RESPONSE</th>\n",
       "    </tr>\n",
       "  </thead>\n",
       "  <tbody>\n",
       "    <tr>\n",
       "      <th>0</th>\n",
       "      <td>0</td>\n",
       "      <td>1</td>\n",
       "      <td>0</td>\n",
       "      <td>0</td>\n",
       "      <td>0</td>\n",
       "      <td>0</td>\n",
       "      <td>1</td>\n",
       "      <td>0</td>\n",
       "      <td>0</td>\n",
       "      <td>0</td>\n",
       "      <td>...</td>\n",
       "      <td>-0.292527</td>\n",
       "      <td>0.431332</td>\n",
       "      <td>0.048946</td>\n",
       "      <td>1.755996</td>\n",
       "      <td>-0.024077</td>\n",
       "      <td>-0.366474</td>\n",
       "      <td>-1.792139</td>\n",
       "      <td>-1.867551</td>\n",
       "      <td>1763</td>\n",
       "      <td>0</td>\n",
       "    </tr>\n",
       "    <tr>\n",
       "      <th>1</th>\n",
       "      <td>0</td>\n",
       "      <td>1</td>\n",
       "      <td>0</td>\n",
       "      <td>0</td>\n",
       "      <td>0</td>\n",
       "      <td>0</td>\n",
       "      <td>1</td>\n",
       "      <td>0</td>\n",
       "      <td>0</td>\n",
       "      <td>0</td>\n",
       "      <td>...</td>\n",
       "      <td>-0.292527</td>\n",
       "      <td>-0.448734</td>\n",
       "      <td>-1.429498</td>\n",
       "      <td>2.955448</td>\n",
       "      <td>-0.519516</td>\n",
       "      <td>-1.830744</td>\n",
       "      <td>-1.792139</td>\n",
       "      <td>-1.867551</td>\n",
       "      <td>1771</td>\n",
       "      <td>0</td>\n",
       "    </tr>\n",
       "    <tr>\n",
       "      <th>2</th>\n",
       "      <td>1</td>\n",
       "      <td>0</td>\n",
       "      <td>0</td>\n",
       "      <td>1</td>\n",
       "      <td>0</td>\n",
       "      <td>0</td>\n",
       "      <td>0</td>\n",
       "      <td>0</td>\n",
       "      <td>0</td>\n",
       "      <td>0</td>\n",
       "      <td>...</td>\n",
       "      <td>-0.292527</td>\n",
       "      <td>-0.448734</td>\n",
       "      <td>-0.985965</td>\n",
       "      <td>0.289999</td>\n",
       "      <td>0.719083</td>\n",
       "      <td>-0.000407</td>\n",
       "      <td>-1.148872</td>\n",
       "      <td>-1.490312</td>\n",
       "      <td>1776</td>\n",
       "      <td>0</td>\n",
       "    </tr>\n",
       "    <tr>\n",
       "      <th>3</th>\n",
       "      <td>0</td>\n",
       "      <td>1</td>\n",
       "      <td>0</td>\n",
       "      <td>1</td>\n",
       "      <td>0</td>\n",
       "      <td>0</td>\n",
       "      <td>0</td>\n",
       "      <td>0</td>\n",
       "      <td>0</td>\n",
       "      <td>0</td>\n",
       "      <td>...</td>\n",
       "      <td>-0.292527</td>\n",
       "      <td>-0.228718</td>\n",
       "      <td>-1.429498</td>\n",
       "      <td>0.956362</td>\n",
       "      <td>0.099783</td>\n",
       "      <td>0.731728</td>\n",
       "      <td>1.102566</td>\n",
       "      <td>1.904842</td>\n",
       "      <td>1460</td>\n",
       "      <td>0</td>\n",
       "    </tr>\n",
       "    <tr>\n",
       "      <th>4</th>\n",
       "      <td>1</td>\n",
       "      <td>0</td>\n",
       "      <td>0</td>\n",
       "      <td>0</td>\n",
       "      <td>0</td>\n",
       "      <td>0</td>\n",
       "      <td>0</td>\n",
       "      <td>0</td>\n",
       "      <td>1</td>\n",
       "      <td>0</td>\n",
       "      <td>...</td>\n",
       "      <td>-0.292527</td>\n",
       "      <td>2.704835</td>\n",
       "      <td>-1.429498</td>\n",
       "      <td>2.822176</td>\n",
       "      <td>-0.024077</td>\n",
       "      <td>-1.464676</td>\n",
       "      <td>-1.792139</td>\n",
       "      <td>-1.867551</td>\n",
       "      <td>1783</td>\n",
       "      <td>0</td>\n",
       "    </tr>\n",
       "  </tbody>\n",
       "</table>\n",
       "<p>5 rows × 687 columns</p>\n",
       "</div>"
      ],
      "text/plain": [
       "   ANREDE_KZ_1  ANREDE_KZ_2  CAMEO_DEUG_2015_1  CAMEO_DEUG_2015_2  \\\n",
       "0            0            1                  0                  0   \n",
       "1            0            1                  0                  0   \n",
       "2            1            0                  0                  1   \n",
       "3            0            1                  0                  1   \n",
       "4            1            0                  0                  0   \n",
       "\n",
       "   CAMEO_DEUG_2015_3  CAMEO_DEUG_2015_4  CAMEO_DEUG_2015_5  CAMEO_DEUG_2015_6  \\\n",
       "0                  0                  0                  1                  0   \n",
       "1                  0                  0                  1                  0   \n",
       "2                  0                  0                  0                  0   \n",
       "3                  0                  0                  0                  0   \n",
       "4                  0                  0                  0                  0   \n",
       "\n",
       "   CAMEO_DEUG_2015_7  CAMEO_DEUG_2015_8  ...  ANZ_KINDER  \\\n",
       "0                  0                  0  ...   -0.292527   \n",
       "1                  0                  0  ...   -0.292527   \n",
       "2                  0                  0  ...   -0.292527   \n",
       "3                  0                  0  ...   -0.292527   \n",
       "4                  1                  0  ...   -0.292527   \n",
       "\n",
       "   ANZ_STATISTISCHE_HAUSHALTE  EINGEZOGENAM_HH_JAHR  EXTSEL992  \\\n",
       "0                    0.431332              0.048946   1.755996   \n",
       "1                   -0.448734             -1.429498   2.955448   \n",
       "2                   -0.448734             -0.985965   0.289999   \n",
       "3                   -0.228718             -1.429498   0.956362   \n",
       "4                    2.704835             -1.429498   2.822176   \n",
       "\n",
       "   VERDICHTUNGSRAUM  VK_DHT4A  VK_DISTANZ   VK_ZG11   LNR  RESPONSE  \n",
       "0         -0.024077 -0.366474   -1.792139 -1.867551  1763         0  \n",
       "1         -0.519516 -1.830744   -1.792139 -1.867551  1771         0  \n",
       "2          0.719083 -0.000407   -1.148872 -1.490312  1776         0  \n",
       "3          0.099783  0.731728    1.102566  1.904842  1460         0  \n",
       "4         -0.024077 -1.464676   -1.792139 -1.867551  1783         0  \n",
       "\n",
       "[5 rows x 687 columns]"
      ]
     },
     "execution_count": 9,
     "metadata": {},
     "output_type": "execute_result"
    }
   ],
   "source": [
    "mailout_train = pd.merge(mailout_train, mailout_train_extra, how='inner', on='LNR')\n",
    "mailout_train.head()"
   ]
  },
  {
   "cell_type": "markdown",
   "metadata": {
    "hidden": true
   },
   "source": [
    "Save the dataset for further usage"
   ]
  },
  {
   "cell_type": "code",
   "execution_count": 10,
   "metadata": {
    "ExecuteTime": {
     "end_time": "2019-08-12T12:07:49.412829Z",
     "start_time": "2019-08-12T12:07:48.196849Z"
    },
    "hidden": true
   },
   "outputs": [
    {
     "name": "stderr",
     "output_type": "stream",
     "text": [
      "C:\\Users\\radue\\Anaconda3\\envs\\udacity_ml_capstone\\lib\\site-packages\\pyarrow\\pandas_compat.py:114: FutureWarning: A future version of pandas will default to `skipna=True`. To silence this warning, pass `skipna=True|False` explicitly.\n",
      "  result = infer_dtype(pandas_collection)\n"
     ]
    }
   ],
   "source": [
    "mailout_train.to_parquet('temp/mailout_train_processed.gzip', compression='gzip')"
   ]
  },
  {
   "cell_type": "markdown",
   "metadata": {
    "heading_collapsed": true,
    "hidden": true
   },
   "source": [
    "### Mailout Test"
   ]
  },
  {
   "cell_type": "code",
   "execution_count": 11,
   "metadata": {
    "ExecuteTime": {
     "end_time": "2019-08-12T12:08:18.136430Z",
     "start_time": "2019-08-12T12:07:49.413769Z"
    },
    "hidden": true
   },
   "outputs": [
    {
     "data": {
      "text/html": [
       "<div>\n",
       "<style scoped>\n",
       "    .dataframe tbody tr th:only-of-type {\n",
       "        vertical-align: middle;\n",
       "    }\n",
       "\n",
       "    .dataframe tbody tr th {\n",
       "        vertical-align: top;\n",
       "    }\n",
       "\n",
       "    .dataframe thead th {\n",
       "        text-align: right;\n",
       "    }\n",
       "</style>\n",
       "<table border=\"1\" class=\"dataframe\">\n",
       "  <thead>\n",
       "    <tr style=\"text-align: right;\">\n",
       "      <th></th>\n",
       "      <th>ANREDE_KZ_1</th>\n",
       "      <th>ANREDE_KZ_2</th>\n",
       "      <th>CAMEO_DEUG_2015_1</th>\n",
       "      <th>CAMEO_DEUG_2015_2</th>\n",
       "      <th>CAMEO_DEUG_2015_3</th>\n",
       "      <th>CAMEO_DEUG_2015_4</th>\n",
       "      <th>CAMEO_DEUG_2015_5</th>\n",
       "      <th>CAMEO_DEUG_2015_6</th>\n",
       "      <th>CAMEO_DEUG_2015_7</th>\n",
       "      <th>CAMEO_DEUG_2015_8</th>\n",
       "      <th>...</th>\n",
       "      <th>MIN_GEBAEUDEJAHR</th>\n",
       "      <th>ANZ_KINDER</th>\n",
       "      <th>ANZ_STATISTISCHE_HAUSHALTE</th>\n",
       "      <th>EINGEZOGENAM_HH_JAHR</th>\n",
       "      <th>EXTSEL992</th>\n",
       "      <th>VERDICHTUNGSRAUM</th>\n",
       "      <th>VK_DHT4A</th>\n",
       "      <th>VK_DISTANZ</th>\n",
       "      <th>VK_ZG11</th>\n",
       "      <th>LNR</th>\n",
       "    </tr>\n",
       "  </thead>\n",
       "  <tbody>\n",
       "    <tr>\n",
       "      <th>0</th>\n",
       "      <td>1.0</td>\n",
       "      <td>0.0</td>\n",
       "      <td>0.0</td>\n",
       "      <td>1.0</td>\n",
       "      <td>0.0</td>\n",
       "      <td>0.0</td>\n",
       "      <td>0.0</td>\n",
       "      <td>0.0</td>\n",
       "      <td>0.0</td>\n",
       "      <td>0.0</td>\n",
       "      <td>...</td>\n",
       "      <td>-0.045169</td>\n",
       "      <td>-0.292527</td>\n",
       "      <td>-0.375395</td>\n",
       "      <td>-1.429498</td>\n",
       "      <td>0.023455</td>\n",
       "      <td>2.329261</td>\n",
       "      <td>-0.366474</td>\n",
       "      <td>-0.505604</td>\n",
       "      <td>-1.113073</td>\n",
       "      <td>1754.0</td>\n",
       "    </tr>\n",
       "    <tr>\n",
       "      <th>1</th>\n",
       "      <td>1.0</td>\n",
       "      <td>0.0</td>\n",
       "      <td>0.0</td>\n",
       "      <td>0.0</td>\n",
       "      <td>0.0</td>\n",
       "      <td>0.0</td>\n",
       "      <td>1.0</td>\n",
       "      <td>0.0</td>\n",
       "      <td>0.0</td>\n",
       "      <td>0.0</td>\n",
       "      <td>...</td>\n",
       "      <td>-0.359845</td>\n",
       "      <td>-0.292527</td>\n",
       "      <td>1.018042</td>\n",
       "      <td>-0.838120</td>\n",
       "      <td>1.755996</td>\n",
       "      <td>-0.519516</td>\n",
       "      <td>-0.366474</td>\n",
       "      <td>-1.792139</td>\n",
       "      <td>-1.867551</td>\n",
       "      <td>1770.0</td>\n",
       "    </tr>\n",
       "    <tr>\n",
       "      <th>2</th>\n",
       "      <td>0.0</td>\n",
       "      <td>1.0</td>\n",
       "      <td>0.0</td>\n",
       "      <td>0.0</td>\n",
       "      <td>0.0</td>\n",
       "      <td>0.0</td>\n",
       "      <td>0.0</td>\n",
       "      <td>0.0</td>\n",
       "      <td>1.0</td>\n",
       "      <td>0.0</td>\n",
       "      <td>...</td>\n",
       "      <td>-0.359845</td>\n",
       "      <td>-0.292527</td>\n",
       "      <td>-0.375395</td>\n",
       "      <td>-1.429498</td>\n",
       "      <td>0.156727</td>\n",
       "      <td>1.338382</td>\n",
       "      <td>1.097796</td>\n",
       "      <td>-0.505604</td>\n",
       "      <td>-1.113073</td>\n",
       "      <td>1465.0</td>\n",
       "    </tr>\n",
       "    <tr>\n",
       "      <th>3</th>\n",
       "      <td>0.0</td>\n",
       "      <td>1.0</td>\n",
       "      <td>0.0</td>\n",
       "      <td>1.0</td>\n",
       "      <td>0.0</td>\n",
       "      <td>0.0</td>\n",
       "      <td>0.0</td>\n",
       "      <td>0.0</td>\n",
       "      <td>0.0</td>\n",
       "      <td>0.0</td>\n",
       "      <td>...</td>\n",
       "      <td>-0.359845</td>\n",
       "      <td>-0.292527</td>\n",
       "      <td>-0.448734</td>\n",
       "      <td>-1.429498</td>\n",
       "      <td>-0.376363</td>\n",
       "      <td>0.719083</td>\n",
       "      <td>-0.000407</td>\n",
       "      <td>-0.505604</td>\n",
       "      <td>-1.113073</td>\n",
       "      <td>1470.0</td>\n",
       "    </tr>\n",
       "    <tr>\n",
       "      <th>4</th>\n",
       "      <td>0.0</td>\n",
       "      <td>1.0</td>\n",
       "      <td>0.0</td>\n",
       "      <td>0.0</td>\n",
       "      <td>0.0</td>\n",
       "      <td>0.0</td>\n",
       "      <td>1.0</td>\n",
       "      <td>0.0</td>\n",
       "      <td>0.0</td>\n",
       "      <td>0.0</td>\n",
       "      <td>...</td>\n",
       "      <td>-0.359845</td>\n",
       "      <td>-0.292527</td>\n",
       "      <td>-0.448734</td>\n",
       "      <td>-0.542432</td>\n",
       "      <td>0.289999</td>\n",
       "      <td>-0.519516</td>\n",
       "      <td>-1.464676</td>\n",
       "      <td>-1.148872</td>\n",
       "      <td>-1.113073</td>\n",
       "      <td>1478.0</td>\n",
       "    </tr>\n",
       "  </tbody>\n",
       "</table>\n",
       "<p>5 rows × 686 columns</p>\n",
       "</div>"
      ],
      "text/plain": [
       "   ANREDE_KZ_1  ANREDE_KZ_2  CAMEO_DEUG_2015_1  CAMEO_DEUG_2015_2  \\\n",
       "0          1.0          0.0                0.0                1.0   \n",
       "1          1.0          0.0                0.0                0.0   \n",
       "2          0.0          1.0                0.0                0.0   \n",
       "3          0.0          1.0                0.0                1.0   \n",
       "4          0.0          1.0                0.0                0.0   \n",
       "\n",
       "   CAMEO_DEUG_2015_3  CAMEO_DEUG_2015_4  CAMEO_DEUG_2015_5  CAMEO_DEUG_2015_6  \\\n",
       "0                0.0                0.0                0.0                0.0   \n",
       "1                0.0                0.0                1.0                0.0   \n",
       "2                0.0                0.0                0.0                0.0   \n",
       "3                0.0                0.0                0.0                0.0   \n",
       "4                0.0                0.0                1.0                0.0   \n",
       "\n",
       "   CAMEO_DEUG_2015_7  CAMEO_DEUG_2015_8  ...  MIN_GEBAEUDEJAHR  ANZ_KINDER  \\\n",
       "0                0.0                0.0  ...         -0.045169   -0.292527   \n",
       "1                0.0                0.0  ...         -0.359845   -0.292527   \n",
       "2                1.0                0.0  ...         -0.359845   -0.292527   \n",
       "3                0.0                0.0  ...         -0.359845   -0.292527   \n",
       "4                0.0                0.0  ...         -0.359845   -0.292527   \n",
       "\n",
       "   ANZ_STATISTISCHE_HAUSHALTE  EINGEZOGENAM_HH_JAHR  EXTSEL992  \\\n",
       "0                   -0.375395             -1.429498   0.023455   \n",
       "1                    1.018042             -0.838120   1.755996   \n",
       "2                   -0.375395             -1.429498   0.156727   \n",
       "3                   -0.448734             -1.429498  -0.376363   \n",
       "4                   -0.448734             -0.542432   0.289999   \n",
       "\n",
       "   VERDICHTUNGSRAUM  VK_DHT4A  VK_DISTANZ   VK_ZG11     LNR  \n",
       "0          2.329261 -0.366474   -0.505604 -1.113073  1754.0  \n",
       "1         -0.519516 -0.366474   -1.792139 -1.867551  1770.0  \n",
       "2          1.338382  1.097796   -0.505604 -1.113073  1465.0  \n",
       "3          0.719083 -0.000407   -0.505604 -1.113073  1470.0  \n",
       "4         -0.519516 -1.464676   -1.148872 -1.113073  1478.0  \n",
       "\n",
       "[5 rows x 686 columns]"
      ]
     },
     "execution_count": 11,
     "metadata": {},
     "output_type": "execute_result"
    }
   ],
   "source": [
    "mailout_test = clean_pipeline.transform(mailout_test)\n",
    "mailout_test = pd.DataFrame(mailout_test, columns=all_features)\n",
    "mailout_test.head()"
   ]
  },
  {
   "cell_type": "markdown",
   "metadata": {
    "hidden": true
   },
   "source": [
    "Reduce memory usage"
   ]
  },
  {
   "cell_type": "code",
   "execution_count": 12,
   "metadata": {
    "ExecuteTime": {
     "end_time": "2019-08-12T12:09:03.242520Z",
     "start_time": "2019-08-12T12:08:18.138425Z"
    },
    "hidden": true
   },
   "outputs": [
    {
     "name": "stdout",
     "output_type": "stream",
     "text": [
      "Memory usage of dataframe:  224.17791748046875  MB\n"
     ]
    },
    {
     "data": {
      "application/vnd.jupyter.widget-view+json": {
       "model_id": "72ec6755bfa84df989d86372807f6861",
       "version_major": 2,
       "version_minor": 0
      },
      "text/plain": [
       "HBox(children=(IntProgress(value=0, max=686), HTML(value='')))"
      ]
     },
     "metadata": {},
     "output_type": "display_data"
    },
    {
     "name": "stdout",
     "output_type": "stream",
     "text": [
      "\n",
      "___MEMORY USAGE AFTER COMPLETION:___\n",
      "Memory usage is: 29.98304557800293 MB\n",
      "This is 13.37% of the initial size\n"
     ]
    },
    {
     "data": {
      "text/html": [
       "<div>\n",
       "<style scoped>\n",
       "    .dataframe tbody tr th:only-of-type {\n",
       "        vertical-align: middle;\n",
       "    }\n",
       "\n",
       "    .dataframe tbody tr th {\n",
       "        vertical-align: top;\n",
       "    }\n",
       "\n",
       "    .dataframe thead th {\n",
       "        text-align: right;\n",
       "    }\n",
       "</style>\n",
       "<table border=\"1\" class=\"dataframe\">\n",
       "  <thead>\n",
       "    <tr style=\"text-align: right;\">\n",
       "      <th></th>\n",
       "      <th>ANREDE_KZ_1</th>\n",
       "      <th>ANREDE_KZ_2</th>\n",
       "      <th>CAMEO_DEUG_2015_1</th>\n",
       "      <th>CAMEO_DEUG_2015_2</th>\n",
       "      <th>CAMEO_DEUG_2015_3</th>\n",
       "      <th>CAMEO_DEUG_2015_4</th>\n",
       "      <th>CAMEO_DEUG_2015_5</th>\n",
       "      <th>CAMEO_DEUG_2015_6</th>\n",
       "      <th>CAMEO_DEUG_2015_7</th>\n",
       "      <th>CAMEO_DEUG_2015_8</th>\n",
       "      <th>...</th>\n",
       "      <th>MIN_GEBAEUDEJAHR</th>\n",
       "      <th>ANZ_KINDER</th>\n",
       "      <th>ANZ_STATISTISCHE_HAUSHALTE</th>\n",
       "      <th>EINGEZOGENAM_HH_JAHR</th>\n",
       "      <th>EXTSEL992</th>\n",
       "      <th>VERDICHTUNGSRAUM</th>\n",
       "      <th>VK_DHT4A</th>\n",
       "      <th>VK_DISTANZ</th>\n",
       "      <th>VK_ZG11</th>\n",
       "      <th>LNR</th>\n",
       "    </tr>\n",
       "  </thead>\n",
       "  <tbody>\n",
       "    <tr>\n",
       "      <th>0</th>\n",
       "      <td>1</td>\n",
       "      <td>0</td>\n",
       "      <td>0</td>\n",
       "      <td>1</td>\n",
       "      <td>0</td>\n",
       "      <td>0</td>\n",
       "      <td>0</td>\n",
       "      <td>0</td>\n",
       "      <td>0</td>\n",
       "      <td>0</td>\n",
       "      <td>...</td>\n",
       "      <td>-0.045169</td>\n",
       "      <td>-0.292527</td>\n",
       "      <td>-0.375395</td>\n",
       "      <td>-1.429498</td>\n",
       "      <td>0.023455</td>\n",
       "      <td>2.329261</td>\n",
       "      <td>-0.366474</td>\n",
       "      <td>-0.505604</td>\n",
       "      <td>-1.113073</td>\n",
       "      <td>1754</td>\n",
       "    </tr>\n",
       "    <tr>\n",
       "      <th>1</th>\n",
       "      <td>1</td>\n",
       "      <td>0</td>\n",
       "      <td>0</td>\n",
       "      <td>0</td>\n",
       "      <td>0</td>\n",
       "      <td>0</td>\n",
       "      <td>1</td>\n",
       "      <td>0</td>\n",
       "      <td>0</td>\n",
       "      <td>0</td>\n",
       "      <td>...</td>\n",
       "      <td>-0.359845</td>\n",
       "      <td>-0.292527</td>\n",
       "      <td>1.018042</td>\n",
       "      <td>-0.838120</td>\n",
       "      <td>1.755996</td>\n",
       "      <td>-0.519516</td>\n",
       "      <td>-0.366474</td>\n",
       "      <td>-1.792139</td>\n",
       "      <td>-1.867551</td>\n",
       "      <td>1770</td>\n",
       "    </tr>\n",
       "    <tr>\n",
       "      <th>2</th>\n",
       "      <td>0</td>\n",
       "      <td>1</td>\n",
       "      <td>0</td>\n",
       "      <td>0</td>\n",
       "      <td>0</td>\n",
       "      <td>0</td>\n",
       "      <td>0</td>\n",
       "      <td>0</td>\n",
       "      <td>1</td>\n",
       "      <td>0</td>\n",
       "      <td>...</td>\n",
       "      <td>-0.359845</td>\n",
       "      <td>-0.292527</td>\n",
       "      <td>-0.375395</td>\n",
       "      <td>-1.429498</td>\n",
       "      <td>0.156727</td>\n",
       "      <td>1.338382</td>\n",
       "      <td>1.097796</td>\n",
       "      <td>-0.505604</td>\n",
       "      <td>-1.113073</td>\n",
       "      <td>1465</td>\n",
       "    </tr>\n",
       "    <tr>\n",
       "      <th>3</th>\n",
       "      <td>0</td>\n",
       "      <td>1</td>\n",
       "      <td>0</td>\n",
       "      <td>1</td>\n",
       "      <td>0</td>\n",
       "      <td>0</td>\n",
       "      <td>0</td>\n",
       "      <td>0</td>\n",
       "      <td>0</td>\n",
       "      <td>0</td>\n",
       "      <td>...</td>\n",
       "      <td>-0.359845</td>\n",
       "      <td>-0.292527</td>\n",
       "      <td>-0.448734</td>\n",
       "      <td>-1.429498</td>\n",
       "      <td>-0.376363</td>\n",
       "      <td>0.719083</td>\n",
       "      <td>-0.000407</td>\n",
       "      <td>-0.505604</td>\n",
       "      <td>-1.113073</td>\n",
       "      <td>1470</td>\n",
       "    </tr>\n",
       "    <tr>\n",
       "      <th>4</th>\n",
       "      <td>0</td>\n",
       "      <td>1</td>\n",
       "      <td>0</td>\n",
       "      <td>0</td>\n",
       "      <td>0</td>\n",
       "      <td>0</td>\n",
       "      <td>1</td>\n",
       "      <td>0</td>\n",
       "      <td>0</td>\n",
       "      <td>0</td>\n",
       "      <td>...</td>\n",
       "      <td>-0.359845</td>\n",
       "      <td>-0.292527</td>\n",
       "      <td>-0.448734</td>\n",
       "      <td>-0.542432</td>\n",
       "      <td>0.289999</td>\n",
       "      <td>-0.519516</td>\n",
       "      <td>-1.464676</td>\n",
       "      <td>-1.148872</td>\n",
       "      <td>-1.113073</td>\n",
       "      <td>1478</td>\n",
       "    </tr>\n",
       "  </tbody>\n",
       "</table>\n",
       "<p>5 rows × 686 columns</p>\n",
       "</div>"
      ],
      "text/plain": [
       "   ANREDE_KZ_1  ANREDE_KZ_2  CAMEO_DEUG_2015_1  CAMEO_DEUG_2015_2  \\\n",
       "0            1            0                  0                  1   \n",
       "1            1            0                  0                  0   \n",
       "2            0            1                  0                  0   \n",
       "3            0            1                  0                  1   \n",
       "4            0            1                  0                  0   \n",
       "\n",
       "   CAMEO_DEUG_2015_3  CAMEO_DEUG_2015_4  CAMEO_DEUG_2015_5  CAMEO_DEUG_2015_6  \\\n",
       "0                  0                  0                  0                  0   \n",
       "1                  0                  0                  1                  0   \n",
       "2                  0                  0                  0                  0   \n",
       "3                  0                  0                  0                  0   \n",
       "4                  0                  0                  1                  0   \n",
       "\n",
       "   CAMEO_DEUG_2015_7  CAMEO_DEUG_2015_8  ...  MIN_GEBAEUDEJAHR  ANZ_KINDER  \\\n",
       "0                  0                  0  ...         -0.045169   -0.292527   \n",
       "1                  0                  0  ...         -0.359845   -0.292527   \n",
       "2                  1                  0  ...         -0.359845   -0.292527   \n",
       "3                  0                  0  ...         -0.359845   -0.292527   \n",
       "4                  0                  0  ...         -0.359845   -0.292527   \n",
       "\n",
       "   ANZ_STATISTISCHE_HAUSHALTE  EINGEZOGENAM_HH_JAHR  EXTSEL992  \\\n",
       "0                   -0.375395             -1.429498   0.023455   \n",
       "1                    1.018042             -0.838120   1.755996   \n",
       "2                   -0.375395             -1.429498   0.156727   \n",
       "3                   -0.448734             -1.429498  -0.376363   \n",
       "4                   -0.448734             -0.542432   0.289999   \n",
       "\n",
       "   VERDICHTUNGSRAUM  VK_DHT4A  VK_DISTANZ   VK_ZG11   LNR  \n",
       "0          2.329261 -0.366474   -0.505604 -1.113073  1754  \n",
       "1         -0.519516 -0.366474   -1.792139 -1.867551  1770  \n",
       "2          1.338382  1.097796   -0.505604 -1.113073  1465  \n",
       "3          0.719083 -0.000407   -0.505604 -1.113073  1470  \n",
       "4         -0.519516 -1.464676   -1.148872 -1.113073  1478  \n",
       "\n",
       "[5 rows x 686 columns]"
      ]
     },
     "execution_count": 12,
     "metadata": {},
     "output_type": "execute_result"
    }
   ],
   "source": [
    "mailout_test, _ = reduce_mem_usage(mailout_test)\n",
    "mailout_test.head()"
   ]
  },
  {
   "cell_type": "markdown",
   "metadata": {
    "hidden": true
   },
   "source": [
    "Save the dataset for further usage"
   ]
  },
  {
   "cell_type": "code",
   "execution_count": 13,
   "metadata": {
    "ExecuteTime": {
     "end_time": "2019-08-12T12:09:04.501987Z",
     "start_time": "2019-08-12T12:09:03.244484Z"
    },
    "hidden": true
   },
   "outputs": [
    {
     "name": "stderr",
     "output_type": "stream",
     "text": [
      "C:\\Users\\radue\\Anaconda3\\envs\\udacity_ml_capstone\\lib\\site-packages\\pyarrow\\pandas_compat.py:114: FutureWarning: A future version of pandas will default to `skipna=True`. To silence this warning, pass `skipna=True|False` explicitly.\n",
      "  result = infer_dtype(pandas_collection)\n"
     ]
    }
   ],
   "source": [
    "mailout_test.to_parquet('temp/mailout_test_processed.gzip', compression='gzip')"
   ]
  },
  {
   "cell_type": "markdown",
   "metadata": {
    "heading_collapsed": true
   },
   "source": [
    "## Dimensionality Reduction & Clustering"
   ]
  },
  {
   "cell_type": "markdown",
   "metadata": {
    "hidden": true
   },
   "source": [
    "Load the pca model"
   ]
  },
  {
   "cell_type": "code",
   "execution_count": 14,
   "metadata": {
    "ExecuteTime": {
     "end_time": "2019-08-12T12:09:04.508970Z",
     "start_time": "2019-08-12T12:09:04.503020Z"
    },
    "hidden": true
   },
   "outputs": [],
   "source": [
    "pca = load('temp/pca.joblib') "
   ]
  },
  {
   "cell_type": "markdown",
   "metadata": {
    "hidden": true
   },
   "source": [
    "Load the KMeans model"
   ]
  },
  {
   "cell_type": "code",
   "execution_count": 15,
   "metadata": {
    "ExecuteTime": {
     "end_time": "2019-08-12T12:09:04.518942Z",
     "start_time": "2019-08-12T12:09:04.510965Z"
    },
    "hidden": true
   },
   "outputs": [],
   "source": [
    "kmeans = load('temp/kmeans_model.joblib') "
   ]
  },
  {
   "cell_type": "markdown",
   "metadata": {
    "hidden": true
   },
   "source": [
    "### Mailout Train"
   ]
  },
  {
   "cell_type": "code",
   "execution_count": 16,
   "metadata": {
    "ExecuteTime": {
     "end_time": "2019-08-12T12:09:05.028578Z",
     "start_time": "2019-08-12T12:09:04.521934Z"
    },
    "hidden": true
   },
   "outputs": [],
   "source": [
    "extra_columns = ['LNR', 'RESPONSE']\n",
    "mailout_train_extra = mailout_train[extra_columns]\n",
    "mailout_train = mailout_train.drop(extra_columns, axis=1)\n",
    "mailout_train_pca = pca.transform(mailout_train)\n",
    "mailout_train_labels = kmeans.predict(mailout_train_pca)"
   ]
  },
  {
   "cell_type": "code",
   "execution_count": 17,
   "metadata": {
    "ExecuteTime": {
     "end_time": "2019-08-12T12:09:06.797226Z",
     "start_time": "2019-08-12T12:09:05.030572Z"
    },
    "hidden": true
   },
   "outputs": [
    {
     "data": {
      "text/html": [
       "<div>\n",
       "<style scoped>\n",
       "    .dataframe tbody tr th:only-of-type {\n",
       "        vertical-align: middle;\n",
       "    }\n",
       "\n",
       "    .dataframe tbody tr th {\n",
       "        vertical-align: top;\n",
       "    }\n",
       "\n",
       "    .dataframe thead th {\n",
       "        text-align: right;\n",
       "    }\n",
       "</style>\n",
       "<table border=\"1\" class=\"dataframe\">\n",
       "  <thead>\n",
       "    <tr style=\"text-align: right;\">\n",
       "      <th></th>\n",
       "      <th>comp_1</th>\n",
       "      <th>comp_2</th>\n",
       "      <th>comp_3</th>\n",
       "      <th>comp_4</th>\n",
       "      <th>comp_5</th>\n",
       "      <th>comp_6</th>\n",
       "      <th>comp_7</th>\n",
       "      <th>comp_8</th>\n",
       "      <th>comp_9</th>\n",
       "      <th>comp_10</th>\n",
       "      <th>...</th>\n",
       "      <th>comp_141</th>\n",
       "      <th>comp_142</th>\n",
       "      <th>comp_143</th>\n",
       "      <th>comp_144</th>\n",
       "      <th>comp_145</th>\n",
       "      <th>comp_146</th>\n",
       "      <th>comp_147</th>\n",
       "      <th>comp_148</th>\n",
       "      <th>comp_149</th>\n",
       "      <th>comp_150</th>\n",
       "    </tr>\n",
       "  </thead>\n",
       "  <tbody>\n",
       "    <tr>\n",
       "      <th>0</th>\n",
       "      <td>-7.124094</td>\n",
       "      <td>-5.977910</td>\n",
       "      <td>11.683625</td>\n",
       "      <td>0.246202</td>\n",
       "      <td>-0.084807</td>\n",
       "      <td>0.930908</td>\n",
       "      <td>-0.090166</td>\n",
       "      <td>2.174882</td>\n",
       "      <td>0.496632</td>\n",
       "      <td>3.095369</td>\n",
       "      <td>...</td>\n",
       "      <td>-0.125951</td>\n",
       "      <td>-0.132665</td>\n",
       "      <td>-1.086848</td>\n",
       "      <td>-0.318667</td>\n",
       "      <td>-1.184848</td>\n",
       "      <td>0.181385</td>\n",
       "      <td>-1.470772</td>\n",
       "      <td>0.032473</td>\n",
       "      <td>-0.448720</td>\n",
       "      <td>-0.473682</td>\n",
       "    </tr>\n",
       "    <tr>\n",
       "      <th>1</th>\n",
       "      <td>2.243957</td>\n",
       "      <td>-9.988485</td>\n",
       "      <td>-4.454433</td>\n",
       "      <td>-2.697039</td>\n",
       "      <td>-2.344253</td>\n",
       "      <td>-1.318749</td>\n",
       "      <td>0.476535</td>\n",
       "      <td>-0.077764</td>\n",
       "      <td>1.499485</td>\n",
       "      <td>1.591040</td>\n",
       "      <td>...</td>\n",
       "      <td>-1.297550</td>\n",
       "      <td>-1.210673</td>\n",
       "      <td>0.371010</td>\n",
       "      <td>1.093055</td>\n",
       "      <td>-0.243341</td>\n",
       "      <td>-0.191273</td>\n",
       "      <td>-0.176948</td>\n",
       "      <td>-0.337642</td>\n",
       "      <td>-0.451063</td>\n",
       "      <td>0.037704</td>\n",
       "    </tr>\n",
       "    <tr>\n",
       "      <th>2</th>\n",
       "      <td>-2.145989</td>\n",
       "      <td>-7.570378</td>\n",
       "      <td>3.770291</td>\n",
       "      <td>-0.075294</td>\n",
       "      <td>7.806424</td>\n",
       "      <td>5.508147</td>\n",
       "      <td>4.613687</td>\n",
       "      <td>-3.954820</td>\n",
       "      <td>3.291206</td>\n",
       "      <td>-0.502802</td>\n",
       "      <td>...</td>\n",
       "      <td>0.937032</td>\n",
       "      <td>0.625674</td>\n",
       "      <td>1.552326</td>\n",
       "      <td>-0.787380</td>\n",
       "      <td>0.539749</td>\n",
       "      <td>-1.006728</td>\n",
       "      <td>-0.573590</td>\n",
       "      <td>-0.472887</td>\n",
       "      <td>-0.186911</td>\n",
       "      <td>0.077766</td>\n",
       "    </tr>\n",
       "    <tr>\n",
       "      <th>3</th>\n",
       "      <td>-6.059705</td>\n",
       "      <td>-11.285782</td>\n",
       "      <td>10.395215</td>\n",
       "      <td>11.461402</td>\n",
       "      <td>-2.129983</td>\n",
       "      <td>-0.598466</td>\n",
       "      <td>-2.651830</td>\n",
       "      <td>1.210764</td>\n",
       "      <td>6.373155</td>\n",
       "      <td>-3.411137</td>\n",
       "      <td>...</td>\n",
       "      <td>0.173037</td>\n",
       "      <td>0.296202</td>\n",
       "      <td>0.510740</td>\n",
       "      <td>1.310186</td>\n",
       "      <td>0.278361</td>\n",
       "      <td>-0.649131</td>\n",
       "      <td>-0.419690</td>\n",
       "      <td>-0.327314</td>\n",
       "      <td>-1.040765</td>\n",
       "      <td>0.172826</td>\n",
       "    </tr>\n",
       "    <tr>\n",
       "      <th>4</th>\n",
       "      <td>-4.431660</td>\n",
       "      <td>-4.766817</td>\n",
       "      <td>5.620727</td>\n",
       "      <td>6.498181</td>\n",
       "      <td>4.915549</td>\n",
       "      <td>8.508137</td>\n",
       "      <td>3.058896</td>\n",
       "      <td>0.924674</td>\n",
       "      <td>3.063698</td>\n",
       "      <td>2.509656</td>\n",
       "      <td>...</td>\n",
       "      <td>0.681064</td>\n",
       "      <td>1.352286</td>\n",
       "      <td>-0.530102</td>\n",
       "      <td>-1.115731</td>\n",
       "      <td>0.806574</td>\n",
       "      <td>-0.387544</td>\n",
       "      <td>-0.443237</td>\n",
       "      <td>1.119074</td>\n",
       "      <td>-0.185124</td>\n",
       "      <td>0.088071</td>\n",
       "    </tr>\n",
       "  </tbody>\n",
       "</table>\n",
       "<p>5 rows × 150 columns</p>\n",
       "</div>"
      ],
      "text/plain": [
       "     comp_1     comp_2     comp_3     comp_4    comp_5    comp_6    comp_7  \\\n",
       "0 -7.124094  -5.977910  11.683625   0.246202 -0.084807  0.930908 -0.090166   \n",
       "1  2.243957  -9.988485  -4.454433  -2.697039 -2.344253 -1.318749  0.476535   \n",
       "2 -2.145989  -7.570378   3.770291  -0.075294  7.806424  5.508147  4.613687   \n",
       "3 -6.059705 -11.285782  10.395215  11.461402 -2.129983 -0.598466 -2.651830   \n",
       "4 -4.431660  -4.766817   5.620727   6.498181  4.915549  8.508137  3.058896   \n",
       "\n",
       "     comp_8    comp_9   comp_10  ...  comp_141  comp_142  comp_143  comp_144  \\\n",
       "0  2.174882  0.496632  3.095369  ... -0.125951 -0.132665 -1.086848 -0.318667   \n",
       "1 -0.077764  1.499485  1.591040  ... -1.297550 -1.210673  0.371010  1.093055   \n",
       "2 -3.954820  3.291206 -0.502802  ...  0.937032  0.625674  1.552326 -0.787380   \n",
       "3  1.210764  6.373155 -3.411137  ...  0.173037  0.296202  0.510740  1.310186   \n",
       "4  0.924674  3.063698  2.509656  ...  0.681064  1.352286 -0.530102 -1.115731   \n",
       "\n",
       "   comp_145  comp_146  comp_147  comp_148  comp_149  comp_150  \n",
       "0 -1.184848  0.181385 -1.470772  0.032473 -0.448720 -0.473682  \n",
       "1 -0.243341 -0.191273 -0.176948 -0.337642 -0.451063  0.037704  \n",
       "2  0.539749 -1.006728 -0.573590 -0.472887 -0.186911  0.077766  \n",
       "3  0.278361 -0.649131 -0.419690 -0.327314 -1.040765  0.172826  \n",
       "4  0.806574 -0.387544 -0.443237  1.119074 -0.185124  0.088071  \n",
       "\n",
       "[5 rows x 150 columns]"
      ]
     },
     "execution_count": 17,
     "metadata": {},
     "output_type": "execute_result"
    }
   ],
   "source": [
    "mailout_train_pca_df = pd.DataFrame(list(mailout_train_pca), columns=[f'comp_{c+1}' for c in range(mailout_train_pca.shape[1])])\n",
    "mailout_train_pca_df.head()"
   ]
  },
  {
   "cell_type": "code",
   "execution_count": 18,
   "metadata": {
    "ExecuteTime": {
     "end_time": "2019-08-12T12:09:06.817189Z",
     "start_time": "2019-08-12T12:09:06.799246Z"
    },
    "hidden": true
   },
   "outputs": [
    {
     "data": {
      "text/html": [
       "<div>\n",
       "<style scoped>\n",
       "    .dataframe tbody tr th:only-of-type {\n",
       "        vertical-align: middle;\n",
       "    }\n",
       "\n",
       "    .dataframe tbody tr th {\n",
       "        vertical-align: top;\n",
       "    }\n",
       "\n",
       "    .dataframe thead th {\n",
       "        text-align: right;\n",
       "    }\n",
       "</style>\n",
       "<table border=\"1\" class=\"dataframe\">\n",
       "  <thead>\n",
       "    <tr style=\"text-align: right;\">\n",
       "      <th></th>\n",
       "      <th>CLUSTER_LABEL</th>\n",
       "    </tr>\n",
       "  </thead>\n",
       "  <tbody>\n",
       "    <tr>\n",
       "      <th>0</th>\n",
       "      <td>1</td>\n",
       "    </tr>\n",
       "    <tr>\n",
       "      <th>1</th>\n",
       "      <td>0</td>\n",
       "    </tr>\n",
       "    <tr>\n",
       "      <th>2</th>\n",
       "      <td>0</td>\n",
       "    </tr>\n",
       "    <tr>\n",
       "      <th>3</th>\n",
       "      <td>3</td>\n",
       "    </tr>\n",
       "    <tr>\n",
       "      <th>4</th>\n",
       "      <td>3</td>\n",
       "    </tr>\n",
       "  </tbody>\n",
       "</table>\n",
       "</div>"
      ],
      "text/plain": [
       "   CLUSTER_LABEL\n",
       "0              1\n",
       "1              0\n",
       "2              0\n",
       "3              3\n",
       "4              3"
      ]
     },
     "execution_count": 18,
     "metadata": {},
     "output_type": "execute_result"
    }
   ],
   "source": [
    "label_df = pd.DataFrame(list(mailout_train_labels), columns=['CLUSTER_LABEL'])\n",
    "label_df.head()"
   ]
  },
  {
   "cell_type": "code",
   "execution_count": 19,
   "metadata": {
    "ExecuteTime": {
     "end_time": "2019-08-12T12:09:06.850309Z",
     "start_time": "2019-08-12T12:09:06.818159Z"
    },
    "hidden": true
   },
   "outputs": [
    {
     "data": {
      "text/html": [
       "<div>\n",
       "<style scoped>\n",
       "    .dataframe tbody tr th:only-of-type {\n",
       "        vertical-align: middle;\n",
       "    }\n",
       "\n",
       "    .dataframe tbody tr th {\n",
       "        vertical-align: top;\n",
       "    }\n",
       "\n",
       "    .dataframe thead th {\n",
       "        text-align: right;\n",
       "    }\n",
       "</style>\n",
       "<table border=\"1\" class=\"dataframe\">\n",
       "  <thead>\n",
       "    <tr style=\"text-align: right;\">\n",
       "      <th></th>\n",
       "      <th>comp_1</th>\n",
       "      <th>comp_2</th>\n",
       "      <th>comp_3</th>\n",
       "      <th>comp_4</th>\n",
       "      <th>comp_5</th>\n",
       "      <th>comp_6</th>\n",
       "      <th>comp_7</th>\n",
       "      <th>comp_8</th>\n",
       "      <th>comp_9</th>\n",
       "      <th>comp_10</th>\n",
       "      <th>...</th>\n",
       "      <th>comp_142</th>\n",
       "      <th>comp_143</th>\n",
       "      <th>comp_144</th>\n",
       "      <th>comp_145</th>\n",
       "      <th>comp_146</th>\n",
       "      <th>comp_147</th>\n",
       "      <th>comp_148</th>\n",
       "      <th>comp_149</th>\n",
       "      <th>comp_150</th>\n",
       "      <th>CLUSTER_LABEL</th>\n",
       "    </tr>\n",
       "  </thead>\n",
       "  <tbody>\n",
       "    <tr>\n",
       "      <th>0</th>\n",
       "      <td>-7.124094</td>\n",
       "      <td>-5.977910</td>\n",
       "      <td>11.683625</td>\n",
       "      <td>0.246202</td>\n",
       "      <td>-0.084807</td>\n",
       "      <td>0.930908</td>\n",
       "      <td>-0.090166</td>\n",
       "      <td>2.174882</td>\n",
       "      <td>0.496632</td>\n",
       "      <td>3.095369</td>\n",
       "      <td>...</td>\n",
       "      <td>-0.132665</td>\n",
       "      <td>-1.086848</td>\n",
       "      <td>-0.318667</td>\n",
       "      <td>-1.184848</td>\n",
       "      <td>0.181385</td>\n",
       "      <td>-1.470772</td>\n",
       "      <td>0.032473</td>\n",
       "      <td>-0.448720</td>\n",
       "      <td>-0.473682</td>\n",
       "      <td>1</td>\n",
       "    </tr>\n",
       "    <tr>\n",
       "      <th>1</th>\n",
       "      <td>2.243957</td>\n",
       "      <td>-9.988485</td>\n",
       "      <td>-4.454433</td>\n",
       "      <td>-2.697039</td>\n",
       "      <td>-2.344253</td>\n",
       "      <td>-1.318749</td>\n",
       "      <td>0.476535</td>\n",
       "      <td>-0.077764</td>\n",
       "      <td>1.499485</td>\n",
       "      <td>1.591040</td>\n",
       "      <td>...</td>\n",
       "      <td>-1.210673</td>\n",
       "      <td>0.371010</td>\n",
       "      <td>1.093055</td>\n",
       "      <td>-0.243341</td>\n",
       "      <td>-0.191273</td>\n",
       "      <td>-0.176948</td>\n",
       "      <td>-0.337642</td>\n",
       "      <td>-0.451063</td>\n",
       "      <td>0.037704</td>\n",
       "      <td>0</td>\n",
       "    </tr>\n",
       "    <tr>\n",
       "      <th>2</th>\n",
       "      <td>-2.145989</td>\n",
       "      <td>-7.570378</td>\n",
       "      <td>3.770291</td>\n",
       "      <td>-0.075294</td>\n",
       "      <td>7.806424</td>\n",
       "      <td>5.508147</td>\n",
       "      <td>4.613687</td>\n",
       "      <td>-3.954820</td>\n",
       "      <td>3.291206</td>\n",
       "      <td>-0.502802</td>\n",
       "      <td>...</td>\n",
       "      <td>0.625674</td>\n",
       "      <td>1.552326</td>\n",
       "      <td>-0.787380</td>\n",
       "      <td>0.539749</td>\n",
       "      <td>-1.006728</td>\n",
       "      <td>-0.573590</td>\n",
       "      <td>-0.472887</td>\n",
       "      <td>-0.186911</td>\n",
       "      <td>0.077766</td>\n",
       "      <td>0</td>\n",
       "    </tr>\n",
       "    <tr>\n",
       "      <th>3</th>\n",
       "      <td>-6.059705</td>\n",
       "      <td>-11.285782</td>\n",
       "      <td>10.395215</td>\n",
       "      <td>11.461402</td>\n",
       "      <td>-2.129983</td>\n",
       "      <td>-0.598466</td>\n",
       "      <td>-2.651830</td>\n",
       "      <td>1.210764</td>\n",
       "      <td>6.373155</td>\n",
       "      <td>-3.411137</td>\n",
       "      <td>...</td>\n",
       "      <td>0.296202</td>\n",
       "      <td>0.510740</td>\n",
       "      <td>1.310186</td>\n",
       "      <td>0.278361</td>\n",
       "      <td>-0.649131</td>\n",
       "      <td>-0.419690</td>\n",
       "      <td>-0.327314</td>\n",
       "      <td>-1.040765</td>\n",
       "      <td>0.172826</td>\n",
       "      <td>3</td>\n",
       "    </tr>\n",
       "    <tr>\n",
       "      <th>4</th>\n",
       "      <td>-4.431660</td>\n",
       "      <td>-4.766817</td>\n",
       "      <td>5.620727</td>\n",
       "      <td>6.498181</td>\n",
       "      <td>4.915549</td>\n",
       "      <td>8.508137</td>\n",
       "      <td>3.058896</td>\n",
       "      <td>0.924674</td>\n",
       "      <td>3.063698</td>\n",
       "      <td>2.509656</td>\n",
       "      <td>...</td>\n",
       "      <td>1.352286</td>\n",
       "      <td>-0.530102</td>\n",
       "      <td>-1.115731</td>\n",
       "      <td>0.806574</td>\n",
       "      <td>-0.387544</td>\n",
       "      <td>-0.443237</td>\n",
       "      <td>1.119074</td>\n",
       "      <td>-0.185124</td>\n",
       "      <td>0.088071</td>\n",
       "      <td>3</td>\n",
       "    </tr>\n",
       "  </tbody>\n",
       "</table>\n",
       "<p>5 rows × 151 columns</p>\n",
       "</div>"
      ],
      "text/plain": [
       "     comp_1     comp_2     comp_3     comp_4    comp_5    comp_6    comp_7  \\\n",
       "0 -7.124094  -5.977910  11.683625   0.246202 -0.084807  0.930908 -0.090166   \n",
       "1  2.243957  -9.988485  -4.454433  -2.697039 -2.344253 -1.318749  0.476535   \n",
       "2 -2.145989  -7.570378   3.770291  -0.075294  7.806424  5.508147  4.613687   \n",
       "3 -6.059705 -11.285782  10.395215  11.461402 -2.129983 -0.598466 -2.651830   \n",
       "4 -4.431660  -4.766817   5.620727   6.498181  4.915549  8.508137  3.058896   \n",
       "\n",
       "     comp_8    comp_9   comp_10  ...  comp_142  comp_143  comp_144  comp_145  \\\n",
       "0  2.174882  0.496632  3.095369  ... -0.132665 -1.086848 -0.318667 -1.184848   \n",
       "1 -0.077764  1.499485  1.591040  ... -1.210673  0.371010  1.093055 -0.243341   \n",
       "2 -3.954820  3.291206 -0.502802  ...  0.625674  1.552326 -0.787380  0.539749   \n",
       "3  1.210764  6.373155 -3.411137  ...  0.296202  0.510740  1.310186  0.278361   \n",
       "4  0.924674  3.063698  2.509656  ...  1.352286 -0.530102 -1.115731  0.806574   \n",
       "\n",
       "   comp_146  comp_147  comp_148  comp_149  comp_150  CLUSTER_LABEL  \n",
       "0  0.181385 -1.470772  0.032473 -0.448720 -0.473682              1  \n",
       "1 -0.191273 -0.176948 -0.337642 -0.451063  0.037704              0  \n",
       "2 -1.006728 -0.573590 -0.472887 -0.186911  0.077766              0  \n",
       "3 -0.649131 -0.419690 -0.327314 -1.040765  0.172826              3  \n",
       "4 -0.387544 -0.443237  1.119074 -0.185124  0.088071              3  \n",
       "\n",
       "[5 rows x 151 columns]"
      ]
     },
     "execution_count": 19,
     "metadata": {},
     "output_type": "execute_result"
    }
   ],
   "source": [
    "mailout_train_dim = pd.concat([mailout_train_pca_df, label_df], axis=1)\n",
    "mailout_train_dim.head()"
   ]
  },
  {
   "cell_type": "code",
   "execution_count": 20,
   "metadata": {
    "ExecuteTime": {
     "end_time": "2019-08-12T12:09:06.890223Z",
     "start_time": "2019-08-12T12:09:06.853301Z"
    },
    "hidden": true
   },
   "outputs": [
    {
     "data": {
      "text/html": [
       "<div>\n",
       "<style scoped>\n",
       "    .dataframe tbody tr th:only-of-type {\n",
       "        vertical-align: middle;\n",
       "    }\n",
       "\n",
       "    .dataframe tbody tr th {\n",
       "        vertical-align: top;\n",
       "    }\n",
       "\n",
       "    .dataframe thead th {\n",
       "        text-align: right;\n",
       "    }\n",
       "</style>\n",
       "<table border=\"1\" class=\"dataframe\">\n",
       "  <thead>\n",
       "    <tr style=\"text-align: right;\">\n",
       "      <th></th>\n",
       "      <th>comp_1</th>\n",
       "      <th>comp_2</th>\n",
       "      <th>comp_3</th>\n",
       "      <th>comp_4</th>\n",
       "      <th>comp_5</th>\n",
       "      <th>comp_6</th>\n",
       "      <th>comp_7</th>\n",
       "      <th>comp_8</th>\n",
       "      <th>comp_9</th>\n",
       "      <th>comp_10</th>\n",
       "      <th>...</th>\n",
       "      <th>comp_143</th>\n",
       "      <th>comp_144</th>\n",
       "      <th>comp_145</th>\n",
       "      <th>comp_146</th>\n",
       "      <th>comp_147</th>\n",
       "      <th>comp_148</th>\n",
       "      <th>comp_149</th>\n",
       "      <th>comp_150</th>\n",
       "      <th>CLUSTER_LABEL</th>\n",
       "      <th>RESPONSE</th>\n",
       "    </tr>\n",
       "  </thead>\n",
       "  <tbody>\n",
       "    <tr>\n",
       "      <th>0</th>\n",
       "      <td>-7.124094</td>\n",
       "      <td>-5.977910</td>\n",
       "      <td>11.683625</td>\n",
       "      <td>0.246202</td>\n",
       "      <td>-0.084807</td>\n",
       "      <td>0.930908</td>\n",
       "      <td>-0.090166</td>\n",
       "      <td>2.174882</td>\n",
       "      <td>0.496632</td>\n",
       "      <td>3.095369</td>\n",
       "      <td>...</td>\n",
       "      <td>-1.086848</td>\n",
       "      <td>-0.318667</td>\n",
       "      <td>-1.184848</td>\n",
       "      <td>0.181385</td>\n",
       "      <td>-1.470772</td>\n",
       "      <td>0.032473</td>\n",
       "      <td>-0.448720</td>\n",
       "      <td>-0.473682</td>\n",
       "      <td>1</td>\n",
       "      <td>0</td>\n",
       "    </tr>\n",
       "    <tr>\n",
       "      <th>1</th>\n",
       "      <td>2.243957</td>\n",
       "      <td>-9.988485</td>\n",
       "      <td>-4.454433</td>\n",
       "      <td>-2.697039</td>\n",
       "      <td>-2.344253</td>\n",
       "      <td>-1.318749</td>\n",
       "      <td>0.476535</td>\n",
       "      <td>-0.077764</td>\n",
       "      <td>1.499485</td>\n",
       "      <td>1.591040</td>\n",
       "      <td>...</td>\n",
       "      <td>0.371010</td>\n",
       "      <td>1.093055</td>\n",
       "      <td>-0.243341</td>\n",
       "      <td>-0.191273</td>\n",
       "      <td>-0.176948</td>\n",
       "      <td>-0.337642</td>\n",
       "      <td>-0.451063</td>\n",
       "      <td>0.037704</td>\n",
       "      <td>0</td>\n",
       "      <td>0</td>\n",
       "    </tr>\n",
       "    <tr>\n",
       "      <th>2</th>\n",
       "      <td>-2.145989</td>\n",
       "      <td>-7.570378</td>\n",
       "      <td>3.770291</td>\n",
       "      <td>-0.075294</td>\n",
       "      <td>7.806424</td>\n",
       "      <td>5.508147</td>\n",
       "      <td>4.613687</td>\n",
       "      <td>-3.954820</td>\n",
       "      <td>3.291206</td>\n",
       "      <td>-0.502802</td>\n",
       "      <td>...</td>\n",
       "      <td>1.552326</td>\n",
       "      <td>-0.787380</td>\n",
       "      <td>0.539749</td>\n",
       "      <td>-1.006728</td>\n",
       "      <td>-0.573590</td>\n",
       "      <td>-0.472887</td>\n",
       "      <td>-0.186911</td>\n",
       "      <td>0.077766</td>\n",
       "      <td>0</td>\n",
       "      <td>0</td>\n",
       "    </tr>\n",
       "    <tr>\n",
       "      <th>3</th>\n",
       "      <td>-6.059705</td>\n",
       "      <td>-11.285782</td>\n",
       "      <td>10.395215</td>\n",
       "      <td>11.461402</td>\n",
       "      <td>-2.129983</td>\n",
       "      <td>-0.598466</td>\n",
       "      <td>-2.651830</td>\n",
       "      <td>1.210764</td>\n",
       "      <td>6.373155</td>\n",
       "      <td>-3.411137</td>\n",
       "      <td>...</td>\n",
       "      <td>0.510740</td>\n",
       "      <td>1.310186</td>\n",
       "      <td>0.278361</td>\n",
       "      <td>-0.649131</td>\n",
       "      <td>-0.419690</td>\n",
       "      <td>-0.327314</td>\n",
       "      <td>-1.040765</td>\n",
       "      <td>0.172826</td>\n",
       "      <td>3</td>\n",
       "      <td>0</td>\n",
       "    </tr>\n",
       "    <tr>\n",
       "      <th>4</th>\n",
       "      <td>-4.431660</td>\n",
       "      <td>-4.766817</td>\n",
       "      <td>5.620727</td>\n",
       "      <td>6.498181</td>\n",
       "      <td>4.915549</td>\n",
       "      <td>8.508137</td>\n",
       "      <td>3.058896</td>\n",
       "      <td>0.924674</td>\n",
       "      <td>3.063698</td>\n",
       "      <td>2.509656</td>\n",
       "      <td>...</td>\n",
       "      <td>-0.530102</td>\n",
       "      <td>-1.115731</td>\n",
       "      <td>0.806574</td>\n",
       "      <td>-0.387544</td>\n",
       "      <td>-0.443237</td>\n",
       "      <td>1.119074</td>\n",
       "      <td>-0.185124</td>\n",
       "      <td>0.088071</td>\n",
       "      <td>3</td>\n",
       "      <td>0</td>\n",
       "    </tr>\n",
       "  </tbody>\n",
       "</table>\n",
       "<p>5 rows × 152 columns</p>\n",
       "</div>"
      ],
      "text/plain": [
       "     comp_1     comp_2     comp_3     comp_4    comp_5    comp_6    comp_7  \\\n",
       "0 -7.124094  -5.977910  11.683625   0.246202 -0.084807  0.930908 -0.090166   \n",
       "1  2.243957  -9.988485  -4.454433  -2.697039 -2.344253 -1.318749  0.476535   \n",
       "2 -2.145989  -7.570378   3.770291  -0.075294  7.806424  5.508147  4.613687   \n",
       "3 -6.059705 -11.285782  10.395215  11.461402 -2.129983 -0.598466 -2.651830   \n",
       "4 -4.431660  -4.766817   5.620727   6.498181  4.915549  8.508137  3.058896   \n",
       "\n",
       "     comp_8    comp_9   comp_10  ...  comp_143  comp_144  comp_145  comp_146  \\\n",
       "0  2.174882  0.496632  3.095369  ... -1.086848 -0.318667 -1.184848  0.181385   \n",
       "1 -0.077764  1.499485  1.591040  ...  0.371010  1.093055 -0.243341 -0.191273   \n",
       "2 -3.954820  3.291206 -0.502802  ...  1.552326 -0.787380  0.539749 -1.006728   \n",
       "3  1.210764  6.373155 -3.411137  ...  0.510740  1.310186  0.278361 -0.649131   \n",
       "4  0.924674  3.063698  2.509656  ... -0.530102 -1.115731  0.806574 -0.387544   \n",
       "\n",
       "   comp_147  comp_148  comp_149  comp_150  CLUSTER_LABEL  RESPONSE  \n",
       "0 -1.470772  0.032473 -0.448720 -0.473682              1         0  \n",
       "1 -0.176948 -0.337642 -0.451063  0.037704              0         0  \n",
       "2 -0.573590 -0.472887 -0.186911  0.077766              0         0  \n",
       "3 -0.419690 -0.327314 -1.040765  0.172826              3         0  \n",
       "4 -0.443237  1.119074 -0.185124  0.088071              3         0  \n",
       "\n",
       "[5 rows x 152 columns]"
      ]
     },
     "execution_count": 20,
     "metadata": {},
     "output_type": "execute_result"
    }
   ],
   "source": [
    "mailout_train_proc = pd.concat([mailout_train_dim, mailout_train_extra[['RESPONSE']]], axis=1)\n",
    "mailout_train_proc.head()"
   ]
  },
  {
   "cell_type": "code",
   "execution_count": 21,
   "metadata": {
    "ExecuteTime": {
     "end_time": "2019-08-12T12:09:09.553547Z",
     "start_time": "2019-08-12T12:09:06.892170Z"
    },
    "hidden": true
   },
   "outputs": [
    {
     "name": "stdout",
     "output_type": "stream",
     "text": [
      "Memory usage of dataframe:  49.534929275512695  MB\n"
     ]
    },
    {
     "data": {
      "application/vnd.jupyter.widget-view+json": {
       "model_id": "533039567e7946e08e549dd0b8730b21",
       "version_major": 2,
       "version_minor": 0
      },
      "text/plain": [
       "HBox(children=(IntProgress(value=0, max=152), HTML(value='')))"
      ]
     },
     "metadata": {},
     "output_type": "display_data"
    },
    {
     "name": "stdout",
     "output_type": "stream",
     "text": [
      "\n",
      "___MEMORY USAGE AFTER COMPLETION:___\n",
      "Memory usage is: 24.66507339477539 MB\n",
      "This is 49.79% of the initial size\n"
     ]
    }
   ],
   "source": [
    "mailout_train_proc, _ = reduce_mem_usage(mailout_train_proc)"
   ]
  },
  {
   "cell_type": "code",
   "execution_count": 22,
   "metadata": {
    "ExecuteTime": {
     "end_time": "2019-08-12T12:09:11.258865Z",
     "start_time": "2019-08-12T12:09:09.555541Z"
    },
    "hidden": true
   },
   "outputs": [
    {
     "name": "stderr",
     "output_type": "stream",
     "text": [
      "C:\\Users\\radue\\Anaconda3\\envs\\udacity_ml_capstone\\lib\\site-packages\\pyarrow\\pandas_compat.py:114: FutureWarning: A future version of pandas will default to `skipna=True`. To silence this warning, pass `skipna=True|False` explicitly.\n",
      "  result = infer_dtype(pandas_collection)\n"
     ]
    }
   ],
   "source": [
    "mailout_train_proc.to_parquet('temp/mailout_train_dim.gzip', compression='gzip')"
   ]
  },
  {
   "cell_type": "markdown",
   "metadata": {
    "hidden": true
   },
   "source": [
    "### Mailout Test"
   ]
  },
  {
   "cell_type": "code",
   "execution_count": 23,
   "metadata": {
    "ExecuteTime": {
     "end_time": "2019-08-12T12:09:11.773873Z",
     "start_time": "2019-08-12T12:09:11.262316Z"
    },
    "hidden": true
   },
   "outputs": [],
   "source": [
    "extra_columns = ['LNR']\n",
    "mailout_test_extra = mailout_test[extra_columns]\n",
    "mailout_test = mailout_test.drop(extra_columns, axis=1)\n",
    "mailout_test_pca = pca.transform(mailout_test)\n",
    "mailout_test_labels = kmeans.predict(mailout_test_pca)"
   ]
  },
  {
   "cell_type": "code",
   "execution_count": 24,
   "metadata": {
    "ExecuteTime": {
     "end_time": "2019-08-12T12:09:13.622575Z",
     "start_time": "2019-08-12T12:09:11.776867Z"
    },
    "hidden": true
   },
   "outputs": [
    {
     "data": {
      "text/html": [
       "<div>\n",
       "<style scoped>\n",
       "    .dataframe tbody tr th:only-of-type {\n",
       "        vertical-align: middle;\n",
       "    }\n",
       "\n",
       "    .dataframe tbody tr th {\n",
       "        vertical-align: top;\n",
       "    }\n",
       "\n",
       "    .dataframe thead th {\n",
       "        text-align: right;\n",
       "    }\n",
       "</style>\n",
       "<table border=\"1\" class=\"dataframe\">\n",
       "  <thead>\n",
       "    <tr style=\"text-align: right;\">\n",
       "      <th></th>\n",
       "      <th>comp_1</th>\n",
       "      <th>comp_2</th>\n",
       "      <th>comp_3</th>\n",
       "      <th>comp_4</th>\n",
       "      <th>comp_5</th>\n",
       "      <th>comp_6</th>\n",
       "      <th>comp_7</th>\n",
       "      <th>comp_8</th>\n",
       "      <th>comp_9</th>\n",
       "      <th>comp_10</th>\n",
       "      <th>...</th>\n",
       "      <th>comp_141</th>\n",
       "      <th>comp_142</th>\n",
       "      <th>comp_143</th>\n",
       "      <th>comp_144</th>\n",
       "      <th>comp_145</th>\n",
       "      <th>comp_146</th>\n",
       "      <th>comp_147</th>\n",
       "      <th>comp_148</th>\n",
       "      <th>comp_149</th>\n",
       "      <th>comp_150</th>\n",
       "    </tr>\n",
       "  </thead>\n",
       "  <tbody>\n",
       "    <tr>\n",
       "      <th>0</th>\n",
       "      <td>11.601075</td>\n",
       "      <td>-9.816062</td>\n",
       "      <td>7.240335</td>\n",
       "      <td>7.721172</td>\n",
       "      <td>6.135527</td>\n",
       "      <td>6.887179</td>\n",
       "      <td>-0.680425</td>\n",
       "      <td>2.521940</td>\n",
       "      <td>1.875311</td>\n",
       "      <td>2.006929</td>\n",
       "      <td>...</td>\n",
       "      <td>-1.212150</td>\n",
       "      <td>-1.327299</td>\n",
       "      <td>0.725036</td>\n",
       "      <td>0.098948</td>\n",
       "      <td>-0.313260</td>\n",
       "      <td>0.165750</td>\n",
       "      <td>-1.560511</td>\n",
       "      <td>-1.057309</td>\n",
       "      <td>0.001891</td>\n",
       "      <td>-0.373723</td>\n",
       "    </tr>\n",
       "    <tr>\n",
       "      <th>1</th>\n",
       "      <td>-5.434676</td>\n",
       "      <td>-3.148757</td>\n",
       "      <td>1.153348</td>\n",
       "      <td>0.942819</td>\n",
       "      <td>3.266895</td>\n",
       "      <td>0.402866</td>\n",
       "      <td>-0.732847</td>\n",
       "      <td>3.242065</td>\n",
       "      <td>-6.663521</td>\n",
       "      <td>2.611803</td>\n",
       "      <td>...</td>\n",
       "      <td>-0.758791</td>\n",
       "      <td>-0.785952</td>\n",
       "      <td>-0.122084</td>\n",
       "      <td>0.675796</td>\n",
       "      <td>-0.578299</td>\n",
       "      <td>-0.318183</td>\n",
       "      <td>0.100293</td>\n",
       "      <td>0.253485</td>\n",
       "      <td>-0.124941</td>\n",
       "      <td>-0.627760</td>\n",
       "    </tr>\n",
       "    <tr>\n",
       "      <th>2</th>\n",
       "      <td>-4.743776</td>\n",
       "      <td>-7.336224</td>\n",
       "      <td>4.497918</td>\n",
       "      <td>2.199510</td>\n",
       "      <td>-0.901174</td>\n",
       "      <td>-5.395058</td>\n",
       "      <td>2.979270</td>\n",
       "      <td>-4.804235</td>\n",
       "      <td>0.573323</td>\n",
       "      <td>-2.432270</td>\n",
       "      <td>...</td>\n",
       "      <td>-0.612351</td>\n",
       "      <td>0.542504</td>\n",
       "      <td>0.319042</td>\n",
       "      <td>0.314838</td>\n",
       "      <td>0.631520</td>\n",
       "      <td>0.273870</td>\n",
       "      <td>-0.113309</td>\n",
       "      <td>-0.548659</td>\n",
       "      <td>-0.617183</td>\n",
       "      <td>0.564675</td>\n",
       "    </tr>\n",
       "    <tr>\n",
       "      <th>3</th>\n",
       "      <td>-3.855754</td>\n",
       "      <td>-5.073868</td>\n",
       "      <td>2.792447</td>\n",
       "      <td>-5.691466</td>\n",
       "      <td>-2.313294</td>\n",
       "      <td>-2.529583</td>\n",
       "      <td>2.378230</td>\n",
       "      <td>-6.498502</td>\n",
       "      <td>-0.143488</td>\n",
       "      <td>-2.206387</td>\n",
       "      <td>...</td>\n",
       "      <td>0.719599</td>\n",
       "      <td>0.381258</td>\n",
       "      <td>-0.300728</td>\n",
       "      <td>0.343663</td>\n",
       "      <td>-0.603952</td>\n",
       "      <td>0.765298</td>\n",
       "      <td>0.337869</td>\n",
       "      <td>-1.693910</td>\n",
       "      <td>0.133173</td>\n",
       "      <td>-0.591272</td>\n",
       "    </tr>\n",
       "    <tr>\n",
       "      <th>4</th>\n",
       "      <td>14.552512</td>\n",
       "      <td>-6.599662</td>\n",
       "      <td>-3.988093</td>\n",
       "      <td>-1.746205</td>\n",
       "      <td>-2.860086</td>\n",
       "      <td>-4.980234</td>\n",
       "      <td>1.646868</td>\n",
       "      <td>-3.377343</td>\n",
       "      <td>-6.228120</td>\n",
       "      <td>7.415638</td>\n",
       "      <td>...</td>\n",
       "      <td>0.582306</td>\n",
       "      <td>-0.541596</td>\n",
       "      <td>-0.576679</td>\n",
       "      <td>-0.429233</td>\n",
       "      <td>1.041331</td>\n",
       "      <td>-0.563092</td>\n",
       "      <td>-0.010725</td>\n",
       "      <td>1.895332</td>\n",
       "      <td>1.231714</td>\n",
       "      <td>-0.425266</td>\n",
       "    </tr>\n",
       "  </tbody>\n",
       "</table>\n",
       "<p>5 rows × 150 columns</p>\n",
       "</div>"
      ],
      "text/plain": [
       "      comp_1    comp_2    comp_3    comp_4    comp_5    comp_6    comp_7  \\\n",
       "0  11.601075 -9.816062  7.240335  7.721172  6.135527  6.887179 -0.680425   \n",
       "1  -5.434676 -3.148757  1.153348  0.942819  3.266895  0.402866 -0.732847   \n",
       "2  -4.743776 -7.336224  4.497918  2.199510 -0.901174 -5.395058  2.979270   \n",
       "3  -3.855754 -5.073868  2.792447 -5.691466 -2.313294 -2.529583  2.378230   \n",
       "4  14.552512 -6.599662 -3.988093 -1.746205 -2.860086 -4.980234  1.646868   \n",
       "\n",
       "     comp_8    comp_9   comp_10  ...  comp_141  comp_142  comp_143  comp_144  \\\n",
       "0  2.521940  1.875311  2.006929  ... -1.212150 -1.327299  0.725036  0.098948   \n",
       "1  3.242065 -6.663521  2.611803  ... -0.758791 -0.785952 -0.122084  0.675796   \n",
       "2 -4.804235  0.573323 -2.432270  ... -0.612351  0.542504  0.319042  0.314838   \n",
       "3 -6.498502 -0.143488 -2.206387  ...  0.719599  0.381258 -0.300728  0.343663   \n",
       "4 -3.377343 -6.228120  7.415638  ...  0.582306 -0.541596 -0.576679 -0.429233   \n",
       "\n",
       "   comp_145  comp_146  comp_147  comp_148  comp_149  comp_150  \n",
       "0 -0.313260  0.165750 -1.560511 -1.057309  0.001891 -0.373723  \n",
       "1 -0.578299 -0.318183  0.100293  0.253485 -0.124941 -0.627760  \n",
       "2  0.631520  0.273870 -0.113309 -0.548659 -0.617183  0.564675  \n",
       "3 -0.603952  0.765298  0.337869 -1.693910  0.133173 -0.591272  \n",
       "4  1.041331 -0.563092 -0.010725  1.895332  1.231714 -0.425266  \n",
       "\n",
       "[5 rows x 150 columns]"
      ]
     },
     "execution_count": 24,
     "metadata": {},
     "output_type": "execute_result"
    }
   ],
   "source": [
    "mailout_test_pca_df = pd.DataFrame(list(mailout_test_pca), columns=[f'comp_{c+1}' for c in range(mailout_test_pca.shape[1])])\n",
    "mailout_test_pca_df.head()"
   ]
  },
  {
   "cell_type": "code",
   "execution_count": 25,
   "metadata": {
    "ExecuteTime": {
     "end_time": "2019-08-12T12:09:13.641552Z",
     "start_time": "2019-08-12T12:09:13.623572Z"
    },
    "hidden": true
   },
   "outputs": [
    {
     "data": {
      "text/html": [
       "<div>\n",
       "<style scoped>\n",
       "    .dataframe tbody tr th:only-of-type {\n",
       "        vertical-align: middle;\n",
       "    }\n",
       "\n",
       "    .dataframe tbody tr th {\n",
       "        vertical-align: top;\n",
       "    }\n",
       "\n",
       "    .dataframe thead th {\n",
       "        text-align: right;\n",
       "    }\n",
       "</style>\n",
       "<table border=\"1\" class=\"dataframe\">\n",
       "  <thead>\n",
       "    <tr style=\"text-align: right;\">\n",
       "      <th></th>\n",
       "      <th>CLUSTER_LABEL</th>\n",
       "    </tr>\n",
       "  </thead>\n",
       "  <tbody>\n",
       "    <tr>\n",
       "      <th>0</th>\n",
       "      <td>2</td>\n",
       "    </tr>\n",
       "    <tr>\n",
       "      <th>1</th>\n",
       "      <td>1</td>\n",
       "    </tr>\n",
       "    <tr>\n",
       "      <th>2</th>\n",
       "      <td>3</td>\n",
       "    </tr>\n",
       "    <tr>\n",
       "      <th>3</th>\n",
       "      <td>1</td>\n",
       "    </tr>\n",
       "    <tr>\n",
       "      <th>4</th>\n",
       "      <td>5</td>\n",
       "    </tr>\n",
       "  </tbody>\n",
       "</table>\n",
       "</div>"
      ],
      "text/plain": [
       "   CLUSTER_LABEL\n",
       "0              2\n",
       "1              1\n",
       "2              3\n",
       "3              1\n",
       "4              5"
      ]
     },
     "execution_count": 25,
     "metadata": {},
     "output_type": "execute_result"
    }
   ],
   "source": [
    "label_df = pd.DataFrame(list(mailout_test_labels), columns=['CLUSTER_LABEL'])\n",
    "label_df.head()"
   ]
  },
  {
   "cell_type": "code",
   "execution_count": 26,
   "metadata": {
    "ExecuteTime": {
     "end_time": "2019-08-12T12:09:13.673438Z",
     "start_time": "2019-08-12T12:09:13.642522Z"
    },
    "hidden": true
   },
   "outputs": [
    {
     "data": {
      "text/html": [
       "<div>\n",
       "<style scoped>\n",
       "    .dataframe tbody tr th:only-of-type {\n",
       "        vertical-align: middle;\n",
       "    }\n",
       "\n",
       "    .dataframe tbody tr th {\n",
       "        vertical-align: top;\n",
       "    }\n",
       "\n",
       "    .dataframe thead th {\n",
       "        text-align: right;\n",
       "    }\n",
       "</style>\n",
       "<table border=\"1\" class=\"dataframe\">\n",
       "  <thead>\n",
       "    <tr style=\"text-align: right;\">\n",
       "      <th></th>\n",
       "      <th>comp_1</th>\n",
       "      <th>comp_2</th>\n",
       "      <th>comp_3</th>\n",
       "      <th>comp_4</th>\n",
       "      <th>comp_5</th>\n",
       "      <th>comp_6</th>\n",
       "      <th>comp_7</th>\n",
       "      <th>comp_8</th>\n",
       "      <th>comp_9</th>\n",
       "      <th>comp_10</th>\n",
       "      <th>...</th>\n",
       "      <th>comp_142</th>\n",
       "      <th>comp_143</th>\n",
       "      <th>comp_144</th>\n",
       "      <th>comp_145</th>\n",
       "      <th>comp_146</th>\n",
       "      <th>comp_147</th>\n",
       "      <th>comp_148</th>\n",
       "      <th>comp_149</th>\n",
       "      <th>comp_150</th>\n",
       "      <th>CLUSTER_LABEL</th>\n",
       "    </tr>\n",
       "  </thead>\n",
       "  <tbody>\n",
       "    <tr>\n",
       "      <th>0</th>\n",
       "      <td>11.601075</td>\n",
       "      <td>-9.816062</td>\n",
       "      <td>7.240335</td>\n",
       "      <td>7.721172</td>\n",
       "      <td>6.135527</td>\n",
       "      <td>6.887179</td>\n",
       "      <td>-0.680425</td>\n",
       "      <td>2.521940</td>\n",
       "      <td>1.875311</td>\n",
       "      <td>2.006929</td>\n",
       "      <td>...</td>\n",
       "      <td>-1.327299</td>\n",
       "      <td>0.725036</td>\n",
       "      <td>0.098948</td>\n",
       "      <td>-0.313260</td>\n",
       "      <td>0.165750</td>\n",
       "      <td>-1.560511</td>\n",
       "      <td>-1.057309</td>\n",
       "      <td>0.001891</td>\n",
       "      <td>-0.373723</td>\n",
       "      <td>2</td>\n",
       "    </tr>\n",
       "    <tr>\n",
       "      <th>1</th>\n",
       "      <td>-5.434676</td>\n",
       "      <td>-3.148757</td>\n",
       "      <td>1.153348</td>\n",
       "      <td>0.942819</td>\n",
       "      <td>3.266895</td>\n",
       "      <td>0.402866</td>\n",
       "      <td>-0.732847</td>\n",
       "      <td>3.242065</td>\n",
       "      <td>-6.663521</td>\n",
       "      <td>2.611803</td>\n",
       "      <td>...</td>\n",
       "      <td>-0.785952</td>\n",
       "      <td>-0.122084</td>\n",
       "      <td>0.675796</td>\n",
       "      <td>-0.578299</td>\n",
       "      <td>-0.318183</td>\n",
       "      <td>0.100293</td>\n",
       "      <td>0.253485</td>\n",
       "      <td>-0.124941</td>\n",
       "      <td>-0.627760</td>\n",
       "      <td>1</td>\n",
       "    </tr>\n",
       "    <tr>\n",
       "      <th>2</th>\n",
       "      <td>-4.743776</td>\n",
       "      <td>-7.336224</td>\n",
       "      <td>4.497918</td>\n",
       "      <td>2.199510</td>\n",
       "      <td>-0.901174</td>\n",
       "      <td>-5.395058</td>\n",
       "      <td>2.979270</td>\n",
       "      <td>-4.804235</td>\n",
       "      <td>0.573323</td>\n",
       "      <td>-2.432270</td>\n",
       "      <td>...</td>\n",
       "      <td>0.542504</td>\n",
       "      <td>0.319042</td>\n",
       "      <td>0.314838</td>\n",
       "      <td>0.631520</td>\n",
       "      <td>0.273870</td>\n",
       "      <td>-0.113309</td>\n",
       "      <td>-0.548659</td>\n",
       "      <td>-0.617183</td>\n",
       "      <td>0.564675</td>\n",
       "      <td>3</td>\n",
       "    </tr>\n",
       "    <tr>\n",
       "      <th>3</th>\n",
       "      <td>-3.855754</td>\n",
       "      <td>-5.073868</td>\n",
       "      <td>2.792447</td>\n",
       "      <td>-5.691466</td>\n",
       "      <td>-2.313294</td>\n",
       "      <td>-2.529583</td>\n",
       "      <td>2.378230</td>\n",
       "      <td>-6.498502</td>\n",
       "      <td>-0.143488</td>\n",
       "      <td>-2.206387</td>\n",
       "      <td>...</td>\n",
       "      <td>0.381258</td>\n",
       "      <td>-0.300728</td>\n",
       "      <td>0.343663</td>\n",
       "      <td>-0.603952</td>\n",
       "      <td>0.765298</td>\n",
       "      <td>0.337869</td>\n",
       "      <td>-1.693910</td>\n",
       "      <td>0.133173</td>\n",
       "      <td>-0.591272</td>\n",
       "      <td>1</td>\n",
       "    </tr>\n",
       "    <tr>\n",
       "      <th>4</th>\n",
       "      <td>14.552512</td>\n",
       "      <td>-6.599662</td>\n",
       "      <td>-3.988093</td>\n",
       "      <td>-1.746205</td>\n",
       "      <td>-2.860086</td>\n",
       "      <td>-4.980234</td>\n",
       "      <td>1.646868</td>\n",
       "      <td>-3.377343</td>\n",
       "      <td>-6.228120</td>\n",
       "      <td>7.415638</td>\n",
       "      <td>...</td>\n",
       "      <td>-0.541596</td>\n",
       "      <td>-0.576679</td>\n",
       "      <td>-0.429233</td>\n",
       "      <td>1.041331</td>\n",
       "      <td>-0.563092</td>\n",
       "      <td>-0.010725</td>\n",
       "      <td>1.895332</td>\n",
       "      <td>1.231714</td>\n",
       "      <td>-0.425266</td>\n",
       "      <td>5</td>\n",
       "    </tr>\n",
       "  </tbody>\n",
       "</table>\n",
       "<p>5 rows × 151 columns</p>\n",
       "</div>"
      ],
      "text/plain": [
       "      comp_1    comp_2    comp_3    comp_4    comp_5    comp_6    comp_7  \\\n",
       "0  11.601075 -9.816062  7.240335  7.721172  6.135527  6.887179 -0.680425   \n",
       "1  -5.434676 -3.148757  1.153348  0.942819  3.266895  0.402866 -0.732847   \n",
       "2  -4.743776 -7.336224  4.497918  2.199510 -0.901174 -5.395058  2.979270   \n",
       "3  -3.855754 -5.073868  2.792447 -5.691466 -2.313294 -2.529583  2.378230   \n",
       "4  14.552512 -6.599662 -3.988093 -1.746205 -2.860086 -4.980234  1.646868   \n",
       "\n",
       "     comp_8    comp_9   comp_10  ...  comp_142  comp_143  comp_144  comp_145  \\\n",
       "0  2.521940  1.875311  2.006929  ... -1.327299  0.725036  0.098948 -0.313260   \n",
       "1  3.242065 -6.663521  2.611803  ... -0.785952 -0.122084  0.675796 -0.578299   \n",
       "2 -4.804235  0.573323 -2.432270  ...  0.542504  0.319042  0.314838  0.631520   \n",
       "3 -6.498502 -0.143488 -2.206387  ...  0.381258 -0.300728  0.343663 -0.603952   \n",
       "4 -3.377343 -6.228120  7.415638  ... -0.541596 -0.576679 -0.429233  1.041331   \n",
       "\n",
       "   comp_146  comp_147  comp_148  comp_149  comp_150  CLUSTER_LABEL  \n",
       "0  0.165750 -1.560511 -1.057309  0.001891 -0.373723              2  \n",
       "1 -0.318183  0.100293  0.253485 -0.124941 -0.627760              1  \n",
       "2  0.273870 -0.113309 -0.548659 -0.617183  0.564675              3  \n",
       "3  0.765298  0.337869 -1.693910  0.133173 -0.591272              1  \n",
       "4 -0.563092 -0.010725  1.895332  1.231714 -0.425266              5  \n",
       "\n",
       "[5 rows x 151 columns]"
      ]
     },
     "execution_count": 26,
     "metadata": {},
     "output_type": "execute_result"
    }
   ],
   "source": [
    "mailout_test_dim = pd.concat([mailout_test_pca_df, label_df], axis=1)\n",
    "mailout_test_dim.head()"
   ]
  },
  {
   "cell_type": "code",
   "execution_count": 27,
   "metadata": {
    "ExecuteTime": {
     "end_time": "2019-08-12T12:09:13.714329Z",
     "start_time": "2019-08-12T12:09:13.675433Z"
    },
    "hidden": true
   },
   "outputs": [
    {
     "data": {
      "text/html": [
       "<div>\n",
       "<style scoped>\n",
       "    .dataframe tbody tr th:only-of-type {\n",
       "        vertical-align: middle;\n",
       "    }\n",
       "\n",
       "    .dataframe tbody tr th {\n",
       "        vertical-align: top;\n",
       "    }\n",
       "\n",
       "    .dataframe thead th {\n",
       "        text-align: right;\n",
       "    }\n",
       "</style>\n",
       "<table border=\"1\" class=\"dataframe\">\n",
       "  <thead>\n",
       "    <tr style=\"text-align: right;\">\n",
       "      <th></th>\n",
       "      <th>comp_1</th>\n",
       "      <th>comp_2</th>\n",
       "      <th>comp_3</th>\n",
       "      <th>comp_4</th>\n",
       "      <th>comp_5</th>\n",
       "      <th>comp_6</th>\n",
       "      <th>comp_7</th>\n",
       "      <th>comp_8</th>\n",
       "      <th>comp_9</th>\n",
       "      <th>comp_10</th>\n",
       "      <th>...</th>\n",
       "      <th>comp_143</th>\n",
       "      <th>comp_144</th>\n",
       "      <th>comp_145</th>\n",
       "      <th>comp_146</th>\n",
       "      <th>comp_147</th>\n",
       "      <th>comp_148</th>\n",
       "      <th>comp_149</th>\n",
       "      <th>comp_150</th>\n",
       "      <th>CLUSTER_LABEL</th>\n",
       "      <th>LNR</th>\n",
       "    </tr>\n",
       "  </thead>\n",
       "  <tbody>\n",
       "    <tr>\n",
       "      <th>0</th>\n",
       "      <td>11.601075</td>\n",
       "      <td>-9.816062</td>\n",
       "      <td>7.240335</td>\n",
       "      <td>7.721172</td>\n",
       "      <td>6.135527</td>\n",
       "      <td>6.887179</td>\n",
       "      <td>-0.680425</td>\n",
       "      <td>2.521940</td>\n",
       "      <td>1.875311</td>\n",
       "      <td>2.006929</td>\n",
       "      <td>...</td>\n",
       "      <td>0.725036</td>\n",
       "      <td>0.098948</td>\n",
       "      <td>-0.313260</td>\n",
       "      <td>0.165750</td>\n",
       "      <td>-1.560511</td>\n",
       "      <td>-1.057309</td>\n",
       "      <td>0.001891</td>\n",
       "      <td>-0.373723</td>\n",
       "      <td>2</td>\n",
       "      <td>1754</td>\n",
       "    </tr>\n",
       "    <tr>\n",
       "      <th>1</th>\n",
       "      <td>-5.434676</td>\n",
       "      <td>-3.148757</td>\n",
       "      <td>1.153348</td>\n",
       "      <td>0.942819</td>\n",
       "      <td>3.266895</td>\n",
       "      <td>0.402866</td>\n",
       "      <td>-0.732847</td>\n",
       "      <td>3.242065</td>\n",
       "      <td>-6.663521</td>\n",
       "      <td>2.611803</td>\n",
       "      <td>...</td>\n",
       "      <td>-0.122084</td>\n",
       "      <td>0.675796</td>\n",
       "      <td>-0.578299</td>\n",
       "      <td>-0.318183</td>\n",
       "      <td>0.100293</td>\n",
       "      <td>0.253485</td>\n",
       "      <td>-0.124941</td>\n",
       "      <td>-0.627760</td>\n",
       "      <td>1</td>\n",
       "      <td>1770</td>\n",
       "    </tr>\n",
       "    <tr>\n",
       "      <th>2</th>\n",
       "      <td>-4.743776</td>\n",
       "      <td>-7.336224</td>\n",
       "      <td>4.497918</td>\n",
       "      <td>2.199510</td>\n",
       "      <td>-0.901174</td>\n",
       "      <td>-5.395058</td>\n",
       "      <td>2.979270</td>\n",
       "      <td>-4.804235</td>\n",
       "      <td>0.573323</td>\n",
       "      <td>-2.432270</td>\n",
       "      <td>...</td>\n",
       "      <td>0.319042</td>\n",
       "      <td>0.314838</td>\n",
       "      <td>0.631520</td>\n",
       "      <td>0.273870</td>\n",
       "      <td>-0.113309</td>\n",
       "      <td>-0.548659</td>\n",
       "      <td>-0.617183</td>\n",
       "      <td>0.564675</td>\n",
       "      <td>3</td>\n",
       "      <td>1465</td>\n",
       "    </tr>\n",
       "    <tr>\n",
       "      <th>3</th>\n",
       "      <td>-3.855754</td>\n",
       "      <td>-5.073868</td>\n",
       "      <td>2.792447</td>\n",
       "      <td>-5.691466</td>\n",
       "      <td>-2.313294</td>\n",
       "      <td>-2.529583</td>\n",
       "      <td>2.378230</td>\n",
       "      <td>-6.498502</td>\n",
       "      <td>-0.143488</td>\n",
       "      <td>-2.206387</td>\n",
       "      <td>...</td>\n",
       "      <td>-0.300728</td>\n",
       "      <td>0.343663</td>\n",
       "      <td>-0.603952</td>\n",
       "      <td>0.765298</td>\n",
       "      <td>0.337869</td>\n",
       "      <td>-1.693910</td>\n",
       "      <td>0.133173</td>\n",
       "      <td>-0.591272</td>\n",
       "      <td>1</td>\n",
       "      <td>1470</td>\n",
       "    </tr>\n",
       "    <tr>\n",
       "      <th>4</th>\n",
       "      <td>14.552512</td>\n",
       "      <td>-6.599662</td>\n",
       "      <td>-3.988093</td>\n",
       "      <td>-1.746205</td>\n",
       "      <td>-2.860086</td>\n",
       "      <td>-4.980234</td>\n",
       "      <td>1.646868</td>\n",
       "      <td>-3.377343</td>\n",
       "      <td>-6.228120</td>\n",
       "      <td>7.415638</td>\n",
       "      <td>...</td>\n",
       "      <td>-0.576679</td>\n",
       "      <td>-0.429233</td>\n",
       "      <td>1.041331</td>\n",
       "      <td>-0.563092</td>\n",
       "      <td>-0.010725</td>\n",
       "      <td>1.895332</td>\n",
       "      <td>1.231714</td>\n",
       "      <td>-0.425266</td>\n",
       "      <td>5</td>\n",
       "      <td>1478</td>\n",
       "    </tr>\n",
       "  </tbody>\n",
       "</table>\n",
       "<p>5 rows × 152 columns</p>\n",
       "</div>"
      ],
      "text/plain": [
       "      comp_1    comp_2    comp_3    comp_4    comp_5    comp_6    comp_7  \\\n",
       "0  11.601075 -9.816062  7.240335  7.721172  6.135527  6.887179 -0.680425   \n",
       "1  -5.434676 -3.148757  1.153348  0.942819  3.266895  0.402866 -0.732847   \n",
       "2  -4.743776 -7.336224  4.497918  2.199510 -0.901174 -5.395058  2.979270   \n",
       "3  -3.855754 -5.073868  2.792447 -5.691466 -2.313294 -2.529583  2.378230   \n",
       "4  14.552512 -6.599662 -3.988093 -1.746205 -2.860086 -4.980234  1.646868   \n",
       "\n",
       "     comp_8    comp_9   comp_10  ...  comp_143  comp_144  comp_145  comp_146  \\\n",
       "0  2.521940  1.875311  2.006929  ...  0.725036  0.098948 -0.313260  0.165750   \n",
       "1  3.242065 -6.663521  2.611803  ... -0.122084  0.675796 -0.578299 -0.318183   \n",
       "2 -4.804235  0.573323 -2.432270  ...  0.319042  0.314838  0.631520  0.273870   \n",
       "3 -6.498502 -0.143488 -2.206387  ... -0.300728  0.343663 -0.603952  0.765298   \n",
       "4 -3.377343 -6.228120  7.415638  ... -0.576679 -0.429233  1.041331 -0.563092   \n",
       "\n",
       "   comp_147  comp_148  comp_149  comp_150  CLUSTER_LABEL   LNR  \n",
       "0 -1.560511 -1.057309  0.001891 -0.373723              2  1754  \n",
       "1  0.100293  0.253485 -0.124941 -0.627760              1  1770  \n",
       "2 -0.113309 -0.548659 -0.617183  0.564675              3  1465  \n",
       "3  0.337869 -1.693910  0.133173 -0.591272              1  1470  \n",
       "4 -0.010725  1.895332  1.231714 -0.425266              5  1478  \n",
       "\n",
       "[5 rows x 152 columns]"
      ]
     },
     "execution_count": 27,
     "metadata": {},
     "output_type": "execute_result"
    }
   ],
   "source": [
    "mailout_test_proc = pd.concat([mailout_test_dim, mailout_test_extra[['LNR']]], axis=1)\n",
    "mailout_test_proc.head()"
   ]
  },
  {
   "cell_type": "code",
   "execution_count": 28,
   "metadata": {
    "ExecuteTime": {
     "end_time": "2019-08-12T12:09:16.334543Z",
     "start_time": "2019-08-12T12:09:13.717321Z"
    },
    "hidden": true
   },
   "outputs": [
    {
     "name": "stdout",
     "output_type": "stream",
     "text": [
      "Memory usage of dataframe:  49.50873947143555  MB\n"
     ]
    },
    {
     "data": {
      "application/vnd.jupyter.widget-view+json": {
       "model_id": "a1487250e25c415d98e4f000cb6b4eee",
       "version_major": 2,
       "version_minor": 0
      },
      "text/plain": [
       "HBox(children=(IntProgress(value=0, max=152), HTML(value='')))"
      ]
     },
     "metadata": {},
     "output_type": "display_data"
    },
    {
     "name": "stdout",
     "output_type": "stream",
     "text": [
      "\n",
      "___MEMORY USAGE AFTER COMPLETION:___\n",
      "Memory usage is: 24.7135591506958 MB\n",
      "This is 49.92% of the initial size\n"
     ]
    }
   ],
   "source": [
    "mailout_test_proc, _ = reduce_mem_usage(mailout_test_proc)"
   ]
  },
  {
   "cell_type": "code",
   "execution_count": 29,
   "metadata": {
    "ExecuteTime": {
     "end_time": "2019-08-12T12:09:18.080403Z",
     "start_time": "2019-08-12T12:09:16.336505Z"
    },
    "hidden": true
   },
   "outputs": [
    {
     "name": "stderr",
     "output_type": "stream",
     "text": [
      "C:\\Users\\radue\\Anaconda3\\envs\\udacity_ml_capstone\\lib\\site-packages\\pyarrow\\pandas_compat.py:114: FutureWarning: A future version of pandas will default to `skipna=True`. To silence this warning, pass `skipna=True|False` explicitly.\n",
      "  result = infer_dtype(pandas_collection)\n"
     ]
    }
   ],
   "source": [
    "mailout_test_proc.to_parquet('temp/mailout_test_dim.gzip', compression='gzip')"
   ]
  },
  {
   "cell_type": "markdown",
   "metadata": {
    "ExecuteTime": {
     "end_time": "2019-08-13T15:44:49.581341Z",
     "start_time": "2019-08-13T15:44:49.578348Z"
    },
    "heading_collapsed": true
   },
   "source": [
    "## Resampling Data"
   ]
  },
  {
   "cell_type": "markdown",
   "metadata": {
    "heading_collapsed": true,
    "hidden": true
   },
   "source": [
    "### Load Training Data"
   ]
  },
  {
   "cell_type": "code",
   "execution_count": 2,
   "metadata": {
    "ExecuteTime": {
     "end_time": "2019-08-13T18:16:07.827749Z",
     "start_time": "2019-08-13T18:16:07.729012Z"
    },
    "hidden": true
   },
   "outputs": [
    {
     "name": "stderr",
     "output_type": "stream",
     "text": [
      "C:\\Users\\radue\\Anaconda3\\envs\\udacity_ml_capstone\\lib\\site-packages\\pyarrow\\pandas_compat.py:708: FutureWarning: .labels was deprecated in version 0.24.0. Use .codes instead.\n",
      "  labels = getattr(columns, 'labels', None) or [\n",
      "C:\\Users\\radue\\Anaconda3\\envs\\udacity_ml_capstone\\lib\\site-packages\\pyarrow\\pandas_compat.py:735: FutureWarning: the 'labels' keyword is deprecated, use 'codes' instead\n",
      "  return pd.MultiIndex(levels=new_levels, labels=labels, names=columns.names)\n",
      "C:\\Users\\radue\\Anaconda3\\envs\\udacity_ml_capstone\\lib\\site-packages\\pyarrow\\pandas_compat.py:752: FutureWarning: .labels was deprecated in version 0.24.0. Use .codes instead.\n",
      "  labels, = index.labels\n"
     ]
    },
    {
     "data": {
      "text/html": [
       "<div>\n",
       "<style scoped>\n",
       "    .dataframe tbody tr th:only-of-type {\n",
       "        vertical-align: middle;\n",
       "    }\n",
       "\n",
       "    .dataframe tbody tr th {\n",
       "        vertical-align: top;\n",
       "    }\n",
       "\n",
       "    .dataframe thead th {\n",
       "        text-align: right;\n",
       "    }\n",
       "</style>\n",
       "<table border=\"1\" class=\"dataframe\">\n",
       "  <thead>\n",
       "    <tr style=\"text-align: right;\">\n",
       "      <th></th>\n",
       "      <th>comp_1</th>\n",
       "      <th>comp_2</th>\n",
       "      <th>comp_3</th>\n",
       "      <th>comp_4</th>\n",
       "      <th>comp_5</th>\n",
       "      <th>comp_6</th>\n",
       "      <th>comp_7</th>\n",
       "      <th>comp_8</th>\n",
       "      <th>comp_9</th>\n",
       "      <th>comp_10</th>\n",
       "      <th>...</th>\n",
       "      <th>comp_143</th>\n",
       "      <th>comp_144</th>\n",
       "      <th>comp_145</th>\n",
       "      <th>comp_146</th>\n",
       "      <th>comp_147</th>\n",
       "      <th>comp_148</th>\n",
       "      <th>comp_149</th>\n",
       "      <th>comp_150</th>\n",
       "      <th>CLUSTER_LABEL</th>\n",
       "      <th>RESPONSE</th>\n",
       "    </tr>\n",
       "  </thead>\n",
       "  <tbody>\n",
       "    <tr>\n",
       "      <th>0</th>\n",
       "      <td>-7.124094</td>\n",
       "      <td>-5.977910</td>\n",
       "      <td>11.683625</td>\n",
       "      <td>0.246202</td>\n",
       "      <td>-0.084807</td>\n",
       "      <td>0.930908</td>\n",
       "      <td>-0.090166</td>\n",
       "      <td>2.174882</td>\n",
       "      <td>0.496632</td>\n",
       "      <td>3.095369</td>\n",
       "      <td>...</td>\n",
       "      <td>-1.086848</td>\n",
       "      <td>-0.318667</td>\n",
       "      <td>-1.184848</td>\n",
       "      <td>0.181385</td>\n",
       "      <td>-1.470772</td>\n",
       "      <td>0.032473</td>\n",
       "      <td>-0.448720</td>\n",
       "      <td>-0.473682</td>\n",
       "      <td>1</td>\n",
       "      <td>0</td>\n",
       "    </tr>\n",
       "    <tr>\n",
       "      <th>1</th>\n",
       "      <td>2.243957</td>\n",
       "      <td>-9.988485</td>\n",
       "      <td>-4.454433</td>\n",
       "      <td>-2.697039</td>\n",
       "      <td>-2.344253</td>\n",
       "      <td>-1.318749</td>\n",
       "      <td>0.476535</td>\n",
       "      <td>-0.077764</td>\n",
       "      <td>1.499485</td>\n",
       "      <td>1.591040</td>\n",
       "      <td>...</td>\n",
       "      <td>0.371010</td>\n",
       "      <td>1.093055</td>\n",
       "      <td>-0.243341</td>\n",
       "      <td>-0.191273</td>\n",
       "      <td>-0.176948</td>\n",
       "      <td>-0.337642</td>\n",
       "      <td>-0.451063</td>\n",
       "      <td>0.037704</td>\n",
       "      <td>0</td>\n",
       "      <td>0</td>\n",
       "    </tr>\n",
       "    <tr>\n",
       "      <th>2</th>\n",
       "      <td>-2.145989</td>\n",
       "      <td>-7.570378</td>\n",
       "      <td>3.770291</td>\n",
       "      <td>-0.075294</td>\n",
       "      <td>7.806424</td>\n",
       "      <td>5.508147</td>\n",
       "      <td>4.613687</td>\n",
       "      <td>-3.954820</td>\n",
       "      <td>3.291206</td>\n",
       "      <td>-0.502802</td>\n",
       "      <td>...</td>\n",
       "      <td>1.552326</td>\n",
       "      <td>-0.787380</td>\n",
       "      <td>0.539749</td>\n",
       "      <td>-1.006728</td>\n",
       "      <td>-0.573590</td>\n",
       "      <td>-0.472887</td>\n",
       "      <td>-0.186911</td>\n",
       "      <td>0.077766</td>\n",
       "      <td>0</td>\n",
       "      <td>0</td>\n",
       "    </tr>\n",
       "    <tr>\n",
       "      <th>3</th>\n",
       "      <td>-6.059705</td>\n",
       "      <td>-11.285782</td>\n",
       "      <td>10.395215</td>\n",
       "      <td>11.461402</td>\n",
       "      <td>-2.129983</td>\n",
       "      <td>-0.598466</td>\n",
       "      <td>-2.651830</td>\n",
       "      <td>1.210764</td>\n",
       "      <td>6.373155</td>\n",
       "      <td>-3.411137</td>\n",
       "      <td>...</td>\n",
       "      <td>0.510740</td>\n",
       "      <td>1.310186</td>\n",
       "      <td>0.278361</td>\n",
       "      <td>-0.649131</td>\n",
       "      <td>-0.419690</td>\n",
       "      <td>-0.327314</td>\n",
       "      <td>-1.040765</td>\n",
       "      <td>0.172826</td>\n",
       "      <td>3</td>\n",
       "      <td>0</td>\n",
       "    </tr>\n",
       "    <tr>\n",
       "      <th>4</th>\n",
       "      <td>-4.431660</td>\n",
       "      <td>-4.766817</td>\n",
       "      <td>5.620727</td>\n",
       "      <td>6.498181</td>\n",
       "      <td>4.915549</td>\n",
       "      <td>8.508137</td>\n",
       "      <td>3.058896</td>\n",
       "      <td>0.924674</td>\n",
       "      <td>3.063698</td>\n",
       "      <td>2.509656</td>\n",
       "      <td>...</td>\n",
       "      <td>-0.530102</td>\n",
       "      <td>-1.115731</td>\n",
       "      <td>0.806574</td>\n",
       "      <td>-0.387544</td>\n",
       "      <td>-0.443237</td>\n",
       "      <td>1.119074</td>\n",
       "      <td>-0.185124</td>\n",
       "      <td>0.088071</td>\n",
       "      <td>3</td>\n",
       "      <td>0</td>\n",
       "    </tr>\n",
       "  </tbody>\n",
       "</table>\n",
       "<p>5 rows × 152 columns</p>\n",
       "</div>"
      ],
      "text/plain": [
       "     comp_1     comp_2     comp_3     comp_4    comp_5    comp_6    comp_7  \\\n",
       "0 -7.124094  -5.977910  11.683625   0.246202 -0.084807  0.930908 -0.090166   \n",
       "1  2.243957  -9.988485  -4.454433  -2.697039 -2.344253 -1.318749  0.476535   \n",
       "2 -2.145989  -7.570378   3.770291  -0.075294  7.806424  5.508147  4.613687   \n",
       "3 -6.059705 -11.285782  10.395215  11.461402 -2.129983 -0.598466 -2.651830   \n",
       "4 -4.431660  -4.766817   5.620727   6.498181  4.915549  8.508137  3.058896   \n",
       "\n",
       "     comp_8    comp_9   comp_10  ...  comp_143  comp_144  comp_145  comp_146  \\\n",
       "0  2.174882  0.496632  3.095369  ... -1.086848 -0.318667 -1.184848  0.181385   \n",
       "1 -0.077764  1.499485  1.591040  ...  0.371010  1.093055 -0.243341 -0.191273   \n",
       "2 -3.954820  3.291206 -0.502802  ...  1.552326 -0.787380  0.539749 -1.006728   \n",
       "3  1.210764  6.373155 -3.411137  ...  0.510740  1.310186  0.278361 -0.649131   \n",
       "4  0.924674  3.063698  2.509656  ... -0.530102 -1.115731  0.806574 -0.387544   \n",
       "\n",
       "   comp_147  comp_148  comp_149  comp_150  CLUSTER_LABEL  RESPONSE  \n",
       "0 -1.470772  0.032473 -0.448720 -0.473682              1         0  \n",
       "1 -0.176948 -0.337642 -0.451063  0.037704              0         0  \n",
       "2 -0.573590 -0.472887 -0.186911  0.077766              0         0  \n",
       "3 -0.419690 -0.327314 -1.040765  0.172826              3         0  \n",
       "4 -0.443237  1.119074 -0.185124  0.088071              3         0  \n",
       "\n",
       "[5 rows x 152 columns]"
      ]
     },
     "execution_count": 2,
     "metadata": {},
     "output_type": "execute_result"
    }
   ],
   "source": [
    "train = pd.read_parquet('temp/mailout_train_dim.gzip')\n",
    "train.head()"
   ]
  },
  {
   "cell_type": "code",
   "execution_count": 3,
   "metadata": {
    "ExecuteTime": {
     "end_time": "2019-08-13T18:16:37.306216Z",
     "start_time": "2019-08-13T18:16:37.290223Z"
    },
    "hidden": true
   },
   "outputs": [],
   "source": [
    "X = train.drop('RESPONSE', axis=1)\n",
    "y = train[['RESPONSE']]"
   ]
  },
  {
   "cell_type": "code",
   "execution_count": 4,
   "metadata": {
    "ExecuteTime": {
     "end_time": "2019-08-13T18:16:40.043553Z",
     "start_time": "2019-08-13T18:16:40.037570Z"
    },
    "hidden": true
   },
   "outputs": [],
   "source": [
    "def customer_distribution(df, file_name='customer_distribution'):\n",
    "    plt.figure(figsize=(5, 5))\n",
    "    total = df.shape[0]\n",
    "    ax = sns.countplot(x=\"RESPONSE\", data=df)\n",
    "    for p in ax.patches:\n",
    "        height = p.get_height()\n",
    "        ax.text(p.get_x() + p.get_width()/2.,\n",
    "                height + 3,\n",
    "                '{0:.2%}'.format(height/total),\n",
    "                ha=\"center\") \n",
    "    plt.title('Distribution of customers responses', fontsize=15)\n",
    "    plt.savefig(f'temp/{file_name}.png')    \n",
    "    plt.show()"
   ]
  },
  {
   "cell_type": "markdown",
   "metadata": {
    "hidden": true
   },
   "source": [
    "Let's look first at the actual situation"
   ]
  },
  {
   "cell_type": "code",
   "execution_count": 5,
   "metadata": {
    "ExecuteTime": {
     "end_time": "2019-08-13T18:16:41.779707Z",
     "start_time": "2019-08-13T18:16:41.610192Z"
    },
    "hidden": true
   },
   "outputs": [
    {
     "data": {
      "image/png": "[encoded data removed]",
      "text/plain": [
       "<Figure size 360x360 with 1 Axes>"
      ]
     },
     "metadata": {
      "needs_background": "light"
     },
     "output_type": "display_data"
    }
   ],
   "source": [
    "customer_distribution(y, 'customer_distribution_initial')"
   ]
  },
  {
   "cell_type": "markdown",
   "metadata": {
    "ExecuteTime": {
     "end_time": "2019-08-13T15:34:55.631250Z",
     "start_time": "2019-08-13T15:34:55.628256Z"
    },
    "heading_collapsed": true,
    "hidden": true
   },
   "source": [
    "### Oversampling methods"
   ]
  },
  {
   "cell_type": "markdown",
   "metadata": {
    "hidden": true
   },
   "source": [
    "#### SMOTE"
   ]
  },
  {
   "cell_type": "code",
   "execution_count": 6,
   "metadata": {
    "ExecuteTime": {
     "end_time": "2019-08-13T18:16:48.584513Z",
     "start_time": "2019-08-13T18:16:48.226451Z"
    },
    "hidden": true
   },
   "outputs": [
    {
     "name": "stdout",
     "output_type": "stream",
     "text": [
      "(84860, 151) (84860,)\n"
     ]
    }
   ],
   "source": [
    "resampler = SMOTE(random_state=777)\n",
    "X_res, y_res = resampler.fit_sample(X, y.values.ravel())\n",
    "print(X_res.shape, y_res.shape)"
   ]
  },
  {
   "cell_type": "code",
   "execution_count": 7,
   "metadata": {
    "ExecuteTime": {
     "end_time": "2019-08-13T18:16:49.378783Z",
     "start_time": "2019-08-13T18:16:49.374795Z"
    },
    "hidden": true
   },
   "outputs": [],
   "source": [
    "x_df = pd.DataFrame(X_res, columns=X.columns)\n",
    "y_df = pd.DataFrame(y_res, columns=y.columns)"
   ]
  },
  {
   "cell_type": "code",
   "execution_count": 8,
   "metadata": {
    "ExecuteTime": {
     "end_time": "2019-08-13T18:16:50.452605Z",
     "start_time": "2019-08-13T18:16:50.282062Z"
    },
    "hidden": true
   },
   "outputs": [
    {
     "data": {
      "image/png": "[encoded data removed]",
      "text/plain": [
       "<Figure size 360x360 with 1 Axes>"
      ]
     },
     "metadata": {
      "needs_background": "light"
     },
     "output_type": "display_data"
    }
   ],
   "source": [
    "customer_distribution(y_df, 'customer_distribution_SMOTE')"
   ]
  },
  {
   "cell_type": "markdown",
   "metadata": {
    "hidden": true
   },
   "source": [
    "Save for further use"
   ]
  },
  {
   "cell_type": "code",
   "execution_count": 9,
   "metadata": {
    "ExecuteTime": {
     "end_time": "2019-08-13T18:16:55.789790Z",
     "start_time": "2019-08-13T18:16:52.186341Z"
    },
    "hidden": true
   },
   "outputs": [
    {
     "name": "stderr",
     "output_type": "stream",
     "text": [
      "C:\\Users\\radue\\Anaconda3\\envs\\udacity_ml_capstone\\lib\\site-packages\\pyarrow\\pandas_compat.py:114: FutureWarning: A future version of pandas will default to `skipna=True`. To silence this warning, pass `skipna=True|False` explicitly.\n",
      "  result = infer_dtype(pandas_collection)\n"
     ]
    }
   ],
   "source": [
    "train_smote = pd.concat([x_df, y_df], axis=1)\n",
    "train_smote.to_parquet('temp/mailout_train_smote.gzip', compression='gzip')"
   ]
  },
  {
   "cell_type": "markdown",
   "metadata": {
    "hidden": true
   },
   "source": [
    "#### ADASYN"
   ]
  },
  {
   "cell_type": "code",
   "execution_count": 10,
   "metadata": {
    "ExecuteTime": {
     "end_time": "2019-08-13T18:17:01.783719Z",
     "start_time": "2019-08-13T18:16:56.233133Z"
    },
    "hidden": true
   },
   "outputs": [
    {
     "name": "stdout",
     "output_type": "stream",
     "text": [
      "(84962, 151) (84962,)\n"
     ]
    }
   ],
   "source": [
    "resampler = ADASYN(random_state=777)\n",
    "X_res, y_res = resampler.fit_sample(X, y.values.ravel())\n",
    "print(X_res.shape, y_res.shape)"
   ]
  },
  {
   "cell_type": "code",
   "execution_count": 11,
   "metadata": {
    "ExecuteTime": {
     "end_time": "2019-08-13T18:17:02.216570Z",
     "start_time": "2019-08-13T18:17:02.207593Z"
    },
    "hidden": true
   },
   "outputs": [],
   "source": [
    "x_df = pd.DataFrame(X_res, columns=X.columns)\n",
    "y_df = pd.DataFrame(y_res, columns=y.columns)"
   ]
  },
  {
   "cell_type": "code",
   "execution_count": 12,
   "metadata": {
    "ExecuteTime": {
     "end_time": "2019-08-13T18:17:02.823004Z",
     "start_time": "2019-08-13T18:17:02.652461Z"
    },
    "hidden": true
   },
   "outputs": [
    {
     "data": {
      "image/png": "[encoded data removed]",
      "text/plain": [
       "<Figure size 360x360 with 1 Axes>"
      ]
     },
     "metadata": {
      "needs_background": "light"
     },
     "output_type": "display_data"
    }
   ],
   "source": [
    "customer_distribution(y_df, 'customer_distribution_ADASYN')"
   ]
  },
  {
   "cell_type": "markdown",
   "metadata": {
    "hidden": true
   },
   "source": [
    "Save for further use"
   ]
  },
  {
   "cell_type": "code",
   "execution_count": 13,
   "metadata": {
    "ExecuteTime": {
     "end_time": "2019-08-13T18:17:09.300716Z",
     "start_time": "2019-08-13T18:17:05.753199Z"
    },
    "hidden": true
   },
   "outputs": [
    {
     "name": "stderr",
     "output_type": "stream",
     "text": [
      "C:\\Users\\radue\\Anaconda3\\envs\\udacity_ml_capstone\\lib\\site-packages\\pyarrow\\pandas_compat.py:114: FutureWarning: A future version of pandas will default to `skipna=True`. To silence this warning, pass `skipna=True|False` explicitly.\n",
      "  result = infer_dtype(pandas_collection)\n"
     ]
    }
   ],
   "source": [
    "train_adasyn = pd.concat([x_df, y_df], axis=1)\n",
    "train_adasyn.to_parquet('temp/mailout_train_adasyn.gzip', compression='gzip')"
   ]
  },
  {
   "cell_type": "markdown",
   "metadata": {
    "hidden": true
   },
   "source": [
    "### Undersampling methods"
   ]
  },
  {
   "cell_type": "markdown",
   "metadata": {
    "hidden": true
   },
   "source": [
    "#### ClusterCentroids"
   ]
  },
  {
   "cell_type": "code",
   "execution_count": 14,
   "metadata": {
    "ExecuteTime": {
     "end_time": "2019-08-13T18:23:59.233126Z",
     "start_time": "2019-08-13T18:17:10.657042Z"
    },
    "hidden": true
   },
   "outputs": [
    {
     "name": "stdout",
     "output_type": "stream",
     "text": [
      "(1064, 151) (1064,)\n"
     ]
    }
   ],
   "source": [
    "kmeans = load('temp/kmeans_model.joblib') \n",
    "resampler = ClusterCentroids(estimator=kmeans, n_jobs=-1, random_state=777)\n",
    "X_res, y_res = resampler.fit_sample(X, y.values.ravel())\n",
    "print(X_res.shape, y_res.shape)"
   ]
  },
  {
   "cell_type": "code",
   "execution_count": 15,
   "metadata": {
    "ExecuteTime": {
     "end_time": "2019-08-13T18:25:00.045788Z",
     "start_time": "2019-08-13T18:25:00.037847Z"
    },
    "hidden": true
   },
   "outputs": [],
   "source": [
    "x_df = pd.DataFrame(X_res, columns=X.columns)\n",
    "y_df = pd.DataFrame(y_res, columns=y.columns)"
   ]
  },
  {
   "cell_type": "code",
   "execution_count": 16,
   "metadata": {
    "ExecuteTime": {
     "end_time": "2019-08-13T18:25:01.166020Z",
     "start_time": "2019-08-13T18:25:01.024400Z"
    },
    "hidden": true
   },
   "outputs": [
    {
     "data": {
      "image/png": "[encoded data removed]",
      "text/plain": [
       "<Figure size 360x360 with 1 Axes>"
      ]
     },
     "metadata": {
      "needs_background": "light"
     },
     "output_type": "display_data"
    }
   ],
   "source": [
    "customer_distribution(y_df, 'customer_distribution_ClusterCentroids')"
   ]
  },
  {
   "cell_type": "code",
   "execution_count": 17,
   "metadata": {
    "ExecuteTime": {
     "end_time": "2019-08-13T18:25:02.682343Z",
     "start_time": "2019-08-13T18:25:02.596571Z"
    },
    "hidden": true
   },
   "outputs": [
    {
     "name": "stderr",
     "output_type": "stream",
     "text": [
      "C:\\Users\\radue\\Anaconda3\\envs\\udacity_ml_capstone\\lib\\site-packages\\pyarrow\\pandas_compat.py:114: FutureWarning: A future version of pandas will default to `skipna=True`. To silence this warning, pass `skipna=True|False` explicitly.\n",
      "  result = infer_dtype(pandas_collection)\n"
     ]
    }
   ],
   "source": [
    "train_cluster_cetroids = pd.concat([x_df, y_df], axis=1)\n",
    "train_cluster_cetroids.to_parquet('temp/mailout_train_cluster_centroids.gzip', compression='gzip')"
   ]
  },
  {
   "cell_type": "markdown",
   "metadata": {
    "hidden": true
   },
   "source": [
    "#### TomekLinks"
   ]
  },
  {
   "cell_type": "code",
   "execution_count": 18,
   "metadata": {
    "ExecuteTime": {
     "end_time": "2019-08-13T18:26:21.430207Z",
     "start_time": "2019-08-13T18:25:09.590592Z"
    },
    "hidden": true
   },
   "outputs": [
    {
     "name": "stdout",
     "output_type": "stream",
     "text": [
      "(42848, 151) (42848,)\n"
     ]
    }
   ],
   "source": [
    "resampler = TomekLinks(n_jobs=-1, random_state=777)\n",
    "X_res, y_res = resampler.fit_sample(X, y.values.ravel())\n",
    "print(X_res.shape, y_res.shape)"
   ]
  },
  {
   "cell_type": "code",
   "execution_count": 19,
   "metadata": {
    "ExecuteTime": {
     "end_time": "2019-08-13T18:27:16.952769Z",
     "start_time": "2019-08-13T18:27:16.948781Z"
    },
    "hidden": true
   },
   "outputs": [],
   "source": [
    "x_df = pd.DataFrame(X_res, columns=X.columns)\n",
    "y_df = pd.DataFrame(y_res, columns=y.columns)"
   ]
  },
  {
   "cell_type": "code",
   "execution_count": 20,
   "metadata": {
    "ExecuteTime": {
     "end_time": "2019-08-13T18:27:17.919360Z",
     "start_time": "2019-08-13T18:27:17.755682Z"
    },
    "hidden": true
   },
   "outputs": [
    {
     "data": {
      "image/png": "[encoded data removed]",
      "text/plain": [
       "<Figure size 360x360 with 1 Axes>"
      ]
     },
     "metadata": {
      "needs_background": "light"
     },
     "output_type": "display_data"
    }
   ],
   "source": [
    "customer_distribution(y_df, 'customer_distribution_TomekLinks')"
   ]
  },
  {
   "cell_type": "code",
   "execution_count": 21,
   "metadata": {
    "ExecuteTime": {
     "end_time": "2019-08-13T18:27:22.901585Z",
     "start_time": "2019-08-13T18:27:21.245038Z"
    },
    "hidden": true
   },
   "outputs": [
    {
     "name": "stderr",
     "output_type": "stream",
     "text": [
      "C:\\Users\\radue\\Anaconda3\\envs\\udacity_ml_capstone\\lib\\site-packages\\pyarrow\\pandas_compat.py:114: FutureWarning: A future version of pandas will default to `skipna=True`. To silence this warning, pass `skipna=True|False` explicitly.\n",
      "  result = infer_dtype(pandas_collection)\n"
     ]
    }
   ],
   "source": [
    "train_tomek_links = pd.concat([x_df, y_df], axis=1)\n",
    "train_tomek_links.to_parquet('temp/mailout_train_tomek_links.gzip', compression='gzip')"
   ]
  },
  {
   "cell_type": "markdown",
   "metadata": {
    "ExecuteTime": {
     "end_time": "2019-08-13T15:52:53.558794Z",
     "start_time": "2019-08-13T15:52:53.555814Z"
    },
    "hidden": true
   },
   "source": [
    "### Combination "
   ]
  },
  {
   "cell_type": "markdown",
   "metadata": {
    "hidden": true
   },
   "source": [
    "#### SMOTETomek"
   ]
  },
  {
   "cell_type": "code",
   "execution_count": 22,
   "metadata": {
    "ExecuteTime": {
     "end_time": "2019-08-13T18:30:12.283013Z",
     "start_time": "2019-08-13T18:27:30.466291Z"
    },
    "hidden": true
   },
   "outputs": [
    {
     "name": "stdout",
     "output_type": "stream",
     "text": [
      "(84860, 151) (84860,)\n"
     ]
    }
   ],
   "source": [
    "resampler = SMOTETomek(n_jobs=-1, random_state=777)\n",
    "X_res, y_res = resampler.fit_sample(X, y.values.ravel())\n",
    "print(X_res.shape, y_res.shape)"
   ]
  },
  {
   "cell_type": "code",
   "execution_count": 23,
   "metadata": {
    "ExecuteTime": {
     "end_time": "2019-08-13T18:32:25.250728Z",
     "start_time": "2019-08-13T18:32:25.244777Z"
    },
    "hidden": true
   },
   "outputs": [],
   "source": [
    "x_df = pd.DataFrame(X_res, columns=X.columns)\n",
    "y_df = pd.DataFrame(y_res, columns=y.columns)"
   ]
  },
  {
   "cell_type": "code",
   "execution_count": 24,
   "metadata": {
    "ExecuteTime": {
     "end_time": "2019-08-13T18:32:26.680507Z",
     "start_time": "2019-08-13T18:32:26.525409Z"
    },
    "hidden": true
   },
   "outputs": [
    {
     "data": {
      "image/png": "[encoded data removed]",
      "text/plain": [
       "<Figure size 360x360 with 1 Axes>"
      ]
     },
     "metadata": {
      "needs_background": "light"
     },
     "output_type": "display_data"
    }
   ],
   "source": [
    "customer_distribution(y_df, 'customer_distribution_SMOTETomek')"
   ]
  },
  {
   "cell_type": "code",
   "execution_count": 25,
   "metadata": {
    "ExecuteTime": {
     "end_time": "2019-08-13T18:32:33.016004Z",
     "start_time": "2019-08-13T18:32:29.426551Z"
    },
    "hidden": true
   },
   "outputs": [
    {
     "name": "stderr",
     "output_type": "stream",
     "text": [
      "C:\\Users\\radue\\Anaconda3\\envs\\udacity_ml_capstone\\lib\\site-packages\\pyarrow\\pandas_compat.py:114: FutureWarning: A future version of pandas will default to `skipna=True`. To silence this warning, pass `skipna=True|False` explicitly.\n",
      "  result = infer_dtype(pandas_collection)\n"
     ]
    }
   ],
   "source": [
    "train_smote_tomek = pd.concat([x_df, y_df], axis=1)\n",
    "train_smote_tomek.to_parquet('temp/mailout_train_smote_tomek.gzip', compression='gzip')"
   ]
  },
  {
   "cell_type": "markdown",
   "metadata": {
    "heading_collapsed": true
   },
   "source": [
    "## Benchmark"
   ]
  },
  {
   "cell_type": "markdown",
   "metadata": {
    "heading_collapsed": true,
    "hidden": true
   },
   "source": [
    "### No resampling"
   ]
  },
  {
   "cell_type": "code",
   "execution_count": 26,
   "metadata": {
    "ExecuteTime": {
     "end_time": "2019-08-14T05:24:04.521498Z",
     "start_time": "2019-08-14T05:24:04.451685Z"
    },
    "hidden": true
   },
   "outputs": [
    {
     "name": "stderr",
     "output_type": "stream",
     "text": [
      "C:\\Users\\radue\\Anaconda3\\envs\\udacity_ml_capstone\\lib\\site-packages\\pyarrow\\pandas_compat.py:708: FutureWarning: .labels was deprecated in version 0.24.0. Use .codes instead.\n",
      "  labels = getattr(columns, 'labels', None) or [\n",
      "C:\\Users\\radue\\Anaconda3\\envs\\udacity_ml_capstone\\lib\\site-packages\\pyarrow\\pandas_compat.py:735: FutureWarning: the 'labels' keyword is deprecated, use 'codes' instead\n",
      "  return pd.MultiIndex(levels=new_levels, labels=labels, names=columns.names)\n",
      "C:\\Users\\radue\\Anaconda3\\envs\\udacity_ml_capstone\\lib\\site-packages\\pyarrow\\pandas_compat.py:752: FutureWarning: .labels was deprecated in version 0.24.0. Use .codes instead.\n",
      "  labels, = index.labels\n"
     ]
    },
    {
     "name": "stdout",
     "output_type": "stream",
     "text": [
      "(42962, 151) (42962,)\n"
     ]
    }
   ],
   "source": [
    "train = pd.read_parquet('temp/mailout_train_dim.gzip')\n",
    "X = train.drop('RESPONSE', axis=1)\n",
    "y = train['RESPONSE']\n",
    "print(X.shape, y.shape)"
   ]
  },
  {
   "cell_type": "code",
   "execution_count": 27,
   "metadata": {
    "ExecuteTime": {
     "end_time": "2019-08-14T05:24:05.303944Z",
     "start_time": "2019-08-14T05:24:05.263019Z"
    },
    "hidden": true
   },
   "outputs": [],
   "source": [
    "X_train, X_val, y_train, y_val = train_test_split(X, y, test_size = 0.2, stratify=y, random_state = 777)"
   ]
  },
  {
   "cell_type": "code",
   "execution_count": 29,
   "metadata": {
    "ExecuteTime": {
     "end_time": "2019-08-14T05:24:52.111001Z",
     "start_time": "2019-08-14T05:24:49.691504Z"
    },
    "hidden": true
   },
   "outputs": [
    {
     "name": "stdout",
     "output_type": "stream",
     "text": [
      "ROC AUC score for training: 0.5\n"
     ]
    }
   ],
   "source": [
    "clf = LogisticRegression(solver = 'liblinear', random_state = 777)\n",
    "clf.fit(X_train, y_train)\n",
    "y_pred = clf.predict(X_val)\n",
    "print(f'ROC AUC score for training: {roc_auc_score(y_val, y_pred)}')"
   ]
  },
  {
   "cell_type": "markdown",
   "metadata": {
    "hidden": true
   },
   "source": [
    "### SMOTE"
   ]
  },
  {
   "cell_type": "code",
   "execution_count": 30,
   "metadata": {
    "ExecuteTime": {
     "end_time": "2019-08-14T05:25:01.238890Z",
     "start_time": "2019-08-14T05:25:01.117216Z"
    },
    "hidden": true
   },
   "outputs": [
    {
     "name": "stderr",
     "output_type": "stream",
     "text": [
      "C:\\Users\\radue\\Anaconda3\\envs\\udacity_ml_capstone\\lib\\site-packages\\pyarrow\\pandas_compat.py:708: FutureWarning: .labels was deprecated in version 0.24.0. Use .codes instead.\n",
      "  labels = getattr(columns, 'labels', None) or [\n",
      "C:\\Users\\radue\\Anaconda3\\envs\\udacity_ml_capstone\\lib\\site-packages\\pyarrow\\pandas_compat.py:735: FutureWarning: the 'labels' keyword is deprecated, use 'codes' instead\n",
      "  return pd.MultiIndex(levels=new_levels, labels=labels, names=columns.names)\n",
      "C:\\Users\\radue\\Anaconda3\\envs\\udacity_ml_capstone\\lib\\site-packages\\pyarrow\\pandas_compat.py:752: FutureWarning: .labels was deprecated in version 0.24.0. Use .codes instead.\n",
      "  labels, = index.labels\n"
     ]
    },
    {
     "name": "stdout",
     "output_type": "stream",
     "text": [
      "(84860, 151) (84860,)\n"
     ]
    }
   ],
   "source": [
    "train = pd.read_parquet('temp/mailout_train_SMOTE.gzip')\n",
    "X = train.drop('RESPONSE', axis=1)\n",
    "y = train['RESPONSE']\n",
    "print(X.shape, y.shape)"
   ]
  },
  {
   "cell_type": "code",
   "execution_count": 31,
   "metadata": {
    "ExecuteTime": {
     "end_time": "2019-08-14T05:25:01.951120Z",
     "start_time": "2019-08-14T05:25:01.869340Z"
    },
    "hidden": true
   },
   "outputs": [],
   "source": [
    "X_train, X_val, y_train, y_val = train_test_split(X, y, test_size = 0.2, stratify=y, random_state = 777)"
   ]
  },
  {
   "cell_type": "code",
   "execution_count": 32,
   "metadata": {
    "ExecuteTime": {
     "end_time": "2019-08-14T05:25:12.927948Z",
     "start_time": "2019-08-14T05:25:08.882800Z"
    },
    "hidden": true
   },
   "outputs": [
    {
     "name": "stdout",
     "output_type": "stream",
     "text": [
      "ROC AUC score for training: 0.6563752062220127\n"
     ]
    }
   ],
   "source": [
    "clf = LogisticRegression(solver = 'liblinear', random_state = 777)\n",
    "clf.fit(X_train, y_train)\n",
    "y_pred = clf.predict(X_val)\n",
    "print(f'ROC AUC score for training: {roc_auc_score(y_val, y_pred)}')"
   ]
  },
  {
   "cell_type": "markdown",
   "metadata": {
    "heading_collapsed": true,
    "hidden": true
   },
   "source": [
    "### ADASYN"
   ]
  },
  {
   "cell_type": "code",
   "execution_count": 33,
   "metadata": {
    "ExecuteTime": {
     "end_time": "2019-08-14T05:25:41.922865Z",
     "start_time": "2019-08-14T05:25:41.796235Z"
    },
    "hidden": true
   },
   "outputs": [
    {
     "name": "stderr",
     "output_type": "stream",
     "text": [
      "C:\\Users\\radue\\Anaconda3\\envs\\udacity_ml_capstone\\lib\\site-packages\\pyarrow\\pandas_compat.py:708: FutureWarning: .labels was deprecated in version 0.24.0. Use .codes instead.\n",
      "  labels = getattr(columns, 'labels', None) or [\n",
      "C:\\Users\\radue\\Anaconda3\\envs\\udacity_ml_capstone\\lib\\site-packages\\pyarrow\\pandas_compat.py:735: FutureWarning: the 'labels' keyword is deprecated, use 'codes' instead\n",
      "  return pd.MultiIndex(levels=new_levels, labels=labels, names=columns.names)\n",
      "C:\\Users\\radue\\Anaconda3\\envs\\udacity_ml_capstone\\lib\\site-packages\\pyarrow\\pandas_compat.py:752: FutureWarning: .labels was deprecated in version 0.24.0. Use .codes instead.\n",
      "  labels, = index.labels\n"
     ]
    },
    {
     "name": "stdout",
     "output_type": "stream",
     "text": [
      "(84962, 151) (84962,)\n"
     ]
    }
   ],
   "source": [
    "train = pd.read_parquet('temp/mailout_train_adasyn.gzip')\n",
    "X = train.drop('RESPONSE', axis=1)\n",
    "y = train['RESPONSE']\n",
    "print(X.shape, y.shape)"
   ]
  },
  {
   "cell_type": "code",
   "execution_count": 34,
   "metadata": {
    "ExecuteTime": {
     "end_time": "2019-08-14T05:25:44.187804Z",
     "start_time": "2019-08-14T05:25:44.101036Z"
    },
    "hidden": true
   },
   "outputs": [],
   "source": [
    "X_train, X_val, y_train, y_val = train_test_split(X, y, test_size = 0.2, stratify=y, random_state = 777)"
   ]
  },
  {
   "cell_type": "code",
   "execution_count": 35,
   "metadata": {
    "ExecuteTime": {
     "end_time": "2019-08-14T05:25:51.836946Z",
     "start_time": "2019-08-14T05:25:47.751898Z"
    },
    "hidden": true
   },
   "outputs": [
    {
     "name": "stdout",
     "output_type": "stream",
     "text": [
      "ROC AUC score for training: 0.6584083989447794\n"
     ]
    }
   ],
   "source": [
    "clf = LogisticRegression(solver = 'liblinear', random_state = 777)\n",
    "clf.fit(X_train, y_train)\n",
    "y_pred = clf.predict(X_val)\n",
    "print(f'ROC AUC score for training: {roc_auc_score(y_val, y_pred)}')"
   ]
  },
  {
   "cell_type": "markdown",
   "metadata": {
    "heading_collapsed": true,
    "hidden": true
   },
   "source": [
    "### ClusterCentroids"
   ]
  },
  {
   "cell_type": "code",
   "execution_count": 36,
   "metadata": {
    "ExecuteTime": {
     "end_time": "2019-08-14T05:26:51.262346Z",
     "start_time": "2019-08-14T05:26:51.236448Z"
    },
    "hidden": true
   },
   "outputs": [
    {
     "name": "stderr",
     "output_type": "stream",
     "text": [
      "C:\\Users\\radue\\Anaconda3\\envs\\udacity_ml_capstone\\lib\\site-packages\\pyarrow\\pandas_compat.py:708: FutureWarning: .labels was deprecated in version 0.24.0. Use .codes instead.\n",
      "  labels = getattr(columns, 'labels', None) or [\n",
      "C:\\Users\\radue\\Anaconda3\\envs\\udacity_ml_capstone\\lib\\site-packages\\pyarrow\\pandas_compat.py:735: FutureWarning: the 'labels' keyword is deprecated, use 'codes' instead\n",
      "  return pd.MultiIndex(levels=new_levels, labels=labels, names=columns.names)\n",
      "C:\\Users\\radue\\Anaconda3\\envs\\udacity_ml_capstone\\lib\\site-packages\\pyarrow\\pandas_compat.py:752: FutureWarning: .labels was deprecated in version 0.24.0. Use .codes instead.\n",
      "  labels, = index.labels\n"
     ]
    },
    {
     "name": "stdout",
     "output_type": "stream",
     "text": [
      "(1064, 151) (1064,)\n"
     ]
    }
   ],
   "source": [
    "train = pd.read_parquet('temp/mailout_train_cluster_centroids.gzip')\n",
    "X = train.drop('RESPONSE', axis=1)\n",
    "y = train['RESPONSE']\n",
    "print(X.shape, y.shape)"
   ]
  },
  {
   "cell_type": "code",
   "execution_count": 37,
   "metadata": {
    "ExecuteTime": {
     "end_time": "2019-08-14T05:26:52.111714Z",
     "start_time": "2019-08-14T05:26:52.100744Z"
    },
    "hidden": true
   },
   "outputs": [],
   "source": [
    "X_train, X_val, y_train, y_val = train_test_split(X, y, test_size = 0.2, stratify=y, random_state = 777)"
   ]
  },
  {
   "cell_type": "code",
   "execution_count": 38,
   "metadata": {
    "ExecuteTime": {
     "end_time": "2019-08-14T05:26:53.201941Z",
     "start_time": "2019-08-14T05:26:53.151050Z"
    },
    "hidden": true
   },
   "outputs": [
    {
     "name": "stdout",
     "output_type": "stream",
     "text": [
      "ROC AUC score for training: 0.6955122553341562\n"
     ]
    }
   ],
   "source": [
    "clf = LogisticRegression(solver = 'liblinear', random_state = 777)\n",
    "clf.fit(X_train, y_train)\n",
    "y_pred = clf.predict(X_val)\n",
    "print(f'ROC AUC score for training: {roc_auc_score(y_val, y_pred)}')"
   ]
  },
  {
   "cell_type": "markdown",
   "metadata": {
    "heading_collapsed": true,
    "hidden": true
   },
   "source": [
    "### TomekLinks"
   ]
  },
  {
   "cell_type": "code",
   "execution_count": 39,
   "metadata": {
    "ExecuteTime": {
     "end_time": "2019-08-14T05:27:20.680259Z",
     "start_time": "2019-08-14T05:27:20.610471Z"
    },
    "hidden": true
   },
   "outputs": [
    {
     "name": "stderr",
     "output_type": "stream",
     "text": [
      "C:\\Users\\radue\\Anaconda3\\envs\\udacity_ml_capstone\\lib\\site-packages\\pyarrow\\pandas_compat.py:708: FutureWarning: .labels was deprecated in version 0.24.0. Use .codes instead.\n",
      "  labels = getattr(columns, 'labels', None) or [\n",
      "C:\\Users\\radue\\Anaconda3\\envs\\udacity_ml_capstone\\lib\\site-packages\\pyarrow\\pandas_compat.py:735: FutureWarning: the 'labels' keyword is deprecated, use 'codes' instead\n",
      "  return pd.MultiIndex(levels=new_levels, labels=labels, names=columns.names)\n",
      "C:\\Users\\radue\\Anaconda3\\envs\\udacity_ml_capstone\\lib\\site-packages\\pyarrow\\pandas_compat.py:752: FutureWarning: .labels was deprecated in version 0.24.0. Use .codes instead.\n",
      "  labels, = index.labels\n"
     ]
    },
    {
     "name": "stdout",
     "output_type": "stream",
     "text": [
      "(42848, 151) (42848,)\n"
     ]
    }
   ],
   "source": [
    "train = pd.read_parquet('temp/mailout_train_tomek_links.gzip')\n",
    "X = train.drop('RESPONSE', axis=1)\n",
    "y = train['RESPONSE']\n",
    "print(X.shape, y.shape)"
   ]
  },
  {
   "cell_type": "code",
   "execution_count": 40,
   "metadata": {
    "ExecuteTime": {
     "end_time": "2019-08-14T05:27:23.251136Z",
     "start_time": "2019-08-14T05:27:23.211245Z"
    },
    "hidden": true
   },
   "outputs": [],
   "source": [
    "X_train, X_val, y_train, y_val = train_test_split(X, y, test_size = 0.2, stratify=y, random_state = 777)"
   ]
  },
  {
   "cell_type": "code",
   "execution_count": 41,
   "metadata": {
    "ExecuteTime": {
     "end_time": "2019-08-14T05:27:26.482685Z",
     "start_time": "2019-08-14T05:27:24.255614Z"
    },
    "hidden": true
   },
   "outputs": [
    {
     "name": "stdout",
     "output_type": "stream",
     "text": [
      "ROC AUC score for training: 0.5\n"
     ]
    }
   ],
   "source": [
    "clf = LogisticRegression(solver = 'liblinear', random_state = 777)\n",
    "clf.fit(X_train, y_train)\n",
    "y_pred = clf.predict(X_val)\n",
    "print(f'ROC AUC score for training: {roc_auc_score(y_val, y_pred)}')"
   ]
  },
  {
   "cell_type": "markdown",
   "metadata": {
    "heading_collapsed": true,
    "hidden": true
   },
   "source": [
    "### SMOTETomek"
   ]
  },
  {
   "cell_type": "code",
   "execution_count": 42,
   "metadata": {
    "ExecuteTime": {
     "end_time": "2019-08-14T05:28:49.068504Z",
     "start_time": "2019-08-14T05:28:48.898992Z"
    },
    "hidden": true
   },
   "outputs": [
    {
     "name": "stderr",
     "output_type": "stream",
     "text": [
      "C:\\Users\\radue\\Anaconda3\\envs\\udacity_ml_capstone\\lib\\site-packages\\pyarrow\\pandas_compat.py:708: FutureWarning: .labels was deprecated in version 0.24.0. Use .codes instead.\n",
      "  labels = getattr(columns, 'labels', None) or [\n",
      "C:\\Users\\radue\\Anaconda3\\envs\\udacity_ml_capstone\\lib\\site-packages\\pyarrow\\pandas_compat.py:735: FutureWarning: the 'labels' keyword is deprecated, use 'codes' instead\n",
      "  return pd.MultiIndex(levels=new_levels, labels=labels, names=columns.names)\n",
      "C:\\Users\\radue\\Anaconda3\\envs\\udacity_ml_capstone\\lib\\site-packages\\pyarrow\\pandas_compat.py:752: FutureWarning: .labels was deprecated in version 0.24.0. Use .codes instead.\n",
      "  labels, = index.labels\n"
     ]
    },
    {
     "name": "stdout",
     "output_type": "stream",
     "text": [
      "(84860, 151) (84860,)\n"
     ]
    }
   ],
   "source": [
    "train = pd.read_parquet('temp/mailout_train_smote_tomek.gzip')\n",
    "X = train.drop('RESPONSE', axis=1)\n",
    "y = train['RESPONSE']\n",
    "print(X.shape, y.shape)"
   ]
  },
  {
   "cell_type": "code",
   "execution_count": 43,
   "metadata": {
    "ExecuteTime": {
     "end_time": "2019-08-14T05:28:49.920167Z",
     "start_time": "2019-08-14T05:28:49.835426Z"
    },
    "hidden": true
   },
   "outputs": [],
   "source": [
    "X_train, X_val, y_train, y_val = train_test_split(X, y, test_size = 0.2, stratify=y, random_state = 777)"
   ]
  },
  {
   "cell_type": "code",
   "execution_count": 44,
   "metadata": {
    "ExecuteTime": {
     "end_time": "2019-08-14T05:28:54.538769Z",
     "start_time": "2019-08-14T05:28:50.657183Z"
    },
    "hidden": true
   },
   "outputs": [
    {
     "name": "stdout",
     "output_type": "stream",
     "text": [
      "ROC AUC score for training: 0.6563752062220127\n"
     ]
    }
   ],
   "source": [
    "clf = LogisticRegression(solver = 'liblinear', random_state = 777)\n",
    "clf.fit(X_train, y_train)\n",
    "y_pred = clf.predict(X_val)\n",
    "print(f'ROC AUC score for training: {roc_auc_score(y_val, y_pred)}')"
   ]
  },
  {
   "cell_type": "markdown",
   "metadata": {},
   "source": [
    "## Voting Classifier"
   ]
  },
  {
   "cell_type": "markdown",
   "metadata": {},
   "source": [
    "### No resampling"
   ]
  },
  {
   "cell_type": "code",
   "execution_count": 46,
   "metadata": {
    "ExecuteTime": {
     "end_time": "2019-08-14T05:41:57.201729Z",
     "start_time": "2019-08-14T05:35:47.988737Z"
    }
   },
   "outputs": [
    {
     "name": "stderr",
     "output_type": "stream",
     "text": [
      "C:\\Users\\radue\\Anaconda3\\envs\\udacity_ml_capstone\\lib\\site-packages\\pyarrow\\pandas_compat.py:708: FutureWarning: .labels was deprecated in version 0.24.0. Use .codes instead.\n",
      "  labels = getattr(columns, 'labels', None) or [\n",
      "C:\\Users\\radue\\Anaconda3\\envs\\udacity_ml_capstone\\lib\\site-packages\\pyarrow\\pandas_compat.py:735: FutureWarning: the 'labels' keyword is deprecated, use 'codes' instead\n",
      "  return pd.MultiIndex(levels=new_levels, labels=labels, names=columns.names)\n",
      "C:\\Users\\radue\\Anaconda3\\envs\\udacity_ml_capstone\\lib\\site-packages\\pyarrow\\pandas_compat.py:752: FutureWarning: .labels was deprecated in version 0.24.0. Use .codes instead.\n",
      "  labels, = index.labels\n"
     ]
    },
    {
     "name": "stdout",
     "output_type": "stream",
     "text": [
      "ROC AUC score for training: 0.5\n"
     ]
    }
   ],
   "source": [
    "train = pd.read_parquet('temp/mailout_train_dim.gzip')\n",
    "X = train.drop('RESPONSE', axis=1)\n",
    "y = train['RESPONSE']\n",
    "\n",
    "X_train, X_val, y_train, y_val = train_test_split(X, y, test_size = 0.2, stratify=y, random_state = 777)\n",
    "\n",
    "clf = VotingClassifier([('svc',SVC(gamma ='scale', random_state = 777)),\n",
    "                        ('ann', MLPClassifier(random_state=777)),\n",
    "                        ('knn',KNeighborsClassifier(n_neighbors=8)),\n",
    "                        ('rfor',RandomForestClassifier(n_estimators=200, random_state = 777))])\n",
    "clf.fit(X_train, y_train)\n",
    "y_pred = clf.predict(X_val)\n",
    "\n",
    "print(f'ROC AUC score for training: {roc_auc_score(y_val, y_pred)}')"
   ]
  },
  {
   "cell_type": "markdown",
   "metadata": {},
   "source": [
    "### SMOTE"
   ]
  },
  {
   "cell_type": "code",
   "execution_count": 47,
   "metadata": {
    "ExecuteTime": {
     "end_time": "2019-08-14T06:02:29.851479Z",
     "start_time": "2019-08-14T05:43:21.975529Z"
    }
   },
   "outputs": [
    {
     "name": "stderr",
     "output_type": "stream",
     "text": [
      "C:\\Users\\radue\\Anaconda3\\envs\\udacity_ml_capstone\\lib\\site-packages\\pyarrow\\pandas_compat.py:708: FutureWarning: .labels was deprecated in version 0.24.0. Use .codes instead.\n",
      "  labels = getattr(columns, 'labels', None) or [\n",
      "C:\\Users\\radue\\Anaconda3\\envs\\udacity_ml_capstone\\lib\\site-packages\\pyarrow\\pandas_compat.py:735: FutureWarning: the 'labels' keyword is deprecated, use 'codes' instead\n",
      "  return pd.MultiIndex(levels=new_levels, labels=labels, names=columns.names)\n",
      "C:\\Users\\radue\\Anaconda3\\envs\\udacity_ml_capstone\\lib\\site-packages\\pyarrow\\pandas_compat.py:752: FutureWarning: .labels was deprecated in version 0.24.0. Use .codes instead.\n",
      "  labels, = index.labels\n"
     ]
    },
    {
     "name": "stdout",
     "output_type": "stream",
     "text": [
      "ROC AUC score for training: 0.9356587320292247\n"
     ]
    }
   ],
   "source": [
    "train = pd.read_parquet('temp/mailout_train_SMOTE.gzip')\n",
    "X = train.drop('RESPONSE', axis=1)\n",
    "y = train['RESPONSE']\n",
    "\n",
    "X_train, X_val, y_train, y_val = train_test_split(X, y, test_size = 0.2, stratify=y, random_state = 777)\n",
    "\n",
    "clf = VotingClassifier([('svc',SVC(gamma ='scale', random_state = 777)),\n",
    "                        ('ann', MLPClassifier(random_state=777)),\n",
    "                        ('knn',KNeighborsClassifier(n_neighbors=8)),\n",
    "                        ('rfor',RandomForestClassifier(n_estimators=200, random_state = 777))])\n",
    "clf.fit(X_train, y_train)\n",
    "y_pred = clf.predict(X_val)\n",
    "\n",
    "print(f'ROC AUC score for training: {roc_auc_score(y_val, y_pred)}')"
   ]
  },
  {
   "cell_type": "markdown",
   "metadata": {},
   "source": [
    "### ADASYN"
   ]
  },
  {
   "cell_type": "code",
   "execution_count": 48,
   "metadata": {
    "ExecuteTime": {
     "end_time": "2019-08-14T06:50:24.990804Z",
     "start_time": "2019-08-14T06:31:12.173638Z"
    }
   },
   "outputs": [
    {
     "name": "stderr",
     "output_type": "stream",
     "text": [
      "C:\\Users\\radue\\Anaconda3\\envs\\udacity_ml_capstone\\lib\\site-packages\\pyarrow\\pandas_compat.py:708: FutureWarning: .labels was deprecated in version 0.24.0. Use .codes instead.\n",
      "  labels = getattr(columns, 'labels', None) or [\n",
      "C:\\Users\\radue\\Anaconda3\\envs\\udacity_ml_capstone\\lib\\site-packages\\pyarrow\\pandas_compat.py:735: FutureWarning: the 'labels' keyword is deprecated, use 'codes' instead\n",
      "  return pd.MultiIndex(levels=new_levels, labels=labels, names=columns.names)\n",
      "C:\\Users\\radue\\Anaconda3\\envs\\udacity_ml_capstone\\lib\\site-packages\\pyarrow\\pandas_compat.py:752: FutureWarning: .labels was deprecated in version 0.24.0. Use .codes instead.\n",
      "  labels, = index.labels\n"
     ]
    },
    {
     "name": "stdout",
     "output_type": "stream",
     "text": [
      "ROC AUC score for training: 0.9364614703212208\n"
     ]
    }
   ],
   "source": [
    "train = pd.read_parquet('temp/mailout_train_adasyn.gzip')\n",
    "X = train.drop('RESPONSE', axis=1)\n",
    "y = train['RESPONSE']\n",
    "\n",
    "X_train, X_val, y_train, y_val = train_test_split(X, y, test_size = 0.2, stratify=y, random_state = 777)\n",
    "\n",
    "clf = VotingClassifier([('svc',SVC(gamma ='scale', random_state = 777)),\n",
    "                        ('ann', MLPClassifier(random_state=777)),\n",
    "                        ('knn',KNeighborsClassifier(n_neighbors=8)),\n",
    "                        ('rfor',RandomForestClassifier(n_estimators=200, random_state = 777))])\n",
    "clf.fit(X_train, y_train)\n",
    "y_pred = clf.predict(X_val)\n",
    "\n",
    "print(f'ROC AUC score for training: {roc_auc_score(y_val, y_pred)}')"
   ]
  },
  {
   "cell_type": "markdown",
   "metadata": {},
   "source": [
    "### ClusterCentroids"
   ]
  },
  {
   "cell_type": "code",
   "execution_count": 49,
   "metadata": {
    "ExecuteTime": {
     "end_time": "2019-08-14T06:52:18.720178Z",
     "start_time": "2019-08-14T06:52:16.766435Z"
    }
   },
   "outputs": [
    {
     "name": "stderr",
     "output_type": "stream",
     "text": [
      "C:\\Users\\radue\\Anaconda3\\envs\\udacity_ml_capstone\\lib\\site-packages\\pyarrow\\pandas_compat.py:708: FutureWarning: .labels was deprecated in version 0.24.0. Use .codes instead.\n",
      "  labels = getattr(columns, 'labels', None) or [\n",
      "C:\\Users\\radue\\Anaconda3\\envs\\udacity_ml_capstone\\lib\\site-packages\\pyarrow\\pandas_compat.py:735: FutureWarning: the 'labels' keyword is deprecated, use 'codes' instead\n",
      "  return pd.MultiIndex(levels=new_levels, labels=labels, names=columns.names)\n",
      "C:\\Users\\radue\\Anaconda3\\envs\\udacity_ml_capstone\\lib\\site-packages\\pyarrow\\pandas_compat.py:752: FutureWarning: .labels was deprecated in version 0.24.0. Use .codes instead.\n",
      "  labels, = index.labels\n"
     ]
    },
    {
     "name": "stdout",
     "output_type": "stream",
     "text": [
      "ROC AUC score for training: 0.8784605889613823\n"
     ]
    }
   ],
   "source": [
    "train = pd.read_parquet('temp/mailout_train_cluster_centroids.gzip')\n",
    "X = train.drop('RESPONSE', axis=1)\n",
    "y = train['RESPONSE']\n",
    "\n",
    "X_train, X_val, y_train, y_val = train_test_split(X, y, test_size = 0.2, stratify=y, random_state = 777)\n",
    "\n",
    "clf = VotingClassifier([('svc',SVC(gamma ='scale', random_state = 777)),\n",
    "                        ('ann', MLPClassifier(random_state=777)),\n",
    "                        ('knn',KNeighborsClassifier(n_neighbors=8)),\n",
    "                        ('rfor',RandomForestClassifier(n_estimators=200, random_state = 777))])\n",
    "clf.fit(X_train, y_train)\n",
    "y_pred = clf.predict(X_val)\n",
    "\n",
    "print(f'ROC AUC score for training: {roc_auc_score(y_val, y_pred)}')"
   ]
  },
  {
   "cell_type": "markdown",
   "metadata": {},
   "source": [
    "### TomekLinks"
   ]
  },
  {
   "cell_type": "code",
   "execution_count": 50,
   "metadata": {
    "ExecuteTime": {
     "end_time": "2019-08-14T06:59:08.772158Z",
     "start_time": "2019-08-14T06:52:44.581645Z"
    }
   },
   "outputs": [
    {
     "name": "stderr",
     "output_type": "stream",
     "text": [
      "C:\\Users\\radue\\Anaconda3\\envs\\udacity_ml_capstone\\lib\\site-packages\\pyarrow\\pandas_compat.py:708: FutureWarning: .labels was deprecated in version 0.24.0. Use .codes instead.\n",
      "  labels = getattr(columns, 'labels', None) or [\n",
      "C:\\Users\\radue\\Anaconda3\\envs\\udacity_ml_capstone\\lib\\site-packages\\pyarrow\\pandas_compat.py:735: FutureWarning: the 'labels' keyword is deprecated, use 'codes' instead\n",
      "  return pd.MultiIndex(levels=new_levels, labels=labels, names=columns.names)\n",
      "C:\\Users\\radue\\Anaconda3\\envs\\udacity_ml_capstone\\lib\\site-packages\\pyarrow\\pandas_compat.py:752: FutureWarning: .labels was deprecated in version 0.24.0. Use .codes instead.\n",
      "  labels, = index.labels\n"
     ]
    },
    {
     "name": "stdout",
     "output_type": "stream",
     "text": [
      "ROC AUC score for training: 0.5\n"
     ]
    }
   ],
   "source": [
    "train = pd.read_parquet('temp/mailout_train_tomek_links.gzip')\n",
    "X = train.drop('RESPONSE', axis=1)\n",
    "y = train['RESPONSE']\n",
    "\n",
    "X_train, X_val, y_train, y_val = train_test_split(X, y, test_size = 0.2, stratify=y, random_state = 777)\n",
    "\n",
    "clf = VotingClassifier([('svc',SVC(gamma ='scale', random_state = 777)),\n",
    "                        ('ann', MLPClassifier(random_state=777)),\n",
    "                        ('knn',KNeighborsClassifier(n_neighbors=8)),\n",
    "                        ('rfor',RandomForestClassifier(n_estimators=200, random_state = 777))])\n",
    "clf.fit(X_train, y_train)\n",
    "y_pred = clf.predict(X_val)\n",
    "\n",
    "print(f'ROC AUC score for training: {roc_auc_score(y_val, y_pred)}')"
   ]
  },
  {
   "cell_type": "markdown",
   "metadata": {},
   "source": [
    "### SMOTETomek"
   ]
  },
  {
   "cell_type": "code",
   "execution_count": 51,
   "metadata": {
    "ExecuteTime": {
     "end_time": "2019-08-14T07:20:53.695743Z",
     "start_time": "2019-08-14T07:00:07.477406Z"
    }
   },
   "outputs": [
    {
     "name": "stderr",
     "output_type": "stream",
     "text": [
      "C:\\Users\\radue\\Anaconda3\\envs\\udacity_ml_capstone\\lib\\site-packages\\pyarrow\\pandas_compat.py:708: FutureWarning: .labels was deprecated in version 0.24.0. Use .codes instead.\n",
      "  labels = getattr(columns, 'labels', None) or [\n",
      "C:\\Users\\radue\\Anaconda3\\envs\\udacity_ml_capstone\\lib\\site-packages\\pyarrow\\pandas_compat.py:735: FutureWarning: the 'labels' keyword is deprecated, use 'codes' instead\n",
      "  return pd.MultiIndex(levels=new_levels, labels=labels, names=columns.names)\n",
      "C:\\Users\\radue\\Anaconda3\\envs\\udacity_ml_capstone\\lib\\site-packages\\pyarrow\\pandas_compat.py:752: FutureWarning: .labels was deprecated in version 0.24.0. Use .codes instead.\n",
      "  labels, = index.labels\n"
     ]
    },
    {
     "name": "stdout",
     "output_type": "stream",
     "text": [
      "ROC AUC score for training: 0.9356587320292247\n"
     ]
    }
   ],
   "source": [
    "train = pd.read_parquet('temp/mailout_train_smote_tomek.gzip')\n",
    "X = train.drop('RESPONSE', axis=1)\n",
    "y = train['RESPONSE']\n",
    "\n",
    "X_train, X_val, y_train, y_val = train_test_split(X, y, test_size = 0.2, stratify=y, random_state = 777)\n",
    "\n",
    "clf = VotingClassifier([('svc',SVC(gamma ='scale', random_state = 777)),\n",
    "                        ('ann', MLPClassifier(random_state=777)),\n",
    "                        ('knn',KNeighborsClassifier(n_neighbors=8)),\n",
    "                        ('rfor',RandomForestClassifier(n_estimators=200, random_state = 777))])\n",
    "clf.fit(X_train, y_train)\n",
    "y_pred = clf.predict(X_val)\n",
    "\n",
    "print(f'ROC AUC score for training: {roc_auc_score(y_val, y_pred)}')"
   ]
  },
  {
   "cell_type": "markdown",
   "metadata": {},
   "source": [
    "## XGBoostClassifier"
   ]
  },
  {
   "cell_type": "markdown",
   "metadata": {},
   "source": [
    "### Load Training Data"
   ]
  },
  {
   "cell_type": "code",
   "execution_count": 52,
   "metadata": {
    "ExecuteTime": {
     "end_time": "2019-08-14T08:29:10.486049Z",
     "start_time": "2019-08-14T08:29:10.410252Z"
    }
   },
   "outputs": [
    {
     "name": "stderr",
     "output_type": "stream",
     "text": [
      "C:\\Users\\radue\\Anaconda3\\envs\\udacity_ml_capstone\\lib\\site-packages\\pyarrow\\pandas_compat.py:708: FutureWarning: .labels was deprecated in version 0.24.0. Use .codes instead.\n",
      "  labels = getattr(columns, 'labels', None) or [\n",
      "C:\\Users\\radue\\Anaconda3\\envs\\udacity_ml_capstone\\lib\\site-packages\\pyarrow\\pandas_compat.py:735: FutureWarning: the 'labels' keyword is deprecated, use 'codes' instead\n",
      "  return pd.MultiIndex(levels=new_levels, labels=labels, names=columns.names)\n",
      "C:\\Users\\radue\\Anaconda3\\envs\\udacity_ml_capstone\\lib\\site-packages\\pyarrow\\pandas_compat.py:752: FutureWarning: .labels was deprecated in version 0.24.0. Use .codes instead.\n",
      "  labels, = index.labels\n"
     ]
    },
    {
     "data": {
      "text/html": [
       "<div>\n",
       "<style scoped>\n",
       "    .dataframe tbody tr th:only-of-type {\n",
       "        vertical-align: middle;\n",
       "    }\n",
       "\n",
       "    .dataframe tbody tr th {\n",
       "        vertical-align: top;\n",
       "    }\n",
       "\n",
       "    .dataframe thead th {\n",
       "        text-align: right;\n",
       "    }\n",
       "</style>\n",
       "<table border=\"1\" class=\"dataframe\">\n",
       "  <thead>\n",
       "    <tr style=\"text-align: right;\">\n",
       "      <th></th>\n",
       "      <th>comp_1</th>\n",
       "      <th>comp_2</th>\n",
       "      <th>comp_3</th>\n",
       "      <th>comp_4</th>\n",
       "      <th>comp_5</th>\n",
       "      <th>comp_6</th>\n",
       "      <th>comp_7</th>\n",
       "      <th>comp_8</th>\n",
       "      <th>comp_9</th>\n",
       "      <th>comp_10</th>\n",
       "      <th>...</th>\n",
       "      <th>comp_143</th>\n",
       "      <th>comp_144</th>\n",
       "      <th>comp_145</th>\n",
       "      <th>comp_146</th>\n",
       "      <th>comp_147</th>\n",
       "      <th>comp_148</th>\n",
       "      <th>comp_149</th>\n",
       "      <th>comp_150</th>\n",
       "      <th>CLUSTER_LABEL</th>\n",
       "      <th>RESPONSE</th>\n",
       "    </tr>\n",
       "  </thead>\n",
       "  <tbody>\n",
       "    <tr>\n",
       "      <th>0</th>\n",
       "      <td>-7.124094</td>\n",
       "      <td>-5.977910</td>\n",
       "      <td>11.683625</td>\n",
       "      <td>0.246202</td>\n",
       "      <td>-0.084807</td>\n",
       "      <td>0.930908</td>\n",
       "      <td>-0.090166</td>\n",
       "      <td>2.174882</td>\n",
       "      <td>0.496632</td>\n",
       "      <td>3.095369</td>\n",
       "      <td>...</td>\n",
       "      <td>-1.086848</td>\n",
       "      <td>-0.318667</td>\n",
       "      <td>-1.184848</td>\n",
       "      <td>0.181385</td>\n",
       "      <td>-1.470772</td>\n",
       "      <td>0.032473</td>\n",
       "      <td>-0.448720</td>\n",
       "      <td>-0.473682</td>\n",
       "      <td>1</td>\n",
       "      <td>0</td>\n",
       "    </tr>\n",
       "    <tr>\n",
       "      <th>1</th>\n",
       "      <td>2.243957</td>\n",
       "      <td>-9.988485</td>\n",
       "      <td>-4.454433</td>\n",
       "      <td>-2.697039</td>\n",
       "      <td>-2.344253</td>\n",
       "      <td>-1.318749</td>\n",
       "      <td>0.476535</td>\n",
       "      <td>-0.077764</td>\n",
       "      <td>1.499485</td>\n",
       "      <td>1.591040</td>\n",
       "      <td>...</td>\n",
       "      <td>0.371010</td>\n",
       "      <td>1.093055</td>\n",
       "      <td>-0.243341</td>\n",
       "      <td>-0.191273</td>\n",
       "      <td>-0.176948</td>\n",
       "      <td>-0.337642</td>\n",
       "      <td>-0.451063</td>\n",
       "      <td>0.037704</td>\n",
       "      <td>0</td>\n",
       "      <td>0</td>\n",
       "    </tr>\n",
       "    <tr>\n",
       "      <th>2</th>\n",
       "      <td>-2.145989</td>\n",
       "      <td>-7.570378</td>\n",
       "      <td>3.770291</td>\n",
       "      <td>-0.075294</td>\n",
       "      <td>7.806424</td>\n",
       "      <td>5.508147</td>\n",
       "      <td>4.613687</td>\n",
       "      <td>-3.954820</td>\n",
       "      <td>3.291206</td>\n",
       "      <td>-0.502802</td>\n",
       "      <td>...</td>\n",
       "      <td>1.552326</td>\n",
       "      <td>-0.787380</td>\n",
       "      <td>0.539749</td>\n",
       "      <td>-1.006728</td>\n",
       "      <td>-0.573590</td>\n",
       "      <td>-0.472887</td>\n",
       "      <td>-0.186911</td>\n",
       "      <td>0.077766</td>\n",
       "      <td>0</td>\n",
       "      <td>0</td>\n",
       "    </tr>\n",
       "    <tr>\n",
       "      <th>3</th>\n",
       "      <td>-6.059705</td>\n",
       "      <td>-11.285782</td>\n",
       "      <td>10.395215</td>\n",
       "      <td>11.461402</td>\n",
       "      <td>-2.129983</td>\n",
       "      <td>-0.598466</td>\n",
       "      <td>-2.651830</td>\n",
       "      <td>1.210764</td>\n",
       "      <td>6.373155</td>\n",
       "      <td>-3.411137</td>\n",
       "      <td>...</td>\n",
       "      <td>0.510740</td>\n",
       "      <td>1.310186</td>\n",
       "      <td>0.278361</td>\n",
       "      <td>-0.649131</td>\n",
       "      <td>-0.419690</td>\n",
       "      <td>-0.327314</td>\n",
       "      <td>-1.040765</td>\n",
       "      <td>0.172826</td>\n",
       "      <td>3</td>\n",
       "      <td>0</td>\n",
       "    </tr>\n",
       "    <tr>\n",
       "      <th>4</th>\n",
       "      <td>-4.431660</td>\n",
       "      <td>-4.766817</td>\n",
       "      <td>5.620727</td>\n",
       "      <td>6.498181</td>\n",
       "      <td>4.915549</td>\n",
       "      <td>8.508137</td>\n",
       "      <td>3.058896</td>\n",
       "      <td>0.924674</td>\n",
       "      <td>3.063698</td>\n",
       "      <td>2.509656</td>\n",
       "      <td>...</td>\n",
       "      <td>-0.530102</td>\n",
       "      <td>-1.115731</td>\n",
       "      <td>0.806574</td>\n",
       "      <td>-0.387544</td>\n",
       "      <td>-0.443237</td>\n",
       "      <td>1.119074</td>\n",
       "      <td>-0.185124</td>\n",
       "      <td>0.088071</td>\n",
       "      <td>3</td>\n",
       "      <td>0</td>\n",
       "    </tr>\n",
       "  </tbody>\n",
       "</table>\n",
       "<p>5 rows × 152 columns</p>\n",
       "</div>"
      ],
      "text/plain": [
       "     comp_1     comp_2     comp_3     comp_4    comp_5    comp_6    comp_7  \\\n",
       "0 -7.124094  -5.977910  11.683625   0.246202 -0.084807  0.930908 -0.090166   \n",
       "1  2.243957  -9.988485  -4.454433  -2.697039 -2.344253 -1.318749  0.476535   \n",
       "2 -2.145989  -7.570378   3.770291  -0.075294  7.806424  5.508147  4.613687   \n",
       "3 -6.059705 -11.285782  10.395215  11.461402 -2.129983 -0.598466 -2.651830   \n",
       "4 -4.431660  -4.766817   5.620727   6.498181  4.915549  8.508137  3.058896   \n",
       "\n",
       "     comp_8    comp_9   comp_10  ...  comp_143  comp_144  comp_145  comp_146  \\\n",
       "0  2.174882  0.496632  3.095369  ... -1.086848 -0.318667 -1.184848  0.181385   \n",
       "1 -0.077764  1.499485  1.591040  ...  0.371010  1.093055 -0.243341 -0.191273   \n",
       "2 -3.954820  3.291206 -0.502802  ...  1.552326 -0.787380  0.539749 -1.006728   \n",
       "3  1.210764  6.373155 -3.411137  ...  0.510740  1.310186  0.278361 -0.649131   \n",
       "4  0.924674  3.063698  2.509656  ... -0.530102 -1.115731  0.806574 -0.387544   \n",
       "\n",
       "   comp_147  comp_148  comp_149  comp_150  CLUSTER_LABEL  RESPONSE  \n",
       "0 -1.470772  0.032473 -0.448720 -0.473682              1         0  \n",
       "1 -0.176948 -0.337642 -0.451063  0.037704              0         0  \n",
       "2 -0.573590 -0.472887 -0.186911  0.077766              0         0  \n",
       "3 -0.419690 -0.327314 -1.040765  0.172826              3         0  \n",
       "4 -0.443237  1.119074 -0.185124  0.088071              3         0  \n",
       "\n",
       "[5 rows x 152 columns]"
      ]
     },
     "execution_count": 52,
     "metadata": {},
     "output_type": "execute_result"
    }
   ],
   "source": [
    "train = pd.read_parquet('temp/mailout_train_dim.gzip')\n",
    "train.head()"
   ]
  },
  {
   "cell_type": "code",
   "execution_count": 53,
   "metadata": {
    "ExecuteTime": {
     "end_time": "2019-08-14T08:29:35.914172Z",
     "start_time": "2019-08-14T08:29:35.829401Z"
    }
   },
   "outputs": [],
   "source": [
    "X_train, X_val, y_train, y_val = train_test_split(X, y, test_size = 0.2, stratify=y, random_state = 777)"
   ]
  },
  {
   "cell_type": "code",
   "execution_count": 54,
   "metadata": {
    "ExecuteTime": {
     "end_time": "2019-08-14T08:38:08.897623Z",
     "start_time": "2019-08-14T08:30:06.086767Z"
    }
   },
   "outputs": [],
   "source": [
    "X_train, y_train = SMOTETomek(random_state=777).fit_sample(X_train, y_train.values.ravel())"
   ]
  },
  {
   "cell_type": "markdown",
   "metadata": {},
   "source": [
    "### Train the Model"
   ]
  },
  {
   "cell_type": "code",
   "execution_count": 55,
   "metadata": {
    "ExecuteTime": {
     "end_time": "2019-08-14T08:47:47.619222Z",
     "start_time": "2019-08-14T08:47:47.615233Z"
    }
   },
   "outputs": [],
   "source": [
    "scorer = make_scorer(roc_auc_score)"
   ]
  },
  {
   "cell_type": "code",
   "execution_count": 62,
   "metadata": {
    "ExecuteTime": {
     "end_time": "2019-08-14T08:50:53.433962Z",
     "start_time": "2019-08-14T08:50:53.427978Z"
    }
   },
   "outputs": [],
   "source": [
    "# Scoring and optimization functions\n",
    "def score(params):\n",
    "    print(\"Training with params: \")\n",
    "    print(params)\n",
    "    num_round = int(params['n_estimators'])\n",
    "    del params['n_estimators']\n",
    "    dtrain = xgb.DMatrix(X_train, label=y_train)\n",
    "    dvalid = xgb.DMatrix(X_val.values, label=y_val.values)\n",
    "    watchlist = [(dvalid, 'eval'), (dtrain, 'train')]\n",
    "    gbm_model = xgb.train(params, dtrain, num_round,\n",
    "                          evals=watchlist,\n",
    "                          verbose_eval=True)\n",
    "    predictions = gbm_model.predict(dvalid,\n",
    "                                    ntree_limit=gbm_model.best_iteration + 1)\n",
    "    score = roc_auc_score(y_val, predictions)\n",
    "    # TODO: Add the importance for the selected features\n",
    "    print(\"\\tScore {0}\\n\\n\".format(score))\n",
    "    # The score function should return the loss (1-score)\n",
    "    # since the optimize function looks for the minimum\n",
    "    loss = 1 - score\n",
    "    return {'loss': loss, 'status': STATUS_OK}"
   ]
  },
  {
   "cell_type": "code",
   "execution_count": 63,
   "metadata": {
    "ExecuteTime": {
     "end_time": "2019-08-14T08:50:54.008425Z",
     "start_time": "2019-08-14T08:50:54.001444Z"
    }
   },
   "outputs": [],
   "source": [
    "def optimize(random_state=777):\n",
    "    \"\"\"\n",
    "    This is the optimization function that given a space of hyperparameters and a scoring function, \n",
    "    finds the best hyperparameters.\n",
    "    \"\"\"\n",
    "    space = {\n",
    "        'n_estimators': hp.quniform('n_estimators', 100, 1000, 1),\n",
    "        'eta': hp.quniform('eta', 0.025, 0.5, 0.025),\n",
    "        # A problem with max_depth casted to float instead of int with\n",
    "        # the hp.quniform method.\n",
    "        'max_depth':  hp.choice('max_depth', np.arange(1, 14, dtype=int)),\n",
    "        'min_child_weight': hp.quniform('min_child_weight', 1, 6, 1),\n",
    "        'subsample': hp.quniform('subsample', 0.5, 1, 0.05),\n",
    "        'gamma': hp.quniform('gamma', 0.5, 1, 0.05),\n",
    "        'colsample_bytree': hp.quniform('colsample_bytree', 0.5, 1, 0.05),\n",
    "        'eval_metric': 'auc',\n",
    "        'objective': 'binary:logistic',\n",
    "        # Increase this number if you have more cores. Otherwise, remove it and it will default \n",
    "        # to the maxium number. \n",
    "        'nthread': 4,\n",
    "        'booster': 'gbtree',\n",
    "        'tree_method': 'gpu_hist',\n",
    "        'silent': 1,\n",
    "        'seed': random_state\n",
    "    }\n",
    "    # Use the fmin function from Hyperopt to find the best hyperparameters\n",
    "    best = fmin(score, space, algo=tpe.suggest, \n",
    "                # trials=trials, \n",
    "                max_evals=250)\n",
    "    return best"
   ]
  },
  {
   "cell_type": "code",
   "execution_count": 65,
   "metadata": {
    "ExecuteTime": {
     "end_time": "2019-08-14T10:01:35.343741Z",
     "start_time": "2019-08-14T10:01:35.335796Z"
    }
   },
   "outputs": [
    {
     "name": "stdout",
     "output_type": "stream",
     "text": [
      "Optimize steps removed to reduce notebook size\n",
      "The best hyperparameters are:  \n",
      "\n",
      "{'colsample_bytree': 0.75, 'eta': 0.25, 'gamma': 0.5, 'max_depth': 8, 'min_child_weight': 1.0, 'n_estimators': 673.0, 'subsample': 0.8}\n"
     ]
    }
   ],
   "source": [
    "#best_hyperparams = optimize()\n",
    "print('Optimize steps removed to reduce notebook size')\n",
    "print(\"The best hyperparameters are: \", \"\\n\")\n",
    "print(\"{'colsample_bytree': 0.75, 'eta': 0.25, 'gamma': 0.5, 'max_depth': 8, 'min_child_weight': 1.0, 'n_estimators': 673.0, 'subsample': 0.8}\")\n",
    "#print(best_hyperparams)"
   ]
  },
  {
   "cell_type": "code",
   "execution_count": 67,
   "metadata": {
    "ExecuteTime": {
     "end_time": "2019-08-14T10:03:05.238457Z",
     "start_time": "2019-08-14T10:02:51.492189Z"
    }
   },
   "outputs": [],
   "source": [
    "clf = XGBClassifier(colsample_bytree=0.75,\n",
    "                    eta=0.25,\n",
    "                    gamma=0.5,\n",
    "                    max_depth=8,\n",
    "                    min_child_weight=1,\n",
    "                    n_estimators=673,\n",
    "                    subsample=0.8,\n",
    "                    random_state = 777, \n",
    "                    tree_method='gpu_hist')\n",
    "clf.fit(X_train, y_train)\n",
    "y_pred = clf.predict(X_val.values)"
   ]
  },
  {
   "cell_type": "code",
   "execution_count": 68,
   "metadata": {
    "ExecuteTime": {
     "end_time": "2019-08-14T10:03:07.287670Z",
     "start_time": "2019-08-14T10:03:07.279708Z"
    }
   },
   "outputs": [
    {
     "name": "stdout",
     "output_type": "stream",
     "text": [
      "ROC AUC score for training: 0.9467358001414095\n"
     ]
    }
   ],
   "source": [
    "print(f'ROC AUC score for training: {roc_auc_score(y_val, y_pred)}')"
   ]
  },
  {
   "cell_type": "markdown",
   "metadata": {},
   "source": [
    "### Test the Model"
   ]
  },
  {
   "cell_type": "markdown",
   "metadata": {},
   "source": [
    "Load the test data"
   ]
  },
  {
   "cell_type": "code",
   "execution_count": 75,
   "metadata": {
    "ExecuteTime": {
     "end_time": "2019-08-14T10:05:27.555776Z",
     "start_time": "2019-08-14T10:05:27.458065Z"
    }
   },
   "outputs": [
    {
     "name": "stderr",
     "output_type": "stream",
     "text": [
      "C:\\Users\\radue\\Anaconda3\\envs\\udacity_ml_capstone\\lib\\site-packages\\pyarrow\\pandas_compat.py:708: FutureWarning: .labels was deprecated in version 0.24.0. Use .codes instead.\n",
      "  labels = getattr(columns, 'labels', None) or [\n",
      "C:\\Users\\radue\\Anaconda3\\envs\\udacity_ml_capstone\\lib\\site-packages\\pyarrow\\pandas_compat.py:735: FutureWarning: the 'labels' keyword is deprecated, use 'codes' instead\n",
      "  return pd.MultiIndex(levels=new_levels, labels=labels, names=columns.names)\n",
      "C:\\Users\\radue\\Anaconda3\\envs\\udacity_ml_capstone\\lib\\site-packages\\pyarrow\\pandas_compat.py:752: FutureWarning: .labels was deprecated in version 0.24.0. Use .codes instead.\n",
      "  labels, = index.labels\n"
     ]
    },
    {
     "data": {
      "text/html": [
       "<div>\n",
       "<style scoped>\n",
       "    .dataframe tbody tr th:only-of-type {\n",
       "        vertical-align: middle;\n",
       "    }\n",
       "\n",
       "    .dataframe tbody tr th {\n",
       "        vertical-align: top;\n",
       "    }\n",
       "\n",
       "    .dataframe thead th {\n",
       "        text-align: right;\n",
       "    }\n",
       "</style>\n",
       "<table border=\"1\" class=\"dataframe\">\n",
       "  <thead>\n",
       "    <tr style=\"text-align: right;\">\n",
       "      <th></th>\n",
       "      <th>comp_1</th>\n",
       "      <th>comp_2</th>\n",
       "      <th>comp_3</th>\n",
       "      <th>comp_4</th>\n",
       "      <th>comp_5</th>\n",
       "      <th>comp_6</th>\n",
       "      <th>comp_7</th>\n",
       "      <th>comp_8</th>\n",
       "      <th>comp_9</th>\n",
       "      <th>comp_10</th>\n",
       "      <th>...</th>\n",
       "      <th>comp_143</th>\n",
       "      <th>comp_144</th>\n",
       "      <th>comp_145</th>\n",
       "      <th>comp_146</th>\n",
       "      <th>comp_147</th>\n",
       "      <th>comp_148</th>\n",
       "      <th>comp_149</th>\n",
       "      <th>comp_150</th>\n",
       "      <th>CLUSTER_LABEL</th>\n",
       "      <th>LNR</th>\n",
       "    </tr>\n",
       "  </thead>\n",
       "  <tbody>\n",
       "    <tr>\n",
       "      <th>0</th>\n",
       "      <td>11.601075</td>\n",
       "      <td>-9.816062</td>\n",
       "      <td>7.240335</td>\n",
       "      <td>7.721172</td>\n",
       "      <td>6.135527</td>\n",
       "      <td>6.887179</td>\n",
       "      <td>-0.680425</td>\n",
       "      <td>2.521940</td>\n",
       "      <td>1.875311</td>\n",
       "      <td>2.006929</td>\n",
       "      <td>...</td>\n",
       "      <td>0.725036</td>\n",
       "      <td>0.098948</td>\n",
       "      <td>-0.313260</td>\n",
       "      <td>0.165751</td>\n",
       "      <td>-1.560511</td>\n",
       "      <td>-1.057310</td>\n",
       "      <td>0.001891</td>\n",
       "      <td>-0.373723</td>\n",
       "      <td>2</td>\n",
       "      <td>1754</td>\n",
       "    </tr>\n",
       "    <tr>\n",
       "      <th>1</th>\n",
       "      <td>-5.434677</td>\n",
       "      <td>-3.148757</td>\n",
       "      <td>1.153348</td>\n",
       "      <td>0.942819</td>\n",
       "      <td>3.266895</td>\n",
       "      <td>0.402866</td>\n",
       "      <td>-0.732847</td>\n",
       "      <td>3.242065</td>\n",
       "      <td>-6.663521</td>\n",
       "      <td>2.611803</td>\n",
       "      <td>...</td>\n",
       "      <td>-0.122084</td>\n",
       "      <td>0.675796</td>\n",
       "      <td>-0.578299</td>\n",
       "      <td>-0.318183</td>\n",
       "      <td>0.100293</td>\n",
       "      <td>0.253485</td>\n",
       "      <td>-0.124941</td>\n",
       "      <td>-0.627760</td>\n",
       "      <td>1</td>\n",
       "      <td>1770</td>\n",
       "    </tr>\n",
       "    <tr>\n",
       "      <th>2</th>\n",
       "      <td>-4.743775</td>\n",
       "      <td>-7.336224</td>\n",
       "      <td>4.497918</td>\n",
       "      <td>2.199510</td>\n",
       "      <td>-0.901174</td>\n",
       "      <td>-5.395058</td>\n",
       "      <td>2.979270</td>\n",
       "      <td>-4.804235</td>\n",
       "      <td>0.573323</td>\n",
       "      <td>-2.432271</td>\n",
       "      <td>...</td>\n",
       "      <td>0.319042</td>\n",
       "      <td>0.314838</td>\n",
       "      <td>0.631520</td>\n",
       "      <td>0.273870</td>\n",
       "      <td>-0.113309</td>\n",
       "      <td>-0.548659</td>\n",
       "      <td>-0.617183</td>\n",
       "      <td>0.564675</td>\n",
       "      <td>3</td>\n",
       "      <td>1465</td>\n",
       "    </tr>\n",
       "    <tr>\n",
       "      <th>3</th>\n",
       "      <td>-3.855754</td>\n",
       "      <td>-5.073868</td>\n",
       "      <td>2.792447</td>\n",
       "      <td>-5.691466</td>\n",
       "      <td>-2.313294</td>\n",
       "      <td>-2.529583</td>\n",
       "      <td>2.378230</td>\n",
       "      <td>-6.498502</td>\n",
       "      <td>-0.143488</td>\n",
       "      <td>-2.206387</td>\n",
       "      <td>...</td>\n",
       "      <td>-0.300728</td>\n",
       "      <td>0.343663</td>\n",
       "      <td>-0.603952</td>\n",
       "      <td>0.765298</td>\n",
       "      <td>0.337869</td>\n",
       "      <td>-1.693910</td>\n",
       "      <td>0.133173</td>\n",
       "      <td>-0.591272</td>\n",
       "      <td>1</td>\n",
       "      <td>1470</td>\n",
       "    </tr>\n",
       "    <tr>\n",
       "      <th>4</th>\n",
       "      <td>14.552512</td>\n",
       "      <td>-6.599662</td>\n",
       "      <td>-3.988093</td>\n",
       "      <td>-1.746204</td>\n",
       "      <td>-2.860086</td>\n",
       "      <td>-4.980234</td>\n",
       "      <td>1.646868</td>\n",
       "      <td>-3.377343</td>\n",
       "      <td>-6.228120</td>\n",
       "      <td>7.415637</td>\n",
       "      <td>...</td>\n",
       "      <td>-0.576679</td>\n",
       "      <td>-0.429233</td>\n",
       "      <td>1.041331</td>\n",
       "      <td>-0.563092</td>\n",
       "      <td>-0.010725</td>\n",
       "      <td>1.895332</td>\n",
       "      <td>1.231714</td>\n",
       "      <td>-0.425266</td>\n",
       "      <td>5</td>\n",
       "      <td>1478</td>\n",
       "    </tr>\n",
       "  </tbody>\n",
       "</table>\n",
       "<p>5 rows × 152 columns</p>\n",
       "</div>"
      ],
      "text/plain": [
       "      comp_1    comp_2    comp_3    comp_4    comp_5    comp_6    comp_7  \\\n",
       "0  11.601075 -9.816062  7.240335  7.721172  6.135527  6.887179 -0.680425   \n",
       "1  -5.434677 -3.148757  1.153348  0.942819  3.266895  0.402866 -0.732847   \n",
       "2  -4.743775 -7.336224  4.497918  2.199510 -0.901174 -5.395058  2.979270   \n",
       "3  -3.855754 -5.073868  2.792447 -5.691466 -2.313294 -2.529583  2.378230   \n",
       "4  14.552512 -6.599662 -3.988093 -1.746204 -2.860086 -4.980234  1.646868   \n",
       "\n",
       "     comp_8    comp_9   comp_10  ...  comp_143  comp_144  comp_145  comp_146  \\\n",
       "0  2.521940  1.875311  2.006929  ...  0.725036  0.098948 -0.313260  0.165751   \n",
       "1  3.242065 -6.663521  2.611803  ... -0.122084  0.675796 -0.578299 -0.318183   \n",
       "2 -4.804235  0.573323 -2.432271  ...  0.319042  0.314838  0.631520  0.273870   \n",
       "3 -6.498502 -0.143488 -2.206387  ... -0.300728  0.343663 -0.603952  0.765298   \n",
       "4 -3.377343 -6.228120  7.415637  ... -0.576679 -0.429233  1.041331 -0.563092   \n",
       "\n",
       "   comp_147  comp_148  comp_149  comp_150  CLUSTER_LABEL   LNR  \n",
       "0 -1.560511 -1.057310  0.001891 -0.373723              2  1754  \n",
       "1  0.100293  0.253485 -0.124941 -0.627760              1  1770  \n",
       "2 -0.113309 -0.548659 -0.617183  0.564675              3  1465  \n",
       "3  0.337869 -1.693910  0.133173 -0.591272              1  1470  \n",
       "4 -0.010725  1.895332  1.231714 -0.425266              5  1478  \n",
       "\n",
       "[5 rows x 152 columns]"
      ]
     },
     "execution_count": 75,
     "metadata": {},
     "output_type": "execute_result"
    }
   ],
   "source": [
    "test = pd.read_parquet('temp/mailout_test_dim.gzip')\n",
    "test.head()"
   ]
  },
  {
   "cell_type": "code",
   "execution_count": 79,
   "metadata": {
    "ExecuteTime": {
     "end_time": "2019-08-14T10:06:13.892656Z",
     "start_time": "2019-08-14T10:06:13.861738Z"
    }
   },
   "outputs": [
    {
     "data": {
      "text/html": [
       "<div>\n",
       "<style scoped>\n",
       "    .dataframe tbody tr th:only-of-type {\n",
       "        vertical-align: middle;\n",
       "    }\n",
       "\n",
       "    .dataframe tbody tr th {\n",
       "        vertical-align: top;\n",
       "    }\n",
       "\n",
       "    .dataframe thead th {\n",
       "        text-align: right;\n",
       "    }\n",
       "</style>\n",
       "<table border=\"1\" class=\"dataframe\">\n",
       "  <thead>\n",
       "    <tr style=\"text-align: right;\">\n",
       "      <th></th>\n",
       "      <th>comp_1</th>\n",
       "      <th>comp_2</th>\n",
       "      <th>comp_3</th>\n",
       "      <th>comp_4</th>\n",
       "      <th>comp_5</th>\n",
       "      <th>comp_6</th>\n",
       "      <th>comp_7</th>\n",
       "      <th>comp_8</th>\n",
       "      <th>comp_9</th>\n",
       "      <th>comp_10</th>\n",
       "      <th>...</th>\n",
       "      <th>comp_142</th>\n",
       "      <th>comp_143</th>\n",
       "      <th>comp_144</th>\n",
       "      <th>comp_145</th>\n",
       "      <th>comp_146</th>\n",
       "      <th>comp_147</th>\n",
       "      <th>comp_148</th>\n",
       "      <th>comp_149</th>\n",
       "      <th>comp_150</th>\n",
       "      <th>CLUSTER_LABEL</th>\n",
       "    </tr>\n",
       "  </thead>\n",
       "  <tbody>\n",
       "    <tr>\n",
       "      <th>0</th>\n",
       "      <td>11.601075</td>\n",
       "      <td>-9.816062</td>\n",
       "      <td>7.240335</td>\n",
       "      <td>7.721172</td>\n",
       "      <td>6.135527</td>\n",
       "      <td>6.887179</td>\n",
       "      <td>-0.680425</td>\n",
       "      <td>2.521940</td>\n",
       "      <td>1.875311</td>\n",
       "      <td>2.006929</td>\n",
       "      <td>...</td>\n",
       "      <td>-1.327299</td>\n",
       "      <td>0.725036</td>\n",
       "      <td>0.098948</td>\n",
       "      <td>-0.313260</td>\n",
       "      <td>0.165751</td>\n",
       "      <td>-1.560511</td>\n",
       "      <td>-1.057310</td>\n",
       "      <td>0.001891</td>\n",
       "      <td>-0.373723</td>\n",
       "      <td>2</td>\n",
       "    </tr>\n",
       "    <tr>\n",
       "      <th>1</th>\n",
       "      <td>-5.434677</td>\n",
       "      <td>-3.148757</td>\n",
       "      <td>1.153348</td>\n",
       "      <td>0.942819</td>\n",
       "      <td>3.266895</td>\n",
       "      <td>0.402866</td>\n",
       "      <td>-0.732847</td>\n",
       "      <td>3.242065</td>\n",
       "      <td>-6.663521</td>\n",
       "      <td>2.611803</td>\n",
       "      <td>...</td>\n",
       "      <td>-0.785952</td>\n",
       "      <td>-0.122084</td>\n",
       "      <td>0.675796</td>\n",
       "      <td>-0.578299</td>\n",
       "      <td>-0.318183</td>\n",
       "      <td>0.100293</td>\n",
       "      <td>0.253485</td>\n",
       "      <td>-0.124941</td>\n",
       "      <td>-0.627760</td>\n",
       "      <td>1</td>\n",
       "    </tr>\n",
       "    <tr>\n",
       "      <th>2</th>\n",
       "      <td>-4.743775</td>\n",
       "      <td>-7.336224</td>\n",
       "      <td>4.497918</td>\n",
       "      <td>2.199510</td>\n",
       "      <td>-0.901174</td>\n",
       "      <td>-5.395058</td>\n",
       "      <td>2.979270</td>\n",
       "      <td>-4.804235</td>\n",
       "      <td>0.573323</td>\n",
       "      <td>-2.432271</td>\n",
       "      <td>...</td>\n",
       "      <td>0.542504</td>\n",
       "      <td>0.319042</td>\n",
       "      <td>0.314838</td>\n",
       "      <td>0.631520</td>\n",
       "      <td>0.273870</td>\n",
       "      <td>-0.113309</td>\n",
       "      <td>-0.548659</td>\n",
       "      <td>-0.617183</td>\n",
       "      <td>0.564675</td>\n",
       "      <td>3</td>\n",
       "    </tr>\n",
       "    <tr>\n",
       "      <th>3</th>\n",
       "      <td>-3.855754</td>\n",
       "      <td>-5.073868</td>\n",
       "      <td>2.792447</td>\n",
       "      <td>-5.691466</td>\n",
       "      <td>-2.313294</td>\n",
       "      <td>-2.529583</td>\n",
       "      <td>2.378230</td>\n",
       "      <td>-6.498502</td>\n",
       "      <td>-0.143488</td>\n",
       "      <td>-2.206387</td>\n",
       "      <td>...</td>\n",
       "      <td>0.381258</td>\n",
       "      <td>-0.300728</td>\n",
       "      <td>0.343663</td>\n",
       "      <td>-0.603952</td>\n",
       "      <td>0.765298</td>\n",
       "      <td>0.337869</td>\n",
       "      <td>-1.693910</td>\n",
       "      <td>0.133173</td>\n",
       "      <td>-0.591272</td>\n",
       "      <td>1</td>\n",
       "    </tr>\n",
       "    <tr>\n",
       "      <th>4</th>\n",
       "      <td>14.552512</td>\n",
       "      <td>-6.599662</td>\n",
       "      <td>-3.988093</td>\n",
       "      <td>-1.746204</td>\n",
       "      <td>-2.860086</td>\n",
       "      <td>-4.980234</td>\n",
       "      <td>1.646868</td>\n",
       "      <td>-3.377343</td>\n",
       "      <td>-6.228120</td>\n",
       "      <td>7.415637</td>\n",
       "      <td>...</td>\n",
       "      <td>-0.541596</td>\n",
       "      <td>-0.576679</td>\n",
       "      <td>-0.429233</td>\n",
       "      <td>1.041331</td>\n",
       "      <td>-0.563092</td>\n",
       "      <td>-0.010725</td>\n",
       "      <td>1.895332</td>\n",
       "      <td>1.231714</td>\n",
       "      <td>-0.425266</td>\n",
       "      <td>5</td>\n",
       "    </tr>\n",
       "  </tbody>\n",
       "</table>\n",
       "<p>5 rows × 151 columns</p>\n",
       "</div>"
      ],
      "text/plain": [
       "      comp_1    comp_2    comp_3    comp_4    comp_5    comp_6    comp_7  \\\n",
       "0  11.601075 -9.816062  7.240335  7.721172  6.135527  6.887179 -0.680425   \n",
       "1  -5.434677 -3.148757  1.153348  0.942819  3.266895  0.402866 -0.732847   \n",
       "2  -4.743775 -7.336224  4.497918  2.199510 -0.901174 -5.395058  2.979270   \n",
       "3  -3.855754 -5.073868  2.792447 -5.691466 -2.313294 -2.529583  2.378230   \n",
       "4  14.552512 -6.599662 -3.988093 -1.746204 -2.860086 -4.980234  1.646868   \n",
       "\n",
       "     comp_8    comp_9   comp_10  ...  comp_142  comp_143  comp_144  comp_145  \\\n",
       "0  2.521940  1.875311  2.006929  ... -1.327299  0.725036  0.098948 -0.313260   \n",
       "1  3.242065 -6.663521  2.611803  ... -0.785952 -0.122084  0.675796 -0.578299   \n",
       "2 -4.804235  0.573323 -2.432271  ...  0.542504  0.319042  0.314838  0.631520   \n",
       "3 -6.498502 -0.143488 -2.206387  ...  0.381258 -0.300728  0.343663 -0.603952   \n",
       "4 -3.377343 -6.228120  7.415637  ... -0.541596 -0.576679 -0.429233  1.041331   \n",
       "\n",
       "   comp_146  comp_147  comp_148  comp_149  comp_150  CLUSTER_LABEL  \n",
       "0  0.165751 -1.560511 -1.057310  0.001891 -0.373723              2  \n",
       "1 -0.318183  0.100293  0.253485 -0.124941 -0.627760              1  \n",
       "2  0.273870 -0.113309 -0.548659 -0.617183  0.564675              3  \n",
       "3  0.765298  0.337869 -1.693910  0.133173 -0.591272              1  \n",
       "4 -0.563092 -0.010725  1.895332  1.231714 -0.425266              5  \n",
       "\n",
       "[5 rows x 151 columns]"
      ]
     },
     "execution_count": 79,
     "metadata": {},
     "output_type": "execute_result"
    }
   ],
   "source": [
    "submit = test[['LNR']]\n",
    "X_test = test.drop('LNR',axis=1)\n",
    "X_test.head()"
   ]
  },
  {
   "cell_type": "code",
   "execution_count": 80,
   "metadata": {
    "ExecuteTime": {
     "end_time": "2019-08-14T10:06:16.091065Z",
     "start_time": "2019-08-14T10:06:15.062783Z"
    }
   },
   "outputs": [],
   "source": [
    "y_test = clf.predict(X_test.values)"
   ]
  },
  {
   "cell_type": "code",
   "execution_count": 81,
   "metadata": {
    "ExecuteTime": {
     "end_time": "2019-08-14T10:06:18.071382Z",
     "start_time": "2019-08-14T10:06:17.869953Z"
    }
   },
   "outputs": [
    {
     "name": "stderr",
     "output_type": "stream",
     "text": [
      "C:\\Users\\radue\\Anaconda3\\envs\\udacity_ml_capstone\\lib\\site-packages\\ipykernel_launcher.py:1: SettingWithCopyWarning: \n",
      "A value is trying to be set on a copy of a slice from a DataFrame.\n",
      "Try using .loc[row_indexer,col_indexer] = value instead\n",
      "\n",
      "See the caveats in the documentation: http://pandas.pydata.org/pandas-docs/stable/indexing.html#indexing-view-versus-copy\n",
      "  \"\"\"Entry point for launching an IPython kernel.\n"
     ]
    },
    {
     "data": {
      "text/html": [
       "<div>\n",
       "<style scoped>\n",
       "    .dataframe tbody tr th:only-of-type {\n",
       "        vertical-align: middle;\n",
       "    }\n",
       "\n",
       "    .dataframe tbody tr th {\n",
       "        vertical-align: top;\n",
       "    }\n",
       "\n",
       "    .dataframe thead th {\n",
       "        text-align: right;\n",
       "    }\n",
       "</style>\n",
       "<table border=\"1\" class=\"dataframe\">\n",
       "  <thead>\n",
       "    <tr style=\"text-align: right;\">\n",
       "      <th></th>\n",
       "      <th>LNR</th>\n",
       "      <th>RESPONSE</th>\n",
       "    </tr>\n",
       "  </thead>\n",
       "  <tbody>\n",
       "    <tr>\n",
       "      <th>0</th>\n",
       "      <td>1754</td>\n",
       "      <td>0</td>\n",
       "    </tr>\n",
       "    <tr>\n",
       "      <th>1</th>\n",
       "      <td>1770</td>\n",
       "      <td>0</td>\n",
       "    </tr>\n",
       "    <tr>\n",
       "      <th>2</th>\n",
       "      <td>1465</td>\n",
       "      <td>0</td>\n",
       "    </tr>\n",
       "    <tr>\n",
       "      <th>3</th>\n",
       "      <td>1470</td>\n",
       "      <td>0</td>\n",
       "    </tr>\n",
       "    <tr>\n",
       "      <th>4</th>\n",
       "      <td>1478</td>\n",
       "      <td>0</td>\n",
       "    </tr>\n",
       "  </tbody>\n",
       "</table>\n",
       "</div>"
      ],
      "text/plain": [
       "    LNR  RESPONSE\n",
       "0  1754         0\n",
       "1  1770         0\n",
       "2  1465         0\n",
       "3  1470         0\n",
       "4  1478         0"
      ]
     },
     "execution_count": 81,
     "metadata": {},
     "output_type": "execute_result"
    }
   ],
   "source": [
    "submit['RESPONSE'] = y_test\n",
    "submit.head()"
   ]
  },
  {
   "cell_type": "code",
   "execution_count": 82,
   "metadata": {
    "ExecuteTime": {
     "end_time": "2019-08-14T10:06:19.072669Z",
     "start_time": "2019-08-14T10:06:18.932068Z"
    }
   },
   "outputs": [],
   "source": [
    "submit.to_csv('temp/capstone_submit.csv', index=False)"
   ]
  },
  {
   "cell_type": "code",
   "execution_count": null,
   "metadata": {},
   "outputs": [],
   "source": []
  }
 ],
 "metadata": {
  "kernelspec": {
   "display_name": "Python 3",
   "language": "python",
   "name": "python3"
  },
  "language_info": {
   "codemirror_mode": {
    "name": "ipython",
    "version": 3
   },
   "file_extension": ".py",
   "mimetype": "text/x-python",
   "name": "python",
   "nbconvert_exporter": "python",
   "pygments_lexer": "ipython3",
   "version": "3.7.3"
  },
  "toc": {
   "base_numbering": 1,
   "nav_menu": {},
   "number_sections": true,
   "sideBar": true,
   "skip_h1_title": true,
   "title_cell": "Table of Contents",
   "title_sidebar": "Contents",
   "toc_cell": false,
   "toc_position": {},
   "toc_section_display": true,
   "toc_window_display": true
  },
  "varInspector": {
   "cols": {
    "lenName": 16,
    "lenType": 16,
    "lenVar": 40
   },
   "kernels_config": {
    "python": {
     "delete_cmd_postfix": "",
     "delete_cmd_prefix": "del ",
     "library": "var_list.py",
     "varRefreshCmd": "print(var_dic_list())"
    },
    "r": {
     "delete_cmd_postfix": ") ",
     "delete_cmd_prefix": "rm(",
     "library": "var_list.r",
     "varRefreshCmd": "cat(var_dic_list()) "
    }
   },
   "types_to_exclude": [
    "module",
    "function",
    "builtin_function_or_method",
    "instance",
    "_Feature"
   ],
   "window_display": false
  }
 },
 "nbformat": 4,
 "nbformat_minor": 2
}
